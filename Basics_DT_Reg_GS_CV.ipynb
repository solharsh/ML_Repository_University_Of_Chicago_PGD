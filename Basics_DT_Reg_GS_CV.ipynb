{
  "nbformat": 4,
  "nbformat_minor": 0,
  "metadata": {
    "colab": {
      "name": "Basics_DT_Reg_GS_CV.ipynb",
      "provenance": [],
      "authorship_tag": "ABX9TyNuDexJz1XS5XzcRLk4V5uv",
      "include_colab_link": true
    },
    "kernelspec": {
      "name": "python3",
      "display_name": "Python 3"
    }
  },
  "cells": [
    {
      "cell_type": "markdown",
      "metadata": {
        "id": "view-in-github",
        "colab_type": "text"
      },
      "source": [
        "<a href=\"https://colab.research.google.com/github/solharsh/ML_Repository_University_Of_Chicago_PGD/blob/master/Basics_DT_Reg_GS_CV.ipynb\" target=\"_parent\"><img src=\"https://colab.research.google.com/assets/colab-badge.svg\" alt=\"Open In Colab\"/></a>"
      ]
    },
    {
      "cell_type": "markdown",
      "metadata": {
        "id": "5u_U8ZxkNEtG",
        "colab_type": "text"
      },
      "source": [
        "# Regression using Decision Tree with GridSearch and Cross-Validation "
      ]
    },
    {
      "cell_type": "code",
      "metadata": {
        "id": "KUpG8oXfNGWn",
        "colab_type": "code",
        "colab": {}
      },
      "source": [
        "from sklearn.datasets import load_diabetes\n",
        "#Load the diabetes dataset (regression).\n",
        "\n",
        "diabetes = load_diabetes()\n",
        "#Divide dataset into train and test sets.\n",
        "\n",
        "from sklearn.model_selection import train_test_split\n",
        "X_train, X_test, Y_train, Y_test = train_test_split(diabetes.data, diabetes.target, test_size=0.2, random_state=123)"
      ],
      "execution_count": 0,
      "outputs": []
    },
    {
      "cell_type": "code",
      "metadata": {
        "id": "9kX5IJ9QNNi3",
        "colab_type": "code",
        "colab": {}
      },
      "source": [
        "#Import Decision Tree Regressor, and GridSearchCV and fit the model to the training data.\n",
        "\n",
        "from sklearn.tree import DecisionTreeRegressor\n",
        "from sklearn.model_selection import GridSearchCV"
      ],
      "execution_count": 0,
      "outputs": []
    },
    {
      "cell_type": "markdown",
      "metadata": {
        "id": "pQyklTZKNSRP",
        "colab_type": "text"
      },
      "source": [
        "Let's use GridSearchCV to try max_depth values 3,4,5,None and 5,6,7 value for max_features hyperparameters. Specify 10 number of folds.\n",
        "\n"
      ]
    },
    {
      "cell_type": "code",
      "metadata": {
        "id": "Nzncz2PMNRPr",
        "colab_type": "code",
        "colab": {}
      },
      "source": [
        "param_grid = [{\"max_depth\":[3, 4, 5, None], \"max_features\":[4,5,6,7]}]\n",
        "gs = GridSearchCV(estimator=DecisionTreeRegressor(random_state=123),\\\n",
        "                 param_grid = param_grid,\\\n",
        "                 cv=10)"
      ],
      "execution_count": 0,
      "outputs": []
    },
    {
      "cell_type": "code",
      "metadata": {
        "id": "Pjf5HcZ1NVRD",
        "colab_type": "code",
        "colab": {
          "base_uri": "https://localhost:8080/",
          "height": 319
        },
        "outputId": "4effe745-d3d1-49e0-e68f-e38541499ea4"
      },
      "source": [
        "#Fit the training data\n",
        "\n",
        "gs.fit(X_train, Y_train)"
      ],
      "execution_count": 4,
      "outputs": [
        {
          "output_type": "execute_result",
          "data": {
            "text/plain": [
              "GridSearchCV(cv=10, error_score=nan,\n",
              "             estimator=DecisionTreeRegressor(ccp_alpha=0.0, criterion='mse',\n",
              "                                             max_depth=None, max_features=None,\n",
              "                                             max_leaf_nodes=None,\n",
              "                                             min_impurity_decrease=0.0,\n",
              "                                             min_impurity_split=None,\n",
              "                                             min_samples_leaf=1,\n",
              "                                             min_samples_split=2,\n",
              "                                             min_weight_fraction_leaf=0.0,\n",
              "                                             presort='deprecated',\n",
              "                                             random_state=123,\n",
              "                                             splitter='best'),\n",
              "             iid='deprecated', n_jobs=None,\n",
              "             param_grid=[{'max_depth': [3, 4, 5, None],\n",
              "                          'max_features': [4, 5, 6, 7]}],\n",
              "             pre_dispatch='2*n_jobs', refit=True, return_train_score=False,\n",
              "             scoring=None, verbose=0)"
            ]
          },
          "metadata": {
            "tags": []
          },
          "execution_count": 4
        }
      ]
    },
    {
      "cell_type": "code",
      "metadata": {
        "id": "tWZSEWOrNXuv",
        "colab_type": "code",
        "colab": {
          "base_uri": "https://localhost:8080/",
          "height": 301
        },
        "outputId": "68fa1df7-7237-46e3-e2c4-3b46acdee2c3"
      },
      "source": [
        "#Print out all the hyperparameters combinations that the GridSearchCV has tried.\n",
        "\n",
        "gs.cv_results_['params']"
      ],
      "execution_count": 5,
      "outputs": [
        {
          "output_type": "execute_result",
          "data": {
            "text/plain": [
              "[{'max_depth': 3, 'max_features': 4},\n",
              " {'max_depth': 3, 'max_features': 5},\n",
              " {'max_depth': 3, 'max_features': 6},\n",
              " {'max_depth': 3, 'max_features': 7},\n",
              " {'max_depth': 4, 'max_features': 4},\n",
              " {'max_depth': 4, 'max_features': 5},\n",
              " {'max_depth': 4, 'max_features': 6},\n",
              " {'max_depth': 4, 'max_features': 7},\n",
              " {'max_depth': 5, 'max_features': 4},\n",
              " {'max_depth': 5, 'max_features': 5},\n",
              " {'max_depth': 5, 'max_features': 6},\n",
              " {'max_depth': 5, 'max_features': 7},\n",
              " {'max_depth': None, 'max_features': 4},\n",
              " {'max_depth': None, 'max_features': 5},\n",
              " {'max_depth': None, 'max_features': 6},\n",
              " {'max_depth': None, 'max_features': 7}]"
            ]
          },
          "metadata": {
            "tags": []
          },
          "execution_count": 5
        }
      ]
    },
    {
      "cell_type": "code",
      "metadata": {
        "id": "rfcSU_-nNajm",
        "colab_type": "code",
        "colab": {
          "base_uri": "https://localhost:8080/",
          "height": 35
        },
        "outputId": "32e026d3-2fdf-4050-e607-f9dcf1f1d2be"
      },
      "source": [
        "#Print best hyperparameters combination.\n",
        "\n",
        "gs.best_params_"
      ],
      "execution_count": 6,
      "outputs": [
        {
          "output_type": "execute_result",
          "data": {
            "text/plain": [
              "{'max_depth': 3, 'max_features': 5}"
            ]
          },
          "metadata": {
            "tags": []
          },
          "execution_count": 6
        }
      ]
    },
    {
      "cell_type": "code",
      "metadata": {
        "id": "6QFuc35hNc4p",
        "colab_type": "code",
        "colab": {
          "base_uri": "https://localhost:8080/",
          "height": 124
        },
        "outputId": "6ba10856-07bc-443c-9a5d-d3f3f091a189"
      },
      "source": [
        "#print the rank for all of the tried combinations.\n",
        "gs.cv_results_['rank_test_score']\n",
        "#Print the complete DecisionTree estimator.\n",
        "\n",
        "gs.best_estimator_"
      ],
      "execution_count": 7,
      "outputs": [
        {
          "output_type": "execute_result",
          "data": {
            "text/plain": [
              "DecisionTreeRegressor(ccp_alpha=0.0, criterion='mse', max_depth=3,\n",
              "                      max_features=5, max_leaf_nodes=None,\n",
              "                      min_impurity_decrease=0.0, min_impurity_split=None,\n",
              "                      min_samples_leaf=1, min_samples_split=2,\n",
              "                      min_weight_fraction_leaf=0.0, presort='deprecated',\n",
              "                      random_state=123, splitter='best')"
            ]
          },
          "metadata": {
            "tags": []
          },
          "execution_count": 7
        }
      ]
    },
    {
      "cell_type": "code",
      "metadata": {
        "id": "4vmVICUsNh-B",
        "colab_type": "code",
        "colab": {}
      },
      "source": [
        "#Make predictions for the test set.\n",
        "\n",
        "predictions = gs.predict(X_test)"
      ],
      "execution_count": 0,
      "outputs": []
    },
    {
      "cell_type": "code",
      "metadata": {
        "id": "eHe4vV3XNkYw",
        "colab_type": "code",
        "colab": {
          "base_uri": "https://localhost:8080/",
          "height": 35
        },
        "outputId": "4ee5d25d-5598-48bd-b9ef-3bcc0dfc2422"
      },
      "source": [
        "#Calculate accuracy of prediction\n",
        "\n",
        "from sklearn.metrics import mean_absolute_error, r2_score\n",
        "mean_absolute_error(Y_test, predictions)\n",
        "r2_score(Y_test, predictions)"
      ],
      "execution_count": 9,
      "outputs": [
        {
          "output_type": "execute_result",
          "data": {
            "text/plain": [
              "0.42215402756979714"
            ]
          },
          "metadata": {
            "tags": []
          },
          "execution_count": 9
        }
      ]
    }
  ]
}
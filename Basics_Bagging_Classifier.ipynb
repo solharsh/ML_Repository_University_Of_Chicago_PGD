{
  "nbformat": 4,
  "nbformat_minor": 0,
  "metadata": {
    "colab": {
      "name": "Basics_Bagging_Classifier.ipynb",
      "provenance": [],
      "authorship_tag": "ABX9TyNHnrKpJfLG0I86gkL9oB/T",
      "include_colab_link": true
    },
    "kernelspec": {
      "name": "python3",
      "display_name": "Python 3"
    }
  },
  "cells": [
    {
      "cell_type": "markdown",
      "metadata": {
        "id": "view-in-github",
        "colab_type": "text"
      },
      "source": [
        "<a href=\"https://colab.research.google.com/github/solharsh/ML_Repository_University_Of_Chicago_PGD/blob/master/Basics_Bagging_Classifier.ipynb\" target=\"_parent\"><img src=\"https://colab.research.google.com/assets/colab-badge.svg\" alt=\"Open In Colab\"/></a>"
      ]
    },
    {
      "cell_type": "markdown",
      "metadata": {
        "id": "wRDNZm409Bib",
        "colab_type": "text"
      },
      "source": [
        "# Bagging Classifier Ensemble"
      ]
    },
    {
      "cell_type": "code",
      "metadata": {
        "id": "_gPw6QDb9Clc",
        "colab_type": "code",
        "colab": {}
      },
      "source": [
        "#Load the breast cancer wisconsin dataset from scikit-learn datasets.\n",
        "\n",
        "from sklearn.datasets import load_breast_cancer\n",
        "bcancer_data = load_breast_cancer()"
      ],
      "execution_count": 0,
      "outputs": []
    },
    {
      "cell_type": "code",
      "metadata": {
        "id": "tpb2zYlh9FlJ",
        "colab_type": "code",
        "colab": {}
      },
      "source": [
        "#Split the data into train and test sets.\n",
        "\n",
        "from sklearn.model_selection import train_test_split\n",
        "X_train, X_test, Y_train, Y_test = train_test_split(bcancer_data.data, bcancer_data.target, test_size=0.2, random_state=123)"
      ],
      "execution_count": 0,
      "outputs": []
    },
    {
      "cell_type": "code",
      "metadata": {
        "id": "DMUe9oLv9IhT",
        "colab_type": "code",
        "colab": {}
      },
      "source": [
        "#Create a Bagging Classifier ensemble with 500 Decision Tree classifiers.\n",
        "\n",
        "from sklearn.ensemble import BaggingClassifier\n",
        "from sklearn.tree import DecisionTreeClassifier\n",
        "bagged_model = BaggingClassifier(DecisionTreeClassifier(), n_estimators=500, max_samples=100, bootstrap=True, n_jobs=-1)"
      ],
      "execution_count": 0,
      "outputs": []
    },
    {
      "cell_type": "code",
      "metadata": {
        "id": "Wy09WiSY9MfZ",
        "colab_type": "code",
        "colab": {
          "base_uri": "https://localhost:8080/",
          "height": 319
        },
        "outputId": "11de0ef8-5c3c-41fa-9bc0-29a1f1416680"
      },
      "source": [
        "#Train the model on training data.\n",
        "\n",
        "bagged_model.fit(X_train, Y_train)"
      ],
      "execution_count": 4,
      "outputs": [
        {
          "output_type": "execute_result",
          "data": {
            "text/plain": [
              "BaggingClassifier(base_estimator=DecisionTreeClassifier(ccp_alpha=0.0,\n",
              "                                                        class_weight=None,\n",
              "                                                        criterion='gini',\n",
              "                                                        max_depth=None,\n",
              "                                                        max_features=None,\n",
              "                                                        max_leaf_nodes=None,\n",
              "                                                        min_impurity_decrease=0.0,\n",
              "                                                        min_impurity_split=None,\n",
              "                                                        min_samples_leaf=1,\n",
              "                                                        min_samples_split=2,\n",
              "                                                        min_weight_fraction_leaf=0.0,\n",
              "                                                        presort='deprecated',\n",
              "                                                        random_state=None,\n",
              "                                                        splitter='best'),\n",
              "                  bootstrap=True, bootstrap_features=False, max_features=1.0,\n",
              "                  max_samples=100, n_estimators=500, n_jobs=-1, oob_score=False,\n",
              "                  random_state=None, verbose=0, warm_start=False)"
            ]
          },
          "metadata": {
            "tags": []
          },
          "execution_count": 4
        }
      ]
    },
    {
      "cell_type": "code",
      "metadata": {
        "id": "USiekmDE9PPA",
        "colab_type": "code",
        "colab": {}
      },
      "source": [
        "#Make predictions on the test set.\n",
        "\n",
        "predictions = bagged_model.predict(X_test)"
      ],
      "execution_count": 0,
      "outputs": []
    },
    {
      "cell_type": "code",
      "metadata": {
        "id": "JYJ4LN4-9SOO",
        "colab_type": "code",
        "colab": {
          "base_uri": "https://localhost:8080/",
          "height": 35
        },
        "outputId": "9772132d-7ea5-490a-843a-41901252491d"
      },
      "source": [
        "#Measure the accuracy of the model on test data.\n",
        "\n",
        "from sklearn.metrics import accuracy_score\n",
        "accuracy_score(Y_test, predictions)"
      ],
      "execution_count": 6,
      "outputs": [
        {
          "output_type": "execute_result",
          "data": {
            "text/plain": [
              "0.9912280701754386"
            ]
          },
          "metadata": {
            "tags": []
          },
          "execution_count": 6
        }
      ]
    }
  ]
}
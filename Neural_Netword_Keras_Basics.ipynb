{
  "nbformat": 4,
  "nbformat_minor": 0,
  "metadata": {
    "colab": {
      "name": "Neural_Netword_Keras_Basics.ipynb",
      "provenance": [],
      "collapsed_sections": [],
      "mount_file_id": "1sz9oNPePyAkrUQkG3bogjGm8oNCFiKJh",
      "authorship_tag": "ABX9TyMGsLmISv2rjJTjIJdn4JqS",
      "include_colab_link": true
    },
    "kernelspec": {
      "name": "python3",
      "display_name": "Python 3"
    }
  },
  "cells": [
    {
      "cell_type": "markdown",
      "metadata": {
        "id": "view-in-github",
        "colab_type": "text"
      },
      "source": [
        "<a href=\"https://colab.research.google.com/github/solharsh/ML_Repository_University_Of_Chicago_PGD/blob/master/Neural_Netword_Keras_Basics.ipynb\" target=\"_parent\"><img src=\"https://colab.research.google.com/assets/colab-badge.svg\" alt=\"Open In Colab\"/></a>"
      ]
    },
    {
      "cell_type": "markdown",
      "metadata": {
        "id": "S9KDoGxWqGao",
        "colab_type": "text"
      },
      "source": [
        "# Data Pre-processing"
      ]
    },
    {
      "cell_type": "code",
      "metadata": {
        "id": "jI4eJ_bIqQXB",
        "colab_type": "code",
        "outputId": "f22e840b-6f4f-4c03-99dc-29e7d7b59fe7",
        "colab": {
          "base_uri": "https://localhost:8080/",
          "height": 52
        }
      },
      "source": [
        "from google.colab import drive\n",
        "drive.mount('/gdrive')\n",
        "%cd /gdrive"
      ],
      "execution_count": 0,
      "outputs": [
        {
          "output_type": "stream",
          "text": [
            "Mounted at /gdrive\n",
            "/gdrive\n"
          ],
          "name": "stdout"
        }
      ]
    },
    {
      "cell_type": "code",
      "metadata": {
        "id": "UsYFZh4sqK0J",
        "colab_type": "code",
        "colab": {}
      },
      "source": [
        "# Importing the libraries\n",
        "import numpy as np\n",
        "import matplotlib.pyplot as plt\n",
        "import pandas as pd"
      ],
      "execution_count": 0,
      "outputs": []
    },
    {
      "cell_type": "code",
      "metadata": {
        "id": "ttk3SnM0qLtl",
        "colab_type": "code",
        "colab": {}
      },
      "source": [
        "df = pd.read_csv('/content/drive/My Drive/AI DL JIGSAW/diabetes.csv')"
      ],
      "execution_count": 0,
      "outputs": []
    },
    {
      "cell_type": "code",
      "metadata": {
        "id": "QSb7AP14rqtv",
        "colab_type": "code",
        "outputId": "c37f43c3-1d17-4138-ebee-829d4dc92f6a",
        "colab": {
          "base_uri": "https://localhost:8080/",
          "height": 78
        }
      },
      "source": [
        "df.head(1)"
      ],
      "execution_count": 0,
      "outputs": [
        {
          "output_type": "execute_result",
          "data": {
            "text/html": [
              "<div>\n",
              "<style scoped>\n",
              "    .dataframe tbody tr th:only-of-type {\n",
              "        vertical-align: middle;\n",
              "    }\n",
              "\n",
              "    .dataframe tbody tr th {\n",
              "        vertical-align: top;\n",
              "    }\n",
              "\n",
              "    .dataframe thead th {\n",
              "        text-align: right;\n",
              "    }\n",
              "</style>\n",
              "<table border=\"1\" class=\"dataframe\">\n",
              "  <thead>\n",
              "    <tr style=\"text-align: right;\">\n",
              "      <th></th>\n",
              "      <th>Pregnancies</th>\n",
              "      <th>Glucose</th>\n",
              "      <th>BloodPressure</th>\n",
              "      <th>SkinThickness</th>\n",
              "      <th>Insulin</th>\n",
              "      <th>BMI</th>\n",
              "      <th>DiabetesPedigreeFunction</th>\n",
              "      <th>Age</th>\n",
              "      <th>Outcome</th>\n",
              "    </tr>\n",
              "  </thead>\n",
              "  <tbody>\n",
              "    <tr>\n",
              "      <th>0</th>\n",
              "      <td>6</td>\n",
              "      <td>148</td>\n",
              "      <td>72</td>\n",
              "      <td>35</td>\n",
              "      <td>0</td>\n",
              "      <td>33.6</td>\n",
              "      <td>0.627</td>\n",
              "      <td>50</td>\n",
              "      <td>1</td>\n",
              "    </tr>\n",
              "  </tbody>\n",
              "</table>\n",
              "</div>"
            ],
            "text/plain": [
              "   Pregnancies  Glucose  BloodPressure  ...  DiabetesPedigreeFunction  Age  Outcome\n",
              "0            6      148             72  ...                     0.627   50        1\n",
              "\n",
              "[1 rows x 9 columns]"
            ]
          },
          "metadata": {
            "tags": []
          },
          "execution_count": 4
        }
      ]
    },
    {
      "cell_type": "code",
      "metadata": {
        "id": "DPaRkyjitqXd",
        "colab_type": "code",
        "outputId": "4253e3c7-fc23-48d5-86c4-7a2c03ee1869",
        "colab": {
          "base_uri": "https://localhost:8080/",
          "height": 301
        }
      },
      "source": [
        "df.info()"
      ],
      "execution_count": 0,
      "outputs": [
        {
          "output_type": "stream",
          "text": [
            "<class 'pandas.core.frame.DataFrame'>\n",
            "RangeIndex: 768 entries, 0 to 767\n",
            "Data columns (total 9 columns):\n",
            " #   Column                    Non-Null Count  Dtype  \n",
            "---  ------                    --------------  -----  \n",
            " 0   Pregnancies               768 non-null    int64  \n",
            " 1   Glucose                   768 non-null    int64  \n",
            " 2   BloodPressure             768 non-null    int64  \n",
            " 3   SkinThickness             768 non-null    int64  \n",
            " 4   Insulin                   768 non-null    int64  \n",
            " 5   BMI                       768 non-null    float64\n",
            " 6   DiabetesPedigreeFunction  768 non-null    float64\n",
            " 7   Age                       768 non-null    int64  \n",
            " 8   Outcome                   768 non-null    int64  \n",
            "dtypes: float64(2), int64(7)\n",
            "memory usage: 54.1 KB\n"
          ],
          "name": "stdout"
        }
      ]
    },
    {
      "cell_type": "markdown",
      "metadata": {
        "id": "GSQ1uYSStr9V",
        "colab_type": "text"
      },
      "source": [
        "No Null values"
      ]
    },
    {
      "cell_type": "code",
      "metadata": {
        "id": "qqx-XGZ8tvhy",
        "colab_type": "code",
        "outputId": "94c0d7fe-51a8-4340-b8af-ce17343d23b6",
        "colab": {
          "base_uri": "https://localhost:8080/",
          "height": 291
        }
      },
      "source": [
        "df.describe()"
      ],
      "execution_count": 0,
      "outputs": [
        {
          "output_type": "execute_result",
          "data": {
            "text/html": [
              "<div>\n",
              "<style scoped>\n",
              "    .dataframe tbody tr th:only-of-type {\n",
              "        vertical-align: middle;\n",
              "    }\n",
              "\n",
              "    .dataframe tbody tr th {\n",
              "        vertical-align: top;\n",
              "    }\n",
              "\n",
              "    .dataframe thead th {\n",
              "        text-align: right;\n",
              "    }\n",
              "</style>\n",
              "<table border=\"1\" class=\"dataframe\">\n",
              "  <thead>\n",
              "    <tr style=\"text-align: right;\">\n",
              "      <th></th>\n",
              "      <th>Pregnancies</th>\n",
              "      <th>Glucose</th>\n",
              "      <th>BloodPressure</th>\n",
              "      <th>SkinThickness</th>\n",
              "      <th>Insulin</th>\n",
              "      <th>BMI</th>\n",
              "      <th>DiabetesPedigreeFunction</th>\n",
              "      <th>Age</th>\n",
              "      <th>Outcome</th>\n",
              "    </tr>\n",
              "  </thead>\n",
              "  <tbody>\n",
              "    <tr>\n",
              "      <th>count</th>\n",
              "      <td>768.000000</td>\n",
              "      <td>768.000000</td>\n",
              "      <td>768.000000</td>\n",
              "      <td>768.000000</td>\n",
              "      <td>768.000000</td>\n",
              "      <td>768.000000</td>\n",
              "      <td>768.000000</td>\n",
              "      <td>768.000000</td>\n",
              "      <td>768.000000</td>\n",
              "    </tr>\n",
              "    <tr>\n",
              "      <th>mean</th>\n",
              "      <td>3.845052</td>\n",
              "      <td>120.894531</td>\n",
              "      <td>69.105469</td>\n",
              "      <td>20.536458</td>\n",
              "      <td>79.799479</td>\n",
              "      <td>31.992578</td>\n",
              "      <td>0.471876</td>\n",
              "      <td>33.240885</td>\n",
              "      <td>0.348958</td>\n",
              "    </tr>\n",
              "    <tr>\n",
              "      <th>std</th>\n",
              "      <td>3.369578</td>\n",
              "      <td>31.972618</td>\n",
              "      <td>19.355807</td>\n",
              "      <td>15.952218</td>\n",
              "      <td>115.244002</td>\n",
              "      <td>7.884160</td>\n",
              "      <td>0.331329</td>\n",
              "      <td>11.760232</td>\n",
              "      <td>0.476951</td>\n",
              "    </tr>\n",
              "    <tr>\n",
              "      <th>min</th>\n",
              "      <td>0.000000</td>\n",
              "      <td>0.000000</td>\n",
              "      <td>0.000000</td>\n",
              "      <td>0.000000</td>\n",
              "      <td>0.000000</td>\n",
              "      <td>0.000000</td>\n",
              "      <td>0.078000</td>\n",
              "      <td>21.000000</td>\n",
              "      <td>0.000000</td>\n",
              "    </tr>\n",
              "    <tr>\n",
              "      <th>25%</th>\n",
              "      <td>1.000000</td>\n",
              "      <td>99.000000</td>\n",
              "      <td>62.000000</td>\n",
              "      <td>0.000000</td>\n",
              "      <td>0.000000</td>\n",
              "      <td>27.300000</td>\n",
              "      <td>0.243750</td>\n",
              "      <td>24.000000</td>\n",
              "      <td>0.000000</td>\n",
              "    </tr>\n",
              "    <tr>\n",
              "      <th>50%</th>\n",
              "      <td>3.000000</td>\n",
              "      <td>117.000000</td>\n",
              "      <td>72.000000</td>\n",
              "      <td>23.000000</td>\n",
              "      <td>30.500000</td>\n",
              "      <td>32.000000</td>\n",
              "      <td>0.372500</td>\n",
              "      <td>29.000000</td>\n",
              "      <td>0.000000</td>\n",
              "    </tr>\n",
              "    <tr>\n",
              "      <th>75%</th>\n",
              "      <td>6.000000</td>\n",
              "      <td>140.250000</td>\n",
              "      <td>80.000000</td>\n",
              "      <td>32.000000</td>\n",
              "      <td>127.250000</td>\n",
              "      <td>36.600000</td>\n",
              "      <td>0.626250</td>\n",
              "      <td>41.000000</td>\n",
              "      <td>1.000000</td>\n",
              "    </tr>\n",
              "    <tr>\n",
              "      <th>max</th>\n",
              "      <td>17.000000</td>\n",
              "      <td>199.000000</td>\n",
              "      <td>122.000000</td>\n",
              "      <td>99.000000</td>\n",
              "      <td>846.000000</td>\n",
              "      <td>67.100000</td>\n",
              "      <td>2.420000</td>\n",
              "      <td>81.000000</td>\n",
              "      <td>1.000000</td>\n",
              "    </tr>\n",
              "  </tbody>\n",
              "</table>\n",
              "</div>"
            ],
            "text/plain": [
              "       Pregnancies     Glucose  ...         Age     Outcome\n",
              "count   768.000000  768.000000  ...  768.000000  768.000000\n",
              "mean      3.845052  120.894531  ...   33.240885    0.348958\n",
              "std       3.369578   31.972618  ...   11.760232    0.476951\n",
              "min       0.000000    0.000000  ...   21.000000    0.000000\n",
              "25%       1.000000   99.000000  ...   24.000000    0.000000\n",
              "50%       3.000000  117.000000  ...   29.000000    0.000000\n",
              "75%       6.000000  140.250000  ...   41.000000    1.000000\n",
              "max      17.000000  199.000000  ...   81.000000    1.000000\n",
              "\n",
              "[8 rows x 9 columns]"
            ]
          },
          "metadata": {
            "tags": []
          },
          "execution_count": 24
        }
      ]
    },
    {
      "cell_type": "code",
      "metadata": {
        "id": "I2_Juotwrr1T",
        "colab_type": "code",
        "colab": {}
      },
      "source": [
        "X = df.iloc[:, :-1].values\n",
        "y = df.iloc[:, -1].values\n",
        "# X will contain all the Independent variables such as pregnancies, glucose, bloodpressure, skin thickness, insulin, bmi, diabetes pedigree function, and age\n",
        "# y haas the outcomes i.e. the Dependent variable"
      ],
      "execution_count": 0,
      "outputs": []
    },
    {
      "cell_type": "code",
      "metadata": {
        "id": "kfhkWyoNsn9O",
        "colab_type": "code",
        "outputId": "f7b4d183-340a-4b60-8d20-390f274acf97",
        "colab": {
          "base_uri": "https://localhost:8080/",
          "height": 141
        }
      },
      "source": [
        "X"
      ],
      "execution_count": 0,
      "outputs": [
        {
          "output_type": "execute_result",
          "data": {
            "text/plain": [
              "array([[  6.   , 148.   ,  72.   , ...,  33.6  ,   0.627,  50.   ],\n",
              "       [  1.   ,  85.   ,  66.   , ...,  26.6  ,   0.351,  31.   ],\n",
              "       [  8.   , 183.   ,  64.   , ...,  23.3  ,   0.672,  32.   ],\n",
              "       ...,\n",
              "       [  5.   , 121.   ,  72.   , ...,  26.2  ,   0.245,  30.   ],\n",
              "       [  1.   , 126.   ,  60.   , ...,  30.1  ,   0.349,  47.   ],\n",
              "       [  1.   ,  93.   ,  70.   , ...,  30.4  ,   0.315,  23.   ]])"
            ]
          },
          "metadata": {
            "tags": []
          },
          "execution_count": 8
        }
      ]
    },
    {
      "cell_type": "code",
      "metadata": {
        "id": "RWxtQ0VNspJi",
        "colab_type": "code",
        "outputId": "67e2bd97-1b1f-4211-81f5-5a53603f057c",
        "colab": {
          "base_uri": "https://localhost:8080/",
          "height": 639
        }
      },
      "source": [
        "y"
      ],
      "execution_count": 0,
      "outputs": [
        {
          "output_type": "execute_result",
          "data": {
            "text/plain": [
              "array([1, 0, 1, 0, 1, 0, 1, 0, 1, 1, 0, 1, 0, 1, 1, 1, 1, 1, 0, 1, 0, 0,\n",
              "       1, 1, 1, 1, 1, 0, 0, 0, 0, 1, 0, 0, 0, 0, 0, 1, 1, 1, 0, 0, 0, 1,\n",
              "       0, 1, 0, 0, 1, 0, 0, 0, 0, 1, 0, 0, 1, 0, 0, 0, 0, 1, 0, 0, 1, 0,\n",
              "       1, 0, 0, 0, 1, 0, 1, 0, 0, 0, 0, 0, 1, 0, 0, 0, 0, 0, 1, 0, 0, 0,\n",
              "       1, 0, 0, 0, 0, 1, 0, 0, 0, 0, 0, 1, 1, 0, 0, 0, 0, 0, 0, 0, 0, 1,\n",
              "       1, 1, 0, 0, 1, 1, 1, 0, 0, 0, 1, 0, 0, 0, 1, 1, 0, 0, 1, 1, 1, 1,\n",
              "       1, 0, 0, 0, 0, 0, 0, 0, 0, 0, 0, 1, 0, 0, 0, 0, 0, 0, 0, 0, 1, 0,\n",
              "       1, 1, 0, 0, 0, 1, 0, 0, 0, 0, 1, 1, 0, 0, 0, 0, 1, 1, 0, 0, 0, 1,\n",
              "       0, 1, 0, 1, 0, 0, 0, 0, 0, 1, 1, 1, 1, 1, 0, 0, 1, 1, 0, 1, 0, 1,\n",
              "       1, 1, 0, 0, 0, 0, 0, 0, 1, 1, 0, 1, 0, 0, 0, 1, 1, 1, 1, 0, 1, 1,\n",
              "       1, 1, 0, 0, 0, 0, 0, 1, 0, 0, 1, 1, 0, 0, 0, 1, 1, 1, 1, 0, 0, 0,\n",
              "       1, 1, 0, 1, 0, 0, 0, 0, 0, 0, 0, 0, 1, 1, 0, 0, 0, 1, 0, 1, 0, 0,\n",
              "       1, 0, 1, 0, 0, 1, 1, 0, 0, 0, 0, 0, 1, 0, 0, 0, 1, 0, 0, 1, 1, 0,\n",
              "       0, 1, 0, 0, 0, 1, 1, 1, 0, 0, 1, 0, 1, 0, 1, 1, 0, 1, 0, 0, 1, 0,\n",
              "       1, 1, 0, 0, 1, 0, 1, 0, 0, 1, 0, 1, 0, 1, 1, 1, 0, 0, 1, 0, 1, 0,\n",
              "       0, 0, 1, 0, 0, 0, 0, 1, 1, 1, 0, 0, 0, 0, 0, 0, 0, 0, 0, 1, 0, 0,\n",
              "       0, 0, 0, 1, 1, 1, 0, 1, 1, 0, 0, 1, 0, 0, 1, 0, 0, 1, 1, 0, 0, 0,\n",
              "       0, 1, 0, 0, 1, 0, 0, 0, 0, 0, 0, 0, 1, 1, 1, 0, 0, 1, 0, 0, 1, 0,\n",
              "       0, 1, 0, 1, 1, 0, 1, 0, 1, 0, 1, 0, 1, 1, 0, 0, 0, 0, 1, 1, 0, 1,\n",
              "       0, 1, 0, 0, 0, 0, 1, 1, 0, 1, 0, 1, 0, 0, 0, 0, 0, 1, 0, 0, 0, 0,\n",
              "       1, 0, 0, 1, 1, 1, 0, 0, 1, 0, 0, 1, 0, 0, 0, 1, 0, 0, 1, 0, 0, 0,\n",
              "       0, 0, 0, 0, 0, 0, 1, 0, 0, 0, 0, 0, 0, 0, 1, 0, 0, 0, 1, 0, 0, 0,\n",
              "       1, 1, 0, 0, 0, 0, 0, 0, 0, 1, 0, 0, 0, 0, 1, 0, 0, 0, 1, 0, 0, 0,\n",
              "       1, 0, 0, 0, 1, 0, 0, 0, 0, 1, 1, 0, 0, 0, 0, 0, 0, 1, 0, 0, 0, 0,\n",
              "       0, 0, 0, 0, 0, 0, 0, 1, 0, 0, 0, 1, 1, 1, 1, 0, 0, 1, 1, 0, 0, 0,\n",
              "       0, 0, 0, 0, 0, 0, 0, 0, 0, 0, 1, 1, 0, 0, 0, 0, 0, 0, 0, 1, 0, 0,\n",
              "       0, 0, 0, 0, 0, 1, 0, 1, 1, 0, 0, 0, 1, 0, 1, 0, 1, 0, 1, 0, 1, 0,\n",
              "       0, 1, 0, 0, 1, 0, 0, 0, 0, 1, 1, 0, 1, 0, 0, 0, 0, 1, 1, 0, 1, 0,\n",
              "       0, 0, 1, 1, 0, 0, 0, 0, 0, 0, 0, 0, 0, 0, 1, 0, 0, 0, 0, 1, 0, 0,\n",
              "       1, 0, 0, 0, 1, 0, 0, 0, 1, 1, 1, 0, 0, 0, 0, 0, 0, 1, 0, 0, 0, 1,\n",
              "       0, 1, 1, 1, 1, 0, 1, 1, 0, 0, 0, 0, 0, 0, 0, 1, 1, 0, 1, 0, 0, 1,\n",
              "       0, 1, 0, 0, 0, 0, 0, 1, 0, 1, 0, 1, 0, 1, 1, 0, 0, 0, 0, 1, 1, 0,\n",
              "       0, 0, 1, 0, 1, 1, 0, 0, 1, 0, 0, 1, 1, 0, 0, 1, 0, 0, 1, 0, 0, 0,\n",
              "       0, 0, 0, 0, 1, 1, 1, 0, 0, 0, 0, 0, 0, 1, 1, 0, 0, 1, 0, 0, 1, 0,\n",
              "       1, 1, 1, 0, 0, 1, 1, 1, 0, 1, 0, 1, 0, 1, 0, 0, 0, 0, 1, 0])"
            ]
          },
          "metadata": {
            "tags": []
          },
          "execution_count": 11
        }
      ]
    },
    {
      "cell_type": "code",
      "metadata": {
        "id": "gqnvUP7asqEb",
        "colab_type": "code",
        "colab": {}
      },
      "source": [
        "# Splitting the dataset into the Training set and Test set\n",
        "from sklearn.model_selection import train_test_split\n",
        "X_train, X_test, y_train, y_test = train_test_split(X, y, test_size = 0.2, random_state = 0)"
      ],
      "execution_count": 0,
      "outputs": []
    },
    {
      "cell_type": "code",
      "metadata": {
        "id": "mDXryVSFs4uI",
        "colab_type": "code",
        "colab": {}
      },
      "source": [
        "# Feature Scaling\n",
        "from sklearn.preprocessing import StandardScaler\n",
        "sc = StandardScaler()\n",
        "X_train = sc.fit_transform(X_train)\n",
        "X_test = sc.transform(X_test)"
      ],
      "execution_count": 0,
      "outputs": []
    },
    {
      "cell_type": "markdown",
      "metadata": {
        "id": "uxli6EyFs-Js",
        "colab_type": "text"
      },
      "source": [
        "# Neural Network (NN)"
      ]
    },
    {
      "cell_type": "code",
      "metadata": {
        "id": "v32yV-8zs8Bd",
        "colab_type": "code",
        "outputId": "3adee3d4-dbc3-4cf0-9453-45074233c4b3",
        "colab": {
          "base_uri": "https://localhost:8080/",
          "height": 35
        }
      },
      "source": [
        "# Importing the Keras libraries and packages\n",
        "import keras\n",
        "from keras.models import Sequential # sequential module reqd to initialize the NN\n",
        "from keras.layers import Dense # dense module reqd to build the layers of the NN"
      ],
      "execution_count": 0,
      "outputs": [
        {
          "output_type": "stream",
          "text": [
            "Using TensorFlow backend.\n"
          ],
          "name": "stderr"
        }
      ]
    },
    {
      "cell_type": "code",
      "metadata": {
        "id": "2rGgS0NitBzX",
        "colab_type": "code",
        "colab": {}
      },
      "source": [
        "# Initialising the ANN\n",
        "diabetes_predictor = Sequential() \n",
        "# creating object of Sequential class"
      ],
      "execution_count": 0,
      "outputs": []
    },
    {
      "cell_type": "code",
      "metadata": {
        "id": "GHMQmr8JtMNL",
        "colab_type": "code",
        "outputId": "c0c190a4-b351-4ce3-d838-3af0ebabe079",
        "colab": {
          "base_uri": "https://localhost:8080/",
          "height": 35
        }
      },
      "source": [
        "X.shape"
      ],
      "execution_count": 0,
      "outputs": [
        {
          "output_type": "execute_result",
          "data": {
            "text/plain": [
              "(768, 8)"
            ]
          },
          "metadata": {
            "tags": []
          },
          "execution_count": 16
        }
      ]
    },
    {
      "cell_type": "code",
      "metadata": {
        "id": "T-UJPljKtH5G",
        "colab_type": "code",
        "colab": {}
      },
      "source": [
        "# Adding the input layer and the hidden layer\n",
        "diabetes_predictor.add(Dense(input_dim=X.shape[1], activation=\"relu\", kernel_initializer=\"uniform\", units=5))\n",
        "# add method of object classifier to add layers\n",
        "# Dense function will take care of the first step of ANN i.e. randomly intializing weights of synapses to small number close to 0 (but not 0); done with init = 'uniform' (initialize weights based on uniform distribution)\n",
        "# 8 input nodes we know from our dataset; hence input_dim = 8\n",
        "# Forward-propagation by applying the activiation function. Neuron applies the activation fn to the sum of weights*inputs. The closer the activation fn value is to 1, the more activated the neuron, and the more activated the neuron, the more it passes on the signal\n",
        "# Use rectifier activation fn for hiddern layers; activation = 'relu'\n",
        "# units i.e the output dimensions is set = 6 which is the chosen number of nodes in this hidden layer\n",
        "# TIP: no rule of thumb to choosing ouput dimensions; can choose average of the number of nodes in the input layer and the number of nodes in the output layer"
      ],
      "execution_count": 0,
      "outputs": []
    },
    {
      "cell_type": "code",
      "metadata": {
        "id": "kTUh2udGtSt3",
        "colab_type": "code",
        "colab": {}
      },
      "source": [
        "# Adding the output layer\n",
        "diabetes_predictor.add(Dense(activation = 'sigmoid', kernel_initializer = \"uniform\", units = 1))\n",
        "# sigmoid activation fn for the output layer"
      ],
      "execution_count": 0,
      "outputs": []
    },
    {
      "cell_type": "code",
      "metadata": {
        "id": "ViK0Tq9btY9p",
        "colab_type": "code",
        "colab": {}
      },
      "source": [
        "# Compiling the ANN\n",
        "diabetes_predictor.compile(optimizer = 'adam', loss = 'binary_crossentropy', metrics = ['accuracy'])\n",
        "# optimizer is the algo used to find the optimal no of weights in the NN (until now weights have only been initialized); 'adam' is a type of SGD algo\n",
        "# loss deals with the loss function within the SGD algo which needs to be optimized(minimized); loss fn for SGD gong to be the same as that for logistic regression (logarithmic loss); since sigmoid fn used as activation fn we use log loss fn\n",
        "# acuracy metric ensure that accuracy increases batch by batch; metrics parameter expecting a list so 'accuracy' added in []"
      ],
      "execution_count": 0,
      "outputs": []
    },
    {
      "cell_type": "code",
      "metadata": {
        "id": "dOVlKM-xtasp",
        "colab_type": "code",
        "outputId": "9f2449ed-650c-4ca2-ef1d-ac4be04db48b",
        "colab": {
          "base_uri": "https://localhost:8080/",
          "height": 1000
        }
      },
      "source": [
        "# Fitting the ANN to the Training set\n",
        "diabetes_predictor.fit(X_train, y_train, batch_size = 10, nb_epoch = 100)\n",
        "# Weights upated via batch learning so batch size needs to be specified (no rule of thumb)\n",
        "# when the whole training set is passed throught the ANN, that makes an epoch. Epoch size needs to be specified (no rule of thumb)"
      ],
      "execution_count": 0,
      "outputs": [
        {
          "output_type": "stream",
          "text": [
            "/usr/local/lib/python3.6/dist-packages/ipykernel_launcher.py:1: UserWarning: The `nb_epoch` argument in `fit` has been renamed `epochs`.\n",
            "  \"\"\"Entry point for launching an IPython kernel.\n"
          ],
          "name": "stderr"
        },
        {
          "output_type": "stream",
          "text": [
            "Epoch 1/100\n",
            "614/614 [==============================] - 0s 602us/step - loss: 0.6898 - accuracy: 0.6091\n",
            "Epoch 2/100\n",
            "614/614 [==============================] - 0s 104us/step - loss: 0.6772 - accuracy: 0.6433\n",
            "Epoch 3/100\n",
            "614/614 [==============================] - 0s 120us/step - loss: 0.6513 - accuracy: 0.7068\n",
            "Epoch 4/100\n",
            "614/614 [==============================] - 0s 115us/step - loss: 0.6146 - accuracy: 0.7541\n",
            "Epoch 5/100\n",
            "614/614 [==============================] - 0s 125us/step - loss: 0.5766 - accuracy: 0.7671\n",
            "Epoch 6/100\n",
            "614/614 [==============================] - 0s 122us/step - loss: 0.5468 - accuracy: 0.7606\n",
            "Epoch 7/100\n",
            "614/614 [==============================] - 0s 117us/step - loss: 0.5251 - accuracy: 0.7606\n",
            "Epoch 8/100\n",
            "614/614 [==============================] - 0s 119us/step - loss: 0.5105 - accuracy: 0.7655\n",
            "Epoch 9/100\n",
            "614/614 [==============================] - 0s 96us/step - loss: 0.5000 - accuracy: 0.7704\n",
            "Epoch 10/100\n",
            "614/614 [==============================] - 0s 98us/step - loss: 0.4936 - accuracy: 0.7638\n",
            "Epoch 11/100\n",
            "614/614 [==============================] - 0s 114us/step - loss: 0.4885 - accuracy: 0.7671\n",
            "Epoch 12/100\n",
            "614/614 [==============================] - 0s 109us/step - loss: 0.4848 - accuracy: 0.7687\n",
            "Epoch 13/100\n",
            "614/614 [==============================] - 0s 116us/step - loss: 0.4826 - accuracy: 0.7638\n",
            "Epoch 14/100\n",
            "614/614 [==============================] - 0s 112us/step - loss: 0.4807 - accuracy: 0.7638\n",
            "Epoch 15/100\n",
            "614/614 [==============================] - 0s 116us/step - loss: 0.4788 - accuracy: 0.7622\n",
            "Epoch 16/100\n",
            "614/614 [==============================] - 0s 106us/step - loss: 0.4777 - accuracy: 0.7671\n",
            "Epoch 17/100\n",
            "614/614 [==============================] - 0s 150us/step - loss: 0.4770 - accuracy: 0.7671\n",
            "Epoch 18/100\n",
            "614/614 [==============================] - 0s 95us/step - loss: 0.4755 - accuracy: 0.7671\n",
            "Epoch 19/100\n",
            "614/614 [==============================] - 0s 98us/step - loss: 0.4745 - accuracy: 0.7671\n",
            "Epoch 20/100\n",
            "614/614 [==============================] - 0s 96us/step - loss: 0.4736 - accuracy: 0.7671\n",
            "Epoch 21/100\n",
            "614/614 [==============================] - 0s 97us/step - loss: 0.4726 - accuracy: 0.7720\n",
            "Epoch 22/100\n",
            "614/614 [==============================] - 0s 97us/step - loss: 0.4718 - accuracy: 0.7671\n",
            "Epoch 23/100\n",
            "614/614 [==============================] - 0s 104us/step - loss: 0.4715 - accuracy: 0.7671\n",
            "Epoch 24/100\n",
            "614/614 [==============================] - 0s 100us/step - loss: 0.4709 - accuracy: 0.7655\n",
            "Epoch 25/100\n",
            "614/614 [==============================] - 0s 102us/step - loss: 0.4703 - accuracy: 0.7687\n",
            "Epoch 26/100\n",
            "614/614 [==============================] - 0s 97us/step - loss: 0.4696 - accuracy: 0.7785\n",
            "Epoch 27/100\n",
            "614/614 [==============================] - 0s 96us/step - loss: 0.4692 - accuracy: 0.7720\n",
            "Epoch 28/100\n",
            "614/614 [==============================] - 0s 98us/step - loss: 0.4690 - accuracy: 0.7736\n",
            "Epoch 29/100\n",
            "614/614 [==============================] - 0s 96us/step - loss: 0.4682 - accuracy: 0.7704\n",
            "Epoch 30/100\n",
            "614/614 [==============================] - 0s 96us/step - loss: 0.4677 - accuracy: 0.7720\n",
            "Epoch 31/100\n",
            "614/614 [==============================] - 0s 100us/step - loss: 0.4670 - accuracy: 0.7720\n",
            "Epoch 32/100\n",
            "614/614 [==============================] - 0s 104us/step - loss: 0.4669 - accuracy: 0.7752\n",
            "Epoch 33/100\n",
            "614/614 [==============================] - 0s 125us/step - loss: 0.4668 - accuracy: 0.7752\n",
            "Epoch 34/100\n",
            "614/614 [==============================] - 0s 125us/step - loss: 0.4657 - accuracy: 0.7769\n",
            "Epoch 35/100\n",
            "614/614 [==============================] - 0s 121us/step - loss: 0.4654 - accuracy: 0.7736\n",
            "Epoch 36/100\n",
            "614/614 [==============================] - 0s 120us/step - loss: 0.4652 - accuracy: 0.7720\n",
            "Epoch 37/100\n",
            "614/614 [==============================] - 0s 119us/step - loss: 0.4646 - accuracy: 0.7736\n",
            "Epoch 38/100\n",
            "614/614 [==============================] - 0s 106us/step - loss: 0.4641 - accuracy: 0.7736\n",
            "Epoch 39/100\n",
            "614/614 [==============================] - 0s 99us/step - loss: 0.4637 - accuracy: 0.7736\n",
            "Epoch 40/100\n",
            "614/614 [==============================] - 0s 103us/step - loss: 0.4633 - accuracy: 0.7720\n",
            "Epoch 41/100\n",
            "614/614 [==============================] - 0s 113us/step - loss: 0.4627 - accuracy: 0.7720\n",
            "Epoch 42/100\n",
            "614/614 [==============================] - 0s 112us/step - loss: 0.4627 - accuracy: 0.7687\n",
            "Epoch 43/100\n",
            "614/614 [==============================] - 0s 111us/step - loss: 0.4620 - accuracy: 0.7720\n",
            "Epoch 44/100\n",
            "614/614 [==============================] - 0s 101us/step - loss: 0.4618 - accuracy: 0.7752\n",
            "Epoch 45/100\n",
            "614/614 [==============================] - 0s 105us/step - loss: 0.4611 - accuracy: 0.7720\n",
            "Epoch 46/100\n",
            "614/614 [==============================] - 0s 101us/step - loss: 0.4607 - accuracy: 0.7704\n",
            "Epoch 47/100\n",
            "614/614 [==============================] - 0s 98us/step - loss: 0.4608 - accuracy: 0.7704\n",
            "Epoch 48/100\n",
            "614/614 [==============================] - 0s 105us/step - loss: 0.4601 - accuracy: 0.7704\n",
            "Epoch 49/100\n",
            "614/614 [==============================] - 0s 97us/step - loss: 0.4598 - accuracy: 0.7720\n",
            "Epoch 50/100\n",
            "614/614 [==============================] - 0s 95us/step - loss: 0.4591 - accuracy: 0.7720\n",
            "Epoch 51/100\n",
            "614/614 [==============================] - 0s 116us/step - loss: 0.4590 - accuracy: 0.7687\n",
            "Epoch 52/100\n",
            "614/614 [==============================] - 0s 102us/step - loss: 0.4585 - accuracy: 0.7720\n",
            "Epoch 53/100\n",
            "614/614 [==============================] - 0s 101us/step - loss: 0.4581 - accuracy: 0.7687\n",
            "Epoch 54/100\n",
            "614/614 [==============================] - 0s 103us/step - loss: 0.4576 - accuracy: 0.7687\n",
            "Epoch 55/100\n",
            "614/614 [==============================] - 0s 101us/step - loss: 0.4575 - accuracy: 0.7720\n",
            "Epoch 56/100\n",
            "614/614 [==============================] - 0s 109us/step - loss: 0.4570 - accuracy: 0.7720\n",
            "Epoch 57/100\n",
            "614/614 [==============================] - 0s 117us/step - loss: 0.4565 - accuracy: 0.7736\n",
            "Epoch 58/100\n",
            "614/614 [==============================] - 0s 116us/step - loss: 0.4567 - accuracy: 0.7704\n",
            "Epoch 59/100\n",
            "614/614 [==============================] - 0s 114us/step - loss: 0.4560 - accuracy: 0.7720\n",
            "Epoch 60/100\n",
            "614/614 [==============================] - 0s 115us/step - loss: 0.4557 - accuracy: 0.7736\n",
            "Epoch 61/100\n",
            "614/614 [==============================] - 0s 102us/step - loss: 0.4556 - accuracy: 0.7736\n",
            "Epoch 62/100\n",
            "614/614 [==============================] - 0s 93us/step - loss: 0.4550 - accuracy: 0.7736\n",
            "Epoch 63/100\n",
            "614/614 [==============================] - 0s 111us/step - loss: 0.4551 - accuracy: 0.7752\n",
            "Epoch 64/100\n",
            "614/614 [==============================] - 0s 97us/step - loss: 0.4546 - accuracy: 0.7736\n",
            "Epoch 65/100\n",
            "614/614 [==============================] - 0s 102us/step - loss: 0.4544 - accuracy: 0.7752\n",
            "Epoch 66/100\n",
            "614/614 [==============================] - 0s 99us/step - loss: 0.4544 - accuracy: 0.7752\n",
            "Epoch 67/100\n",
            "614/614 [==============================] - 0s 101us/step - loss: 0.4541 - accuracy: 0.7736\n",
            "Epoch 68/100\n",
            "614/614 [==============================] - 0s 97us/step - loss: 0.4535 - accuracy: 0.7769\n",
            "Epoch 69/100\n",
            "614/614 [==============================] - 0s 98us/step - loss: 0.4538 - accuracy: 0.7736\n",
            "Epoch 70/100\n",
            "614/614 [==============================] - 0s 104us/step - loss: 0.4532 - accuracy: 0.7736\n",
            "Epoch 71/100\n",
            "614/614 [==============================] - 0s 99us/step - loss: 0.4531 - accuracy: 0.7752\n",
            "Epoch 72/100\n",
            "614/614 [==============================] - 0s 96us/step - loss: 0.4528 - accuracy: 0.7801\n",
            "Epoch 73/100\n",
            "614/614 [==============================] - 0s 96us/step - loss: 0.4524 - accuracy: 0.7785\n",
            "Epoch 74/100\n",
            "614/614 [==============================] - 0s 97us/step - loss: 0.4524 - accuracy: 0.7801\n",
            "Epoch 75/100\n",
            "614/614 [==============================] - 0s 97us/step - loss: 0.4521 - accuracy: 0.7785\n",
            "Epoch 76/100\n",
            "614/614 [==============================] - 0s 104us/step - loss: 0.4518 - accuracy: 0.7866\n",
            "Epoch 77/100\n",
            "614/614 [==============================] - 0s 95us/step - loss: 0.4516 - accuracy: 0.7801\n",
            "Epoch 78/100\n",
            "614/614 [==============================] - 0s 97us/step - loss: 0.4513 - accuracy: 0.7801\n",
            "Epoch 79/100\n",
            "614/614 [==============================] - 0s 105us/step - loss: 0.4516 - accuracy: 0.7785\n",
            "Epoch 80/100\n",
            "614/614 [==============================] - 0s 97us/step - loss: 0.4513 - accuracy: 0.7834\n",
            "Epoch 81/100\n",
            "614/614 [==============================] - 0s 98us/step - loss: 0.4513 - accuracy: 0.7850\n",
            "Epoch 82/100\n",
            "614/614 [==============================] - 0s 97us/step - loss: 0.4507 - accuracy: 0.7834\n",
            "Epoch 83/100\n",
            "614/614 [==============================] - 0s 101us/step - loss: 0.4505 - accuracy: 0.7785\n",
            "Epoch 84/100\n",
            "614/614 [==============================] - 0s 99us/step - loss: 0.4501 - accuracy: 0.7801\n",
            "Epoch 85/100\n",
            "614/614 [==============================] - 0s 98us/step - loss: 0.4504 - accuracy: 0.7801\n",
            "Epoch 86/100\n",
            "614/614 [==============================] - 0s 115us/step - loss: 0.4501 - accuracy: 0.7850\n",
            "Epoch 87/100\n",
            "614/614 [==============================] - 0s 103us/step - loss: 0.4497 - accuracy: 0.7801\n",
            "Epoch 88/100\n",
            "614/614 [==============================] - 0s 104us/step - loss: 0.4493 - accuracy: 0.7866\n",
            "Epoch 89/100\n",
            "614/614 [==============================] - 0s 97us/step - loss: 0.4493 - accuracy: 0.7801\n",
            "Epoch 90/100\n",
            "614/614 [==============================] - 0s 99us/step - loss: 0.4494 - accuracy: 0.7850\n",
            "Epoch 91/100\n",
            "614/614 [==============================] - 0s 98us/step - loss: 0.4491 - accuracy: 0.7818\n",
            "Epoch 92/100\n",
            "614/614 [==============================] - 0s 98us/step - loss: 0.4488 - accuracy: 0.7818\n",
            "Epoch 93/100\n",
            "614/614 [==============================] - 0s 95us/step - loss: 0.4488 - accuracy: 0.7866\n",
            "Epoch 94/100\n",
            "614/614 [==============================] - 0s 106us/step - loss: 0.4486 - accuracy: 0.7866\n",
            "Epoch 95/100\n",
            "614/614 [==============================] - 0s 103us/step - loss: 0.4484 - accuracy: 0.7866\n",
            "Epoch 96/100\n",
            "614/614 [==============================] - 0s 95us/step - loss: 0.4480 - accuracy: 0.7866\n",
            "Epoch 97/100\n",
            "614/614 [==============================] - 0s 99us/step - loss: 0.4483 - accuracy: 0.7834\n",
            "Epoch 98/100\n",
            "614/614 [==============================] - 0s 97us/step - loss: 0.4479 - accuracy: 0.7850\n",
            "Epoch 99/100\n",
            "614/614 [==============================] - 0s 99us/step - loss: 0.4477 - accuracy: 0.7883\n",
            "Epoch 100/100\n",
            "614/614 [==============================] - 0s 107us/step - loss: 0.4479 - accuracy: 0.7866\n"
          ],
          "name": "stdout"
        },
        {
          "output_type": "execute_result",
          "data": {
            "text/plain": [
              "<keras.callbacks.callbacks.History at 0x7f5323854a58>"
            ]
          },
          "metadata": {
            "tags": []
          },
          "execution_count": 20
        }
      ]
    },
    {
      "cell_type": "markdown",
      "metadata": {
        "id": "fD7cLpvvtgzC",
        "colab_type": "text"
      },
      "source": [
        "# Making the predictions and evaluating the model"
      ]
    },
    {
      "cell_type": "code",
      "metadata": {
        "id": "oJvrlTchtcSc",
        "colab_type": "code",
        "colab": {}
      },
      "source": [
        "# Predicting the Test set results\n",
        "y_pred = diabetes_predictor.predict(X_test)\n",
        "# this gives us the probability of a patient having diabetes\n",
        "y_pred = (y_pred > 0.5)\n",
        "# this above syntax is equivalent to sayig if y_pred>0.5 give value 1 and if not give value 0"
      ],
      "execution_count": 0,
      "outputs": []
    },
    {
      "cell_type": "code",
      "metadata": {
        "id": "Pwc0DLVvtkOM",
        "colab_type": "code",
        "outputId": "1f096b23-ef9d-4b67-a2a2-6ac491374d2f",
        "colab": {
          "base_uri": "https://localhost:8080/",
          "height": 52
        }
      },
      "source": [
        "# Making the Confusion Matrix\n",
        "from sklearn.metrics import confusion_matrix\n",
        "cm = confusion_matrix(y_test, y_pred)\n",
        "cm"
      ],
      "execution_count": 0,
      "outputs": [
        {
          "output_type": "execute_result",
          "data": {
            "text/plain": [
              "array([[94, 13],\n",
              "       [19, 28]])"
            ]
          },
          "metadata": {
            "tags": []
          },
          "execution_count": 22
        }
      ]
    },
    {
      "cell_type": "code",
      "metadata": {
        "id": "vLQqxcA8tlmC",
        "colab_type": "code",
        "colab": {}
      },
      "source": [
        ""
      ],
      "execution_count": 0,
      "outputs": []
    }
  ]
}
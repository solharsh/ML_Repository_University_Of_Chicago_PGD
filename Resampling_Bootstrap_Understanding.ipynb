{
  "nbformat": 4,
  "nbformat_minor": 0,
  "metadata": {
    "colab": {
      "name": "Resampling_Bootstrap_Understanding.ipynb",
      "provenance": [],
      "toc_visible": true,
      "mount_file_id": "19UO-EeqpPr9xNehf8dRDZCqXCiHFXhjL",
      "authorship_tag": "ABX9TyMJH03mexCpceo2xtPaPfZg",
      "include_colab_link": true
    },
    "kernelspec": {
      "name": "python3",
      "display_name": "Python 3"
    }
  },
  "cells": [
    {
      "cell_type": "markdown",
      "metadata": {
        "id": "view-in-github",
        "colab_type": "text"
      },
      "source": [
        "<a href=\"https://colab.research.google.com/github/solharsh/ML_Repository_University_Of_Chicago_PGD/blob/master/Resampling_Bootstrap_Understanding.ipynb\" target=\"_parent\"><img src=\"https://colab.research.google.com/assets/colab-badge.svg\" alt=\"Open In Colab\"/></a>"
      ]
    },
    {
      "cell_type": "markdown",
      "metadata": {
        "id": "5HDvoSKwL0qj",
        "colab_type": "text"
      },
      "source": [
        "# Bootstrap Resampling"
      ]
    },
    {
      "cell_type": "markdown",
      "metadata": {
        "id": "aSkSU8DML5q6",
        "colab_type": "text"
      },
      "source": [
        "Resample method to perform sampling with replacement."
      ]
    },
    {
      "cell_type": "markdown",
      "metadata": {
        "id": "Cz8b538bL7yR",
        "colab_type": "text"
      },
      "source": [
        "Bootstrap with dummy data"
      ]
    },
    {
      "cell_type": "code",
      "metadata": {
        "id": "iyKw0b0XL1V9",
        "colab_type": "code",
        "colab": {
          "base_uri": "https://localhost:8080/",
          "height": 35
        },
        "outputId": "dad6448a-dbef-43e7-9ca2-2ec51e10e7e7"
      },
      "source": [
        "#Import resample method from sklearn.utils module.\n",
        "from sklearn.utils import resample\n",
        "#Generate a dummy list.\n",
        "data = list(range(1,11))\n",
        "data"
      ],
      "execution_count": 2,
      "outputs": [
        {
          "output_type": "execute_result",
          "data": {
            "text/plain": [
              "[1, 2, 3, 4, 5, 6, 7, 8, 9, 10]"
            ]
          },
          "metadata": {
            "tags": []
          },
          "execution_count": 2
        }
      ]
    },
    {
      "cell_type": "code",
      "metadata": {
        "id": "8S67QwhLL4nU",
        "colab_type": "code",
        "colab": {
          "base_uri": "https://localhost:8080/",
          "height": 35
        },
        "outputId": "ab0dd84d-0f1c-4a9c-988c-db43129209a3"
      },
      "source": [
        "#Take 7 samples from this list with replacement. Save this list as train set.\n",
        "\n",
        "train = resample(data, replace=True, n_samples=7, random_state=123)\n",
        "train"
      ],
      "execution_count": 3,
      "outputs": [
        {
          "output_type": "execute_result",
          "data": {
            "text/plain": [
              "[3, 3, 7, 2, 4, 10, 7]"
            ]
          },
          "metadata": {
            "tags": []
          },
          "execution_count": 3
        }
      ]
    },
    {
      "cell_type": "code",
      "metadata": {
        "id": "STHIJwS-MGuD",
        "colab_type": "code",
        "colab": {
          "base_uri": "https://localhost:8080/",
          "height": 35
        },
        "outputId": "998b8903-cc38-4c80-f50b-91d36ad4e53b"
      },
      "source": [
        "#Take out-of-bag observations in a test set.\n",
        "test = [observation for observation in data if observation not in train]\n",
        "test"
      ],
      "execution_count": 4,
      "outputs": [
        {
          "output_type": "execute_result",
          "data": {
            "text/plain": [
              "[1, 5, 6, 8, 9]"
            ]
          },
          "metadata": {
            "tags": []
          },
          "execution_count": 4
        }
      ]
    },
    {
      "cell_type": "markdown",
      "metadata": {
        "id": "qUX9Uj6WMMp5",
        "colab_type": "text"
      },
      "source": [
        "# Bootstrap with real data"
      ]
    },
    {
      "cell_type": "markdown",
      "metadata": {
        "id": "44lAHy5iMQqa",
        "colab_type": "text"
      },
      "source": [
        "Reading the \"petrol_consumption.csv\" file. It contains a regression dataset to predict gas consumptions (in millions of gallons) in 48 US states based upon gas tax (in cents), per capita income (dollars), paved highways (in miles) and the proportion of population with a drivers license.\n"
      ]
    },
    {
      "cell_type": "code",
      "metadata": {
        "id": "jGr7jU6fMK6o",
        "colab_type": "code",
        "colab": {
          "base_uri": "https://localhost:8080/",
          "height": 200
        },
        "outputId": "f002a935-e22d-4170-adad-c47d62aca5cb"
      },
      "source": [
        "import pandas as pd\n",
        "data_df = pd.read_csv(\"/content/drive/My Drive/UC Machine Learning/Datasets/petrol_consumption.csv\")\n",
        "data_df.head()"
      ],
      "execution_count": 6,
      "outputs": [
        {
          "output_type": "execute_result",
          "data": {
            "text/html": [
              "<div>\n",
              "<style scoped>\n",
              "    .dataframe tbody tr th:only-of-type {\n",
              "        vertical-align: middle;\n",
              "    }\n",
              "\n",
              "    .dataframe tbody tr th {\n",
              "        vertical-align: top;\n",
              "    }\n",
              "\n",
              "    .dataframe thead th {\n",
              "        text-align: right;\n",
              "    }\n",
              "</style>\n",
              "<table border=\"1\" class=\"dataframe\">\n",
              "  <thead>\n",
              "    <tr style=\"text-align: right;\">\n",
              "      <th></th>\n",
              "      <th>Petrol_tax</th>\n",
              "      <th>Average_income</th>\n",
              "      <th>Paved_Highways</th>\n",
              "      <th>Population_Driver_licence(%)</th>\n",
              "      <th>Petrol_Consumption</th>\n",
              "    </tr>\n",
              "  </thead>\n",
              "  <tbody>\n",
              "    <tr>\n",
              "      <th>0</th>\n",
              "      <td>9.0</td>\n",
              "      <td>3571</td>\n",
              "      <td>1976</td>\n",
              "      <td>0.525</td>\n",
              "      <td>541</td>\n",
              "    </tr>\n",
              "    <tr>\n",
              "      <th>1</th>\n",
              "      <td>9.0</td>\n",
              "      <td>4092</td>\n",
              "      <td>1250</td>\n",
              "      <td>0.572</td>\n",
              "      <td>524</td>\n",
              "    </tr>\n",
              "    <tr>\n",
              "      <th>2</th>\n",
              "      <td>9.0</td>\n",
              "      <td>3865</td>\n",
              "      <td>1586</td>\n",
              "      <td>0.580</td>\n",
              "      <td>561</td>\n",
              "    </tr>\n",
              "    <tr>\n",
              "      <th>3</th>\n",
              "      <td>7.5</td>\n",
              "      <td>4870</td>\n",
              "      <td>2351</td>\n",
              "      <td>0.529</td>\n",
              "      <td>414</td>\n",
              "    </tr>\n",
              "    <tr>\n",
              "      <th>4</th>\n",
              "      <td>8.0</td>\n",
              "      <td>4399</td>\n",
              "      <td>431</td>\n",
              "      <td>0.544</td>\n",
              "      <td>410</td>\n",
              "    </tr>\n",
              "  </tbody>\n",
              "</table>\n",
              "</div>"
            ],
            "text/plain": [
              "   Petrol_tax  Average_income  ...  Population_Driver_licence(%)  Petrol_Consumption\n",
              "0         9.0            3571  ...                         0.525                 541\n",
              "1         9.0            4092  ...                         0.572                 524\n",
              "2         9.0            3865  ...                         0.580                 561\n",
              "3         7.5            4870  ...                         0.529                 414\n",
              "4         8.0            4399  ...                         0.544                 410\n",
              "\n",
              "[5 rows x 5 columns]"
            ]
          },
          "metadata": {
            "tags": []
          },
          "execution_count": 6
        }
      ]
    },
    {
      "cell_type": "code",
      "metadata": {
        "id": "HCt6PNz4MdRi",
        "colab_type": "code",
        "colab": {}
      },
      "source": [
        "#Create a list containing indices of our dataset.\n",
        "\n",
        "nrows = data_df.shape[0]\n",
        "all_indices = list(range(nrows))"
      ],
      "execution_count": 0,
      "outputs": []
    },
    {
      "cell_type": "code",
      "metadata": {
        "id": "YJ_vnKV0Mh2I",
        "colab_type": "code",
        "colab": {}
      },
      "source": [
        "#Take out indices for training samples from this list with replacement. \n",
        "#Let the number of samples be 70% of the original number of observations.\n",
        "train_indices = resample(all_indices, replace=True, n_samples=int(0.7*nrows), random_state=123)"
      ],
      "execution_count": 0,
      "outputs": []
    },
    {
      "cell_type": "code",
      "metadata": {
        "id": "bQOe5KzKMnLn",
        "colab_type": "code",
        "colab": {
          "base_uri": "https://localhost:8080/",
          "height": 35
        },
        "outputId": "6c2ad57d-1290-40e9-a0f8-086e3737db98"
      },
      "source": [
        "len(train_indices)"
      ],
      "execution_count": 9,
      "outputs": [
        {
          "output_type": "execute_result",
          "data": {
            "text/plain": [
              "33"
            ]
          },
          "metadata": {
            "tags": []
          },
          "execution_count": 9
        }
      ]
    },
    {
      "cell_type": "code",
      "metadata": {
        "id": "FXgB09jjMoa1",
        "colab_type": "code",
        "colab": {}
      },
      "source": [
        "#Take the rest of the obsevations (out-of-bag) in test set.\n",
        "\n",
        "test_indices = [index for index in list(range(nrows)) if index not in train_indices]"
      ],
      "execution_count": 0,
      "outputs": []
    },
    {
      "cell_type": "code",
      "metadata": {
        "id": "EDbbHuKvMq1x",
        "colab_type": "code",
        "colab": {}
      },
      "source": [
        "#Based on these indices, get train and test dataframe.\n",
        "train_df = data_df.take(train_indices)\n",
        "test_df = data_df.take(test_indices)"
      ],
      "execution_count": 0,
      "outputs": []
    },
    {
      "cell_type": "code",
      "metadata": {
        "id": "aX1tNHC0Munt",
        "colab_type": "code",
        "colab": {}
      },
      "source": [
        "#Further split this train, test dataframe into predictors and response dataframes.\n",
        "X_train = train_df.drop(\"Petrol_Consumption\", axis=1)\n",
        "Y_train = train_df['Petrol_Consumption']\n",
        "X_test = test_df.drop(\"Petrol_Consumption\", axis=1)\n",
        "Y_test = test_df['Petrol_Consumption']"
      ],
      "execution_count": 0,
      "outputs": []
    },
    {
      "cell_type": "code",
      "metadata": {
        "id": "xEsBoCjMM0tu",
        "colab_type": "code",
        "colab": {}
      },
      "source": [
        ""
      ],
      "execution_count": 0,
      "outputs": []
    }
  ]
}
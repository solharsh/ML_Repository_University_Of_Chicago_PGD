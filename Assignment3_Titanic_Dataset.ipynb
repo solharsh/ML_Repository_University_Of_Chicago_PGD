{
  "nbformat": 4,
  "nbformat_minor": 0,
  "metadata": {
    "colab": {
      "name": "Assignment3_Titanic_Dataset.ipynb",
      "provenance": [],
      "toc_visible": true,
      "mount_file_id": "1bPjbXFdxDkEFIOVm3ds8q0ch1F3cpoou",
      "authorship_tag": "ABX9TyNTNcj7DnPv5kjud+mDHJ3o",
      "include_colab_link": true
    },
    "kernelspec": {
      "name": "python3",
      "display_name": "Python 3"
    }
  },
  "cells": [
    {
      "cell_type": "markdown",
      "metadata": {
        "id": "view-in-github",
        "colab_type": "text"
      },
      "source": [
        "<a href=\"https://colab.research.google.com/github/solharsh/ML_Repository_University_Of_Chicago_PGD/blob/master/Assignment3_Titanic_Dataset.ipynb\" target=\"_parent\"><img src=\"https://colab.research.google.com/assets/colab-badge.svg\" alt=\"Open In Colab\"/></a>"
      ]
    },
    {
      "cell_type": "markdown",
      "metadata": {
        "id": "DRgeoVKKXjN7",
        "colab_type": "text"
      },
      "source": [
        "# Assignment 3"
      ]
    },
    {
      "cell_type": "markdown",
      "metadata": {
        "id": "LTQR8KI-XpES",
        "colab_type": "text"
      },
      "source": [
        "In 1912, the British passenger ship Titanic struck an iceberg, which led to the death of over 1,500 passengers and crew, more than half the people on board.\n",
        "\n",
        "You want to construct a model with Logistic Regression that uses available data about the passengers to predict their survival.\n",
        "\n",
        "Use this dataset: titanic_dataset.csv (more information about this dataset is available on Kaggle (Links to an external site.)--however, ignore the other datasets there)\n",
        "\n",
        "First, drop columns from the dataset that are obviously unnecessary for your model.\n",
        "Then, assign the dataset's median Age to rows where the age data is missing.\n",
        "Then, split the dataset into a training set and test set.\n",
        "Fit your initial model, and identify and remove from consideration predictors that are not significant.\n",
        "Plot a ROC curve and find the optimal cutoff probability\n",
        "Update your predictions using the optimal cutoff\n",
        "Finally, create a confusion matrix using your final predictions\n",
        " \n",
        "\n",
        "Document your work and explain your decision making as you build your model."
      ]
    },
    {
      "cell_type": "markdown",
      "metadata": {
        "id": "SIUCFsWoXtIA",
        "colab_type": "text"
      },
      "source": [
        "Question:\n",
        "1. First, drop columns from the dataset that are obviously unnecessary for your model.\n",
        "2. Then, assign the dataset's median Age to rows where the age data is missing.\n",
        "3. Then, split the dataset into a training set and test set.\n",
        "4. Fit your initial model, and identify and remove from consideration predictors that are not significant.\n",
        "5. Plot a ROC curve and find the optimal cutoff probability\n",
        "6. Update your predictions using the optimal cutoff\n",
        "7. Finally, create a confusion matrix using your final predictions"
      ]
    },
    {
      "cell_type": "markdown",
      "metadata": {
        "id": "wPOrTc7mXv0N",
        "colab_type": "text"
      },
      "source": [
        "\n",
        "\n",
        "Strategising the Question:\n",
        "\n",
        "Let's divide the process in 3 Parts :\n",
        "\n",
        "A. Data Preparation\n",
        "\n",
        "B. Model Fitting\n",
        "\n",
        "C. Improving Accuracy\n",
        "\n",
        "\n",
        "\n",
        "\n",
        "\n",
        "\n",
        "importing all important libraries for Statsmodels and Scikit-Learn:\n"
      ]
    },
    {
      "cell_type": "code",
      "metadata": {
        "id": "NUohuuqQXkpb",
        "colab_type": "code",
        "outputId": "2f20e427-f7d0-4a2b-c3b0-0ab993596120",
        "colab": {
          "base_uri": "https://localhost:8080/",
          "height": 72
        }
      },
      "source": [
        "import numpy as np \n",
        "import pandas as pd\n",
        "from sklearn.model_selection import train_test_split\n",
        "from sklearn.metrics import r2_score\n",
        "from sklearn.linear_model import LogisticRegression\n",
        "from sklearn.metrics import accuracy_score\n",
        "from sklearn.metrics import log_loss\n",
        "import statsmodels.api as sm \n",
        "from sklearn.metrics import confusion_matrix\n",
        "import matplotlib.pyplot as plt\n",
        "import seaborn as sns\n",
        "%matplotlib inline"
      ],
      "execution_count": 0,
      "outputs": [
        {
          "output_type": "stream",
          "text": [
            "/usr/local/lib/python3.6/dist-packages/statsmodels/tools/_testing.py:19: FutureWarning: pandas.util.testing is deprecated. Use the functions in the public API at pandas.testing instead.\n",
            "  import pandas.util.testing as tm\n"
          ],
          "name": "stderr"
        }
      ]
    },
    {
      "cell_type": "code",
      "metadata": {
        "id": "FBjpV4qhXx8C",
        "colab_type": "code",
        "colab": {}
      },
      "source": [
        "titanic_df = pd.read_csv(\"/content/drive/My Drive/UC Machine Learning/Datasets/titanic_dataset.csv\") #Reading the CSV file and creating dataframe\n"
      ],
      "execution_count": 0,
      "outputs": []
    },
    {
      "cell_type": "code",
      "metadata": {
        "id": "yu9i8BWGX-xs",
        "colab_type": "code",
        "outputId": "a30213cb-2a46-405e-95d9-1e14a6c25be9",
        "colab": {
          "base_uri": "https://localhost:8080/",
          "height": 437
        }
      },
      "source": [
        "titanic_df.head(10) #observe the NaN values, especially for Age"
      ],
      "execution_count": 0,
      "outputs": [
        {
          "output_type": "execute_result",
          "data": {
            "text/html": [
              "<div>\n",
              "<style scoped>\n",
              "    .dataframe tbody tr th:only-of-type {\n",
              "        vertical-align: middle;\n",
              "    }\n",
              "\n",
              "    .dataframe tbody tr th {\n",
              "        vertical-align: top;\n",
              "    }\n",
              "\n",
              "    .dataframe thead th {\n",
              "        text-align: right;\n",
              "    }\n",
              "</style>\n",
              "<table border=\"1\" class=\"dataframe\">\n",
              "  <thead>\n",
              "    <tr style=\"text-align: right;\">\n",
              "      <th></th>\n",
              "      <th>PassengerId</th>\n",
              "      <th>Survived</th>\n",
              "      <th>Pclass</th>\n",
              "      <th>Name</th>\n",
              "      <th>Sex</th>\n",
              "      <th>Age</th>\n",
              "      <th>SibSp</th>\n",
              "      <th>Parch</th>\n",
              "      <th>Ticket</th>\n",
              "      <th>Fare</th>\n",
              "      <th>Cabin</th>\n",
              "      <th>Embarked</th>\n",
              "    </tr>\n",
              "  </thead>\n",
              "  <tbody>\n",
              "    <tr>\n",
              "      <th>0</th>\n",
              "      <td>1</td>\n",
              "      <td>0</td>\n",
              "      <td>3</td>\n",
              "      <td>Braund, Mr. Owen Harris</td>\n",
              "      <td>male</td>\n",
              "      <td>22.0</td>\n",
              "      <td>1</td>\n",
              "      <td>0</td>\n",
              "      <td>A/5 21171</td>\n",
              "      <td>7.2500</td>\n",
              "      <td>NaN</td>\n",
              "      <td>S</td>\n",
              "    </tr>\n",
              "    <tr>\n",
              "      <th>1</th>\n",
              "      <td>2</td>\n",
              "      <td>1</td>\n",
              "      <td>1</td>\n",
              "      <td>Cumings, Mrs. John Bradley (Florence Briggs Th...</td>\n",
              "      <td>female</td>\n",
              "      <td>38.0</td>\n",
              "      <td>1</td>\n",
              "      <td>0</td>\n",
              "      <td>PC 17599</td>\n",
              "      <td>71.2833</td>\n",
              "      <td>C85</td>\n",
              "      <td>C</td>\n",
              "    </tr>\n",
              "    <tr>\n",
              "      <th>2</th>\n",
              "      <td>3</td>\n",
              "      <td>1</td>\n",
              "      <td>3</td>\n",
              "      <td>Heikkinen, Miss. Laina</td>\n",
              "      <td>female</td>\n",
              "      <td>26.0</td>\n",
              "      <td>0</td>\n",
              "      <td>0</td>\n",
              "      <td>STON/O2. 3101282</td>\n",
              "      <td>7.9250</td>\n",
              "      <td>NaN</td>\n",
              "      <td>S</td>\n",
              "    </tr>\n",
              "    <tr>\n",
              "      <th>3</th>\n",
              "      <td>4</td>\n",
              "      <td>1</td>\n",
              "      <td>1</td>\n",
              "      <td>Futrelle, Mrs. Jacques Heath (Lily May Peel)</td>\n",
              "      <td>female</td>\n",
              "      <td>35.0</td>\n",
              "      <td>1</td>\n",
              "      <td>0</td>\n",
              "      <td>113803</td>\n",
              "      <td>53.1000</td>\n",
              "      <td>C123</td>\n",
              "      <td>S</td>\n",
              "    </tr>\n",
              "    <tr>\n",
              "      <th>4</th>\n",
              "      <td>5</td>\n",
              "      <td>0</td>\n",
              "      <td>3</td>\n",
              "      <td>Allen, Mr. William Henry</td>\n",
              "      <td>male</td>\n",
              "      <td>35.0</td>\n",
              "      <td>0</td>\n",
              "      <td>0</td>\n",
              "      <td>373450</td>\n",
              "      <td>8.0500</td>\n",
              "      <td>NaN</td>\n",
              "      <td>S</td>\n",
              "    </tr>\n",
              "    <tr>\n",
              "      <th>5</th>\n",
              "      <td>6</td>\n",
              "      <td>0</td>\n",
              "      <td>3</td>\n",
              "      <td>Moran, Mr. James</td>\n",
              "      <td>male</td>\n",
              "      <td>NaN</td>\n",
              "      <td>0</td>\n",
              "      <td>0</td>\n",
              "      <td>330877</td>\n",
              "      <td>8.4583</td>\n",
              "      <td>NaN</td>\n",
              "      <td>Q</td>\n",
              "    </tr>\n",
              "    <tr>\n",
              "      <th>6</th>\n",
              "      <td>7</td>\n",
              "      <td>0</td>\n",
              "      <td>1</td>\n",
              "      <td>McCarthy, Mr. Timothy J</td>\n",
              "      <td>male</td>\n",
              "      <td>54.0</td>\n",
              "      <td>0</td>\n",
              "      <td>0</td>\n",
              "      <td>17463</td>\n",
              "      <td>51.8625</td>\n",
              "      <td>E46</td>\n",
              "      <td>S</td>\n",
              "    </tr>\n",
              "    <tr>\n",
              "      <th>7</th>\n",
              "      <td>8</td>\n",
              "      <td>0</td>\n",
              "      <td>3</td>\n",
              "      <td>Palsson, Master. Gosta Leonard</td>\n",
              "      <td>male</td>\n",
              "      <td>2.0</td>\n",
              "      <td>3</td>\n",
              "      <td>1</td>\n",
              "      <td>349909</td>\n",
              "      <td>21.0750</td>\n",
              "      <td>NaN</td>\n",
              "      <td>S</td>\n",
              "    </tr>\n",
              "    <tr>\n",
              "      <th>8</th>\n",
              "      <td>9</td>\n",
              "      <td>1</td>\n",
              "      <td>3</td>\n",
              "      <td>Johnson, Mrs. Oscar W (Elisabeth Vilhelmina Berg)</td>\n",
              "      <td>female</td>\n",
              "      <td>27.0</td>\n",
              "      <td>0</td>\n",
              "      <td>2</td>\n",
              "      <td>347742</td>\n",
              "      <td>11.1333</td>\n",
              "      <td>NaN</td>\n",
              "      <td>S</td>\n",
              "    </tr>\n",
              "    <tr>\n",
              "      <th>9</th>\n",
              "      <td>10</td>\n",
              "      <td>1</td>\n",
              "      <td>2</td>\n",
              "      <td>Nasser, Mrs. Nicholas (Adele Achem)</td>\n",
              "      <td>female</td>\n",
              "      <td>14.0</td>\n",
              "      <td>1</td>\n",
              "      <td>0</td>\n",
              "      <td>237736</td>\n",
              "      <td>30.0708</td>\n",
              "      <td>NaN</td>\n",
              "      <td>C</td>\n",
              "    </tr>\n",
              "  </tbody>\n",
              "</table>\n",
              "</div>"
            ],
            "text/plain": [
              "   PassengerId  Survived  Pclass  ...     Fare Cabin  Embarked\n",
              "0            1         0       3  ...   7.2500   NaN         S\n",
              "1            2         1       1  ...  71.2833   C85         C\n",
              "2            3         1       3  ...   7.9250   NaN         S\n",
              "3            4         1       1  ...  53.1000  C123         S\n",
              "4            5         0       3  ...   8.0500   NaN         S\n",
              "5            6         0       3  ...   8.4583   NaN         Q\n",
              "6            7         0       1  ...  51.8625   E46         S\n",
              "7            8         0       3  ...  21.0750   NaN         S\n",
              "8            9         1       3  ...  11.1333   NaN         S\n",
              "9           10         1       2  ...  30.0708   NaN         C\n",
              "\n",
              "[10 rows x 12 columns]"
            ]
          },
          "metadata": {
            "tags": []
          },
          "execution_count": 3
        }
      ]
    },
    {
      "cell_type": "code",
      "metadata": {
        "id": "z5UN46uaYAgH",
        "colab_type": "code",
        "outputId": "ed0a975a-85a4-4851-da9c-56b985171fb0",
        "colab": {
          "base_uri": "https://localhost:8080/",
          "height": 355
        }
      },
      "source": [
        "titanic_df.info()"
      ],
      "execution_count": 0,
      "outputs": [
        {
          "output_type": "stream",
          "text": [
            "<class 'pandas.core.frame.DataFrame'>\n",
            "RangeIndex: 891 entries, 0 to 890\n",
            "Data columns (total 12 columns):\n",
            " #   Column       Non-Null Count  Dtype  \n",
            "---  ------       --------------  -----  \n",
            " 0   PassengerId  891 non-null    int64  \n",
            " 1   Survived     891 non-null    int64  \n",
            " 2   Pclass       891 non-null    int64  \n",
            " 3   Name         891 non-null    object \n",
            " 4   Sex          891 non-null    object \n",
            " 5   Age          714 non-null    float64\n",
            " 6   SibSp        891 non-null    int64  \n",
            " 7   Parch        891 non-null    int64  \n",
            " 8   Ticket       891 non-null    object \n",
            " 9   Fare         891 non-null    float64\n",
            " 10  Cabin        204 non-null    object \n",
            " 11  Embarked     889 non-null    object \n",
            "dtypes: float64(2), int64(5), object(5)\n",
            "memory usage: 83.7+ KB\n"
          ],
          "name": "stdout"
        }
      ]
    },
    {
      "cell_type": "markdown",
      "metadata": {
        "id": "xIDrik8PU2UK",
        "colab_type": "text"
      },
      "source": [
        "From a sample of the RMS Titanic data, we can see the various features present for each passenger on the ship:\n",
        "\n",
        "- Survived: Outcome of survival (0 = No; 1 = Yes)\n",
        "- Pclass: Socio-economic class (1 = Upper class; 2 = Middle class; 3 = Lower class)\n",
        "- Name: Name of passenger\n",
        "- Sex: Sex of the passenger\n",
        "- Age: Age of the passenger (Some entries contain NaN)\n",
        "- SibSp: Number of siblings and spouses of the passenger aboard\n",
        "- Parch: Number of parents and children of the passenger aboard\n",
        "- Ticket: Ticket number of the passenger\n",
        "- Fare: Fare paid by the passenger\n",
        "- Cabin Cabin number of the passenger (Some entries contain NaN)\n",
        "- Embarked: Port of embarkation of the passenger (C = Cherbourg; Q = Queenstown; S = Southampton)"
      ]
    },
    {
      "cell_type": "markdown",
      "metadata": {
        "id": "Gs_rsFPlYElk",
        "colab_type": "text"
      },
      "source": [
        "Understanding Variables those are obviously not required to predict the survival:\n",
        "- 1.Passenger ID: Just a randon number\n",
        "- 2.Name: Name has no significance with respect to getting survived\n",
        "- 3.Ticket: A random number\n",
        "- 4.Cabin: Cabin number does not add any significance in getting rescued. Moreover, this predictor is apprx. 70% sparse. \n",
        "\n",
        "I'm going forward with Embarked field which has 2 empty entries."
      ]
    },
    {
      "cell_type": "code",
      "metadata": {
        "id": "Y-q2ofsAYCuN",
        "colab_type": "code",
        "colab": {}
      },
      "source": [
        "titanic_new_df = titanic_df.drop(['PassengerId', 'Name', 'Ticket', 'Cabin'], axis = 1) #dropping the fields mentioned above"
      ],
      "execution_count": 0,
      "outputs": []
    },
    {
      "cell_type": "code",
      "metadata": {
        "id": "x_iar5kvYJuU",
        "colab_type": "code",
        "outputId": "7c805657-11b3-4d52-b821-03c3d5979ac5",
        "colab": {
          "base_uri": "https://localhost:8080/",
          "height": 284
        }
      },
      "source": [
        "titanic_new_df.info()"
      ],
      "execution_count": 0,
      "outputs": [
        {
          "output_type": "stream",
          "text": [
            "<class 'pandas.core.frame.DataFrame'>\n",
            "RangeIndex: 891 entries, 0 to 890\n",
            "Data columns (total 8 columns):\n",
            " #   Column    Non-Null Count  Dtype  \n",
            "---  ------    --------------  -----  \n",
            " 0   Survived  891 non-null    int64  \n",
            " 1   Pclass    891 non-null    int64  \n",
            " 2   Sex       891 non-null    object \n",
            " 3   Age       714 non-null    float64\n",
            " 4   SibSp     891 non-null    int64  \n",
            " 5   Parch     891 non-null    int64  \n",
            " 6   Fare      891 non-null    float64\n",
            " 7   Embarked  889 non-null    object \n",
            "dtypes: float64(2), int64(4), object(2)\n",
            "memory usage: 55.8+ KB\n"
          ],
          "name": "stdout"
        }
      ]
    },
    {
      "cell_type": "code",
      "metadata": {
        "id": "-pWvINw_YK2Q",
        "colab_type": "code",
        "outputId": "2624a9a2-254f-4e28-85a1-5bf60068a1bb",
        "colab": {
          "base_uri": "https://localhost:8080/",
          "height": 352
        }
      },
      "source": [
        "titanic_new_df.head(10) #observe the 6th record with NaN under Age column"
      ],
      "execution_count": 0,
      "outputs": [
        {
          "output_type": "execute_result",
          "data": {
            "text/html": [
              "<div>\n",
              "<style scoped>\n",
              "    .dataframe tbody tr th:only-of-type {\n",
              "        vertical-align: middle;\n",
              "    }\n",
              "\n",
              "    .dataframe tbody tr th {\n",
              "        vertical-align: top;\n",
              "    }\n",
              "\n",
              "    .dataframe thead th {\n",
              "        text-align: right;\n",
              "    }\n",
              "</style>\n",
              "<table border=\"1\" class=\"dataframe\">\n",
              "  <thead>\n",
              "    <tr style=\"text-align: right;\">\n",
              "      <th></th>\n",
              "      <th>Survived</th>\n",
              "      <th>Pclass</th>\n",
              "      <th>Sex</th>\n",
              "      <th>Age</th>\n",
              "      <th>SibSp</th>\n",
              "      <th>Parch</th>\n",
              "      <th>Fare</th>\n",
              "      <th>Embarked</th>\n",
              "    </tr>\n",
              "  </thead>\n",
              "  <tbody>\n",
              "    <tr>\n",
              "      <th>0</th>\n",
              "      <td>0</td>\n",
              "      <td>3</td>\n",
              "      <td>male</td>\n",
              "      <td>22.0</td>\n",
              "      <td>1</td>\n",
              "      <td>0</td>\n",
              "      <td>7.2500</td>\n",
              "      <td>S</td>\n",
              "    </tr>\n",
              "    <tr>\n",
              "      <th>1</th>\n",
              "      <td>1</td>\n",
              "      <td>1</td>\n",
              "      <td>female</td>\n",
              "      <td>38.0</td>\n",
              "      <td>1</td>\n",
              "      <td>0</td>\n",
              "      <td>71.2833</td>\n",
              "      <td>C</td>\n",
              "    </tr>\n",
              "    <tr>\n",
              "      <th>2</th>\n",
              "      <td>1</td>\n",
              "      <td>3</td>\n",
              "      <td>female</td>\n",
              "      <td>26.0</td>\n",
              "      <td>0</td>\n",
              "      <td>0</td>\n",
              "      <td>7.9250</td>\n",
              "      <td>S</td>\n",
              "    </tr>\n",
              "    <tr>\n",
              "      <th>3</th>\n",
              "      <td>1</td>\n",
              "      <td>1</td>\n",
              "      <td>female</td>\n",
              "      <td>35.0</td>\n",
              "      <td>1</td>\n",
              "      <td>0</td>\n",
              "      <td>53.1000</td>\n",
              "      <td>S</td>\n",
              "    </tr>\n",
              "    <tr>\n",
              "      <th>4</th>\n",
              "      <td>0</td>\n",
              "      <td>3</td>\n",
              "      <td>male</td>\n",
              "      <td>35.0</td>\n",
              "      <td>0</td>\n",
              "      <td>0</td>\n",
              "      <td>8.0500</td>\n",
              "      <td>S</td>\n",
              "    </tr>\n",
              "    <tr>\n",
              "      <th>5</th>\n",
              "      <td>0</td>\n",
              "      <td>3</td>\n",
              "      <td>male</td>\n",
              "      <td>NaN</td>\n",
              "      <td>0</td>\n",
              "      <td>0</td>\n",
              "      <td>8.4583</td>\n",
              "      <td>Q</td>\n",
              "    </tr>\n",
              "    <tr>\n",
              "      <th>6</th>\n",
              "      <td>0</td>\n",
              "      <td>1</td>\n",
              "      <td>male</td>\n",
              "      <td>54.0</td>\n",
              "      <td>0</td>\n",
              "      <td>0</td>\n",
              "      <td>51.8625</td>\n",
              "      <td>S</td>\n",
              "    </tr>\n",
              "    <tr>\n",
              "      <th>7</th>\n",
              "      <td>0</td>\n",
              "      <td>3</td>\n",
              "      <td>male</td>\n",
              "      <td>2.0</td>\n",
              "      <td>3</td>\n",
              "      <td>1</td>\n",
              "      <td>21.0750</td>\n",
              "      <td>S</td>\n",
              "    </tr>\n",
              "    <tr>\n",
              "      <th>8</th>\n",
              "      <td>1</td>\n",
              "      <td>3</td>\n",
              "      <td>female</td>\n",
              "      <td>27.0</td>\n",
              "      <td>0</td>\n",
              "      <td>2</td>\n",
              "      <td>11.1333</td>\n",
              "      <td>S</td>\n",
              "    </tr>\n",
              "    <tr>\n",
              "      <th>9</th>\n",
              "      <td>1</td>\n",
              "      <td>2</td>\n",
              "      <td>female</td>\n",
              "      <td>14.0</td>\n",
              "      <td>1</td>\n",
              "      <td>0</td>\n",
              "      <td>30.0708</td>\n",
              "      <td>C</td>\n",
              "    </tr>\n",
              "  </tbody>\n",
              "</table>\n",
              "</div>"
            ],
            "text/plain": [
              "   Survived  Pclass     Sex   Age  SibSp  Parch     Fare Embarked\n",
              "0         0       3    male  22.0      1      0   7.2500        S\n",
              "1         1       1  female  38.0      1      0  71.2833        C\n",
              "2         1       3  female  26.0      0      0   7.9250        S\n",
              "3         1       1  female  35.0      1      0  53.1000        S\n",
              "4         0       3    male  35.0      0      0   8.0500        S\n",
              "5         0       3    male   NaN      0      0   8.4583        Q\n",
              "6         0       1    male  54.0      0      0  51.8625        S\n",
              "7         0       3    male   2.0      3      1  21.0750        S\n",
              "8         1       3  female  27.0      0      2  11.1333        S\n",
              "9         1       2  female  14.0      1      0  30.0708        C"
            ]
          },
          "metadata": {
            "tags": []
          },
          "execution_count": 7
        }
      ]
    },
    {
      "cell_type": "code",
      "metadata": {
        "id": "yOxBA8wIYMSg",
        "colab_type": "code",
        "outputId": "db172951-d9a7-44d0-82c5-7bbfee1a189d",
        "colab": {
          "base_uri": "https://localhost:8080/",
          "height": 35
        }
      },
      "source": [
        "titanic_new_df['Age'].median() # Calculating the Median (Though this step was not needed, I was curious)"
      ],
      "execution_count": 0,
      "outputs": [
        {
          "output_type": "execute_result",
          "data": {
            "text/plain": [
              "28.0"
            ]
          },
          "metadata": {
            "tags": []
          },
          "execution_count": 8
        }
      ]
    },
    {
      "cell_type": "code",
      "metadata": {
        "id": "u2KfngyaYNiS",
        "colab_type": "code",
        "colab": {}
      },
      "source": [
        "titanic_new_df['Age'].fillna((titanic_new_df['Age'].median()), inplace=True) #To fill the NaN values under Age with Median"
      ],
      "execution_count": 0,
      "outputs": []
    },
    {
      "cell_type": "code",
      "metadata": {
        "id": "Rf-faOvfYOie",
        "colab_type": "code",
        "outputId": "2663ad83-c413-4cfb-da80-8add1d580f9d",
        "colab": {
          "base_uri": "https://localhost:8080/",
          "height": 352
        }
      },
      "source": [
        "titanic_new_df.head(10) #observe the Age taking median values where it was NaN earlier"
      ],
      "execution_count": 0,
      "outputs": [
        {
          "output_type": "execute_result",
          "data": {
            "text/html": [
              "<div>\n",
              "<style scoped>\n",
              "    .dataframe tbody tr th:only-of-type {\n",
              "        vertical-align: middle;\n",
              "    }\n",
              "\n",
              "    .dataframe tbody tr th {\n",
              "        vertical-align: top;\n",
              "    }\n",
              "\n",
              "    .dataframe thead th {\n",
              "        text-align: right;\n",
              "    }\n",
              "</style>\n",
              "<table border=\"1\" class=\"dataframe\">\n",
              "  <thead>\n",
              "    <tr style=\"text-align: right;\">\n",
              "      <th></th>\n",
              "      <th>Survived</th>\n",
              "      <th>Pclass</th>\n",
              "      <th>Sex</th>\n",
              "      <th>Age</th>\n",
              "      <th>SibSp</th>\n",
              "      <th>Parch</th>\n",
              "      <th>Fare</th>\n",
              "      <th>Embarked</th>\n",
              "    </tr>\n",
              "  </thead>\n",
              "  <tbody>\n",
              "    <tr>\n",
              "      <th>0</th>\n",
              "      <td>0</td>\n",
              "      <td>3</td>\n",
              "      <td>male</td>\n",
              "      <td>22.0</td>\n",
              "      <td>1</td>\n",
              "      <td>0</td>\n",
              "      <td>7.2500</td>\n",
              "      <td>S</td>\n",
              "    </tr>\n",
              "    <tr>\n",
              "      <th>1</th>\n",
              "      <td>1</td>\n",
              "      <td>1</td>\n",
              "      <td>female</td>\n",
              "      <td>38.0</td>\n",
              "      <td>1</td>\n",
              "      <td>0</td>\n",
              "      <td>71.2833</td>\n",
              "      <td>C</td>\n",
              "    </tr>\n",
              "    <tr>\n",
              "      <th>2</th>\n",
              "      <td>1</td>\n",
              "      <td>3</td>\n",
              "      <td>female</td>\n",
              "      <td>26.0</td>\n",
              "      <td>0</td>\n",
              "      <td>0</td>\n",
              "      <td>7.9250</td>\n",
              "      <td>S</td>\n",
              "    </tr>\n",
              "    <tr>\n",
              "      <th>3</th>\n",
              "      <td>1</td>\n",
              "      <td>1</td>\n",
              "      <td>female</td>\n",
              "      <td>35.0</td>\n",
              "      <td>1</td>\n",
              "      <td>0</td>\n",
              "      <td>53.1000</td>\n",
              "      <td>S</td>\n",
              "    </tr>\n",
              "    <tr>\n",
              "      <th>4</th>\n",
              "      <td>0</td>\n",
              "      <td>3</td>\n",
              "      <td>male</td>\n",
              "      <td>35.0</td>\n",
              "      <td>0</td>\n",
              "      <td>0</td>\n",
              "      <td>8.0500</td>\n",
              "      <td>S</td>\n",
              "    </tr>\n",
              "    <tr>\n",
              "      <th>5</th>\n",
              "      <td>0</td>\n",
              "      <td>3</td>\n",
              "      <td>male</td>\n",
              "      <td>28.0</td>\n",
              "      <td>0</td>\n",
              "      <td>0</td>\n",
              "      <td>8.4583</td>\n",
              "      <td>Q</td>\n",
              "    </tr>\n",
              "    <tr>\n",
              "      <th>6</th>\n",
              "      <td>0</td>\n",
              "      <td>1</td>\n",
              "      <td>male</td>\n",
              "      <td>54.0</td>\n",
              "      <td>0</td>\n",
              "      <td>0</td>\n",
              "      <td>51.8625</td>\n",
              "      <td>S</td>\n",
              "    </tr>\n",
              "    <tr>\n",
              "      <th>7</th>\n",
              "      <td>0</td>\n",
              "      <td>3</td>\n",
              "      <td>male</td>\n",
              "      <td>2.0</td>\n",
              "      <td>3</td>\n",
              "      <td>1</td>\n",
              "      <td>21.0750</td>\n",
              "      <td>S</td>\n",
              "    </tr>\n",
              "    <tr>\n",
              "      <th>8</th>\n",
              "      <td>1</td>\n",
              "      <td>3</td>\n",
              "      <td>female</td>\n",
              "      <td>27.0</td>\n",
              "      <td>0</td>\n",
              "      <td>2</td>\n",
              "      <td>11.1333</td>\n",
              "      <td>S</td>\n",
              "    </tr>\n",
              "    <tr>\n",
              "      <th>9</th>\n",
              "      <td>1</td>\n",
              "      <td>2</td>\n",
              "      <td>female</td>\n",
              "      <td>14.0</td>\n",
              "      <td>1</td>\n",
              "      <td>0</td>\n",
              "      <td>30.0708</td>\n",
              "      <td>C</td>\n",
              "    </tr>\n",
              "  </tbody>\n",
              "</table>\n",
              "</div>"
            ],
            "text/plain": [
              "   Survived  Pclass     Sex   Age  SibSp  Parch     Fare Embarked\n",
              "0         0       3    male  22.0      1      0   7.2500        S\n",
              "1         1       1  female  38.0      1      0  71.2833        C\n",
              "2         1       3  female  26.0      0      0   7.9250        S\n",
              "3         1       1  female  35.0      1      0  53.1000        S\n",
              "4         0       3    male  35.0      0      0   8.0500        S\n",
              "5         0       3    male  28.0      0      0   8.4583        Q\n",
              "6         0       1    male  54.0      0      0  51.8625        S\n",
              "7         0       3    male   2.0      3      1  21.0750        S\n",
              "8         1       3  female  27.0      0      2  11.1333        S\n",
              "9         1       2  female  14.0      1      0  30.0708        C"
            ]
          },
          "metadata": {
            "tags": []
          },
          "execution_count": 10
        }
      ]
    },
    {
      "cell_type": "code",
      "metadata": {
        "id": "HXgfoSJoYPk1",
        "colab_type": "code",
        "outputId": "684abe14-825f-42e2-a5b8-7c259814b819",
        "colab": {
          "base_uri": "https://localhost:8080/",
          "height": 284
        }
      },
      "source": [
        "titanic_new_df.info() #checking if there are no missing values, except for those in Embarked column "
      ],
      "execution_count": 0,
      "outputs": [
        {
          "output_type": "stream",
          "text": [
            "<class 'pandas.core.frame.DataFrame'>\n",
            "RangeIndex: 891 entries, 0 to 890\n",
            "Data columns (total 8 columns):\n",
            " #   Column    Non-Null Count  Dtype  \n",
            "---  ------    --------------  -----  \n",
            " 0   Survived  891 non-null    int64  \n",
            " 1   Pclass    891 non-null    int64  \n",
            " 2   Sex       891 non-null    object \n",
            " 3   Age       891 non-null    float64\n",
            " 4   SibSp     891 non-null    int64  \n",
            " 5   Parch     891 non-null    int64  \n",
            " 6   Fare      891 non-null    float64\n",
            " 7   Embarked  889 non-null    object \n",
            "dtypes: float64(2), int64(4), object(2)\n",
            "memory usage: 55.8+ KB\n"
          ],
          "name": "stdout"
        }
      ]
    },
    {
      "cell_type": "code",
      "metadata": {
        "id": "9_XFkRKWYQmK",
        "colab_type": "code",
        "colab": {}
      },
      "source": [
        "titanic_new2_df = pd.get_dummies(titanic_new_df, columns=['Sex', 'Embarked'])"
      ],
      "execution_count": 0,
      "outputs": []
    },
    {
      "cell_type": "code",
      "metadata": {
        "id": "oe-DwVWFYRyp",
        "colab_type": "code",
        "outputId": "5a904f06-40db-4cc0-c227-dfa1f22692b1",
        "colab": {
          "base_uri": "https://localhost:8080/",
          "height": 261
        }
      },
      "source": [
        "titanic_new2_df.head(7)"
      ],
      "execution_count": 0,
      "outputs": [
        {
          "output_type": "execute_result",
          "data": {
            "text/html": [
              "<div>\n",
              "<style scoped>\n",
              "    .dataframe tbody tr th:only-of-type {\n",
              "        vertical-align: middle;\n",
              "    }\n",
              "\n",
              "    .dataframe tbody tr th {\n",
              "        vertical-align: top;\n",
              "    }\n",
              "\n",
              "    .dataframe thead th {\n",
              "        text-align: right;\n",
              "    }\n",
              "</style>\n",
              "<table border=\"1\" class=\"dataframe\">\n",
              "  <thead>\n",
              "    <tr style=\"text-align: right;\">\n",
              "      <th></th>\n",
              "      <th>Survived</th>\n",
              "      <th>Pclass</th>\n",
              "      <th>Age</th>\n",
              "      <th>SibSp</th>\n",
              "      <th>Parch</th>\n",
              "      <th>Fare</th>\n",
              "      <th>Sex_female</th>\n",
              "      <th>Sex_male</th>\n",
              "      <th>Embarked_C</th>\n",
              "      <th>Embarked_Q</th>\n",
              "      <th>Embarked_S</th>\n",
              "    </tr>\n",
              "  </thead>\n",
              "  <tbody>\n",
              "    <tr>\n",
              "      <th>0</th>\n",
              "      <td>0</td>\n",
              "      <td>3</td>\n",
              "      <td>22.0</td>\n",
              "      <td>1</td>\n",
              "      <td>0</td>\n",
              "      <td>7.2500</td>\n",
              "      <td>0</td>\n",
              "      <td>1</td>\n",
              "      <td>0</td>\n",
              "      <td>0</td>\n",
              "      <td>1</td>\n",
              "    </tr>\n",
              "    <tr>\n",
              "      <th>1</th>\n",
              "      <td>1</td>\n",
              "      <td>1</td>\n",
              "      <td>38.0</td>\n",
              "      <td>1</td>\n",
              "      <td>0</td>\n",
              "      <td>71.2833</td>\n",
              "      <td>1</td>\n",
              "      <td>0</td>\n",
              "      <td>1</td>\n",
              "      <td>0</td>\n",
              "      <td>0</td>\n",
              "    </tr>\n",
              "    <tr>\n",
              "      <th>2</th>\n",
              "      <td>1</td>\n",
              "      <td>3</td>\n",
              "      <td>26.0</td>\n",
              "      <td>0</td>\n",
              "      <td>0</td>\n",
              "      <td>7.9250</td>\n",
              "      <td>1</td>\n",
              "      <td>0</td>\n",
              "      <td>0</td>\n",
              "      <td>0</td>\n",
              "      <td>1</td>\n",
              "    </tr>\n",
              "    <tr>\n",
              "      <th>3</th>\n",
              "      <td>1</td>\n",
              "      <td>1</td>\n",
              "      <td>35.0</td>\n",
              "      <td>1</td>\n",
              "      <td>0</td>\n",
              "      <td>53.1000</td>\n",
              "      <td>1</td>\n",
              "      <td>0</td>\n",
              "      <td>0</td>\n",
              "      <td>0</td>\n",
              "      <td>1</td>\n",
              "    </tr>\n",
              "    <tr>\n",
              "      <th>4</th>\n",
              "      <td>0</td>\n",
              "      <td>3</td>\n",
              "      <td>35.0</td>\n",
              "      <td>0</td>\n",
              "      <td>0</td>\n",
              "      <td>8.0500</td>\n",
              "      <td>0</td>\n",
              "      <td>1</td>\n",
              "      <td>0</td>\n",
              "      <td>0</td>\n",
              "      <td>1</td>\n",
              "    </tr>\n",
              "    <tr>\n",
              "      <th>5</th>\n",
              "      <td>0</td>\n",
              "      <td>3</td>\n",
              "      <td>28.0</td>\n",
              "      <td>0</td>\n",
              "      <td>0</td>\n",
              "      <td>8.4583</td>\n",
              "      <td>0</td>\n",
              "      <td>1</td>\n",
              "      <td>0</td>\n",
              "      <td>1</td>\n",
              "      <td>0</td>\n",
              "    </tr>\n",
              "    <tr>\n",
              "      <th>6</th>\n",
              "      <td>0</td>\n",
              "      <td>1</td>\n",
              "      <td>54.0</td>\n",
              "      <td>0</td>\n",
              "      <td>0</td>\n",
              "      <td>51.8625</td>\n",
              "      <td>0</td>\n",
              "      <td>1</td>\n",
              "      <td>0</td>\n",
              "      <td>0</td>\n",
              "      <td>1</td>\n",
              "    </tr>\n",
              "  </tbody>\n",
              "</table>\n",
              "</div>"
            ],
            "text/plain": [
              "   Survived  Pclass   Age  SibSp  ...  Sex_male  Embarked_C  Embarked_Q  Embarked_S\n",
              "0         0       3  22.0      1  ...         1           0           0           1\n",
              "1         1       1  38.0      1  ...         0           1           0           0\n",
              "2         1       3  26.0      0  ...         0           0           0           1\n",
              "3         1       1  35.0      1  ...         0           0           0           1\n",
              "4         0       3  35.0      0  ...         1           0           0           1\n",
              "5         0       3  28.0      0  ...         1           0           1           0\n",
              "6         0       1  54.0      0  ...         1           0           0           1\n",
              "\n",
              "[7 rows x 11 columns]"
            ]
          },
          "metadata": {
            "tags": []
          },
          "execution_count": 13
        }
      ]
    },
    {
      "cell_type": "markdown",
      "metadata": {
        "id": "uxmbaU81YT-P",
        "colab_type": "text"
      },
      "source": [
        "Uptill now, we have imported the Titanic dataset and have replaced NaN values under 'Age' with the Median values. We have also dropped few fields like 'Name', 'PassengerID', 'Ticket', 'Cabin' which had so real significance in dictating survival of a person. We have also one-hot encoded the Gender and Embarked predictors.\n"
      ]
    },
    {
      "cell_type": "code",
      "metadata": {
        "id": "S2v2SLk2YS1b",
        "colab_type": "code",
        "colab": {}
      },
      "source": [
        "X_train, X_test, Y_train, Y_test = train_test_split(titanic_new2_df.drop(\"Survived\", axis=1), titanic_new2_df['Survived'], test_size = 0.2,\\\n",
        "random_state=44) #taking 'Survived' as the Output/Target variable"
      ],
      "execution_count": 0,
      "outputs": []
    },
    {
      "cell_type": "code",
      "metadata": {
        "id": "mwDGMTZnYVUs",
        "colab_type": "code",
        "outputId": "2c4dc07c-7c5d-413a-e6c2-e0a62ea6a6e2",
        "colab": {
          "base_uri": "https://localhost:8080/",
          "height": 35
        }
      },
      "source": [
        "X_test.shape "
      ],
      "execution_count": 0,
      "outputs": [
        {
          "output_type": "execute_result",
          "data": {
            "text/plain": [
              "(179, 10)"
            ]
          },
          "metadata": {
            "tags": []
          },
          "execution_count": 15
        }
      ]
    },
    {
      "cell_type": "code",
      "metadata": {
        "id": "tmCZtH7HYWPz",
        "colab_type": "code",
        "colab": {}
      },
      "source": [
        "logit = LogisticRegression() #creating a Logistic Regression model'Logit'"
      ],
      "execution_count": 0,
      "outputs": []
    },
    {
      "cell_type": "code",
      "metadata": {
        "id": "Hal-Cj3nYXQL",
        "colab_type": "code",
        "outputId": "09384bf3-8077-4184-d502-0e02f7060614",
        "colab": {
          "base_uri": "https://localhost:8080/",
          "height": 268
        }
      },
      "source": [
        "logit.fit(X_train, Y_train) #fitting the model"
      ],
      "execution_count": 0,
      "outputs": [
        {
          "output_type": "stream",
          "text": [
            "/usr/local/lib/python3.6/dist-packages/sklearn/linear_model/_logistic.py:940: ConvergenceWarning: lbfgs failed to converge (status=1):\n",
            "STOP: TOTAL NO. of ITERATIONS REACHED LIMIT.\n",
            "\n",
            "Increase the number of iterations (max_iter) or scale the data as shown in:\n",
            "    https://scikit-learn.org/stable/modules/preprocessing.html\n",
            "Please also refer to the documentation for alternative solver options:\n",
            "    https://scikit-learn.org/stable/modules/linear_model.html#logistic-regression\n",
            "  extra_warning_msg=_LOGISTIC_SOLVER_CONVERGENCE_MSG)\n"
          ],
          "name": "stderr"
        },
        {
          "output_type": "execute_result",
          "data": {
            "text/plain": [
              "LogisticRegression(C=1.0, class_weight=None, dual=False, fit_intercept=True,\n",
              "                   intercept_scaling=1, l1_ratio=None, max_iter=100,\n",
              "                   multi_class='auto', n_jobs=None, penalty='l2',\n",
              "                   random_state=None, solver='lbfgs', tol=0.0001, verbose=0,\n",
              "                   warm_start=False)"
            ]
          },
          "metadata": {
            "tags": []
          },
          "execution_count": 17
        }
      ]
    },
    {
      "cell_type": "code",
      "metadata": {
        "id": "kYO6QclaYYDH",
        "colab_type": "code",
        "outputId": "b7149a81-0d0a-4fff-aacf-7cfd243c5bb8",
        "colab": {
          "base_uri": "https://localhost:8080/",
          "height": 35
        }
      },
      "source": [
        "logit.classes_"
      ],
      "execution_count": 0,
      "outputs": [
        {
          "output_type": "execute_result",
          "data": {
            "text/plain": [
              "array([0, 1])"
            ]
          },
          "metadata": {
            "tags": []
          },
          "execution_count": 18
        }
      ]
    },
    {
      "cell_type": "code",
      "metadata": {
        "id": "jJLgGJPnYZHP",
        "colab_type": "code",
        "outputId": "3be193fd-0892-4402-ad5f-0a67fbc2e8e2",
        "colab": {
          "base_uri": "https://localhost:8080/",
          "height": 88
        }
      },
      "source": [
        "logit.coef_"
      ],
      "execution_count": 0,
      "outputs": [
        {
          "output_type": "execute_result",
          "data": {
            "text/plain": [
              "array([[-1.20642981e+00, -3.95584837e-02, -2.28868212e-01,\n",
              "        -3.30241484e-02,  1.69493511e-03,  2.34709432e+00,\n",
              "        -4.10660404e-01,  6.50017133e-01,  9.41595347e-01,\n",
              "         3.44821439e-01]])"
            ]
          },
          "metadata": {
            "tags": []
          },
          "execution_count": 19
        }
      ]
    },
    {
      "cell_type": "code",
      "metadata": {
        "id": "kYPAKSfGYZ3w",
        "colab_type": "code",
        "outputId": "c00ea740-901a-4fbd-e3dd-77644405aa3b",
        "colab": {
          "base_uri": "https://localhost:8080/",
          "height": 177
        }
      },
      "source": [
        "logit.predict(X_test) "
      ],
      "execution_count": 0,
      "outputs": [
        {
          "output_type": "execute_result",
          "data": {
            "text/plain": [
              "array([0, 0, 1, 1, 1, 0, 0, 0, 0, 0, 0, 0, 1, 0, 0, 1, 0, 1, 1, 0, 0, 0,\n",
              "       1, 1, 0, 0, 0, 0, 1, 1, 1, 1, 1, 0, 0, 1, 0, 1, 0, 1, 1, 0, 1, 0,\n",
              "       0, 0, 0, 0, 1, 0, 1, 0, 0, 1, 1, 0, 0, 0, 0, 1, 1, 0, 1, 1, 0, 0,\n",
              "       0, 1, 0, 0, 1, 1, 0, 0, 1, 0, 0, 0, 0, 1, 0, 0, 0, 0, 0, 1, 0, 1,\n",
              "       1, 1, 1, 0, 1, 1, 1, 1, 0, 1, 0, 1, 0, 0, 1, 0, 0, 0, 1, 0, 1, 1,\n",
              "       0, 1, 0, 0, 1, 1, 1, 1, 0, 1, 0, 1, 0, 0, 0, 1, 1, 1, 0, 0, 0, 0,\n",
              "       0, 0, 0, 0, 1, 0, 1, 1, 0, 0, 0, 0, 0, 1, 1, 1, 0, 0, 0, 0, 1, 1,\n",
              "       1, 0, 0, 0, 0, 1, 0, 1, 0, 0, 0, 0, 0, 1, 1, 0, 0, 1, 0, 0, 1, 1,\n",
              "       1, 0, 1])"
            ]
          },
          "metadata": {
            "tags": []
          },
          "execution_count": 20
        }
      ]
    },
    {
      "cell_type": "code",
      "metadata": {
        "id": "xzif8HDTYa37",
        "colab_type": "code",
        "outputId": "74ec8dbc-fccf-4e5b-d595-7772de3f5e4d",
        "colab": {
          "base_uri": "https://localhost:8080/",
          "height": 35
        }
      },
      "source": [
        "logit.score(X_test, Y_test) #this shows the mean accuracy in the predictions. "
      ],
      "execution_count": 0,
      "outputs": [
        {
          "output_type": "execute_result",
          "data": {
            "text/plain": [
              "0.7318435754189944"
            ]
          },
          "metadata": {
            "tags": []
          },
          "execution_count": 21
        }
      ]
    },
    {
      "cell_type": "markdown",
      "metadata": {
        "id": "F2_5_y9SYc-E",
        "colab_type": "text"
      },
      "source": [
        "Uptill now, we have split the entire dataset into Test and Train at 20 - 80%. We've also selected and dropped 'Survival' as the output/ target variable. We've created a logistic Regression model and fed it with Train dataset. We've then predicted the survival percentage of the Test dataset; which is 74.86%. This infers, the model can predict 74.86 times correctly out of 100 chances, given all the predictors values.\n"
      ]
    },
    {
      "cell_type": "code",
      "metadata": {
        "id": "Lc2uggdEYb_m",
        "colab_type": "code",
        "colab": {}
      },
      "source": [
        "#Now deep diving with Statsmodel\n",
        "X_train = sm.add_constant(X_train)"
      ],
      "execution_count": 0,
      "outputs": []
    },
    {
      "cell_type": "code",
      "metadata": {
        "id": "jnMmybGWYhr3",
        "colab_type": "code",
        "outputId": "91844923-61ed-4e2b-b856-b2f400401d0a",
        "colab": {
          "base_uri": "https://localhost:8080/",
          "height": 124
        }
      },
      "source": [
        "Y_train.head()"
      ],
      "execution_count": 0,
      "outputs": [
        {
          "output_type": "execute_result",
          "data": {
            "text/plain": [
              "62     0\n",
              "847    0\n",
              "511    0\n",
              "187    1\n",
              "833    0\n",
              "Name: Survived, dtype: int64"
            ]
          },
          "metadata": {
            "tags": []
          },
          "execution_count": 23
        }
      ]
    },
    {
      "cell_type": "code",
      "metadata": {
        "id": "RFRpaW4BYijs",
        "colab_type": "code",
        "colab": {}
      },
      "source": [
        "logit = sm.GLM(Y_train, X_train, family=sm.families.Binomial())"
      ],
      "execution_count": 0,
      "outputs": []
    },
    {
      "cell_type": "code",
      "metadata": {
        "id": "82nKcEgwYjh8",
        "colab_type": "code",
        "colab": {}
      },
      "source": [
        "result = logit.fit()"
      ],
      "execution_count": 0,
      "outputs": []
    },
    {
      "cell_type": "code",
      "metadata": {
        "id": "0KkUfq3OYkTd",
        "colab_type": "code",
        "outputId": "d865304f-0072-4218-b46f-f6d3e3096606",
        "colab": {
          "base_uri": "https://localhost:8080/",
          "height": 479
        }
      },
      "source": [
        "print(result.summary())"
      ],
      "execution_count": 0,
      "outputs": [
        {
          "output_type": "stream",
          "text": [
            "                 Generalized Linear Model Regression Results                  \n",
            "==============================================================================\n",
            "Dep. Variable:               Survived   No. Observations:                  712\n",
            "Model:                            GLM   Df Residuals:                      703\n",
            "Model Family:                Binomial   Df Model:                            8\n",
            "Link Function:                  logit   Scale:                          1.0000\n",
            "Method:                          IRLS   Log-Likelihood:                -297.09\n",
            "Date:                Wed, 06 May 2020   Deviance:                       594.18\n",
            "Time:                        00:28:33   Pearson chi2:                     735.\n",
            "No. Iterations:                     5                                         \n",
            "Covariance Type:            nonrobust                                         \n",
            "==============================================================================\n",
            "                 coef    std err          z      P>|z|      [0.025      0.975]\n",
            "------------------------------------------------------------------------------\n",
            "const          2.3599      0.336      7.031      0.000       1.702       3.018\n",
            "Pclass        -1.2969      0.170     -7.643      0.000      -1.629      -0.964\n",
            "Age           -0.0435      0.009     -4.751      0.000      -0.061      -0.026\n",
            "SibSp         -0.2397      0.125     -1.918      0.055      -0.485       0.005\n",
            "Parch         -0.0196      0.135     -0.145      0.885      -0.284       0.245\n",
            "Fare           0.0010      0.003      0.346      0.730      -0.005       0.006\n",
            "Sex_female     2.6075      0.225     11.584      0.000       2.166       3.049\n",
            "Sex_male      -0.2477      0.179     -1.385      0.166      -0.598       0.103\n",
            "Embarked_C     0.7762      0.222      3.493      0.000       0.341       1.212\n",
            "Embarked_Q     1.1103      0.304      3.650      0.000       0.514       1.706\n",
            "Embarked_S     0.4734      0.171      2.774      0.006       0.139       0.808\n",
            "==============================================================================\n"
          ],
          "name": "stdout"
        }
      ]
    },
    {
      "cell_type": "markdown",
      "metadata": {
        "id": "yidu6jueYmR4",
        "colab_type": "text"
      },
      "source": [
        "Interpretation:\n",
        "\n",
        "P Values:\n",
        "\n",
        "Values larger than 0.05 results to less dependency on the target variable. For instance, Parch, Fare, Sex_Male significantly exceed the limit and have less effect on Survival as compared to the other variables"
      ]
    },
    {
      "cell_type": "code",
      "metadata": {
        "id": "bb4d_mxgYlDl",
        "colab_type": "code",
        "outputId": "3e7bdcf9-ea77-4214-b0bc-ae6d4b1d0c5b",
        "colab": {
          "base_uri": "https://localhost:8080/",
          "height": 479
        }
      },
      "source": [
        "print(result.summary2())"
      ],
      "execution_count": 0,
      "outputs": [
        {
          "output_type": "stream",
          "text": [
            "               Results: Generalized linear model\n",
            "===============================================================\n",
            "Model:              GLM              AIC:            612.1810  \n",
            "Link Function:      logit            BIC:            -4023.1777\n",
            "Dependent Variable: Survived         Log-Likelihood: -297.09   \n",
            "Date:               2020-05-06 00:28 LL-Null:        -472.04   \n",
            "No. Observations:   712              Deviance:       594.18    \n",
            "Df Model:           8                Pearson chi2:   735.      \n",
            "Df Residuals:       703              Scale:          1.0000    \n",
            "Method:             IRLS                                       \n",
            "----------------------------------------------------------------\n",
            "             Coef.   Std.Err.     z     P>|z|    [0.025   0.975]\n",
            "----------------------------------------------------------------\n",
            "const        2.3599    0.3356   7.0310  0.0000   1.7020   3.0177\n",
            "Pclass      -1.2969    0.1697  -7.6435  0.0000  -1.6295  -0.9643\n",
            "Age         -0.0435    0.0092  -4.7510  0.0000  -0.0615  -0.0256\n",
            "SibSp       -0.2397    0.1249  -1.9184  0.0551  -0.4846   0.0052\n",
            "Parch       -0.0196    0.1350  -0.1449  0.8848  -0.2841   0.2450\n",
            "Fare         0.0010    0.0028   0.3458  0.7295  -0.0045   0.0065\n",
            "Sex_female   2.6075    0.2251  11.5836  0.0000   2.1663   3.0487\n",
            "Sex_male    -0.2477    0.1788  -1.3849  0.1661  -0.5982   0.1028\n",
            "Embarked_C   0.7762    0.2222   3.4931  0.0005   0.3407   1.2117\n",
            "Embarked_Q   1.1103    0.3042   3.6504  0.0003   0.5142   1.7064\n",
            "Embarked_S   0.4734    0.1706   2.7743  0.0055   0.1389   0.8078\n",
            "===============================================================\n",
            "\n"
          ],
          "name": "stdout"
        }
      ]
    },
    {
      "cell_type": "markdown",
      "metadata": {
        "id": "WZn3tgh6YpGX",
        "colab_type": "text"
      },
      "source": [
        "Interpretation:\n",
        "\n",
        "AIC : Its a measure of quality of model with respect to the predictors fitted. The lower number infers a better model (comparative). In this particular example, we can see AIC reducing as we remove less significant predictors.\n",
        "\n",
        "BIC : Similar to AIC, BIC is a measure to select the best performing model. Lower BIC is a good performing model.\n",
        "\n",
        "AIC is better in situations when a false negative finding would be considered more misleading than a false positive, and BIC is better in situations where a false positive is as misleading as, or more misleading than, a false negative.\n",
        "\n",
        "reference: https://www.methodology.psu.edu/resources/AIC-vs-BIC/\n"
      ]
    },
    {
      "cell_type": "code",
      "metadata": {
        "id": "kfSos4XAYnu1",
        "colab_type": "code",
        "outputId": "1c4b8e27-2c92-4757-de29-8d9dfa1f9bc3",
        "colab": {
          "base_uri": "https://localhost:8080/",
          "height": 230
        }
      },
      "source": [
        "result.params"
      ],
      "execution_count": 0,
      "outputs": [
        {
          "output_type": "execute_result",
          "data": {
            "text/plain": [
              "const         2.359868\n",
              "Pclass       -1.296899\n",
              "Age          -0.043517\n",
              "SibSp        -0.239701\n",
              "Parch        -0.019564\n",
              "Fare          0.000972\n",
              "Sex_female    2.607540\n",
              "Sex_male     -0.247672\n",
              "Embarked_C    0.776218\n",
              "Embarked_Q    1.110299\n",
              "Embarked_S    0.473351\n",
              "dtype: float64"
            ]
          },
          "metadata": {
            "tags": []
          },
          "execution_count": 28
        }
      ]
    },
    {
      "cell_type": "markdown",
      "metadata": {
        "id": "wIKZostuYsIy",
        "colab_type": "text"
      },
      "source": [
        "Interpretation:\n",
        "\n",
        "coefficients:\n",
        "\n",
        "1.Age: With every unit increase in Age (say an year), the log odds of Survival decreases by 0.0435\n",
        "\n",
        "2.Female: With every one increase in the female population, the log odds of survival increases by 2.607 times\n",
        "\n",
        "3.Male : With every one increase in the male population, the log odds of survival decreases by 0.2477 times\n",
        "\n",
        "Here '-ve' corrosponds to decrease and '+ve' corrosponds to increase"
      ]
    },
    {
      "cell_type": "code",
      "metadata": {
        "id": "gGOkO8WQYqte",
        "colab_type": "code",
        "outputId": "3e96b0d3-2d6f-46c6-f7c5-1095bcf2e18c",
        "colab": {
          "base_uri": "https://localhost:8080/",
          "height": 230
        }
      },
      "source": [
        "np.exp(result.params)"
      ],
      "execution_count": 0,
      "outputs": [
        {
          "output_type": "execute_result",
          "data": {
            "text/plain": [
              "const         10.589551\n",
              "Pclass         0.273378\n",
              "Age            0.957416\n",
              "SibSp          0.786863\n",
              "Parch          0.980626\n",
              "Fare           1.000972\n",
              "Sex_female    13.565632\n",
              "Sex_male       0.780616\n",
              "Embarked_C     2.173237\n",
              "Embarked_Q     3.035267\n",
              "Embarked_S     1.605364\n",
              "dtype: float64"
            ]
          },
          "metadata": {
            "tags": []
          },
          "execution_count": 29
        }
      ]
    },
    {
      "cell_type": "markdown",
      "metadata": {
        "id": "LmM3TUVKYxqa",
        "colab_type": "text"
      },
      "source": [
        "Instead of using Log odds, we can use exponential function to ease the understanding. Below are a few examples:\n",
        "\n",
        "1.With each increase in female in the ship, the chances of survival increases by 13.5 times\n",
        "\n",
        "2.with one increase in boarding from Queenstown, the survival chances increases by 3.03 times"
      ]
    },
    {
      "cell_type": "code",
      "metadata": {
        "id": "zQmt6mFjYwaU",
        "colab_type": "code",
        "outputId": "2f8187f5-a102-4679-fccc-6368472f139c",
        "colab": {
          "base_uri": "https://localhost:8080/",
          "height": 35
        }
      },
      "source": [
        "result.deviance"
      ],
      "execution_count": 0,
      "outputs": [
        {
          "output_type": "execute_result",
          "data": {
            "text/plain": [
              "594.1810307705837"
            ]
          },
          "metadata": {
            "tags": []
          },
          "execution_count": 30
        }
      ]
    },
    {
      "cell_type": "markdown",
      "metadata": {
        "id": "x31SglOeY1JE",
        "colab_type": "text"
      },
      "source": [
        "Deviance is a measure of goodness of fit of a model. Larger the number, the bad fit it is. This measure is critical when we are choosing between different models."
      ]
    },
    {
      "cell_type": "code",
      "metadata": {
        "id": "9pgoYeVcY0Nb",
        "colab_type": "code",
        "outputId": "b4291238-29ee-4c73-b904-c252be27ec53",
        "colab": {
          "base_uri": "https://localhost:8080/",
          "height": 35
        }
      },
      "source": [
        "result.aic"
      ],
      "execution_count": 0,
      "outputs": [
        {
          "output_type": "execute_result",
          "data": {
            "text/plain": [
              "612.1810307705837"
            ]
          },
          "metadata": {
            "tags": []
          },
          "execution_count": 31
        }
      ]
    },
    {
      "cell_type": "markdown",
      "metadata": {
        "id": "damS4DfiY33x",
        "colab_type": "text"
      },
      "source": [
        "\n",
        "\n",
        "AIC is also a comparative parameter which gives the meseaure of goodness of fit for different models. AIC also helps us to know how a model performs while taking a subset of predictors. This will be demonstrated below:\n",
        "\n",
        "\n",
        "\n",
        "\n",
        "\n",
        "\n",
        "Now, looking from the P values, we can observe Parch, Fare, Sex_male have lesser significance to surivial. Hence, dropping them one by one.\n"
      ]
    },
    {
      "cell_type": "code",
      "metadata": {
        "id": "j89j4eC3Y2a2",
        "colab_type": "code",
        "colab": {}
      },
      "source": [
        "X_train.drop(\"Parch\", axis=1, inplace=True)\n"
      ],
      "execution_count": 0,
      "outputs": []
    },
    {
      "cell_type": "code",
      "metadata": {
        "id": "T1J4lQfNY5SQ",
        "colab_type": "code",
        "outputId": "1ff2c212-5815-43a7-bd58-ca5dee06c022",
        "colab": {
          "base_uri": "https://localhost:8080/",
          "height": 461
        }
      },
      "source": [
        "print(sm.GLM(Y_train, X_train, family=sm.families.Binomial()).fit().summary2()) #observe how the AIC, BIC further decreased"
      ],
      "execution_count": 0,
      "outputs": [
        {
          "output_type": "stream",
          "text": [
            "               Results: Generalized linear model\n",
            "===============================================================\n",
            "Model:              GLM              AIC:            610.2021  \n",
            "Link Function:      logit            BIC:            -4029.7248\n",
            "Dependent Variable: Survived         Log-Likelihood: -297.10   \n",
            "Date:               2020-05-06 00:30 LL-Null:        -472.04   \n",
            "No. Observations:   712              Deviance:       594.20    \n",
            "Df Model:           7                Pearson chi2:   736.      \n",
            "Df Residuals:       704              Scale:          1.0000    \n",
            "Method:             IRLS                                       \n",
            "----------------------------------------------------------------\n",
            "             Coef.   Std.Err.     z     P>|z|    [0.025   0.975]\n",
            "----------------------------------------------------------------\n",
            "const        2.3613    0.3353   7.0415  0.0000   1.7040   3.0185\n",
            "Pclass      -1.2998    0.1684  -7.7175  0.0000  -1.6299  -0.9697\n",
            "Age         -0.0435    0.0092  -4.7499  0.0000  -0.0614  -0.0255\n",
            "SibSp       -0.2442    0.1212  -2.0141  0.0440  -0.4818  -0.0066\n",
            "Fare         0.0009    0.0027   0.3250  0.7452  -0.0045   0.0063\n",
            "Sex_female   2.6050    0.2243  11.6143  0.0000   2.1654   3.0446\n",
            "Sex_male    -0.2437    0.1767  -1.3796  0.1677  -0.5900   0.1025\n",
            "Embarked_C   0.7745    0.2218   3.4923  0.0005   0.3399   1.2092\n",
            "Embarked_Q   1.1148    0.3025   3.6855  0.0002   0.5220   1.7077\n",
            "Embarked_S   0.4719    0.1703   2.7708  0.0056   0.1381   0.8057\n",
            "===============================================================\n",
            "\n"
          ],
          "name": "stdout"
        }
      ]
    },
    {
      "cell_type": "code",
      "metadata": {
        "id": "BON4R_3AY6cg",
        "colab_type": "code",
        "colab": {}
      },
      "source": [
        "X_train.drop(\"Fare\", axis=1, inplace=True)"
      ],
      "execution_count": 0,
      "outputs": []
    },
    {
      "cell_type": "code",
      "metadata": {
        "id": "mLwhnwcSY76G",
        "colab_type": "code",
        "outputId": "e8701bba-a525-46a1-a1ba-5d2c4d880675",
        "colab": {
          "base_uri": "https://localhost:8080/",
          "height": 444
        }
      },
      "source": [
        "print(sm.GLM(Y_train, X_train, family=sm.families.Binomial()).fit().summary2()) #observe how the AIC, BIC further decreased"
      ],
      "execution_count": 0,
      "outputs": [
        {
          "output_type": "stream",
          "text": [
            "               Results: Generalized linear model\n",
            "===============================================================\n",
            "Model:              GLM              AIC:            608.3097  \n",
            "Link Function:      logit            BIC:            -4036.1853\n",
            "Dependent Variable: Survived         Log-Likelihood: -297.15   \n",
            "Date:               2020-05-06 00:30 LL-Null:        -472.04   \n",
            "No. Observations:   712              Deviance:       594.31    \n",
            "Df Model:           6                Pearson chi2:   736.      \n",
            "Df Residuals:       705              Scale:          1.0000    \n",
            "Method:             IRLS                                       \n",
            "----------------------------------------------------------------\n",
            "             Coef.   Std.Err.     z     P>|z|    [0.025   0.975]\n",
            "----------------------------------------------------------------\n",
            "const        2.4095    0.3013   7.9977  0.0000   1.8190   3.0000\n",
            "Pclass      -1.3258    0.1485  -8.9265  0.0000  -1.6169  -1.0347\n",
            "Age         -0.0436    0.0091  -4.7698  0.0000  -0.0615  -0.0257\n",
            "SibSp       -0.2348    0.1175  -1.9983  0.0457  -0.4651  -0.0045\n",
            "Sex_female   2.6312    0.2097  12.5462  0.0000   2.2201   3.0422\n",
            "Sex_male    -0.2217    0.1631  -1.3589  0.1742  -0.5414   0.0981\n",
            "Embarked_C   0.7991    0.2088   3.8268  0.0001   0.3898   1.2084\n",
            "Embarked_Q   1.1294    0.2992   3.7744  0.0002   0.5429   1.7159\n",
            "Embarked_S   0.4810    0.1678   2.8658  0.0042   0.1520   0.8099\n",
            "===============================================================\n",
            "\n"
          ],
          "name": "stdout"
        }
      ]
    },
    {
      "cell_type": "code",
      "metadata": {
        "id": "TveE0D-_Y82O",
        "colab_type": "code",
        "colab": {}
      },
      "source": [
        "X_train.drop(\"Sex_male\", axis=1, inplace=True)"
      ],
      "execution_count": 0,
      "outputs": []
    },
    {
      "cell_type": "code",
      "metadata": {
        "id": "fx88E1BPY91K",
        "colab_type": "code",
        "outputId": "43b5079c-68f4-4a2d-f8d9-2e83eef4abb2",
        "colab": {
          "base_uri": "https://localhost:8080/",
          "height": 426
        }
      },
      "source": [
        "print(sm.GLM(Y_train, X_train, family=sm.families.Binomial()).fit().summary2())"
      ],
      "execution_count": 0,
      "outputs": [
        {
          "output_type": "stream",
          "text": [
            "               Results: Generalized linear model\n",
            "===============================================================\n",
            "Model:              GLM              AIC:            608.3097  \n",
            "Link Function:      logit            BIC:            -4036.1853\n",
            "Dependent Variable: Survived         Log-Likelihood: -297.15   \n",
            "Date:               2020-05-06 00:30 LL-Null:        -472.04   \n",
            "No. Observations:   712              Deviance:       594.31    \n",
            "Df Model:           6                Pearson chi2:   736.      \n",
            "Df Residuals:       705              Scale:          1.0000    \n",
            "Method:             IRLS                                       \n",
            "----------------------------------------------------------------\n",
            "             Coef.   Std.Err.     z     P>|z|    [0.025   0.975]\n",
            "----------------------------------------------------------------\n",
            "const        2.2432    0.4010   5.5944  0.0000   1.4573   3.0291\n",
            "Pclass      -1.3258    0.1485  -8.9265  0.0000  -1.6169  -1.0347\n",
            "Age         -0.0436    0.0091  -4.7698  0.0000  -0.0615  -0.0257\n",
            "SibSp       -0.2348    0.1175  -1.9983  0.0457  -0.4651  -0.0045\n",
            "Sex_female   2.8528    0.2246  12.7046  0.0000   2.4127   3.2930\n",
            "Embarked_C   0.7437    0.2184   3.4054  0.0007   0.3157   1.1717\n",
            "Embarked_Q   1.0740    0.3230   3.3250  0.0009   0.4409   1.7071\n",
            "Embarked_S   0.4256    0.1806   2.3562  0.0185   0.0716   0.7796\n",
            "===============================================================\n",
            "\n"
          ],
          "name": "stdout"
        }
      ]
    },
    {
      "cell_type": "code",
      "metadata": {
        "id": "Yv0ZWmewY-sp",
        "colab_type": "code",
        "colab": {}
      },
      "source": [
        "result = sm.GLM(Y_train, X_train, family=sm.families.Binomial()).fit()"
      ],
      "execution_count": 0,
      "outputs": []
    },
    {
      "cell_type": "code",
      "metadata": {
        "id": "d0fXwdyXY_-i",
        "colab_type": "code",
        "outputId": "715ccf9f-e164-4fe0-a9c4-c095474ff2e9",
        "colab": {
          "base_uri": "https://localhost:8080/",
          "height": 426
        }
      },
      "source": [
        "print(result.summary2())"
      ],
      "execution_count": 0,
      "outputs": [
        {
          "output_type": "stream",
          "text": [
            "               Results: Generalized linear model\n",
            "===============================================================\n",
            "Model:              GLM              AIC:            608.3097  \n",
            "Link Function:      logit            BIC:            -4036.1853\n",
            "Dependent Variable: Survived         Log-Likelihood: -297.15   \n",
            "Date:               2020-05-06 00:30 LL-Null:        -472.04   \n",
            "No. Observations:   712              Deviance:       594.31    \n",
            "Df Model:           6                Pearson chi2:   736.      \n",
            "Df Residuals:       705              Scale:          1.0000    \n",
            "Method:             IRLS                                       \n",
            "----------------------------------------------------------------\n",
            "             Coef.   Std.Err.     z     P>|z|    [0.025   0.975]\n",
            "----------------------------------------------------------------\n",
            "const        2.2432    0.4010   5.5944  0.0000   1.4573   3.0291\n",
            "Pclass      -1.3258    0.1485  -8.9265  0.0000  -1.6169  -1.0347\n",
            "Age         -0.0436    0.0091  -4.7698  0.0000  -0.0615  -0.0257\n",
            "SibSp       -0.2348    0.1175  -1.9983  0.0457  -0.4651  -0.0045\n",
            "Sex_female   2.8528    0.2246  12.7046  0.0000   2.4127   3.2930\n",
            "Embarked_C   0.7437    0.2184   3.4054  0.0007   0.3157   1.1717\n",
            "Embarked_Q   1.0740    0.3230   3.3250  0.0009   0.4409   1.7071\n",
            "Embarked_S   0.4256    0.1806   2.3562  0.0185   0.0716   0.7796\n",
            "===============================================================\n",
            "\n"
          ],
          "name": "stdout"
        }
      ]
    },
    {
      "cell_type": "code",
      "metadata": {
        "id": "gmffrW6UZA9q",
        "colab_type": "code",
        "outputId": "21c0c423-0a94-41aa-97a0-f5ca1ad0dbe8",
        "colab": {
          "base_uri": "https://localhost:8080/",
          "height": 35
        }
      },
      "source": [
        "result.aic"
      ],
      "execution_count": 0,
      "outputs": [
        {
          "output_type": "execute_result",
          "data": {
            "text/plain": [
              "608.3096636965981"
            ]
          },
          "metadata": {
            "tags": []
          },
          "execution_count": 40
        }
      ]
    },
    {
      "cell_type": "markdown",
      "metadata": {
        "id": "4FG7WOMEZErj",
        "colab_type": "text"
      },
      "source": [
        "Now, lets understand how the model has improved when we have dropped less significant predictors.\n",
        "\n",
        "AIC: Initial AIC : 612.181 Final AIC; after dropping Parch, Fare, Sex_Male : 608.309 Therefore, it can be observed that the AIC has decreased when we considered the subset of predictors. Hence, the model is performing better than earlier.\n",
        "\n",
        "BIC: Initial BIC:-4023.177 Final BIC; after dropping Parch, Fare, Sex_Male: -4036.185 Similar to AIC, BIC also had decreased and hence, the model is better performing with subset of predictors.\n",
        "\n",
        "Now lets calculate the accuracy of prediction using these values:"
      ]
    },
    {
      "cell_type": "code",
      "metadata": {
        "id": "3q4TyfTFZDef",
        "colab_type": "code",
        "colab": {}
      },
      "source": [
        "X_test = sm.add_constant(X_test[['Pclass', 'Age', 'SibSp', 'Sex_female', 'Embarked_C', 'Embarked_Q', 'Embarked_S']])"
      ],
      "execution_count": 0,
      "outputs": []
    },
    {
      "cell_type": "code",
      "metadata": {
        "id": "ncsu_qyDZGPr",
        "colab_type": "code",
        "colab": {}
      },
      "source": [
        "probabilities = result.predict(X_test)"
      ],
      "execution_count": 0,
      "outputs": []
    },
    {
      "cell_type": "code",
      "metadata": {
        "id": "VeaqXJDOZHFB",
        "colab_type": "code",
        "outputId": "293bd375-f39d-4f24-f3a2-7e582c9f561f",
        "colab": {
          "base_uri": "https://localhost:8080/",
          "height": 124
        }
      },
      "source": [
        "probabilities.head()"
      ],
      "execution_count": 0,
      "outputs": [
        {
          "output_type": "execute_result",
          "data": {
            "text/plain": [
              "117    0.185118\n",
              "143    0.184122\n",
              "748    0.569491\n",
              "796    0.886901\n",
              "853    0.970638\n",
              "dtype: float64"
            ]
          },
          "metadata": {
            "tags": []
          },
          "execution_count": 43
        }
      ]
    },
    {
      "cell_type": "code",
      "metadata": {
        "id": "-RcRFdveZH5Q",
        "colab_type": "code",
        "colab": {}
      },
      "source": [
        "predicted_classes = probabilities.map(lambda x: 'pos' if x > 0.5 else 'neg')"
      ],
      "execution_count": 0,
      "outputs": []
    },
    {
      "cell_type": "code",
      "metadata": {
        "id": "ZCSa-AATZI3e",
        "colab_type": "code",
        "outputId": "40b62174-b846-42e2-80c6-4d8cdd0dcd09",
        "colab": {
          "base_uri": "https://localhost:8080/",
          "height": 124
        }
      },
      "source": [
        "predicted_classes.head()"
      ],
      "execution_count": 0,
      "outputs": [
        {
          "output_type": "execute_result",
          "data": {
            "text/plain": [
              "117    neg\n",
              "143    neg\n",
              "748    pos\n",
              "796    pos\n",
              "853    pos\n",
              "dtype: object"
            ]
          },
          "metadata": {
            "tags": []
          },
          "execution_count": 45
        }
      ]
    },
    {
      "cell_type": "code",
      "metadata": {
        "id": "fH-wi9AKZJwY",
        "colab_type": "code",
        "colab": {}
      },
      "source": [
        "predicted_classes = predicted_classes.map(lambda x: 1 if x == 'pos' else 0)"
      ],
      "execution_count": 0,
      "outputs": []
    },
    {
      "cell_type": "code",
      "metadata": {
        "id": "X_7d5s02ZKqm",
        "colab_type": "code",
        "colab": {}
      },
      "source": [
        "accuracy = sum(predicted_classes == Y_test) / len(Y_test)"
      ],
      "execution_count": 0,
      "outputs": []
    },
    {
      "cell_type": "markdown",
      "metadata": {
        "id": "oqjxib5NZMmE",
        "colab_type": "text"
      },
      "source": [
        "Here we have tried finding all those records where predictions are true and divided it with number of predictions. The result is the accuracy.\n"
      ]
    },
    {
      "cell_type": "code",
      "metadata": {
        "id": "0llcnRR4ZLel",
        "colab_type": "code",
        "outputId": "a5f4731a-9a02-4d84-d568-103b0000357d",
        "colab": {
          "base_uri": "https://localhost:8080/",
          "height": 35
        }
      },
      "source": [
        "accuracy"
      ],
      "execution_count": 0,
      "outputs": [
        {
          "output_type": "execute_result",
          "data": {
            "text/plain": [
              "0.7318435754189944"
            ]
          },
          "metadata": {
            "tags": []
          },
          "execution_count": 48
        }
      ]
    },
    {
      "cell_type": "markdown",
      "metadata": {
        "id": "DpPCV8jOZPYW",
        "colab_type": "text"
      },
      "source": [
        "Therefore, the accuracy of prediction obtained is 73.1%. In other words, my model on an average can predict 73.1 times correctly who can survive and who cannot out of 100 cases.\n",
        "\n",
        "In the later part, lets try improving this accuracy.\n"
      ]
    },
    {
      "cell_type": "code",
      "metadata": {
        "id": "Q_5n1KSVZOQn",
        "colab_type": "code",
        "colab": {}
      },
      "source": [
        "confusion_mat = confusion_matrix(Y_test, predicted_classes) #construction of confusion matrix"
      ],
      "execution_count": 0,
      "outputs": []
    },
    {
      "cell_type": "code",
      "metadata": {
        "id": "7W5lTP1kZSAA",
        "colab_type": "code",
        "colab": {}
      },
      "source": [
        "confusion_df = pd.DataFrame(confusion_mat, index=['Actual neg','Actual pos'], columns=['Predicted neg','Predicted pos']) #creating a dataframe with indexes"
      ],
      "execution_count": 0,
      "outputs": []
    },
    {
      "cell_type": "code",
      "metadata": {
        "id": "niBVGQPbZS0j",
        "colab_type": "code",
        "outputId": "92badd97-b69a-45ae-b071-203810baae7f",
        "colab": {
          "base_uri": "https://localhost:8080/",
          "height": 109
        }
      },
      "source": [
        "confusion_df"
      ],
      "execution_count": 0,
      "outputs": [
        {
          "output_type": "execute_result",
          "data": {
            "text/html": [
              "<div>\n",
              "<style scoped>\n",
              "    .dataframe tbody tr th:only-of-type {\n",
              "        vertical-align: middle;\n",
              "    }\n",
              "\n",
              "    .dataframe tbody tr th {\n",
              "        vertical-align: top;\n",
              "    }\n",
              "\n",
              "    .dataframe thead th {\n",
              "        text-align: right;\n",
              "    }\n",
              "</style>\n",
              "<table border=\"1\" class=\"dataframe\">\n",
              "  <thead>\n",
              "    <tr style=\"text-align: right;\">\n",
              "      <th></th>\n",
              "      <th>Predicted neg</th>\n",
              "      <th>Predicted pos</th>\n",
              "    </tr>\n",
              "  </thead>\n",
              "  <tbody>\n",
              "    <tr>\n",
              "      <th>Actual neg</th>\n",
              "      <td>81</td>\n",
              "      <td>25</td>\n",
              "    </tr>\n",
              "    <tr>\n",
              "      <th>Actual pos</th>\n",
              "      <td>23</td>\n",
              "      <td>50</td>\n",
              "    </tr>\n",
              "  </tbody>\n",
              "</table>\n",
              "</div>"
            ],
            "text/plain": [
              "            Predicted neg  Predicted pos\n",
              "Actual neg             81             25\n",
              "Actual pos             23             50"
            ]
          },
          "metadata": {
            "tags": []
          },
          "execution_count": 51
        }
      ]
    },
    {
      "cell_type": "markdown",
      "metadata": {
        "id": "RpK3N5UNZYCP",
        "colab_type": "text"
      },
      "source": [
        "We know that our Test data has 179 records. Hence total predictions made are on 179 people. Below are the interpretation of the matrix:\n",
        "\n",
        "1.81 people were predicted to be un-survived and in actual they haven't survived. This is a good prediction as it meets the reality. \n",
        "\n",
        "2.23 people were predicted to be un-survived, but rather they survived. According to the model, this is a bad prediction\n",
        "\n",
        "3.25 people were predicted to be survived and in reality, they couldn't survive. According to model, this is a bad prediction\n",
        "\n",
        "4.50 people were predicted to be survived and they survived in reality. Which is great according to model. \n",
        "\n",
        "Here is a good way of understanding accuracy:\n",
        "\n",
        "Prediction which meet the actual results counts to the success of the model. I.e, 81+50=131 times the model could predict correctly out of 179 times.\n",
        "\n",
        "Therefore, accuracy = 131/179; which is 0.731 (as calculated earlier)"
      ]
    },
    {
      "cell_type": "code",
      "metadata": {
        "id": "TxWFTF7FZTrN",
        "colab_type": "code",
        "outputId": "771ad388-899c-41ef-ff8f-f7878dae48b3",
        "colab": {
          "base_uri": "https://localhost:8080/",
          "height": 266
        }
      },
      "source": [
        "_=sns.heatmap(confusion_df, cmap='coolwarm', annot=True)"
      ],
      "execution_count": 0,
      "outputs": [
        {
          "output_type": "display_data",
          "data": {
            "image/png": "[encoded data removed]",
            "text/plain": [
              "<Figure size 432x288 with 2 Axes>"
            ]
          },
          "metadata": {
            "tags": [],
            "needs_background": "light"
          }
        }
      ]
    },
    {
      "cell_type": "code",
      "metadata": {
        "id": "XJH0YqJDZbrz",
        "colab_type": "code",
        "outputId": "4ea32ae9-4c2b-4e7f-eb13-c1f222156a3d",
        "colab": {
          "base_uri": "https://localhost:8080/",
          "height": 35
        }
      },
      "source": [
        "from sklearn.metrics import precision_score, recall_score\n",
        "precision_score(Y_test, predicted_classes)"
      ],
      "execution_count": 0,
      "outputs": [
        {
          "output_type": "execute_result",
          "data": {
            "text/plain": [
              "0.6666666666666666"
            ]
          },
          "metadata": {
            "tags": []
          },
          "execution_count": 53
        }
      ]
    },
    {
      "cell_type": "code",
      "metadata": {
        "id": "PejhCnp2ZdmW",
        "colab_type": "code",
        "outputId": "9d55ea0c-2efd-4b5e-88c1-7e4df2ba4d20",
        "colab": {
          "base_uri": "https://localhost:8080/",
          "height": 35
        }
      },
      "source": [
        "recall_score(Y_test, predicted_classes)"
      ],
      "execution_count": 0,
      "outputs": [
        {
          "output_type": "execute_result",
          "data": {
            "text/plain": [
              "0.684931506849315"
            ]
          },
          "metadata": {
            "tags": []
          },
          "execution_count": 54
        }
      ]
    },
    {
      "cell_type": "markdown",
      "metadata": {
        "id": "3wh4iSSBZf0f",
        "colab_type": "text"
      },
      "source": [
        "Precision: number of true positives divided by the number of true positives plus the number of false positives. Therefore, the bigger the number, the better result it is.\n",
        "\n",
        "In this case, it is 50/(50+25) = 0.666\n",
        "\n",
        "Recall: number of true positives divided by the number of true positives plus the number of false negatives. Therefore, lower the number, better the result it is.\n",
        "\n",
        "In this case, it is 50/(50+23) = 0.684"
      ]
    },
    {
      "cell_type": "code",
      "metadata": {
        "id": "X6jNIAowZedb",
        "colab_type": "code",
        "outputId": "a3b141d4-a86e-43b4-e24d-956efe399de3",
        "colab": {
          "base_uri": "https://localhost:8080/",
          "height": 35
        }
      },
      "source": [
        "from sklearn.metrics import f1_score\n",
        "\n",
        "f1_score(Y_test, predicted_classes)"
      ],
      "execution_count": 0,
      "outputs": [
        {
          "output_type": "execute_result",
          "data": {
            "text/plain": [
              "0.6756756756756757"
            ]
          },
          "metadata": {
            "tags": []
          },
          "execution_count": 55
        }
      ]
    },
    {
      "cell_type": "markdown",
      "metadata": {
        "id": "4KHN2f_fZjOs",
        "colab_type": "text"
      },
      "source": [
        "F1 Score: This measure sets the right balance between Precision and Recall. This is handy, especially when there is uneven class distribution (large number of actual negetives)."
      ]
    },
    {
      "cell_type": "code",
      "metadata": {
        "id": "-x_hs0oFZiKc",
        "colab_type": "code",
        "outputId": "27c2e2f7-8d16-4ffe-d32f-676ac81eaec5",
        "colab": {
          "base_uri": "https://localhost:8080/",
          "height": 203
        }
      },
      "source": [
        "from sklearn.metrics import roc_curve, roc_auc_score\n",
        "\n",
        "probs = logit.predict_proba(X_test)[::,1]"
      ],
      "execution_count": 0,
      "outputs": [
        {
          "output_type": "error",
          "ename": "AttributeError",
          "evalue": "ignored",
          "traceback": [
            "\u001b[0;31m---------------------------------------------------------------------------\u001b[0m",
            "\u001b[0;31mAttributeError\u001b[0m                            Traceback (most recent call last)",
            "\u001b[0;32m<ipython-input-62-eb5d2db98faf>\u001b[0m in \u001b[0;36m<module>\u001b[0;34m()\u001b[0m\n\u001b[1;32m      1\u001b[0m \u001b[0;32mfrom\u001b[0m \u001b[0msklearn\u001b[0m\u001b[0;34m.\u001b[0m\u001b[0mmetrics\u001b[0m \u001b[0;32mimport\u001b[0m \u001b[0mroc_curve\u001b[0m\u001b[0;34m,\u001b[0m \u001b[0mroc_auc_score\u001b[0m\u001b[0;34m\u001b[0m\u001b[0;34m\u001b[0m\u001b[0m\n\u001b[1;32m      2\u001b[0m \u001b[0;34m\u001b[0m\u001b[0m\n\u001b[0;32m----> 3\u001b[0;31m \u001b[0mprobs\u001b[0m \u001b[0;34m=\u001b[0m \u001b[0mlogit\u001b[0m\u001b[0;34m.\u001b[0m\u001b[0mpredict_proba\u001b[0m\u001b[0;34m(\u001b[0m\u001b[0mX_test\u001b[0m\u001b[0;34m)\u001b[0m\u001b[0;34m[\u001b[0m\u001b[0;34m:\u001b[0m\u001b[0;34m:\u001b[0m\u001b[0;34m,\u001b[0m\u001b[0;36m1\u001b[0m\u001b[0;34m]\u001b[0m\u001b[0;34m\u001b[0m\u001b[0;34m\u001b[0m\u001b[0m\n\u001b[0m",
            "\u001b[0;31mAttributeError\u001b[0m: 'GLM' object has no attribute 'predict_proba'"
          ]
        }
      ]
    },
    {
      "cell_type": "code",
      "metadata": {
        "id": "FEUjTvLoZmFu",
        "colab_type": "code",
        "colab": {}
      },
      "source": [
        ""
      ],
      "execution_count": 0,
      "outputs": []
    }
  ]
}
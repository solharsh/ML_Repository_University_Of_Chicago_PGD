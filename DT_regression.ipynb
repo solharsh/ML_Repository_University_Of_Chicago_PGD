{
  "nbformat": 4,
  "nbformat_minor": 0,
  "metadata": {
    "colab": {
      "name": "DT_regression.ipynb",
      "provenance": [],
      "authorship_tag": "ABX9TyNyO2v4DP4Z9SxU1ZPQnCQI",
      "include_colab_link": true
    },
    "kernelspec": {
      "name": "python3",
      "display_name": "Python 3"
    }
  },
  "cells": [
    {
      "cell_type": "markdown",
      "metadata": {
        "id": "view-in-github",
        "colab_type": "text"
      },
      "source": [
        "<a href=\"https://colab.research.google.com/github/solharsh/ML_Repository_University_Of_Chicago_PGD/blob/master/DT_regression.ipynb\" target=\"_parent\"><img src=\"https://colab.research.google.com/assets/colab-badge.svg\" alt=\"Open In Colab\"/></a>"
      ]
    },
    {
      "cell_type": "markdown",
      "metadata": {
        "id": "4ABPEZ_dDqpf",
        "colab_type": "text"
      },
      "source": [
        "# Regression using Decision Tree"
      ]
    },
    {
      "cell_type": "code",
      "metadata": {
        "id": "jkzFvJ-1DrsA",
        "colab_type": "code",
        "colab": {}
      },
      "source": [
        "from sklearn import datasets\n",
        "#Load the diabetes dataset (regression).\n",
        "diabetes = datasets.load_diabetes()"
      ],
      "execution_count": 0,
      "outputs": []
    },
    {
      "cell_type": "markdown",
      "metadata": {
        "id": "JmCWGEA9Dxel",
        "colab_type": "text"
      },
      "source": [
        "As we know, each dataset comes with four keys:\n",
        "- DESCR: Dataset description\n",
        "- data: Predictor columns\n",
        "- target: Response column\n",
        "- feature_names: Column names for predictors"
      ]
    },
    {
      "cell_type": "code",
      "metadata": {
        "id": "vxjhuUXlDwK_",
        "colab_type": "code",
        "colab": {
          "base_uri": "https://localhost:8080/",
          "height": 35
        },
        "outputId": "76d8a740-d59b-4069-c1d1-6352d4428ee9"
      },
      "source": [
        "diabetes.keys()"
      ],
      "execution_count": 2,
      "outputs": [
        {
          "output_type": "execute_result",
          "data": {
            "text/plain": [
              "dict_keys(['data', 'target', 'DESCR', 'feature_names', 'data_filename', 'target_filename'])"
            ]
          },
          "metadata": {
            "tags": []
          },
          "execution_count": 2
        }
      ]
    },
    {
      "cell_type": "code",
      "metadata": {
        "id": "QXNu6fO-D3T7",
        "colab_type": "code",
        "colab": {
          "base_uri": "https://localhost:8080/",
          "height": 712
        },
        "outputId": "dc5e69d2-0c49-4686-e63b-c5d41d85bc99"
      },
      "source": [
        "#Read dataset description\n",
        "\n",
        "print(diabetes.DESCR)"
      ],
      "execution_count": 3,
      "outputs": [
        {
          "output_type": "stream",
          "text": [
            ".. _diabetes_dataset:\n",
            "\n",
            "Diabetes dataset\n",
            "----------------\n",
            "\n",
            "Ten baseline variables, age, sex, body mass index, average blood\n",
            "pressure, and six blood serum measurements were obtained for each of n =\n",
            "442 diabetes patients, as well as the response of interest, a\n",
            "quantitative measure of disease progression one year after baseline.\n",
            "\n",
            "**Data Set Characteristics:**\n",
            "\n",
            "  :Number of Instances: 442\n",
            "\n",
            "  :Number of Attributes: First 10 columns are numeric predictive values\n",
            "\n",
            "  :Target: Column 11 is a quantitative measure of disease progression one year after baseline\n",
            "\n",
            "  :Attribute Information:\n",
            "      - Age\n",
            "      - Sex\n",
            "      - Body mass index\n",
            "      - Average blood pressure\n",
            "      - S1\n",
            "      - S2\n",
            "      - S3\n",
            "      - S4\n",
            "      - S5\n",
            "      - S6\n",
            "\n",
            "Note: Each of these 10 feature variables have been mean centered and scaled by the standard deviation times `n_samples` (i.e. the sum of squares of each column totals 1).\n",
            "\n",
            "Source URL:\n",
            "https://www4.stat.ncsu.edu/~boos/var.select/diabetes.html\n",
            "\n",
            "For more information see:\n",
            "Bradley Efron, Trevor Hastie, Iain Johnstone and Robert Tibshirani (2004) \"Least Angle Regression,\" Annals of Statistics (with discussion), 407-499.\n",
            "(https://web.stanford.edu/~hastie/Papers/LARS/LeastAngle_2002.pdf)\n"
          ],
          "name": "stdout"
        }
      ]
    },
    {
      "cell_type": "code",
      "metadata": {
        "id": "y-w7JwVwD5mx",
        "colab_type": "code",
        "colab": {
          "base_uri": "https://localhost:8080/",
          "height": 35
        },
        "outputId": "dd91844c-fc78-4980-a8c6-119933d1f834"
      },
      "source": [
        "#See column names for the predictors\n",
        "\n",
        "diabetes.feature_names"
      ],
      "execution_count": 4,
      "outputs": [
        {
          "output_type": "execute_result",
          "data": {
            "text/plain": [
              "['age', 'sex', 'bmi', 'bp', 's1', 's2', 's3', 's4', 's5', 's6']"
            ]
          },
          "metadata": {
            "tags": []
          },
          "execution_count": 4
        }
      ]
    },
    {
      "cell_type": "code",
      "metadata": {
        "id": "IpmrCl7RD9FM",
        "colab_type": "code",
        "colab": {
          "base_uri": "https://localhost:8080/",
          "height": 35
        },
        "outputId": "e879b894-f58a-44ce-c947-997af8dc2628"
      },
      "source": [
        "#Divide dataset into train and test sets.\n",
        "\n",
        "# Shape of predictors data\n",
        "diabetes.data.shape"
      ],
      "execution_count": 5,
      "outputs": [
        {
          "output_type": "execute_result",
          "data": {
            "text/plain": [
              "(442, 10)"
            ]
          },
          "metadata": {
            "tags": []
          },
          "execution_count": 5
        }
      ]
    },
    {
      "cell_type": "code",
      "metadata": {
        "id": "iBXkCelbD_pe",
        "colab_type": "code",
        "colab": {
          "base_uri": "https://localhost:8080/",
          "height": 35
        },
        "outputId": "6cd2ace8-580f-4103-b200-a58069b296dd"
      },
      "source": [
        "## Shape of response variable\n",
        "diabetes.target.shape"
      ],
      "execution_count": 6,
      "outputs": [
        {
          "output_type": "execute_result",
          "data": {
            "text/plain": [
              "(442,)"
            ]
          },
          "metadata": {
            "tags": []
          },
          "execution_count": 6
        }
      ]
    },
    {
      "cell_type": "code",
      "metadata": {
        "id": "0-BPH9GOEBWy",
        "colab_type": "code",
        "colab": {}
      },
      "source": [
        "from sklearn.model_selection import train_test_split"
      ],
      "execution_count": 0,
      "outputs": []
    },
    {
      "cell_type": "code",
      "metadata": {
        "id": "yKW6p2Z5EC4G",
        "colab_type": "code",
        "colab": {}
      },
      "source": [
        "X_train, X_test, Y_train, Y_test = train_test_split(diabetes.data, diabetes.target, test_size=0.2, random_state=123)"
      ],
      "execution_count": 0,
      "outputs": []
    },
    {
      "cell_type": "code",
      "metadata": {
        "id": "DlSn4rn3ED-B",
        "colab_type": "code",
        "colab": {}
      },
      "source": [
        "#Import Decision Tree Regressor and fit the model to the training data.\n",
        "\n",
        "from sklearn.tree import DecisionTreeRegressor\n",
        "tree = DecisionTreeRegressor(max_depth=2)\n",
        "tree.fit(X_train, Y_train)\n",
        "#Make predictions and evaluate output.\n",
        "predictions = tree.predict(X_test)"
      ],
      "execution_count": 0,
      "outputs": []
    },
    {
      "cell_type": "code",
      "metadata": {
        "id": "9mJcrf-cEJhj",
        "colab_type": "code",
        "colab": {
          "base_uri": "https://localhost:8080/",
          "height": 52
        },
        "outputId": "644c503f-7423-4792-fe19-06ac96ad7f53"
      },
      "source": [
        "#Check the top 5 predictions and actual values.\n",
        "\n",
        "predictions[:5]"
      ],
      "execution_count": 10,
      "outputs": [
        {
          "output_type": "execute_result",
          "data": {
            "text/plain": [
              "array([171.47286822, 171.47286822, 171.47286822, 164.39473684,\n",
              "       171.47286822])"
            ]
          },
          "metadata": {
            "tags": []
          },
          "execution_count": 10
        }
      ]
    },
    {
      "cell_type": "code",
      "metadata": {
        "id": "TtsyB64SEMF7",
        "colab_type": "code",
        "colab": {
          "base_uri": "https://localhost:8080/",
          "height": 35
        },
        "outputId": "4345c8f8-6826-4fb8-e74f-e72695e903f7"
      },
      "source": [
        "Y_test[:5]"
      ],
      "execution_count": 11,
      "outputs": [
        {
          "output_type": "execute_result",
          "data": {
            "text/plain": [
              "array([185., 150., 246., 184., 110.])"
            ]
          },
          "metadata": {
            "tags": []
          },
          "execution_count": 11
        }
      ]
    },
    {
      "cell_type": "code",
      "metadata": {
        "id": "YTuqCWvoENek",
        "colab_type": "code",
        "colab": {
          "base_uri": "https://localhost:8080/",
          "height": 35
        },
        "outputId": "cd15606b-5de9-4de6-f32a-39696809a7e9"
      },
      "source": [
        "#We see that the predictions are not accurate. Let's evaluate the prediction accuracy.\n",
        "\n",
        "from sklearn.metrics import mean_absolute_error, r2_score\n",
        "mean_absolute_error(Y_test, predictions)\n",
        "r2_score(Y_test, predictions)"
      ],
      "execution_count": 12,
      "outputs": [
        {
          "output_type": "execute_result",
          "data": {
            "text/plain": [
              "0.37144886233975805"
            ]
          },
          "metadata": {
            "tags": []
          },
          "execution_count": 12
        }
      ]
    },
    {
      "cell_type": "markdown",
      "metadata": {
        "id": "jBlYxN0FEUSU",
        "colab_type": "text"
      },
      "source": [
        "The regression results are not very accurate. Let's try to understand the reason for it by visualizing the tree output."
      ]
    },
    {
      "cell_type": "markdown",
      "metadata": {
        "id": "i_vhHZN9EV9J",
        "colab_type": "text"
      },
      "source": [
        "First, we export the tree output to a dot format object.\n",
        "Below function show some of the additional parameters that you can pass to the export_graphviz function. Read the documentation for export_graphviz to understand more about these parameters.\n",
        "http://scikit-learn.org/stable/modules/generated/sklearn.tree.export_graphviz.html"
      ]
    },
    {
      "cell_type": "code",
      "metadata": {
        "id": "ZQGwN5vxESAC",
        "colab_type": "code",
        "colab": {}
      },
      "source": [
        "from sklearn.tree import export_graphviz"
      ],
      "execution_count": 0,
      "outputs": []
    },
    {
      "cell_type": "code",
      "metadata": {
        "id": "aE8MvnSqEXkk",
        "colab_type": "code",
        "colab": {}
      },
      "source": [
        "dot_data = export_graphviz(tree, filled=True, rounded=True, feature_names=diabetes.feature_names, out_file=None)"
      ],
      "execution_count": 0,
      "outputs": []
    },
    {
      "cell_type": "code",
      "metadata": {
        "id": "SaAAsUUyEY9J",
        "colab_type": "code",
        "colab": {
          "base_uri": "https://localhost:8080/",
          "height": 379
        },
        "outputId": "1b76d42c-f771-4c67-ff14-dc9062c7ed79"
      },
      "source": [
        "#Next, we use graphviz to plot the dot data as a decision tree.\n",
        "import graphviz\n",
        "graphviz.Source(dot_data)"
      ],
      "execution_count": 15,
      "outputs": [
        {
          "output_type": "execute_result",
          "data": {
            "text/plain": [
              "<graphviz.files.Source at 0x7f9d124da5f8>"
            ],
            "image/svg+xml": "<?xml version=\"1.0\" encoding=\"UTF-8\" standalone=\"no\"?>\n<!DOCTYPE svg PUBLIC \"-//W3C//DTD SVG 1.1//EN\"\n \"http://www.w3.org/Graphics/SVG/1.1/DTD/svg11.dtd\">\n<!-- Generated by graphviz version 2.40.1 (20161225.0304)\n -->\n<!-- Title: Tree Pages: 1 -->\n<svg width=\"550pt\" height=\"269pt\"\n viewBox=\"0.00 0.00 550.00 269.00\" xmlns=\"http://www.w3.org/2000/svg\" xmlns:xlink=\"http://www.w3.org/1999/xlink\">\n<g id=\"graph0\" class=\"graph\" transform=\"scale(1 1) rotate(0) translate(4 265)\">\n<title>Tree</title>\n<polygon fill=\"#ffffff\" stroke=\"transparent\" points=\"-4,4 -4,-265 546,-265 546,4 -4,4\"/>\n<!-- 0 -->\n<g id=\"node1\" class=\"node\">\n<title>0</title>\n<path fill=\"#f6d1b7\" stroke=\"#000000\" d=\"M320,-261C320,-261 222,-261 222,-261 216,-261 210,-255 210,-249 210,-249 210,-205 210,-205 210,-199 216,-193 222,-193 222,-193 320,-193 320,-193 326,-193 332,-199 332,-205 332,-205 332,-249 332,-249 332,-255 326,-261 320,-261\"/>\n<text text-anchor=\"middle\" x=\"271\" y=\"-245.8\" font-family=\"Helvetica,sans-Serif\" font-size=\"14.00\" fill=\"#000000\">s5 &lt;= &#45;0.004</text>\n<text text-anchor=\"middle\" x=\"271\" y=\"-230.8\" font-family=\"Helvetica,sans-Serif\" font-size=\"14.00\" fill=\"#000000\">mse = 5836.097</text>\n<text text-anchor=\"middle\" x=\"271\" y=\"-215.8\" font-family=\"Helvetica,sans-Serif\" font-size=\"14.00\" fill=\"#000000\">samples = 353</text>\n<text text-anchor=\"middle\" x=\"271\" y=\"-200.8\" font-family=\"Helvetica,sans-Serif\" font-size=\"14.00\" fill=\"#000000\">value = 152.428</text>\n</g>\n<!-- 1 -->\n<g id=\"node2\" class=\"node\">\n<title>1</title>\n<path fill=\"#fdf3ec\" stroke=\"#000000\" d=\"M250,-157C250,-157 152,-157 152,-157 146,-157 140,-151 140,-145 140,-145 140,-101 140,-101 140,-95 146,-89 152,-89 152,-89 250,-89 250,-89 256,-89 262,-95 262,-101 262,-101 262,-145 262,-145 262,-151 256,-157 250,-157\"/>\n<text text-anchor=\"middle\" x=\"201\" y=\"-141.8\" font-family=\"Helvetica,sans-Serif\" font-size=\"14.00\" fill=\"#000000\">bmi &lt;= 0.009</text>\n<text text-anchor=\"middle\" x=\"201\" y=\"-126.8\" font-family=\"Helvetica,sans-Serif\" font-size=\"14.00\" fill=\"#000000\">mse = 3332.834</text>\n<text text-anchor=\"middle\" x=\"201\" y=\"-111.8\" font-family=\"Helvetica,sans-Serif\" font-size=\"14.00\" fill=\"#000000\">samples = 176</text>\n<text text-anchor=\"middle\" x=\"201\" y=\"-96.8\" font-family=\"Helvetica,sans-Serif\" font-size=\"14.00\" fill=\"#000000\">value = 112.415</text>\n</g>\n<!-- 0&#45;&gt;1 -->\n<g id=\"edge1\" class=\"edge\">\n<title>0&#45;&gt;1</title>\n<path fill=\"none\" stroke=\"#000000\" d=\"M248.0794,-192.9465C242.2174,-184.2373 235.8402,-174.7626 229.727,-165.6801\"/>\n<polygon fill=\"#000000\" stroke=\"#000000\" points=\"232.4595,-163.4716 223.9721,-157.13 226.6524,-167.3802 232.4595,-163.4716\"/>\n<text text-anchor=\"middle\" x=\"219.1777\" y=\"-177.966\" font-family=\"Helvetica,sans-Serif\" font-size=\"14.00\" fill=\"#000000\">True</text>\n</g>\n<!-- 4 -->\n<g id=\"node5\" class=\"node\">\n<title>4</title>\n<path fill=\"#efb083\" stroke=\"#000000\" d=\"M390,-157C390,-157 292,-157 292,-157 286,-157 280,-151 280,-145 280,-145 280,-101 280,-101 280,-95 286,-89 292,-89 292,-89 390,-89 390,-89 396,-89 402,-95 402,-101 402,-101 402,-145 402,-145 402,-151 396,-157 390,-157\"/>\n<text text-anchor=\"middle\" x=\"341\" y=\"-141.8\" font-family=\"Helvetica,sans-Serif\" font-size=\"14.00\" fill=\"#000000\">bmi &lt;= 0.047</text>\n<text text-anchor=\"middle\" x=\"341\" y=\"-126.8\" font-family=\"Helvetica,sans-Serif\" font-size=\"14.00\" fill=\"#000000\">mse = 5150.225</text>\n<text text-anchor=\"middle\" x=\"341\" y=\"-111.8\" font-family=\"Helvetica,sans-Serif\" font-size=\"14.00\" fill=\"#000000\">samples = 177</text>\n<text text-anchor=\"middle\" x=\"341\" y=\"-96.8\" font-family=\"Helvetica,sans-Serif\" font-size=\"14.00\" fill=\"#000000\">value = 192.215</text>\n</g>\n<!-- 0&#45;&gt;4 -->\n<g id=\"edge4\" class=\"edge\">\n<title>0&#45;&gt;4</title>\n<path fill=\"none\" stroke=\"#000000\" d=\"M293.9206,-192.9465C299.7826,-184.2373 306.1598,-174.7626 312.273,-165.6801\"/>\n<polygon fill=\"#000000\" stroke=\"#000000\" points=\"315.3476,-167.3802 318.0279,-157.13 309.5405,-163.4716 315.3476,-167.3802\"/>\n<text text-anchor=\"middle\" x=\"322.8223\" y=\"-177.966\" font-family=\"Helvetica,sans-Serif\" font-size=\"14.00\" fill=\"#000000\">False</text>\n</g>\n<!-- 2 -->\n<g id=\"node3\" class=\"node\">\n<title>2</title>\n<path fill=\"#ffffff\" stroke=\"#000000\" d=\"M110,-53C110,-53 12,-53 12,-53 6,-53 0,-47 0,-41 0,-41 0,-12 0,-12 0,-6 6,0 12,0 12,0 110,0 110,0 116,0 122,-6 122,-12 122,-12 122,-41 122,-41 122,-47 116,-53 110,-53\"/>\n<text text-anchor=\"middle\" x=\"61\" y=\"-37.8\" font-family=\"Helvetica,sans-Serif\" font-size=\"14.00\" fill=\"#000000\">mse = 2050.656</text>\n<text text-anchor=\"middle\" x=\"61\" y=\"-22.8\" font-family=\"Helvetica,sans-Serif\" font-size=\"14.00\" fill=\"#000000\">samples = 138</text>\n<text text-anchor=\"middle\" x=\"61\" y=\"-7.8\" font-family=\"Helvetica,sans-Serif\" font-size=\"14.00\" fill=\"#000000\">value = 98.101</text>\n</g>\n<!-- 1&#45;&gt;2 -->\n<g id=\"edge2\" class=\"edge\">\n<title>1&#45;&gt;2</title>\n<path fill=\"none\" stroke=\"#000000\" d=\"M151.6412,-88.9777C137.5594,-79.2713 122.2537,-68.7213 108.298,-59.1018\"/>\n<polygon fill=\"#000000\" stroke=\"#000000\" points=\"110.026,-56.042 99.8061,-53.2485 106.0533,-61.8055 110.026,-56.042\"/>\n</g>\n<!-- 3 -->\n<g id=\"node4\" class=\"node\">\n<title>3</title>\n<path fill=\"#f3c7a7\" stroke=\"#000000\" d=\"M250,-53C250,-53 152,-53 152,-53 146,-53 140,-47 140,-41 140,-41 140,-12 140,-12 140,-6 146,0 152,0 152,0 250,0 250,0 256,0 262,-6 262,-12 262,-12 262,-41 262,-41 262,-47 256,-53 250,-53\"/>\n<text text-anchor=\"middle\" x=\"201\" y=\"-37.8\" font-family=\"Helvetica,sans-Serif\" font-size=\"14.00\" fill=\"#000000\">mse = 4543.239</text>\n<text text-anchor=\"middle\" x=\"201\" y=\"-22.8\" font-family=\"Helvetica,sans-Serif\" font-size=\"14.00\" fill=\"#000000\">samples = 38</text>\n<text text-anchor=\"middle\" x=\"201\" y=\"-7.8\" font-family=\"Helvetica,sans-Serif\" font-size=\"14.00\" fill=\"#000000\">value = 164.395</text>\n</g>\n<!-- 1&#45;&gt;3 -->\n<g id=\"edge3\" class=\"edge\">\n<title>1&#45;&gt;3</title>\n<path fill=\"none\" stroke=\"#000000\" d=\"M201,-88.9777C201,-80.7364 201,-71.887 201,-63.5153\"/>\n<polygon fill=\"#000000\" stroke=\"#000000\" points=\"204.5001,-63.2484 201,-53.2485 197.5001,-63.2485 204.5001,-63.2484\"/>\n</g>\n<!-- 5 -->\n<g id=\"node6\" class=\"node\">\n<title>5</title>\n<path fill=\"#f2c19e\" stroke=\"#000000\" d=\"M390,-53C390,-53 292,-53 292,-53 286,-53 280,-47 280,-41 280,-41 280,-12 280,-12 280,-6 286,0 292,0 292,0 390,0 390,0 396,0 402,-6 402,-12 402,-12 402,-41 402,-41 402,-47 396,-53 390,-53\"/>\n<text text-anchor=\"middle\" x=\"341\" y=\"-37.8\" font-family=\"Helvetica,sans-Serif\" font-size=\"14.00\" fill=\"#000000\">mse = 4165.273</text>\n<text text-anchor=\"middle\" x=\"341\" y=\"-22.8\" font-family=\"Helvetica,sans-Serif\" font-size=\"14.00\" fill=\"#000000\">samples = 129</text>\n<text text-anchor=\"middle\" x=\"341\" y=\"-7.8\" font-family=\"Helvetica,sans-Serif\" font-size=\"14.00\" fill=\"#000000\">value = 171.473</text>\n</g>\n<!-- 4&#45;&gt;5 -->\n<g id=\"edge5\" class=\"edge\">\n<title>4&#45;&gt;5</title>\n<path fill=\"none\" stroke=\"#000000\" d=\"M341,-88.9777C341,-80.7364 341,-71.887 341,-63.5153\"/>\n<polygon fill=\"#000000\" stroke=\"#000000\" points=\"344.5001,-63.2484 341,-53.2485 337.5001,-63.2485 344.5001,-63.2484\"/>\n</g>\n<!-- 6 -->\n<g id=\"node7\" class=\"node\">\n<title>6</title>\n<path fill=\"#e58139\" stroke=\"#000000\" d=\"M530,-53C530,-53 432,-53 432,-53 426,-53 420,-47 420,-41 420,-41 420,-12 420,-12 420,-6 426,0 432,0 432,0 530,0 530,0 536,0 542,-6 542,-12 542,-12 542,-41 542,-41 542,-47 536,-53 530,-53\"/>\n<text text-anchor=\"middle\" x=\"481\" y=\"-37.8\" font-family=\"Helvetica,sans-Serif\" font-size=\"14.00\" fill=\"#000000\">mse = 3533.707</text>\n<text text-anchor=\"middle\" x=\"481\" y=\"-22.8\" font-family=\"Helvetica,sans-Serif\" font-size=\"14.00\" fill=\"#000000\">samples = 48</text>\n<text text-anchor=\"middle\" x=\"481\" y=\"-7.8\" font-family=\"Helvetica,sans-Serif\" font-size=\"14.00\" fill=\"#000000\">value = 247.958</text>\n</g>\n<!-- 4&#45;&gt;6 -->\n<g id=\"edge6\" class=\"edge\">\n<title>4&#45;&gt;6</title>\n<path fill=\"none\" stroke=\"#000000\" d=\"M390.3588,-88.9777C404.4406,-79.2713 419.7463,-68.7213 433.702,-59.1018\"/>\n<polygon fill=\"#000000\" stroke=\"#000000\" points=\"435.9467,-61.8055 442.1939,-53.2485 431.974,-56.042 435.9467,-61.8055\"/>\n</g>\n</g>\n</svg>\n"
          },
          "metadata": {
            "tags": []
          },
          "execution_count": 15
        }
      ]
    },
    {
      "cell_type": "markdown",
      "metadata": {
        "id": "X8JKwr-zEes_",
        "colab_type": "text"
      },
      "source": [
        "We see that on the terminal nodes (i.e. leaves) the model outputs one of the four values for all the predictions. We can also confirm this with the below code by looking at the predicted unique values."
      ]
    },
    {
      "cell_type": "code",
      "metadata": {
        "id": "x6xPAzsZEc1x",
        "colab_type": "code",
        "colab": {
          "base_uri": "https://localhost:8080/",
          "height": 35
        },
        "outputId": "cb55de41-0270-4f26-e4a3-7fa4b70603d2"
      },
      "source": [
        "import numpy as np\n",
        "np.unique(predictions)"
      ],
      "execution_count": 16,
      "outputs": [
        {
          "output_type": "execute_result",
          "data": {
            "text/plain": [
              "array([ 98.10144928, 164.39473684, 171.47286822, 247.95833333])"
            ]
          },
          "metadata": {
            "tags": []
          },
          "execution_count": 16
        }
      ]
    },
    {
      "cell_type": "markdown",
      "metadata": {
        "id": "AKano8-0ElE3",
        "colab_type": "text"
      },
      "source": [
        "Decision Trees on their own are very simple models, which do not provide as accurate predictions as some of the other models can. "
      ]
    },
    {
      "cell_type": "code",
      "metadata": {
        "id": "RGmEmSopEjsD",
        "colab_type": "code",
        "colab": {
          "base_uri": "https://localhost:8080/",
          "height": 35
        },
        "outputId": "4e8d967b-e460-49fa-bb44-47a7ad2f6725"
      },
      "source": [
        "#We can also export the graph to other formats like png, pdf etc. by using pydotplus package.\n",
        "from pydotplus import graph_from_dot_data\n",
        "graph = graph_from_dot_data(dot_data)\n",
        "graph.write_png(\"Regressor_tree.png\")"
      ],
      "execution_count": 17,
      "outputs": [
        {
          "output_type": "execute_result",
          "data": {
            "text/plain": [
              "True"
            ]
          },
          "metadata": {
            "tags": []
          },
          "execution_count": 17
        }
      ]
    }
  ]
}
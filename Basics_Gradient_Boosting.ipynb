{
  "nbformat": 4,
  "nbformat_minor": 0,
  "metadata": {
    "colab": {
      "name": "Basics_Gradient_Boosting.ipynb",
      "provenance": [],
      "authorship_tag": "ABX9TyOeD4lILSNcddNVbBqy/87v",
      "include_colab_link": true
    },
    "kernelspec": {
      "name": "python3",
      "display_name": "Python 3"
    }
  },
  "cells": [
    {
      "cell_type": "markdown",
      "metadata": {
        "id": "view-in-github",
        "colab_type": "text"
      },
      "source": [
        "<a href=\"https://colab.research.google.com/github/solharsh/ML_Repository_University_Of_Chicago_PGD/blob/master/Basics_Gradient_Boosting.ipynb\" target=\"_parent\"><img src=\"https://colab.research.google.com/assets/colab-badge.svg\" alt=\"Open In Colab\"/></a>"
      ]
    },
    {
      "cell_type": "markdown",
      "metadata": {
        "id": "HvwGVqP2NM_E",
        "colab_type": "text"
      },
      "source": [
        "#Gradient Boosting Ensemble "
      ]
    },
    {
      "cell_type": "code",
      "metadata": {
        "id": "vOMga5D1NNln",
        "colab_type": "code",
        "colab": {}
      },
      "source": [
        "#Load the Boston house-prices dataset from scikit-learn datasets.\n",
        "\n",
        "from sklearn.datasets import load_boston\n",
        "boston_housing_data = load_boston()"
      ],
      "execution_count": 0,
      "outputs": []
    },
    {
      "cell_type": "code",
      "metadata": {
        "id": "tz2Gi051NQe8",
        "colab_type": "code",
        "colab": {
          "base_uri": "https://localhost:8080/",
          "height": 944
        },
        "outputId": "efabdb85-e76b-439c-9bd8-addb89167d3e"
      },
      "source": [
        "#Print dataset description.\n",
        "\n",
        "print(boston_housing_data.DESCR)"
      ],
      "execution_count": 3,
      "outputs": [
        {
          "output_type": "stream",
          "text": [
            ".. _boston_dataset:\n",
            "\n",
            "Boston house prices dataset\n",
            "---------------------------\n",
            "\n",
            "**Data Set Characteristics:**  \n",
            "\n",
            "    :Number of Instances: 506 \n",
            "\n",
            "    :Number of Attributes: 13 numeric/categorical predictive. Median Value (attribute 14) is usually the target.\n",
            "\n",
            "    :Attribute Information (in order):\n",
            "        - CRIM     per capita crime rate by town\n",
            "        - ZN       proportion of residential land zoned for lots over 25,000 sq.ft.\n",
            "        - INDUS    proportion of non-retail business acres per town\n",
            "        - CHAS     Charles River dummy variable (= 1 if tract bounds river; 0 otherwise)\n",
            "        - NOX      nitric oxides concentration (parts per 10 million)\n",
            "        - RM       average number of rooms per dwelling\n",
            "        - AGE      proportion of owner-occupied units built prior to 1940\n",
            "        - DIS      weighted distances to five Boston employment centres\n",
            "        - RAD      index of accessibility to radial highways\n",
            "        - TAX      full-value property-tax rate per $10,000\n",
            "        - PTRATIO  pupil-teacher ratio by town\n",
            "        - B        1000(Bk - 0.63)^2 where Bk is the proportion of blacks by town\n",
            "        - LSTAT    % lower status of the population\n",
            "        - MEDV     Median value of owner-occupied homes in $1000's\n",
            "\n",
            "    :Missing Attribute Values: None\n",
            "\n",
            "    :Creator: Harrison, D. and Rubinfeld, D.L.\n",
            "\n",
            "This is a copy of UCI ML housing dataset.\n",
            "https://archive.ics.uci.edu/ml/machine-learning-databases/housing/\n",
            "\n",
            "\n",
            "This dataset was taken from the StatLib library which is maintained at Carnegie Mellon University.\n",
            "\n",
            "The Boston house-price data of Harrison, D. and Rubinfeld, D.L. 'Hedonic\n",
            "prices and the demand for clean air', J. Environ. Economics & Management,\n",
            "vol.5, 81-102, 1978.   Used in Belsley, Kuh & Welsch, 'Regression diagnostics\n",
            "...', Wiley, 1980.   N.B. Various transformations are used in the table on\n",
            "pages 244-261 of the latter.\n",
            "\n",
            "The Boston house-price data has been used in many machine learning papers that address regression\n",
            "problems.   \n",
            "     \n",
            ".. topic:: References\n",
            "\n",
            "   - Belsley, Kuh & Welsch, 'Regression diagnostics: Identifying Influential Data and Sources of Collinearity', Wiley, 1980. 244-261.\n",
            "   - Quinlan,R. (1993). Combining Instance-Based and Model-Based Learning. In Proceedings on the Tenth International Conference of Machine Learning, 236-243, University of Massachusetts, Amherst. Morgan Kaufmann.\n",
            "\n"
          ],
          "name": "stdout"
        }
      ]
    },
    {
      "cell_type": "code",
      "metadata": {
        "id": "LK22xkT8Navi",
        "colab_type": "code",
        "colab": {}
      },
      "source": [
        "#Split the data into train and test sets.\n",
        "from sklearn.model_selection import train_test_split\n",
        "X_train, X_test, Y_train, Y_test = train_test_split(boston_housing_data.data, boston_housing_data.target, test_size=0.33,\\\n",
        "                                                    random_state=123)\n"
      ],
      "execution_count": 0,
      "outputs": []
    },
    {
      "cell_type": "code",
      "metadata": {
        "id": "Rxd-JvN5Nf-g",
        "colab_type": "code",
        "colab": {}
      },
      "source": [
        "#Create a Gradient Boosting ensemble of 250 Decision Tree Regressors.\n",
        "\n",
        "from sklearn.ensemble import GradientBoostingRegressor\n",
        "gb_model = GradientBoostingRegressor(max_depth=2, n_estimators=250, learning_rate=0.01, random_state=123)"
      ],
      "execution_count": 0,
      "outputs": []
    },
    {
      "cell_type": "code",
      "metadata": {
        "id": "rC7URVSXNiWm",
        "colab_type": "code",
        "colab": {
          "base_uri": "https://localhost:8080/",
          "height": 177
        },
        "outputId": "52f7192f-8875-4276-dd22-2df5a569784d"
      },
      "source": [
        "#Train the model on training data.\n",
        "\n",
        "gb_model.fit(X_train, Y_train)"
      ],
      "execution_count": 6,
      "outputs": [
        {
          "output_type": "execute_result",
          "data": {
            "text/plain": [
              "GradientBoostingRegressor(alpha=0.9, ccp_alpha=0.0, criterion='friedman_mse',\n",
              "                          init=None, learning_rate=0.01, loss='ls', max_depth=2,\n",
              "                          max_features=None, max_leaf_nodes=None,\n",
              "                          min_impurity_decrease=0.0, min_impurity_split=None,\n",
              "                          min_samples_leaf=1, min_samples_split=2,\n",
              "                          min_weight_fraction_leaf=0.0, n_estimators=250,\n",
              "                          n_iter_no_change=None, presort='deprecated',\n",
              "                          random_state=123, subsample=1.0, tol=0.0001,\n",
              "                          validation_fraction=0.1, verbose=0, warm_start=False)"
            ]
          },
          "metadata": {
            "tags": []
          },
          "execution_count": 6
        }
      ]
    },
    {
      "cell_type": "code",
      "metadata": {
        "id": "zVjxg-myNk-2",
        "colab_type": "code",
        "colab": {}
      },
      "source": [
        "predictions = gb_model.predict(X_test)"
      ],
      "execution_count": 0,
      "outputs": []
    },
    {
      "cell_type": "code",
      "metadata": {
        "id": "9Zl6Vqc3Nmfi",
        "colab_type": "code",
        "colab": {
          "base_uri": "https://localhost:8080/",
          "height": 35
        },
        "outputId": "0207c9cf-703f-4954-ff58-166af5c21669"
      },
      "source": [
        "#Measure the accuracy of the model on test data.\n",
        "\n",
        "from sklearn.metrics import r2_score, mean_squared_error\n",
        "r2_score(Y_test, predictions)"
      ],
      "execution_count": 8,
      "outputs": [
        {
          "output_type": "execute_result",
          "data": {
            "text/plain": [
              "0.8009337136014049"
            ]
          },
          "metadata": {
            "tags": []
          },
          "execution_count": 8
        }
      ]
    },
    {
      "cell_type": "code",
      "metadata": {
        "id": "3-IOWMM3Note",
        "colab_type": "code",
        "colab": {
          "base_uri": "https://localhost:8080/",
          "height": 35
        },
        "outputId": "b68e0196-5259-4d13-cfd7-009abf5550d0"
      },
      "source": [
        "mean_squared_error(Y_test, predictions)"
      ],
      "execution_count": 9,
      "outputs": [
        {
          "output_type": "execute_result",
          "data": {
            "text/plain": [
              "17.13142647609545"
            ]
          },
          "metadata": {
            "tags": []
          },
          "execution_count": 9
        }
      ]
    },
    {
      "cell_type": "code",
      "metadata": {
        "id": "yYjeagSBNqCZ",
        "colab_type": "code",
        "colab": {
          "base_uri": "https://localhost:8080/",
          "height": 248
        },
        "outputId": "a45139ed-6970-4c2c-bfd3-3197951e5411"
      },
      "source": [
        "#Print features in decreasing order of importance, along with relative importance value.\n",
        "\n",
        "feature_list = []\n",
        "for name, score in zip(boston_housing_data.feature_names, gb_model.feature_importances_):\n",
        "    feature_list.append((score, name))\n",
        "sorted(feature_list, reverse=True)"
      ],
      "execution_count": 10,
      "outputs": [
        {
          "output_type": "execute_result",
          "data": {
            "text/plain": [
              "[(0.48724952988601333, 'RM'),\n",
              " (0.3966212016144727, 'LSTAT'),\n",
              " (0.03961542350044867, 'DIS'),\n",
              " (0.026429597789587013, 'NOX'),\n",
              " (0.022101392012282967, 'PTRATIO'),\n",
              " (0.02125757480123297, 'CRIM'),\n",
              " (0.00632349631459341, 'AGE'),\n",
              " (0.0004017840813691007, 'TAX'),\n",
              " (0.0, 'ZN'),\n",
              " (0.0, 'RAD'),\n",
              " (0.0, 'INDUS'),\n",
              " (0.0, 'CHAS'),\n",
              " (0.0, 'B')]"
            ]
          },
          "metadata": {
            "tags": []
          },
          "execution_count": 10
        }
      ]
    }
  ]
}
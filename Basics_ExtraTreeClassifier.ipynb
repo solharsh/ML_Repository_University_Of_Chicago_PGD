{
  "nbformat": 4,
  "nbformat_minor": 0,
  "metadata": {
    "colab": {
      "name": "Basics_ExtraTreeClassifier.ipynb",
      "provenance": [],
      "authorship_tag": "ABX9TyOkAf2xbKKAFnuu/OPB6/wi",
      "include_colab_link": true
    },
    "kernelspec": {
      "name": "python3",
      "display_name": "Python 3"
    }
  },
  "cells": [
    {
      "cell_type": "markdown",
      "metadata": {
        "id": "view-in-github",
        "colab_type": "text"
      },
      "source": [
        "<a href=\"https://colab.research.google.com/github/solharsh/ML_Repository_University_Of_Chicago_PGD/blob/master/Basics_ExtraTreeClassifier.ipynb\" target=\"_parent\"><img src=\"https://colab.research.google.com/assets/colab-badge.svg\" alt=\"Open In Colab\"/></a>"
      ]
    },
    {
      "cell_type": "markdown",
      "metadata": {
        "id": "yYZLSC7BHNfv",
        "colab_type": "text"
      },
      "source": [
        "# Extra Tree Classifier Ensemble"
      ]
    },
    {
      "cell_type": "code",
      "metadata": {
        "id": "qwQlinOuHPy4",
        "colab_type": "code",
        "colab": {}
      },
      "source": [
        "#Load the breast cancer wisconsin dataset from scikit-learn datasets.\n",
        "\n",
        "from sklearn.datasets import load_breast_cancer\n",
        "bcancer_data = load_breast_cancer()"
      ],
      "execution_count": 0,
      "outputs": []
    },
    {
      "cell_type": "code",
      "metadata": {
        "id": "n4A2V_c5HS0J",
        "colab_type": "code",
        "colab": {}
      },
      "source": [
        "#Split the data into train and test sets.\n",
        "from sklearn.model_selection import train_test_split\n",
        "X_train, X_test, Y_train, Y_test = train_test_split(bcancer_data.data, bcancer_data.target, test_size=0.2, random_state=123)"
      ],
      "execution_count": 0,
      "outputs": []
    },
    {
      "cell_type": "code",
      "metadata": {
        "id": "0X5sFyIWHWDU",
        "colab_type": "code",
        "colab": {}
      },
      "source": [
        "#Create a Extremely randomized trees ensemble with 500 Decision Tree classifiers.\n",
        "from sklearn.ensemble import ExtraTreesClassifier\n",
        "\n",
        "extra_model = ExtraTreesClassifier(n_estimators=500, n_jobs=-1, bootstrap=True, random_state=123)"
      ],
      "execution_count": 0,
      "outputs": []
    },
    {
      "cell_type": "code",
      "metadata": {
        "id": "bgigbFQRHX9z",
        "colab_type": "code",
        "colab": {
          "base_uri": "https://localhost:8080/",
          "height": 159
        },
        "outputId": "0ff23330-1860-4a10-9068-df6bd5f0e87a"
      },
      "source": [
        "#Train the model on training data.\n",
        "\n",
        "extra_model.fit(X_train, Y_train)"
      ],
      "execution_count": 5,
      "outputs": [
        {
          "output_type": "execute_result",
          "data": {
            "text/plain": [
              "ExtraTreesClassifier(bootstrap=True, ccp_alpha=0.0, class_weight=None,\n",
              "                     criterion='gini', max_depth=None, max_features='auto',\n",
              "                     max_leaf_nodes=None, max_samples=None,\n",
              "                     min_impurity_decrease=0.0, min_impurity_split=None,\n",
              "                     min_samples_leaf=1, min_samples_split=2,\n",
              "                     min_weight_fraction_leaf=0.0, n_estimators=500, n_jobs=-1,\n",
              "                     oob_score=False, random_state=123, verbose=0,\n",
              "                     warm_start=False)"
            ]
          },
          "metadata": {
            "tags": []
          },
          "execution_count": 5
        }
      ]
    },
    {
      "cell_type": "code",
      "metadata": {
        "id": "3YC8eEiLHdI3",
        "colab_type": "code",
        "colab": {
          "base_uri": "https://localhost:8080/",
          "height": 35
        },
        "outputId": "37515535-bd07-4edd-b2e3-1d9274992666"
      },
      "source": [
        "#Make predictions on the test set.\n",
        "\n",
        "predictions = extra_model.predict(X_test)\n",
        "\n",
        "#Measure the accuracy of the model on test data.\n",
        "\n",
        "from sklearn.metrics import accuracy_score\n",
        "accuracy_score(Y_test, predictions)"
      ],
      "execution_count": 6,
      "outputs": [
        {
          "output_type": "execute_result",
          "data": {
            "text/plain": [
              "0.9824561403508771"
            ]
          },
          "metadata": {
            "tags": []
          },
          "execution_count": 6
        }
      ]
    },
    {
      "cell_type": "code",
      "metadata": {
        "id": "YzmHkXPBHiaT",
        "colab_type": "code",
        "colab": {
          "base_uri": "https://localhost:8080/",
          "height": 550
        },
        "outputId": "9e6dc6cc-22cc-4a4c-96b0-d8481fc87361"
      },
      "source": [
        "#Print features in decreasing order of importance, along with relative importance value.\n",
        "\n",
        "feature_list = []\n",
        "for name, score in zip(bcancer_data.feature_names, extra_model.feature_importances_):\n",
        "    feature_list.append((score, name))\n",
        "sorted(feature_list, reverse=True)"
      ],
      "execution_count": 7,
      "outputs": [
        {
          "output_type": "execute_result",
          "data": {
            "text/plain": [
              "[(0.09649466131563397, 'worst concave points'),\n",
              " (0.08138615517110412, 'worst radius'),\n",
              " (0.07843088634816546, 'worst perimeter'),\n",
              " (0.07372720064356585, 'mean concave points'),\n",
              " (0.07261842836400263, 'worst area'),\n",
              " (0.06611565146090438, 'mean radius'),\n",
              " (0.05789074099768075, 'mean concavity'),\n",
              " (0.057347227139725704, 'mean perimeter'),\n",
              " (0.05362017772838347, 'mean area'),\n",
              " (0.04344664341041733, 'worst concavity'),\n",
              " (0.03332956291692655, 'area error'),\n",
              " (0.029429859006074015, 'worst compactness'),\n",
              " (0.02860114984249344, 'radius error'),\n",
              " (0.02788398370219949, 'mean compactness'),\n",
              " (0.026837859864239193, 'perimeter error'),\n",
              " (0.02471272105526977, 'worst smoothness'),\n",
              " (0.0235436376315162, 'worst texture'),\n",
              " (0.019691494938919266, 'mean texture'),\n",
              " (0.013522364944010101, 'worst symmetry'),\n",
              " (0.012434760666526472, 'worst fractal dimension'),\n",
              " (0.010728474882786417, 'mean smoothness'),\n",
              " (0.01017973084107786, 'concave points error'),\n",
              " (0.00896856976448004, 'concavity error'),\n",
              " (0.0077485134752402355, 'fractal dimension error'),\n",
              " (0.0076595011996283035, 'mean symmetry'),\n",
              " (0.007174546242880803, 'compactness error'),\n",
              " (0.007027551293182165, 'symmetry error'),\n",
              " (0.006910907867304808, 'smoothness error'),\n",
              " (0.006687346776094332, 'mean fractal dimension'),\n",
              " (0.005849690509566806, 'texture error')]"
            ]
          },
          "metadata": {
            "tags": []
          },
          "execution_count": 7
        }
      ]
    }
  ]
}
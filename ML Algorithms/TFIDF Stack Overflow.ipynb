{
 "cells": [
  {
   "cell_type": "code",
   "execution_count": 1,
   "metadata": {},
   "outputs": [],
   "source": [
    "import pandas as pd\n",
    "import numpy as np"
   ]
  },
  {
   "cell_type": "code",
   "execution_count": 2,
   "metadata": {},
   "outputs": [],
   "source": [
    "data = pd.read_csv(r\"C:\\Users\\solharsh\\Desktop\\Data Science\\Machine Learning\\Jigsaw\\RNN and LSTM\\Preclass Codes-2\\69. Working with Embedding Layers in Keras\\stack-overflow-data.csv\")"
   ]
  },
  {
   "cell_type": "code",
   "execution_count": 3,
   "metadata": {},
   "outputs": [
    {
     "data": {
      "text/html": [
       "<div>\n",
       "<style scoped>\n",
       "    .dataframe tbody tr th:only-of-type {\n",
       "        vertical-align: middle;\n",
       "    }\n",
       "\n",
       "    .dataframe tbody tr th {\n",
       "        vertical-align: top;\n",
       "    }\n",
       "\n",
       "    .dataframe thead th {\n",
       "        text-align: right;\n",
       "    }\n",
       "</style>\n",
       "<table border=\"1\" class=\"dataframe\">\n",
       "  <thead>\n",
       "    <tr style=\"text-align: right;\">\n",
       "      <th></th>\n",
       "      <th>post</th>\n",
       "      <th>tags</th>\n",
       "    </tr>\n",
       "  </thead>\n",
       "  <tbody>\n",
       "    <tr>\n",
       "      <td>0</td>\n",
       "      <td>what is causing this behavior  in our c# datet...</td>\n",
       "      <td>c#</td>\n",
       "    </tr>\n",
       "    <tr>\n",
       "      <td>1</td>\n",
       "      <td>have dynamic html load as if it was in an ifra...</td>\n",
       "      <td>asp.net</td>\n",
       "    </tr>\n",
       "    <tr>\n",
       "      <td>2</td>\n",
       "      <td>how to convert a float value in to min:sec  i ...</td>\n",
       "      <td>objective-c</td>\n",
       "    </tr>\n",
       "    <tr>\n",
       "      <td>3</td>\n",
       "      <td>.net framework 4 redistributable  just wonderi...</td>\n",
       "      <td>.net</td>\n",
       "    </tr>\n",
       "    <tr>\n",
       "      <td>4</td>\n",
       "      <td>trying to calculate and print the mean and its...</td>\n",
       "      <td>python</td>\n",
       "    </tr>\n",
       "  </tbody>\n",
       "</table>\n",
       "</div>"
      ],
      "text/plain": [
       "                                                post         tags\n",
       "0  what is causing this behavior  in our c# datet...           c#\n",
       "1  have dynamic html load as if it was in an ifra...      asp.net\n",
       "2  how to convert a float value in to min:sec  i ...  objective-c\n",
       "3  .net framework 4 redistributable  just wonderi...         .net\n",
       "4  trying to calculate and print the mean and its...       python"
      ]
     },
     "execution_count": 3,
     "metadata": {},
     "output_type": "execute_result"
    }
   ],
   "source": [
    "data.head()"
   ]
  },
  {
   "cell_type": "code",
   "execution_count": 4,
   "metadata": {},
   "outputs": [],
   "source": [
    "X=data['post']\n",
    "Y=data['tags']"
   ]
  },
  {
   "cell_type": "code",
   "execution_count": 5,
   "metadata": {},
   "outputs": [
    {
     "data": {
      "text/plain": [
       "0    what is causing this behavior  in our c# datet...\n",
       "1    have dynamic html load as if it was in an ifra...\n",
       "2    how to convert a float value in to min:sec  i ...\n",
       "3    .net framework 4 redistributable  just wonderi...\n",
       "4    trying to calculate and print the mean and its...\n",
       "Name: post, dtype: object"
      ]
     },
     "execution_count": 5,
     "metadata": {},
     "output_type": "execute_result"
    }
   ],
   "source": [
    "X.head()"
   ]
  },
  {
   "cell_type": "code",
   "execution_count": 6,
   "metadata": {},
   "outputs": [
    {
     "data": {
      "text/plain": [
       "0             c#\n",
       "1        asp.net\n",
       "2    objective-c\n",
       "3           .net\n",
       "4         python\n",
       "Name: tags, dtype: object"
      ]
     },
     "execution_count": 6,
     "metadata": {},
     "output_type": "execute_result"
    }
   ],
   "source": [
    "Y.head()"
   ]
  },
  {
   "cell_type": "code",
   "execution_count": 7,
   "metadata": {},
   "outputs": [
    {
     "data": {
      "text/plain": [
       "array(['c#', 'asp.net', 'objective-c', '.net', 'python', 'angularjs',\n",
       "       'iphone', 'ruby-on-rails', 'ios', 'c', 'sql', 'java', 'jquery',\n",
       "       'css', 'c++', 'php', 'android', 'mysql', 'javascript', 'html'],\n",
       "      dtype=object)"
      ]
     },
     "execution_count": 7,
     "metadata": {},
     "output_type": "execute_result"
    }
   ],
   "source": [
    "Y.unique()"
   ]
  },
  {
   "cell_type": "code",
   "execution_count": 15,
   "metadata": {},
   "outputs": [],
   "source": [
    "import sklearn.feature_extraction.text as text"
   ]
  },
  {
   "cell_type": "code",
   "execution_count": 16,
   "metadata": {},
   "outputs": [],
   "source": [
    "from sklearn.model_selection import train_test_split"
   ]
  },
  {
   "cell_type": "code",
   "execution_count": 66,
   "metadata": {},
   "outputs": [],
   "source": [
    "X_train,X_test,Y_train,Y_test=train_test_split(X,Y,test_size=0.10,random_state=200)"
   ]
  },
  {
   "cell_type": "code",
   "execution_count": 67,
   "metadata": {},
   "outputs": [
    {
     "data": {
      "text/plain": [
       "21805    is there an library to support nsdictionary tr...\n",
       "25783    replacing fileinputstream with getresourceasst...\n",
       "34843    how to email the current screen of ios app in ...\n",
       "16332    how to create the nscalender and gregorian cal...\n",
       "32383    is it possible to check what the client is sen...\n",
       "Name: post, dtype: object"
      ]
     },
     "execution_count": 67,
     "metadata": {},
     "output_type": "execute_result"
    }
   ],
   "source": [
    "X_train.head()"
   ]
  },
  {
   "cell_type": "code",
   "execution_count": 68,
   "metadata": {},
   "outputs": [],
   "source": [
    "#TFIDF Representation"
   ]
  },
  {
   "cell_type": "code",
   "execution_count": 69,
   "metadata": {},
   "outputs": [],
   "source": [
    "tfidf = text.TfidfVectorizer(input=X_train.tolist(),stop_words='english',max_features=1000,ngram_range=(1,1))"
   ]
  },
  {
   "cell_type": "code",
   "execution_count": 70,
   "metadata": {},
   "outputs": [],
   "source": [
    "X_train = tfidf.fit_transform(X_train.tolist())"
   ]
  },
  {
   "cell_type": "code",
   "execution_count": 71,
   "metadata": {},
   "outputs": [],
   "source": [
    "X_test = tfidf.transform(X_test.tolist())"
   ]
  },
  {
   "cell_type": "code",
   "execution_count": 72,
   "metadata": {},
   "outputs": [
    {
     "data": {
      "text/plain": [
       "(36000, 1000)"
      ]
     },
     "execution_count": 72,
     "metadata": {},
     "output_type": "execute_result"
    }
   ],
   "source": [
    "X_train.shape"
   ]
  },
  {
   "cell_type": "code",
   "execution_count": 73,
   "metadata": {},
   "outputs": [
    {
     "data": {
      "text/plain": [
       "(4000, 1000)"
      ]
     },
     "execution_count": 73,
     "metadata": {},
     "output_type": "execute_result"
    }
   ],
   "source": [
    "X_test.shape"
   ]
  },
  {
   "cell_type": "code",
   "execution_count": 74,
   "metadata": {},
   "outputs": [
    {
     "data": {
      "text/plain": [
       "0             c#\n",
       "1        asp.net\n",
       "2    objective-c\n",
       "3           .net\n",
       "4         python\n",
       "Name: tags, dtype: object"
      ]
     },
     "execution_count": 74,
     "metadata": {},
     "output_type": "execute_result"
    }
   ],
   "source": [
    "Y.head()"
   ]
  },
  {
   "cell_type": "code",
   "execution_count": 75,
   "metadata": {},
   "outputs": [],
   "source": [
    "#Need to convert these tags to integer representation and then do a one hot encoding"
   ]
  },
  {
   "cell_type": "code",
   "execution_count": 76,
   "metadata": {},
   "outputs": [],
   "source": [
    "from sklearn.preprocessing import LabelEncoder"
   ]
  },
  {
   "cell_type": "code",
   "execution_count": 77,
   "metadata": {},
   "outputs": [],
   "source": [
    "enc = LabelEncoder()"
   ]
  },
  {
   "cell_type": "code",
   "execution_count": 78,
   "metadata": {},
   "outputs": [
    {
     "data": {
      "text/plain": [
       "LabelEncoder()"
      ]
     },
     "execution_count": 78,
     "metadata": {},
     "output_type": "execute_result"
    }
   ],
   "source": [
    "enc.fit(data['tags'])"
   ]
  },
  {
   "cell_type": "code",
   "execution_count": 79,
   "metadata": {},
   "outputs": [],
   "source": [
    "Y_train = enc.transform(Y_train)"
   ]
  },
  {
   "cell_type": "code",
   "execution_count": 80,
   "metadata": {},
   "outputs": [],
   "source": [
    "Y_test = enc.transform(Y_test)"
   ]
  },
  {
   "cell_type": "code",
   "execution_count": 81,
   "metadata": {},
   "outputs": [
    {
     "data": {
      "text/plain": [
       "array([15, 11, 15, ...,  5,  3, 18])"
      ]
     },
     "execution_count": 81,
     "metadata": {},
     "output_type": "execute_result"
    }
   ],
   "source": [
    "Y_train"
   ]
  },
  {
   "cell_type": "code",
   "execution_count": 82,
   "metadata": {},
   "outputs": [
    {
     "data": {
      "text/plain": [
       "array(['.net', 'android', 'angularjs', 'asp.net', 'c', 'c#', 'c++', 'css',\n",
       "       'html', 'ios', 'iphone', 'java', 'javascript', 'jquery', 'mysql',\n",
       "       'objective-c', 'php', 'python', 'ruby-on-rails', 'sql'],\n",
       "      dtype=object)"
      ]
     },
     "execution_count": 82,
     "metadata": {},
     "output_type": "execute_result"
    }
   ],
   "source": [
    "enc.classes_ #to understand encoding"
   ]
  },
  {
   "cell_type": "code",
   "execution_count": 83,
   "metadata": {},
   "outputs": [],
   "source": [
    "from keras.models import Sequential"
   ]
  },
  {
   "cell_type": "code",
   "execution_count": 84,
   "metadata": {},
   "outputs": [],
   "source": [
    "from keras.layers import Dense,Dropout"
   ]
  },
  {
   "cell_type": "code",
   "execution_count": 85,
   "metadata": {},
   "outputs": [],
   "source": [
    "from keras.utils import to_categorical #create one hot encoded version"
   ]
  },
  {
   "cell_type": "code",
   "execution_count": 86,
   "metadata": {},
   "outputs": [],
   "source": [
    "Y_train = to_categorical(Y_train)"
   ]
  },
  {
   "cell_type": "code",
   "execution_count": 87,
   "metadata": {},
   "outputs": [
    {
     "data": {
      "text/plain": [
       "array([[0., 0., 0., ..., 0., 0., 0.],\n",
       "       [0., 0., 0., ..., 0., 0., 0.],\n",
       "       [0., 0., 0., ..., 0., 0., 0.],\n",
       "       ...,\n",
       "       [0., 0., 0., ..., 0., 0., 0.],\n",
       "       [0., 0., 0., ..., 0., 0., 0.],\n",
       "       [0., 0., 0., ..., 0., 1., 0.]], dtype=float32)"
      ]
     },
     "execution_count": 87,
     "metadata": {},
     "output_type": "execute_result"
    }
   ],
   "source": [
    "Y_train"
   ]
  },
  {
   "cell_type": "code",
   "execution_count": 88,
   "metadata": {},
   "outputs": [],
   "source": [
    "model = Sequential()"
   ]
  },
  {
   "cell_type": "code",
   "execution_count": 89,
   "metadata": {},
   "outputs": [],
   "source": [
    "model.add(Dense(512,input_shape=(1000,),activation='relu'))\n",
    "model.add(Dropout(0.5))\n",
    "model.add(Dense(20,activation='softmax'))"
   ]
  },
  {
   "cell_type": "code",
   "execution_count": 90,
   "metadata": {},
   "outputs": [],
   "source": [
    "model.compile(loss=\"categorical_crossentropy\",optimizer=\"adam\",metrics=['accuracy'])"
   ]
  },
  {
   "cell_type": "code",
   "execution_count": 92,
   "metadata": {},
   "outputs": [
    {
     "name": "stdout",
     "output_type": "stream",
     "text": [
      "Train on 32400 samples, validate on 3600 samples\n",
      "Epoch 1/10\n",
      "32400/32400 [==============================] - 36s 1ms/step - loss: 0.5549 - accuracy: 0.8219 - val_loss: 0.6324 - val_accuracy: 0.8039\n",
      "Epoch 2/10\n",
      "32400/32400 [==============================] - 32s 984us/step - loss: 0.5043 - accuracy: 0.8344 - val_loss: 0.6309 - val_accuracy: 0.8053\n",
      "Epoch 3/10\n",
      "32400/32400 [==============================] - 19s 588us/step - loss: 0.4661 - accuracy: 0.8475 - val_loss: 0.6400 - val_accuracy: 0.8014\n",
      "Epoch 4/10\n",
      "32400/32400 [==============================] - 19s 582us/step - loss: 0.4265 - accuracy: 0.8595 - val_loss: 0.6457 - val_accuracy: 0.8025\n",
      "Epoch 5/10\n",
      "32400/32400 [==============================] - 26s 810us/step - loss: 0.3918 - accuracy: 0.8705 - val_loss: 0.6598 - val_accuracy: 0.8017\n",
      "Epoch 6/10\n",
      "32400/32400 [==============================] - 46s 1ms/step - loss: 0.3579 - accuracy: 0.8801 - val_loss: 0.6651 - val_accuracy: 0.8031\n",
      "Epoch 7/10\n",
      "32400/32400 [==============================] - 26s 801us/step - loss: 0.3297 - accuracy: 0.8913 - val_loss: 0.6778 - val_accuracy: 0.8050\n",
      "Epoch 8/10\n",
      "32400/32400 [==============================] - 20s 604us/step - loss: 0.2999 - accuracy: 0.9009 - val_loss: 0.6911 - val_accuracy: 0.8022\n",
      "Epoch 9/10\n",
      "32400/32400 [==============================] - 21s 646us/step - loss: 0.2686 - accuracy: 0.9125 - val_loss: 0.7139 - val_accuracy: 0.8000\n",
      "Epoch 10/10\n",
      "32400/32400 [==============================] - 19s 600us/step - loss: 0.2436 - accuracy: 0.9206 - val_loss: 0.7289 - val_accuracy: 0.7975\n"
     ]
    },
    {
     "data": {
      "text/plain": [
       "<keras.callbacks.callbacks.History at 0x1de0b3fab08>"
      ]
     },
     "execution_count": 92,
     "metadata": {},
     "output_type": "execute_result"
    }
   ],
   "source": [
    "model.fit(X_train,Y_train,epochs=10,batch_size=32,verbose=1,validation_split=0.10)"
   ]
  },
  {
   "cell_type": "code",
   "execution_count": 93,
   "metadata": {},
   "outputs": [],
   "source": [
    "#We got the occuracy of 92% with validation accuraty of 79.7%"
   ]
  },
  {
   "cell_type": "code",
   "execution_count": 94,
   "metadata": {},
   "outputs": [],
   "source": [
    "#A sample question from stack overflow. We will be predicting the class of this question\n",
    "\n",
    "q='''\n",
    "\n",
    "I am new to luigi, came across it while designing a pipeline for our ML efforts and though it wasn't fitted to my particular use case it had so many extra features I decided to fit it to my use case, basically what I was looking for was a way to be able to persist a custom built pipeline and thus have its result repeatable, after reading most of the online tutorials I tried to implement my serialization using the existing luigi.cfg configuration and command line mechanisms and it might have sufficed for the tasks' parameters but it provided no way of serializing the DAG connectivity of my pipeline, so I decided to have a WrapperTask which received a json config file which would create all the task instances and connect all the plumbing. I hereby enclose a small test program for your scrutiny:\n",
    "\n",
    "import random\n",
    "import luigi\n",
    "import time\n",
    "import os\n",
    "\n",
    "\n",
    "class TaskNode(luigi.Task):\n",
    "    i = luigi.IntParameter()  # node ID\n",
    "\n",
    "    def __init__(self, *args, **kwargs):\n",
    "        super().__init__(*args, **kwargs)\n",
    "        self.required = []\n",
    "\n",
    "    def set_required(self, required=None):\n",
    "        self.required = required  # set the dependencies\n",
    "        return self\n",
    "\n",
    "    def requires(self):\n",
    "        return self.required\n",
    "\n",
    "    def output(self):\n",
    "        return luigi.LocalTarget('{0}{1}.txt'.format(self.__class__.__name__, self.i))\n",
    "\n",
    "    def run(self):\n",
    "        with self.output().open('w') as outfile:\n",
    "            outfile.write('inside {0}{1}\\n'.format(self.__class__.__name__, self.i))\n",
    "        self.process()\n",
    "\n",
    "    def process(self):\n",
    "        raise NotImplementedError(self.__class__.__name__ + \" must implement this method\")\n",
    "\n",
    "\n",
    "class FastNode(TaskNode):\n",
    "\n",
    "    def process(self):\n",
    "        time.sleep(1)\n",
    "\n",
    "\n",
    "class SlowNode(TaskNode):\n",
    "\n",
    "    def process(self):\n",
    "        time.sleep(2)\n",
    "\n",
    "\n",
    "# This WrapperTask builds all the nodes \n",
    "class All(luigi.WrapperTask):\n",
    "\n",
    "    def __init__(self, *args, **kwargs):\n",
    "        super().__init__(*args, **kwargs)\n",
    "\n",
    "        num_nodes = 513\n",
    "\n",
    "        classes = TaskNode.__subclasses__()\n",
    "        self.nodes = []\n",
    "        for i in reversed(range(num_nodes)):\n",
    "            cls = random.choice(classes)\n",
    "\n",
    "            dependencies = random.sample(self.nodes, (num_nodes - i) // 35)\n",
    "\n",
    "            obj = cls(i=i)\n",
    "            if dependencies:\n",
    "                obj.set_required(required=dependencies)\n",
    "            else:\n",
    "                obj.set_required(required=None)\n",
    "\n",
    "            # delete existing output causing a build all\n",
    "            if obj.output().exists():\n",
    "                obj.output().remove()  \n",
    "\n",
    "            self.nodes.append(obj)\n",
    "\n",
    "    def requires(self):\n",
    "        return self.nodes\n",
    "\n",
    "\n",
    "if __name__ == '__main__':\n",
    "    luigi.run()\n",
    "So, basically, as states in the question title, this focuses on the dynamic dependencies and generates a 513 node dependency DAG with p=1/35 connectivity probability, it also makes the All WrapperTask class require all nodes (I have a version which only connects it to heads of connected DAG components but I didn't want to over complicate).\n",
    "\n",
    "Is there a more standard way of implementing this? Especially note the not so pretty complication with the TaskNode init and set_required methods, I only did it this way because receiving parameters in the init method clashes somehow with the way luigi registers parameters. I also tried several other ways but this was basically the most decent one (that worked)\n",
    "\n",
    "If there isn't a standard way I'd still love to hear any insights you have on the way I plan to go before I implement the entire piping framework.'''"
   ]
  },
  {
   "cell_type": "code",
   "execution_count": 95,
   "metadata": {},
   "outputs": [],
   "source": [
    "q_v=tfidf.transform([q])"
   ]
  },
  {
   "cell_type": "code",
   "execution_count": 100,
   "metadata": {},
   "outputs": [
    {
     "data": {
      "text/plain": [
       "array([17], dtype=int64)"
      ]
     },
     "execution_count": 100,
     "metadata": {},
     "output_type": "execute_result"
    }
   ],
   "source": [
    "model.predict_classes(q_v)"
   ]
  },
  {
   "cell_type": "code",
   "execution_count": 101,
   "metadata": {},
   "outputs": [],
   "source": [
    "#we got the prediction to be class 17. Let's see what class 17 is"
   ]
  },
  {
   "cell_type": "code",
   "execution_count": 103,
   "metadata": {},
   "outputs": [
    {
     "data": {
      "text/plain": [
       "array(['python'], dtype=object)"
      ]
     },
     "execution_count": 103,
     "metadata": {},
     "output_type": "execute_result"
    }
   ],
   "source": [
    "enc.inverse_transform([17])"
   ]
  },
  {
   "cell_type": "code",
   "execution_count": 105,
   "metadata": {},
   "outputs": [],
   "source": [
    "#The model correctly classified the question to be of class python. Hurray!!"
   ]
  },
  {
   "cell_type": "code",
   "execution_count": 106,
   "metadata": {},
   "outputs": [],
   "source": [
    "z='''\n",
    "I'm trying to start a fragment programmatically. The function below works fine on its own. The problem here is, that I have to call the function from within another fragment. The call from the fragment to MainActivity works and is not the problem.\n",
    "\n",
    "public void gotoFragment1(){\n",
    "    Fragment1 fragment = new Fragment1();\n",
    "    FragmentTransaction transaction = getSupportFragmentManager().beginTransaction();\n",
    "    transaction.replace(R.id.nav_host_fragment, fragment);\n",
    "    transaction.addToBackStack(null);\n",
    "    transaction.commit();\n",
    "}\n",
    "If I try to call the function from another fragment the app crashes with the following stacktrace:\n",
    "\n",
    "java.lang.IllegalStateException: FragmentManager has not been attached to a host.\n",
    "    at androidx.fragment.app.FragmentManager.enqueueAction(FragmentManager.java:1727)\n",
    "    at androidx.fragment.app.BackStackRecord.commitInternal(BackStackRecord.java:321)\n",
    "    at androidx.fragment.app.BackStackRecord.commit(BackStackRecord.java:286)\n",
    "    at com.fewo.info.MainActivity.gotoVeranstaltungen(MainActivity.java:134)\n",
    "    at com.fewo.info.ui.home.HomeFragment$1.onClick(HomeFragment.java:53)\n",
    "How can I change the fragment with this code beeing called from within another fragment?'''"
   ]
  },
  {
   "cell_type": "code",
   "execution_count": 107,
   "metadata": {},
   "outputs": [],
   "source": [
    "z_v=tfidf.transform([z])"
   ]
  },
  {
   "cell_type": "code",
   "execution_count": 108,
   "metadata": {},
   "outputs": [
    {
     "data": {
      "text/plain": [
       "array([11], dtype=int64)"
      ]
     },
     "execution_count": 108,
     "metadata": {},
     "output_type": "execute_result"
    }
   ],
   "source": [
    "model.predict_classes(z_v)"
   ]
  },
  {
   "cell_type": "code",
   "execution_count": 110,
   "metadata": {},
   "outputs": [
    {
     "data": {
      "text/plain": [
       "array(['java'], dtype=object)"
      ]
     },
     "execution_count": 110,
     "metadata": {},
     "output_type": "execute_result"
    }
   ],
   "source": [
    "enc.inverse_transform([11])"
   ]
  },
  {
   "cell_type": "code",
   "execution_count": null,
   "metadata": {},
   "outputs": [],
   "source": []
  }
 ],
 "metadata": {
  "kernelspec": {
   "display_name": "Python 3",
   "language": "python",
   "name": "python3"
  },
  "language_info": {
   "codemirror_mode": {
    "name": "ipython",
    "version": 3
   },
   "file_extension": ".py",
   "mimetype": "text/x-python",
   "name": "python",
   "nbconvert_exporter": "python",
   "pygments_lexer": "ipython3",
   "version": "3.7.4"
  }
 },
 "nbformat": 4,
 "nbformat_minor": 2
}

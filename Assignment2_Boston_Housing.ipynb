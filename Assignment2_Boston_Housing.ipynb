{
  "nbformat": 4,
  "nbformat_minor": 0,
  "metadata": {
    "colab": {
      "name": "Assignment2_Boston_Housing.ipynb",
      "provenance": [],
      "mount_file_id": "1xhq8DhCThZ1hQwAZ3Seisv5S9cGhPAeX",
      "authorship_tag": "ABX9TyPhTeVn6n8SHeTKvczAwEt/",
      "include_colab_link": true
    },
    "kernelspec": {
      "name": "python3",
      "display_name": "Python 3"
    }
  },
  "cells": [
    {
      "cell_type": "markdown",
      "metadata": {
        "id": "view-in-github",
        "colab_type": "text"
      },
      "source": [
        "<a href=\"https://colab.research.google.com/github/solharsh/ML_Repository_University_Of_Chicago_PGD/blob/master/Assignment2_Boston_Housing.ipynb\" target=\"_parent\"><img src=\"https://colab.research.google.com/assets/colab-badge.svg\" alt=\"Open In Colab\"/></a>"
      ]
    },
    {
      "cell_type": "markdown",
      "metadata": {
        "id": "IwiLG8f-VDRp",
        "colab_type": "text"
      },
      "source": [
        "# Assignment 2"
      ]
    },
    {
      "cell_type": "markdown",
      "metadata": {
        "id": "QpgrjklSVFpW",
        "colab_type": "text"
      },
      "source": [
        "You are interested in building a model that will predict housing values in Boston suburbs using various predictor variables that you have available. This is your data set: boston.csvPreview the document (the number of attributes has been reduced from the original form)\n",
        "\n",
        "Use Multiple Linear Regression to build your model, with the median value of owner-occupied homes as the target variable and the rest as predictors.\n",
        "\n",
        "Determine the significance of these different predictors, and drop the ones that are not useful for your model. Document your work and explain your decision making as you build your model. Report your final model's accuracy.\n",
        "\n",
        "Upload your homework here as a Jupyter Notebook, a .ipynb file. You can also submit a second file converted to HTML (by going to file-->download as-->HTML).\n",
        "\n",
        "Data set Info:\n",
        "Title: Boston Housing Data\n",
        "Information: Concerns housing values in suburbs of Boston.\n",
        "Number of Observations: 506\n",
        "Number of Attributes: 9 (Original data set has 13 variables)\n",
        "Attribute Information:\n",
        "- 1. CRIM per capita crime rate by town\n",
        "- 2. INDUS proportion of non-retail business acres per town\n",
        "- 3. NOX nitric oxides concentration (parts per 10 million)\n",
        "- 4. RM average number of rooms per dwelling\n",
        "- 5. AGE proportion of owner-occupied units built prior to 1940\n",
        "- 6. DIS weighted distances to five Boston employment centres\n",
        "- 7. TAX full-value property-tax rate per \\$10,000\n",
        "- 8. PT pupil-teacher ratio by town\n",
        "- 9. B 1000(Bk - 0.63)^2 where Bk is the proportion of blacks by town\n",
        "- 10. MV Median value of owner-occupied homes in $1000's\n",
        "\n",
        " \n",
        "\n",
        "For more information on this dataset, see https://archive.ics.uci.edu/ml/machine-learning-databases/housing/housing.names"
      ]
    },
    {
      "cell_type": "markdown",
      "metadata": {
        "id": "4wYDhBhzVYgU",
        "colab_type": "text"
      },
      "source": [
        "## Method 1 : Multiple Linear Regression with \"Statsmodels\""
      ]
    },
    {
      "cell_type": "code",
      "metadata": {
        "id": "7_UioBZLVD47",
        "colab_type": "code",
        "colab": {
          "base_uri": "https://localhost:8080/",
          "height": 72
        },
        "outputId": "77532acb-2aa7-492c-b055-8283d23ebe0f"
      },
      "source": [
        "import statsmodels.api as sm #importing all important libraries for Statsmodels and Scikit-Learn\n",
        "import pandas as pd\n",
        "from sklearn.model_selection import train_test_split\n",
        "from sklearn.metrics import r2_score\n",
        "from sklearn.linear_model import LinearRegression"
      ],
      "execution_count": 2,
      "outputs": [
        {
          "output_type": "stream",
          "text": [
            "/usr/local/lib/python3.6/dist-packages/statsmodels/tools/_testing.py:19: FutureWarning: pandas.util.testing is deprecated. Use the functions in the public API at pandas.testing instead.\n",
            "  import pandas.util.testing as tm\n"
          ],
          "name": "stderr"
        }
      ]
    },
    {
      "cell_type": "code",
      "metadata": {
        "id": "WwCy3cv4VcSK",
        "colab_type": "code",
        "colab": {}
      },
      "source": [
        "df1 = pd.read_csv(\"/content/drive/My Drive/UC Machine Learning/Datasets/boston.csv\") #reading csv file from the local database"
      ],
      "execution_count": 0,
      "outputs": []
    },
    {
      "cell_type": "code",
      "metadata": {
        "id": "p6lamDZoVJzY",
        "colab_type": "code",
        "colab": {
          "base_uri": "https://localhost:8080/",
          "height": 200
        },
        "outputId": "52aac126-9ff3-4596-9be0-37085f1fb4cd"
      },
      "source": [
        "df1.head() #displaying top 5 rows"
      ],
      "execution_count": 4,
      "outputs": [
        {
          "output_type": "execute_result",
          "data": {
            "text/html": [
              "<div>\n",
              "<style scoped>\n",
              "    .dataframe tbody tr th:only-of-type {\n",
              "        vertical-align: middle;\n",
              "    }\n",
              "\n",
              "    .dataframe tbody tr th {\n",
              "        vertical-align: top;\n",
              "    }\n",
              "\n",
              "    .dataframe thead th {\n",
              "        text-align: right;\n",
              "    }\n",
              "</style>\n",
              "<table border=\"1\" class=\"dataframe\">\n",
              "  <thead>\n",
              "    <tr style=\"text-align: right;\">\n",
              "      <th></th>\n",
              "      <th>CRIM</th>\n",
              "      <th>INDUS</th>\n",
              "      <th>NOX</th>\n",
              "      <th>RM</th>\n",
              "      <th>AGE</th>\n",
              "      <th>DIS</th>\n",
              "      <th>TAX</th>\n",
              "      <th>PT</th>\n",
              "      <th>B</th>\n",
              "      <th>MV</th>\n",
              "    </tr>\n",
              "  </thead>\n",
              "  <tbody>\n",
              "    <tr>\n",
              "      <th>0</th>\n",
              "      <td>0.00632</td>\n",
              "      <td>2.31</td>\n",
              "      <td>0.538</td>\n",
              "      <td>6.575</td>\n",
              "      <td>65.199997</td>\n",
              "      <td>4.0900</td>\n",
              "      <td>296</td>\n",
              "      <td>15.300000</td>\n",
              "      <td>396.899994</td>\n",
              "      <td>24.000000</td>\n",
              "    </tr>\n",
              "    <tr>\n",
              "      <th>1</th>\n",
              "      <td>0.02731</td>\n",
              "      <td>7.07</td>\n",
              "      <td>0.469</td>\n",
              "      <td>6.421</td>\n",
              "      <td>78.900002</td>\n",
              "      <td>4.9671</td>\n",
              "      <td>242</td>\n",
              "      <td>17.799999</td>\n",
              "      <td>396.899994</td>\n",
              "      <td>21.600000</td>\n",
              "    </tr>\n",
              "    <tr>\n",
              "      <th>2</th>\n",
              "      <td>0.02729</td>\n",
              "      <td>7.07</td>\n",
              "      <td>0.469</td>\n",
              "      <td>7.185</td>\n",
              "      <td>61.099998</td>\n",
              "      <td>4.9671</td>\n",
              "      <td>242</td>\n",
              "      <td>17.799999</td>\n",
              "      <td>392.829987</td>\n",
              "      <td>34.700001</td>\n",
              "    </tr>\n",
              "    <tr>\n",
              "      <th>3</th>\n",
              "      <td>0.03237</td>\n",
              "      <td>2.18</td>\n",
              "      <td>0.458</td>\n",
              "      <td>6.998</td>\n",
              "      <td>45.799999</td>\n",
              "      <td>6.0622</td>\n",
              "      <td>222</td>\n",
              "      <td>18.700001</td>\n",
              "      <td>394.630005</td>\n",
              "      <td>33.400002</td>\n",
              "    </tr>\n",
              "    <tr>\n",
              "      <th>4</th>\n",
              "      <td>0.06905</td>\n",
              "      <td>2.18</td>\n",
              "      <td>0.458</td>\n",
              "      <td>7.147</td>\n",
              "      <td>54.200001</td>\n",
              "      <td>6.0622</td>\n",
              "      <td>222</td>\n",
              "      <td>18.700001</td>\n",
              "      <td>396.899994</td>\n",
              "      <td>36.200001</td>\n",
              "    </tr>\n",
              "  </tbody>\n",
              "</table>\n",
              "</div>"
            ],
            "text/plain": [
              "      CRIM  INDUS    NOX     RM  ...  TAX         PT           B         MV\n",
              "0  0.00632   2.31  0.538  6.575  ...  296  15.300000  396.899994  24.000000\n",
              "1  0.02731   7.07  0.469  6.421  ...  242  17.799999  396.899994  21.600000\n",
              "2  0.02729   7.07  0.469  7.185  ...  242  17.799999  392.829987  34.700001\n",
              "3  0.03237   2.18  0.458  6.998  ...  222  18.700001  394.630005  33.400002\n",
              "4  0.06905   2.18  0.458  7.147  ...  222  18.700001  396.899994  36.200001\n",
              "\n",
              "[5 rows x 10 columns]"
            ]
          },
          "metadata": {
            "tags": []
          },
          "execution_count": 4
        }
      ]
    },
    {
      "cell_type": "code",
      "metadata": {
        "id": "AAHaeG0-Vn0C",
        "colab_type": "code",
        "colab": {
          "base_uri": "https://localhost:8080/",
          "height": 35
        },
        "outputId": "72f9eccc-6d4c-4387-a985-994d1a4b9882"
      },
      "source": [
        "df1.shape "
      ],
      "execution_count": 5,
      "outputs": [
        {
          "output_type": "execute_result",
          "data": {
            "text/plain": [
              "(506, 10)"
            ]
          },
          "metadata": {
            "tags": []
          },
          "execution_count": 5
        }
      ]
    },
    {
      "cell_type": "code",
      "metadata": {
        "id": "W77E5TodVo2x",
        "colab_type": "code",
        "colab": {}
      },
      "source": [
        "X_train, X_test, Y_train, Y_test = train_test_split(df1.drop(\"MV\", axis=1), df1['MV'], test_size = 0.2,\\\n",
        "random_state=149) \n",
        "#since the records are few, splitting it to train and test the data in 80-20% ratio.Selecting a random_state value of 149\n",
        "#MV is the target variable"
      ],
      "execution_count": 0,
      "outputs": []
    },
    {
      "cell_type": "code",
      "metadata": {
        "id": "T9EYuvodVqHy",
        "colab_type": "code",
        "colab": {
          "base_uri": "https://localhost:8080/",
          "height": 35
        },
        "outputId": "a3a525c0-ad47-4cd8-8934-2ae62cf786a9"
      },
      "source": [
        "X_test.shape "
      ],
      "execution_count": 7,
      "outputs": [
        {
          "output_type": "execute_result",
          "data": {
            "text/plain": [
              "(102, 9)"
            ]
          },
          "metadata": {
            "tags": []
          },
          "execution_count": 7
        }
      ]
    },
    {
      "cell_type": "code",
      "metadata": {
        "id": "sIoDkYKkVsvr",
        "colab_type": "code",
        "colab": {}
      },
      "source": [
        "X_train = sm.add_constant(X_train) #adding the constant to the training data"
      ],
      "execution_count": 0,
      "outputs": []
    },
    {
      "cell_type": "code",
      "metadata": {
        "id": "KqRruD6KVtzi",
        "colab_type": "code",
        "colab": {}
      },
      "source": [
        "model_1 = sm.OLS(Y_train, X_train) #selecting OLS method"
      ],
      "execution_count": 0,
      "outputs": []
    },
    {
      "cell_type": "code",
      "metadata": {
        "id": "j0QHyLojVu7n",
        "colab_type": "code",
        "colab": {}
      },
      "source": [
        "result = model_1.fit() #fitting the model with train dataset"
      ],
      "execution_count": 0,
      "outputs": []
    },
    {
      "cell_type": "code",
      "metadata": {
        "id": "yWBPJCKXVv3K",
        "colab_type": "code",
        "colab": {
          "base_uri": "https://localhost:8080/",
          "height": 639
        },
        "outputId": "5881ba77-cb58-43d1-8c4c-467a66201d2b"
      },
      "source": [
        "print(result.summary())"
      ],
      "execution_count": 11,
      "outputs": [
        {
          "output_type": "stream",
          "text": [
            "                            OLS Regression Results                            \n",
            "==============================================================================\n",
            "Dep. Variable:                     MV   R-squared:                       0.643\n",
            "Model:                            OLS   Adj. R-squared:                  0.635\n",
            "Method:                 Least Squares   F-statistic:                     78.87\n",
            "Date:                Wed, 06 May 2020   Prob (F-statistic):           1.51e-82\n",
            "Time:                        00:16:15   Log-Likelihood:                -1270.4\n",
            "No. Observations:                 404   AIC:                             2561.\n",
            "Df Residuals:                     394   BIC:                             2601.\n",
            "Df Model:                           9                                         \n",
            "Covariance Type:            nonrobust                                         \n",
            "==============================================================================\n",
            "                 coef    std err          t      P>|t|      [0.025      0.975]\n",
            "------------------------------------------------------------------------------\n",
            "const         17.9711      6.332      2.838      0.005       5.521      30.421\n",
            "CRIM          -0.1040      0.046     -2.269      0.024      -0.194      -0.014\n",
            "INDUS         -0.0846      0.077     -1.094      0.274      -0.237       0.067\n",
            "NOX          -20.8674      5.091     -4.099      0.000     -30.877     -10.858\n",
            "RM             6.5362      0.464     14.078      0.000       5.623       7.449\n",
            "AGE           -0.0490      0.017     -2.849      0.005      -0.083      -0.015\n",
            "DIS           -1.5322      0.250     -6.121      0.000      -2.024      -1.040\n",
            "TAX            0.0025      0.003      0.851      0.396      -0.003       0.008\n",
            "PT            -1.1182      0.158     -7.075      0.000      -1.429      -0.807\n",
            "B              0.0145      0.004      3.972      0.000       0.007       0.022\n",
            "==============================================================================\n",
            "Omnibus:                      244.930   Durbin-Watson:                   2.038\n",
            "Prob(Omnibus):                  0.000   Jarque-Bera (JB):             2469.834\n",
            "Skew:                           2.440   Prob(JB):                         0.00\n",
            "Kurtosis:                      14.086   Cond. No.                     1.44e+04\n",
            "==============================================================================\n",
            "\n",
            "Warnings:\n",
            "[1] Standard Errors assume that the covariance matrix of the errors is correctly specified.\n",
            "[2] The condition number is large, 1.44e+04. This might indicate that there are\n",
            "strong multicollinearity or other numerical problems.\n"
          ],
          "name": "stdout"
        }
      ]
    },
    {
      "cell_type": "markdown",
      "metadata": {
        "id": "TH7p8cAyVyn6",
        "colab_type": "text"
      },
      "source": [
        "Interesting observations to note:\n",
        "- 1.Among all the variables, INDUS and TAX have P value greater than 0.05.It basically infers that these two parameters have the least influence on the target variable MV\n",
        "- 2.Variables which have P value 0 or less than 0.05 have greater influence on target variable. Hence, in the below steps, we will remove INDUS and TAX to check if R-squared value increase or not. "
      ]
    },
    {
      "cell_type": "code",
      "metadata": {
        "id": "dvZotdmWVw-B",
        "colab_type": "code",
        "colab": {}
      },
      "source": [
        "X_train = X_train.drop(\"INDUS\", axis=1) #dropping INDUS column"
      ],
      "execution_count": 0,
      "outputs": []
    },
    {
      "cell_type": "code",
      "metadata": {
        "id": "SBdTwyP5V2Ow",
        "colab_type": "code",
        "colab": {}
      },
      "source": [
        "new_result_without_indus = sm.OLS(Y_train, X_train).fit() #Applying OLS method and fitting it with new dataset"
      ],
      "execution_count": 0,
      "outputs": []
    },
    {
      "cell_type": "code",
      "metadata": {
        "id": "qR4zQI0QV3L-",
        "colab_type": "code",
        "colab": {
          "base_uri": "https://localhost:8080/",
          "height": 621
        },
        "outputId": "567d258b-636a-49cf-daf5-78e9e86b2395"
      },
      "source": [
        "print(new_result_without_indus.summary())"
      ],
      "execution_count": 14,
      "outputs": [
        {
          "output_type": "stream",
          "text": [
            "                            OLS Regression Results                            \n",
            "==============================================================================\n",
            "Dep. Variable:                     MV   R-squared:                       0.642\n",
            "Model:                            OLS   Adj. R-squared:                  0.635\n",
            "Method:                 Least Squares   F-statistic:                     88.53\n",
            "Date:                Wed, 06 May 2020   Prob (F-statistic):           2.80e-83\n",
            "Time:                        00:16:44   Log-Likelihood:                -1271.0\n",
            "No. Observations:                 404   AIC:                             2560.\n",
            "Df Residuals:                     395   BIC:                             2596.\n",
            "Df Model:                           8                                         \n",
            "Covariance Type:            nonrobust                                         \n",
            "==============================================================================\n",
            "                 coef    std err          t      P>|t|      [0.025      0.975]\n",
            "------------------------------------------------------------------------------\n",
            "const         17.6122      6.326      2.784      0.006       5.176      30.048\n",
            "CRIM          -0.0969      0.045     -2.136      0.033      -0.186      -0.008\n",
            "NOX          -22.1653      4.952     -4.476      0.000     -31.902     -12.429\n",
            "RM             6.6457      0.453     14.655      0.000       5.754       7.537\n",
            "AGE           -0.0509      0.017     -2.976      0.003      -0.085      -0.017\n",
            "DIS           -1.4625      0.242     -6.040      0.000      -1.939      -0.986\n",
            "TAX            0.0013      0.003      0.476      0.635      -0.004       0.007\n",
            "PT            -1.1318      0.158     -7.182      0.000      -1.442      -0.822\n",
            "B              0.0146      0.004      3.999      0.000       0.007       0.022\n",
            "==============================================================================\n",
            "Omnibus:                      246.923   Durbin-Watson:                   2.049\n",
            "Prob(Omnibus):                  0.000   Jarque-Bera (JB):             2532.038\n",
            "Skew:                           2.460   Prob(JB):                         0.00\n",
            "Kurtosis:                      14.234   Cond. No.                     1.44e+04\n",
            "==============================================================================\n",
            "\n",
            "Warnings:\n",
            "[1] Standard Errors assume that the covariance matrix of the errors is correctly specified.\n",
            "[2] The condition number is large, 1.44e+04. This might indicate that there are\n",
            "strong multicollinearity or other numerical problems.\n"
          ],
          "name": "stdout"
        }
      ]
    },
    {
      "cell_type": "code",
      "metadata": {
        "id": "PlHd3ha1V4G9",
        "colab_type": "code",
        "colab": {}
      },
      "source": [
        "X_test = X_test.drop(\"INDUS\", axis=1) #dropping INDUS from test dataset as well"
      ],
      "execution_count": 0,
      "outputs": []
    },
    {
      "cell_type": "code",
      "metadata": {
        "id": "gEEIBZdDV5Yd",
        "colab_type": "code",
        "colab": {}
      },
      "source": [
        "predictions = new_result_without_indus.predict(sm.add_constant(X_test))"
      ],
      "execution_count": 0,
      "outputs": []
    },
    {
      "cell_type": "code",
      "metadata": {
        "id": "mCyZt9q6V6Sb",
        "colab_type": "code",
        "colab": {
          "base_uri": "https://localhost:8080/",
          "height": 35
        },
        "outputId": "4bcbad40-dc2c-41f0-c942-f40936d4fd6f"
      },
      "source": [
        "r2_score(Y_test, predictions) #checking the r-squared accuracy"
      ],
      "execution_count": 19,
      "outputs": [
        {
          "output_type": "execute_result",
          "data": {
            "text/plain": [
              "0.7500120438513593"
            ]
          },
          "metadata": {
            "tags": []
          },
          "execution_count": 19
        }
      ]
    },
    {
      "cell_type": "code",
      "metadata": {
        "id": "K2YPgXq3WM4b",
        "colab_type": "code",
        "colab": {}
      },
      "source": [
        "X_train = X_train.drop(\"TAX\", axis=1) #dropping TAX from the train data"
      ],
      "execution_count": 0,
      "outputs": []
    },
    {
      "cell_type": "code",
      "metadata": {
        "id": "IGxLYvgKWOIq",
        "colab_type": "code",
        "colab": {}
      },
      "source": [
        "new_result_without_tax = sm.OLS(Y_train, X_train).fit()"
      ],
      "execution_count": 0,
      "outputs": []
    },
    {
      "cell_type": "code",
      "metadata": {
        "id": "TwPGDHTAWPUP",
        "colab_type": "code",
        "colab": {
          "base_uri": "https://localhost:8080/",
          "height": 604
        },
        "outputId": "a32b7fa2-eb60-41ec-b6bc-30654e1c0a91"
      },
      "source": [
        "print(new_result_without_tax.summary())"
      ],
      "execution_count": 22,
      "outputs": [
        {
          "output_type": "stream",
          "text": [
            "                            OLS Regression Results                            \n",
            "==============================================================================\n",
            "Dep. Variable:                     MV   R-squared:                       0.642\n",
            "Model:                            OLS   Adj. R-squared:                  0.635\n",
            "Method:                 Least Squares   F-statistic:                     101.3\n",
            "Date:                Wed, 06 May 2020   Prob (F-statistic):           3.00e-84\n",
            "Time:                        00:18:23   Log-Likelihood:                -1271.1\n",
            "No. Observations:                 404   AIC:                             2558.\n",
            "Df Residuals:                     396   BIC:                             2590.\n",
            "Df Model:                           7                                         \n",
            "Covariance Type:            nonrobust                                         \n",
            "==============================================================================\n",
            "                 coef    std err          t      P>|t|      [0.025      0.975]\n",
            "------------------------------------------------------------------------------\n",
            "const         17.0371      6.203      2.747      0.006       4.842      29.232\n",
            "CRIM          -0.0891      0.042     -2.109      0.036      -0.172      -0.006\n",
            "NOX          -21.1094      4.423     -4.773      0.000     -29.805     -12.414\n",
            "RM             6.6565      0.452     14.712      0.000       5.767       7.546\n",
            "AGE           -0.0515      0.017     -3.022      0.003      -0.085      -0.018\n",
            "DIS           -1.4583      0.242     -6.032      0.000      -1.934      -0.983\n",
            "PT            -1.1035      0.146     -7.570      0.000      -1.390      -0.817\n",
            "B              0.0144      0.004      3.975      0.000       0.007       0.021\n",
            "==============================================================================\n",
            "Omnibus:                      251.684   Durbin-Watson:                   2.051\n",
            "Prob(Omnibus):                  0.000   Jarque-Bera (JB):             2664.360\n",
            "Skew:                           2.512   Prob(JB):                         0.00\n",
            "Kurtosis:                      14.534   Cond. No.                     9.15e+03\n",
            "==============================================================================\n",
            "\n",
            "Warnings:\n",
            "[1] Standard Errors assume that the covariance matrix of the errors is correctly specified.\n",
            "[2] The condition number is large, 9.15e+03. This might indicate that there are\n",
            "strong multicollinearity or other numerical problems.\n"
          ],
          "name": "stdout"
        }
      ]
    },
    {
      "cell_type": "code",
      "metadata": {
        "id": "45J2vfOsWQSY",
        "colab_type": "code",
        "colab": {}
      },
      "source": [
        "X_test = X_test.drop(\"TAX\", axis=1)"
      ],
      "execution_count": 0,
      "outputs": []
    },
    {
      "cell_type": "code",
      "metadata": {
        "id": "H8-YMhHjWRms",
        "colab_type": "code",
        "colab": {}
      },
      "source": [
        "predictions = new_result_without_tax.predict(sm.add_constant(X_test))"
      ],
      "execution_count": 0,
      "outputs": []
    },
    {
      "cell_type": "code",
      "metadata": {
        "id": "uHr7LOVlWSru",
        "colab_type": "code",
        "colab": {
          "base_uri": "https://localhost:8080/",
          "height": 35
        },
        "outputId": "48fe8de6-ed5f-4228-9f73-1d95e7e2d26d"
      },
      "source": [
        "r2_score(Y_test, predictions) #checking the r-squared accuracy "
      ],
      "execution_count": 25,
      "outputs": [
        {
          "output_type": "execute_result",
          "data": {
            "text/plain": [
              "0.7517651887931424"
            ]
          },
          "metadata": {
            "tags": []
          },
          "execution_count": 25
        }
      ]
    },
    {
      "cell_type": "markdown",
      "metadata": {
        "id": "k35aX3HXWVaY",
        "colab_type": "text"
      },
      "source": [
        "Please note the increase in R-squared value after removing both TAX and INDUS fields (0.750 to 0.751)"
      ]
    },
    {
      "cell_type": "markdown",
      "metadata": {
        "id": "RNAjv801Waza",
        "colab_type": "text"
      },
      "source": [
        "# Method 2: Multiple Linear Regression with \"Scikit-Learn\""
      ]
    },
    {
      "cell_type": "code",
      "metadata": {
        "id": "AI3Ni-Z3WTkj",
        "colab_type": "code",
        "colab": {
          "base_uri": "https://localhost:8080/",
          "height": 200
        },
        "outputId": "aaf8debc-d18f-46b4-c0ee-350be87c814a"
      },
      "source": [
        "df2 = pd.read_csv(\"/content/drive/My Drive/UC Machine Learning/Datasets/boston.csv\") #importing from the local database\n",
        "\n",
        "df2.head()"
      ],
      "execution_count": 27,
      "outputs": [
        {
          "output_type": "execute_result",
          "data": {
            "text/html": [
              "<div>\n",
              "<style scoped>\n",
              "    .dataframe tbody tr th:only-of-type {\n",
              "        vertical-align: middle;\n",
              "    }\n",
              "\n",
              "    .dataframe tbody tr th {\n",
              "        vertical-align: top;\n",
              "    }\n",
              "\n",
              "    .dataframe thead th {\n",
              "        text-align: right;\n",
              "    }\n",
              "</style>\n",
              "<table border=\"1\" class=\"dataframe\">\n",
              "  <thead>\n",
              "    <tr style=\"text-align: right;\">\n",
              "      <th></th>\n",
              "      <th>CRIM</th>\n",
              "      <th>INDUS</th>\n",
              "      <th>NOX</th>\n",
              "      <th>RM</th>\n",
              "      <th>AGE</th>\n",
              "      <th>DIS</th>\n",
              "      <th>TAX</th>\n",
              "      <th>PT</th>\n",
              "      <th>B</th>\n",
              "      <th>MV</th>\n",
              "    </tr>\n",
              "  </thead>\n",
              "  <tbody>\n",
              "    <tr>\n",
              "      <th>0</th>\n",
              "      <td>0.00632</td>\n",
              "      <td>2.31</td>\n",
              "      <td>0.538</td>\n",
              "      <td>6.575</td>\n",
              "      <td>65.199997</td>\n",
              "      <td>4.0900</td>\n",
              "      <td>296</td>\n",
              "      <td>15.300000</td>\n",
              "      <td>396.899994</td>\n",
              "      <td>24.000000</td>\n",
              "    </tr>\n",
              "    <tr>\n",
              "      <th>1</th>\n",
              "      <td>0.02731</td>\n",
              "      <td>7.07</td>\n",
              "      <td>0.469</td>\n",
              "      <td>6.421</td>\n",
              "      <td>78.900002</td>\n",
              "      <td>4.9671</td>\n",
              "      <td>242</td>\n",
              "      <td>17.799999</td>\n",
              "      <td>396.899994</td>\n",
              "      <td>21.600000</td>\n",
              "    </tr>\n",
              "    <tr>\n",
              "      <th>2</th>\n",
              "      <td>0.02729</td>\n",
              "      <td>7.07</td>\n",
              "      <td>0.469</td>\n",
              "      <td>7.185</td>\n",
              "      <td>61.099998</td>\n",
              "      <td>4.9671</td>\n",
              "      <td>242</td>\n",
              "      <td>17.799999</td>\n",
              "      <td>392.829987</td>\n",
              "      <td>34.700001</td>\n",
              "    </tr>\n",
              "    <tr>\n",
              "      <th>3</th>\n",
              "      <td>0.03237</td>\n",
              "      <td>2.18</td>\n",
              "      <td>0.458</td>\n",
              "      <td>6.998</td>\n",
              "      <td>45.799999</td>\n",
              "      <td>6.0622</td>\n",
              "      <td>222</td>\n",
              "      <td>18.700001</td>\n",
              "      <td>394.630005</td>\n",
              "      <td>33.400002</td>\n",
              "    </tr>\n",
              "    <tr>\n",
              "      <th>4</th>\n",
              "      <td>0.06905</td>\n",
              "      <td>2.18</td>\n",
              "      <td>0.458</td>\n",
              "      <td>7.147</td>\n",
              "      <td>54.200001</td>\n",
              "      <td>6.0622</td>\n",
              "      <td>222</td>\n",
              "      <td>18.700001</td>\n",
              "      <td>396.899994</td>\n",
              "      <td>36.200001</td>\n",
              "    </tr>\n",
              "  </tbody>\n",
              "</table>\n",
              "</div>"
            ],
            "text/plain": [
              "      CRIM  INDUS    NOX     RM  ...  TAX         PT           B         MV\n",
              "0  0.00632   2.31  0.538  6.575  ...  296  15.300000  396.899994  24.000000\n",
              "1  0.02731   7.07  0.469  6.421  ...  242  17.799999  396.899994  21.600000\n",
              "2  0.02729   7.07  0.469  7.185  ...  242  17.799999  392.829987  34.700001\n",
              "3  0.03237   2.18  0.458  6.998  ...  222  18.700001  394.630005  33.400002\n",
              "4  0.06905   2.18  0.458  7.147  ...  222  18.700001  396.899994  36.200001\n",
              "\n",
              "[5 rows x 10 columns]"
            ]
          },
          "metadata": {
            "tags": []
          },
          "execution_count": 27
        }
      ]
    },
    {
      "cell_type": "code",
      "metadata": {
        "id": "V-4yc6U5Weaq",
        "colab_type": "code",
        "colab": {}
      },
      "source": [
        "X1_train, X1_test, Y1_train, Y1_test = train_test_split(df2.drop(\"MV\", axis=1), df2['MV'], test_size = 0.2,\\\n",
        "                                                    random_state=149) #applying same test_size and random_state as used earlier\n",
        "\n"
      ],
      "execution_count": 0,
      "outputs": []
    },
    {
      "cell_type": "code",
      "metadata": {
        "id": "4bcGLObYWhIy",
        "colab_type": "code",
        "colab": {}
      },
      "source": [
        "model = LinearRegression(normalize=True) #Creating model with LinearRegression class from Scikit-Learn"
      ],
      "execution_count": 0,
      "outputs": []
    },
    {
      "cell_type": "code",
      "metadata": {
        "id": "5CA3VHqoWidk",
        "colab_type": "code",
        "colab": {
          "base_uri": "https://localhost:8080/",
          "height": 35
        },
        "outputId": "7280b41b-63d7-46c4-aa48-018e8686f763"
      },
      "source": [
        "model.fit(X1_train, Y1_train) #fitting the linear regression model to training dataset"
      ],
      "execution_count": 30,
      "outputs": [
        {
          "output_type": "execute_result",
          "data": {
            "text/plain": [
              "LinearRegression(copy_X=True, fit_intercept=True, n_jobs=None, normalize=True)"
            ]
          },
          "metadata": {
            "tags": []
          },
          "execution_count": 30
        }
      ]
    },
    {
      "cell_type": "code",
      "metadata": {
        "id": "HNYa6ivjWjWJ",
        "colab_type": "code",
        "colab": {}
      },
      "source": [
        "predictions = model.predict(X1_test)"
      ],
      "execution_count": 0,
      "outputs": []
    },
    {
      "cell_type": "code",
      "metadata": {
        "id": "BpyZlhscWkaR",
        "colab_type": "code",
        "colab": {
          "base_uri": "https://localhost:8080/",
          "height": 200
        },
        "outputId": "e223cf84-66d9-4952-fa57-a11e0e01e93a"
      },
      "source": [
        "pd.DataFrame({'actual value': Y1_test, 'predictions':predictions}).sample(5)"
      ],
      "execution_count": 32,
      "outputs": [
        {
          "output_type": "execute_result",
          "data": {
            "text/html": [
              "<div>\n",
              "<style scoped>\n",
              "    .dataframe tbody tr th:only-of-type {\n",
              "        vertical-align: middle;\n",
              "    }\n",
              "\n",
              "    .dataframe tbody tr th {\n",
              "        vertical-align: top;\n",
              "    }\n",
              "\n",
              "    .dataframe thead th {\n",
              "        text-align: right;\n",
              "    }\n",
              "</style>\n",
              "<table border=\"1\" class=\"dataframe\">\n",
              "  <thead>\n",
              "    <tr style=\"text-align: right;\">\n",
              "      <th></th>\n",
              "      <th>actual value</th>\n",
              "      <th>predictions</th>\n",
              "    </tr>\n",
              "  </thead>\n",
              "  <tbody>\n",
              "    <tr>\n",
              "      <th>170</th>\n",
              "      <td>17.400000</td>\n",
              "      <td>22.416734</td>\n",
              "    </tr>\n",
              "    <tr>\n",
              "      <th>127</th>\n",
              "      <td>16.200001</td>\n",
              "      <td>15.902856</td>\n",
              "    </tr>\n",
              "    <tr>\n",
              "      <th>432</th>\n",
              "      <td>16.100000</td>\n",
              "      <td>19.051471</td>\n",
              "    </tr>\n",
              "    <tr>\n",
              "      <th>250</th>\n",
              "      <td>24.400000</td>\n",
              "      <td>24.101687</td>\n",
              "    </tr>\n",
              "    <tr>\n",
              "      <th>375</th>\n",
              "      <td>15.000000</td>\n",
              "      <td>26.215343</td>\n",
              "    </tr>\n",
              "  </tbody>\n",
              "</table>\n",
              "</div>"
            ],
            "text/plain": [
              "     actual value  predictions\n",
              "170     17.400000    22.416734\n",
              "127     16.200001    15.902856\n",
              "432     16.100000    19.051471\n",
              "250     24.400000    24.101687\n",
              "375     15.000000    26.215343"
            ]
          },
          "metadata": {
            "tags": []
          },
          "execution_count": 32
        }
      ]
    },
    {
      "cell_type": "code",
      "metadata": {
        "id": "NFP35AaZWle0",
        "colab_type": "code",
        "colab": {
          "base_uri": "https://localhost:8080/",
          "height": 35
        },
        "outputId": "bdc2555b-68fc-4987-a642-c4099cdaca71"
      },
      "source": [
        "model.score(X1_test, Y1_test) #checking the accuracy with R-squared value"
      ],
      "execution_count": 33,
      "outputs": [
        {
          "output_type": "execute_result",
          "data": {
            "text/plain": [
              "0.7525085195003509"
            ]
          },
          "metadata": {
            "tags": []
          },
          "execution_count": 33
        }
      ]
    },
    {
      "cell_type": "markdown",
      "metadata": {
        "id": "vGkr8ox5Wolz",
        "colab_type": "text"
      },
      "source": [
        "Final Comments:\n",
        "\n",
        "While evaluating the effect of predictor variables on target variables, the value of P (less than 0.05) indicates its measure of dependency. Closer to zero increases dependency.\n",
        "\n",
        "The same can be learnt by removing the predictor variables (INDUS and TAX) to check accuracy by calcuclating r-squared value. It can be observed that the value has increased after removing both the predictor variables\n",
        "\n",
        "This can be interpreted as in the city of Boston, Median value of owner-occupied homes have lower influence by 'proportion of non-retail business acres per town' and 'full-value property-tax rate'.\n",
        "\n",
        "According to the Statsmodel, the model can improve the accuracy of prediction by 75.1% According to the Scikit-Learn, the model can improve the accuracy of prediction by 75.2%\n"
      ]
    }
  ]
}
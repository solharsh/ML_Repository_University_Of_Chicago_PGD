{
  "nbformat": 4,
  "nbformat_minor": 0,
  "metadata": {
    "colab": {
      "name": "Assignment5_DC_GS_CV_REG_CLASS.ipynb",
      "provenance": [],
      "toc_visible": true,
      "mount_file_id": "1fdfcWlhG5SVyV0RB0Os9PhusjS5RUOtC",
      "authorship_tag": "ABX9TyOtjvXMzjasQ0D3rmVyI6eZ",
      "include_colab_link": true
    },
    "kernelspec": {
      "name": "python3",
      "display_name": "Python 3"
    }
  },
  "cells": [
    {
      "cell_type": "markdown",
      "metadata": {
        "id": "view-in-github",
        "colab_type": "text"
      },
      "source": [
        "<a href=\"https://colab.research.google.com/github/solharsh/ML_Repository_University_Of_Chicago_PGD/blob/master/Assignment5_DC_GS_CV_REG_CLASS.ipynb\" target=\"_parent\"><img src=\"https://colab.research.google.com/assets/colab-badge.svg\" alt=\"Open In Colab\"/></a>"
      ]
    },
    {
      "cell_type": "markdown",
      "metadata": {
        "id": "B4KJ2SAjOEJg",
        "colab_type": "text"
      },
      "source": [
        "# Assignment 5: Decision Trees for Regression & Classification"
      ]
    },
    {
      "cell_type": "markdown",
      "metadata": {
        "id": "fcME5h40OKuV",
        "colab_type": "text"
      },
      "source": [
        "## Question 1: Decision Trees for Regression\n",
        "The dataset petrol_consumption.csvPreview the document file is taken from FSU dataset repository (http://people.sc.fsu.edu/~jburkardt/datasets/regression/x16.txt (Links to an external site.)).\n",
        "\n",
        "For this dataset, use Decision Trees to try and predict gas consumption (in millions of gallons) in 48 US states based upon gas tax (in cents), per capita income (dollars), paved highways (in miles) and the proportion of the population with a driver license.\n",
        "\n",
        "Use Decision Trees to build a regressor for the give data. Use Grid Search to find the optimal value for the hyperparameters, and evaluate your model on the appropriate metrics."
      ]
    },
    {
      "cell_type": "markdown",
      "metadata": {
        "id": "xwSmsH8GOOZv",
        "colab_type": "text"
      },
      "source": [
        "## Question 2: Decision Trees for Classification\n",
        "The bill_authentication.csvPreview the document file is taken from UCI Machine Learning repository (https://archive.ics.uci.edu/ml/datasets/banknote+authentication (Links to an external site.)).\n",
        "\n",
        "Use this dataset to predict whether a bank note is authentic or fake depending upon the four different attributes of the image of the note. The attributes are Variance of wavelet transformed image, curtosis of the image, entropy, and skewness of the image.\n",
        "\n",
        "Use Decision Trees to build a classifier for the give data. Use Grid Search to find the optimal value for the hyperparameters, and evaluate your model on suitable metrics. Use graphviz to visualize your decision tree.\n",
        "\n"
      ]
    },
    {
      "cell_type": "code",
      "metadata": {
        "id": "4G6YtkykOFUM",
        "colab_type": "code",
        "colab": {}
      },
      "source": [
        "import pandas as pd\n",
        "\n",
        "df = pd.read_csv(\"/content/drive/My Drive/UC Machine Learning/Datasets/petrol_consumption.csv\")"
      ],
      "execution_count": 0,
      "outputs": []
    },
    {
      "cell_type": "code",
      "metadata": {
        "id": "BSK6q8nMOsJj",
        "colab_type": "code",
        "colab": {
          "base_uri": "https://localhost:8080/",
          "height": 200
        },
        "outputId": "a23ae096-4ad6-4d19-f814-253eabd6851d"
      },
      "source": [
        "df.head()"
      ],
      "execution_count": 3,
      "outputs": [
        {
          "output_type": "execute_result",
          "data": {
            "text/html": [
              "<div>\n",
              "<style scoped>\n",
              "    .dataframe tbody tr th:only-of-type {\n",
              "        vertical-align: middle;\n",
              "    }\n",
              "\n",
              "    .dataframe tbody tr th {\n",
              "        vertical-align: top;\n",
              "    }\n",
              "\n",
              "    .dataframe thead th {\n",
              "        text-align: right;\n",
              "    }\n",
              "</style>\n",
              "<table border=\"1\" class=\"dataframe\">\n",
              "  <thead>\n",
              "    <tr style=\"text-align: right;\">\n",
              "      <th></th>\n",
              "      <th>Petrol_tax</th>\n",
              "      <th>Average_income</th>\n",
              "      <th>Paved_Highways</th>\n",
              "      <th>Population_Driver_licence(%)</th>\n",
              "      <th>Petrol_Consumption</th>\n",
              "    </tr>\n",
              "  </thead>\n",
              "  <tbody>\n",
              "    <tr>\n",
              "      <th>0</th>\n",
              "      <td>9.0</td>\n",
              "      <td>3571</td>\n",
              "      <td>1976</td>\n",
              "      <td>0.525</td>\n",
              "      <td>541</td>\n",
              "    </tr>\n",
              "    <tr>\n",
              "      <th>1</th>\n",
              "      <td>9.0</td>\n",
              "      <td>4092</td>\n",
              "      <td>1250</td>\n",
              "      <td>0.572</td>\n",
              "      <td>524</td>\n",
              "    </tr>\n",
              "    <tr>\n",
              "      <th>2</th>\n",
              "      <td>9.0</td>\n",
              "      <td>3865</td>\n",
              "      <td>1586</td>\n",
              "      <td>0.580</td>\n",
              "      <td>561</td>\n",
              "    </tr>\n",
              "    <tr>\n",
              "      <th>3</th>\n",
              "      <td>7.5</td>\n",
              "      <td>4870</td>\n",
              "      <td>2351</td>\n",
              "      <td>0.529</td>\n",
              "      <td>414</td>\n",
              "    </tr>\n",
              "    <tr>\n",
              "      <th>4</th>\n",
              "      <td>8.0</td>\n",
              "      <td>4399</td>\n",
              "      <td>431</td>\n",
              "      <td>0.544</td>\n",
              "      <td>410</td>\n",
              "    </tr>\n",
              "  </tbody>\n",
              "</table>\n",
              "</div>"
            ],
            "text/plain": [
              "   Petrol_tax  Average_income  ...  Population_Driver_licence(%)  Petrol_Consumption\n",
              "0         9.0            3571  ...                         0.525                 541\n",
              "1         9.0            4092  ...                         0.572                 524\n",
              "2         9.0            3865  ...                         0.580                 561\n",
              "3         7.5            4870  ...                         0.529                 414\n",
              "4         8.0            4399  ...                         0.544                 410\n",
              "\n",
              "[5 rows x 5 columns]"
            ]
          },
          "metadata": {
            "tags": []
          },
          "execution_count": 3
        }
      ]
    },
    {
      "cell_type": "markdown",
      "metadata": {
        "id": "koW6auR7OwlL",
        "colab_type": "text"
      },
      "source": [
        "Here Petrol_Consumption is the Output variable and the others are predictor variables"
      ]
    },
    {
      "cell_type": "code",
      "metadata": {
        "id": "0maSTJsqOvL6",
        "colab_type": "code",
        "colab": {
          "base_uri": "https://localhost:8080/",
          "height": 35
        },
        "outputId": "d1020075-2358-44e9-f47e-b89c1d75e9c0"
      },
      "source": [
        "df.shape"
      ],
      "execution_count": 5,
      "outputs": [
        {
          "output_type": "execute_result",
          "data": {
            "text/plain": [
              "(48, 5)"
            ]
          },
          "metadata": {
            "tags": []
          },
          "execution_count": 5
        }
      ]
    },
    {
      "cell_type": "code",
      "metadata": {
        "id": "N5JOxMzkOyEi",
        "colab_type": "code",
        "colab": {
          "base_uri": "https://localhost:8080/",
          "height": 291
        },
        "outputId": "5b844698-f4b5-4915-fb3f-86c97f0982f3"
      },
      "source": [
        "df.describe()"
      ],
      "execution_count": 6,
      "outputs": [
        {
          "output_type": "execute_result",
          "data": {
            "text/html": [
              "<div>\n",
              "<style scoped>\n",
              "    .dataframe tbody tr th:only-of-type {\n",
              "        vertical-align: middle;\n",
              "    }\n",
              "\n",
              "    .dataframe tbody tr th {\n",
              "        vertical-align: top;\n",
              "    }\n",
              "\n",
              "    .dataframe thead th {\n",
              "        text-align: right;\n",
              "    }\n",
              "</style>\n",
              "<table border=\"1\" class=\"dataframe\">\n",
              "  <thead>\n",
              "    <tr style=\"text-align: right;\">\n",
              "      <th></th>\n",
              "      <th>Petrol_tax</th>\n",
              "      <th>Average_income</th>\n",
              "      <th>Paved_Highways</th>\n",
              "      <th>Population_Driver_licence(%)</th>\n",
              "      <th>Petrol_Consumption</th>\n",
              "    </tr>\n",
              "  </thead>\n",
              "  <tbody>\n",
              "    <tr>\n",
              "      <th>count</th>\n",
              "      <td>48.000000</td>\n",
              "      <td>48.000000</td>\n",
              "      <td>48.000000</td>\n",
              "      <td>48.000000</td>\n",
              "      <td>48.000000</td>\n",
              "    </tr>\n",
              "    <tr>\n",
              "      <th>mean</th>\n",
              "      <td>7.668333</td>\n",
              "      <td>4241.833333</td>\n",
              "      <td>5565.416667</td>\n",
              "      <td>0.570333</td>\n",
              "      <td>576.770833</td>\n",
              "    </tr>\n",
              "    <tr>\n",
              "      <th>std</th>\n",
              "      <td>0.950770</td>\n",
              "      <td>573.623768</td>\n",
              "      <td>3491.507166</td>\n",
              "      <td>0.055470</td>\n",
              "      <td>111.885816</td>\n",
              "    </tr>\n",
              "    <tr>\n",
              "      <th>min</th>\n",
              "      <td>5.000000</td>\n",
              "      <td>3063.000000</td>\n",
              "      <td>431.000000</td>\n",
              "      <td>0.451000</td>\n",
              "      <td>344.000000</td>\n",
              "    </tr>\n",
              "    <tr>\n",
              "      <th>25%</th>\n",
              "      <td>7.000000</td>\n",
              "      <td>3739.000000</td>\n",
              "      <td>3110.250000</td>\n",
              "      <td>0.529750</td>\n",
              "      <td>509.500000</td>\n",
              "    </tr>\n",
              "    <tr>\n",
              "      <th>50%</th>\n",
              "      <td>7.500000</td>\n",
              "      <td>4298.000000</td>\n",
              "      <td>4735.500000</td>\n",
              "      <td>0.564500</td>\n",
              "      <td>568.500000</td>\n",
              "    </tr>\n",
              "    <tr>\n",
              "      <th>75%</th>\n",
              "      <td>8.125000</td>\n",
              "      <td>4578.750000</td>\n",
              "      <td>7156.000000</td>\n",
              "      <td>0.595250</td>\n",
              "      <td>632.750000</td>\n",
              "    </tr>\n",
              "    <tr>\n",
              "      <th>max</th>\n",
              "      <td>10.000000</td>\n",
              "      <td>5342.000000</td>\n",
              "      <td>17782.000000</td>\n",
              "      <td>0.724000</td>\n",
              "      <td>968.000000</td>\n",
              "    </tr>\n",
              "  </tbody>\n",
              "</table>\n",
              "</div>"
            ],
            "text/plain": [
              "       Petrol_tax  ...  Petrol_Consumption\n",
              "count   48.000000  ...           48.000000\n",
              "mean     7.668333  ...          576.770833\n",
              "std      0.950770  ...          111.885816\n",
              "min      5.000000  ...          344.000000\n",
              "25%      7.000000  ...          509.500000\n",
              "50%      7.500000  ...          568.500000\n",
              "75%      8.125000  ...          632.750000\n",
              "max     10.000000  ...          968.000000\n",
              "\n",
              "[8 rows x 5 columns]"
            ]
          },
          "metadata": {
            "tags": []
          },
          "execution_count": 6
        }
      ]
    },
    {
      "cell_type": "code",
      "metadata": {
        "id": "6ZNh1em9O00Y",
        "colab_type": "code",
        "colab": {}
      },
      "source": [
        "from sklearn.model_selection import train_test_split\n",
        "\n",
        "X_train, X_test, Y_train, Y_test = train_test_split(df.drop(\"Petrol_Consumption\", axis=1), df['Petrol_Consumption'], test_size = 0.2,\\\n",
        "random_state=10)\n",
        "#Dropping 'Petrol Consumption' as its the output variable. Splitting the dataset in 80/20 Train and Test data."
      ],
      "execution_count": 0,
      "outputs": []
    },
    {
      "cell_type": "markdown",
      "metadata": {
        "id": "I6BH1SpJPE1t",
        "colab_type": "text"
      },
      "source": [
        "Max_depth is one of the hyperparameter which gets defined before fitting the model. Here I'm considering it to be 3 initially\n"
      ]
    },
    {
      "cell_type": "code",
      "metadata": {
        "id": "B0L9EoEXO4Tw",
        "colab_type": "code",
        "colab": {}
      },
      "source": [
        "from sklearn.tree import DecisionTreeRegressor\n",
        "\n",
        "tree = DecisionTreeRegressor(max_depth= 3)"
      ],
      "execution_count": 0,
      "outputs": []
    },
    {
      "cell_type": "code",
      "metadata": {
        "id": "R2NBug7zPAq6",
        "colab_type": "code",
        "colab": {
          "base_uri": "https://localhost:8080/",
          "height": 124
        },
        "outputId": "fc7318e3-76f6-4a47-8624-20bf9e9ad63b"
      },
      "source": [
        "tree.fit(X_train, Y_train)"
      ],
      "execution_count": 12,
      "outputs": [
        {
          "output_type": "execute_result",
          "data": {
            "text/plain": [
              "DecisionTreeRegressor(ccp_alpha=0.0, criterion='mse', max_depth=3,\n",
              "                      max_features=None, max_leaf_nodes=None,\n",
              "                      min_impurity_decrease=0.0, min_impurity_split=None,\n",
              "                      min_samples_leaf=1, min_samples_split=2,\n",
              "                      min_weight_fraction_leaf=0.0, presort='deprecated',\n",
              "                      random_state=None, splitter='best')"
            ]
          },
          "metadata": {
            "tags": []
          },
          "execution_count": 12
        }
      ]
    },
    {
      "cell_type": "code",
      "metadata": {
        "id": "t5G2wEMUPHKY",
        "colab_type": "code",
        "colab": {
          "base_uri": "https://localhost:8080/",
          "height": 35
        },
        "outputId": "946eb427-6dc6-4e92-c094-7df5196b8892"
      },
      "source": [
        "tree.feature_importances_"
      ],
      "execution_count": 13,
      "outputs": [
        {
          "output_type": "execute_result",
          "data": {
            "text/plain": [
              "array([0.05467742, 0.25519308, 0.09942812, 0.59070138])"
            ]
          },
          "metadata": {
            "tags": []
          },
          "execution_count": 13
        }
      ]
    },
    {
      "cell_type": "code",
      "metadata": {
        "id": "-aZzGn0PPIGW",
        "colab_type": "code",
        "colab": {
          "base_uri": "https://localhost:8080/",
          "height": 106
        },
        "outputId": "78873bed-d7ee-486d-80c5-9eead0de0bac"
      },
      "source": [
        "pd.Series(tree.feature_importances_, index=X_train.columns).sort_values(ascending = False)"
      ],
      "execution_count": 14,
      "outputs": [
        {
          "output_type": "execute_result",
          "data": {
            "text/plain": [
              "Population_Driver_licence(%)    0.590701\n",
              "Average_income                  0.255193\n",
              "Paved_Highways                  0.099428\n",
              "Petrol_tax                      0.054677\n",
              "dtype: float64"
            ]
          },
          "metadata": {
            "tags": []
          },
          "execution_count": 14
        }
      ]
    },
    {
      "cell_type": "markdown",
      "metadata": {
        "id": "YVBH4fbYPL-w",
        "colab_type": "text"
      },
      "source": [
        "This shows the order of feature importance. We can see population with driving license is the most important dictator of Petrol Consumption\n"
      ]
    },
    {
      "cell_type": "code",
      "metadata": {
        "id": "Q4TgjG9ZPJME",
        "colab_type": "code",
        "colab": {}
      },
      "source": [
        "predictions = tree.predict(X_test)"
      ],
      "execution_count": 0,
      "outputs": []
    },
    {
      "cell_type": "code",
      "metadata": {
        "id": "hguc7fQ4PNYz",
        "colab_type": "code",
        "colab": {
          "base_uri": "https://localhost:8080/",
          "height": 52
        },
        "outputId": "bc930518-2509-4ce7-ad4e-06938e585205"
      },
      "source": [
        "predictions[:5]"
      ],
      "execution_count": 16,
      "outputs": [
        {
          "output_type": "execute_result",
          "data": {
            "text/plain": [
              "array([621.76923077, 560.81818182, 621.76923077, 529.66666667,\n",
              "       460.57142857])"
            ]
          },
          "metadata": {
            "tags": []
          },
          "execution_count": 16
        }
      ]
    },
    {
      "cell_type": "code",
      "metadata": {
        "id": "5CPI94_gPOjr",
        "colab_type": "code",
        "colab": {
          "base_uri": "https://localhost:8080/",
          "height": 124
        },
        "outputId": "38fa8022-2917-4673-81f3-b7f07174b71f"
      },
      "source": [
        "Y_test[:5]"
      ],
      "execution_count": 17,
      "outputs": [
        {
          "output_type": "execute_result",
          "data": {
            "text/plain": [
              "35    644\n",
              "23    547\n",
              "42    632\n",
              "40    587\n",
              "45    510\n",
              "Name: Petrol_Consumption, dtype: int64"
            ]
          },
          "metadata": {
            "tags": []
          },
          "execution_count": 17
        }
      ]
    },
    {
      "cell_type": "markdown",
      "metadata": {
        "id": "jEu8JKvIPQjZ",
        "colab_type": "text"
      },
      "source": [
        "From the above Y_test and Predictons, we can observe the difference in values. Looks like the predictions are not really great!"
      ]
    },
    {
      "cell_type": "code",
      "metadata": {
        "id": "8w1FSmCUPPb-",
        "colab_type": "code",
        "colab": {
          "base_uri": "https://localhost:8080/",
          "height": 35
        },
        "outputId": "a2b1db16-8500-4728-dd1e-5be5a17ca228"
      },
      "source": [
        "from sklearn.metrics import mean_absolute_error, r2_score\n",
        "\n",
        "#I'll be using Mean Absolute Error and R2 Scores to check the performance of model.\n",
        "mean_absolute_error(Y_test, predictions)"
      ],
      "execution_count": 18,
      "outputs": [
        {
          "output_type": "execute_result",
          "data": {
            "text/plain": [
              "49.27156177156179"
            ]
          },
          "metadata": {
            "tags": []
          },
          "execution_count": 18
        }
      ]
    },
    {
      "cell_type": "code",
      "metadata": {
        "id": "sCDai4J1PTsr",
        "colab_type": "code",
        "colab": {
          "base_uri": "https://localhost:8080/",
          "height": 35
        },
        "outputId": "05180306-b56a-42ac-8d1f-b99e06a3a11f"
      },
      "source": [
        "r2_score(Y_test, predictions)"
      ],
      "execution_count": 19,
      "outputs": [
        {
          "output_type": "execute_result",
          "data": {
            "text/plain": [
              "0.5870667465795592"
            ]
          },
          "metadata": {
            "tags": []
          },
          "execution_count": 19
        }
      ]
    },
    {
      "cell_type": "markdown",
      "metadata": {
        "id": "Q3dGlKdAPWDX",
        "colab_type": "text"
      },
      "source": [
        "Therefore, it can be stated that model has a bad performance based on R2 Score. (Good model if R2 Score is closer to 1)\n"
      ]
    },
    {
      "cell_type": "code",
      "metadata": {
        "id": "mIKOnfNnPUup",
        "colab_type": "code",
        "colab": {
          "base_uri": "https://localhost:8080/",
          "height": 538
        },
        "outputId": "f9047ff6-e498-475d-edc1-22b0c47a1d4e"
      },
      "source": [
        "#Lets visualize the Decision Tree\n",
        "from sklearn.tree import export_graphviz\n",
        "\n",
        "dot_data = export_graphviz(tree, filled=True, rounded=True, feature_names=X_train.columns, out_file=None)\n",
        "\n",
        "import graphviz\n",
        "\n",
        "graphviz.Source(dot_data)"
      ],
      "execution_count": 20,
      "outputs": [
        {
          "output_type": "execute_result",
          "data": {
            "text/plain": [
              "<graphviz.files.Source at 0x7fd3cb924dd8>"
            ],
            "image/svg+xml": "<?xml version=\"1.0\" encoding=\"UTF-8\" standalone=\"no\"?>\n<!DOCTYPE svg PUBLIC \"-//W3C//DTD SVG 1.1//EN\"\n \"http://www.w3.org/Graphics/SVG/1.1/DTD/svg11.dtd\">\n<!-- Generated by graphviz version 2.40.1 (20161225.0304)\n -->\n<!-- Title: Tree Pages: 1 -->\n<svg width=\"892pt\" height=\"373pt\"\n viewBox=\"0.00 0.00 892.00 373.00\" xmlns=\"http://www.w3.org/2000/svg\" xmlns:xlink=\"http://www.w3.org/1999/xlink\">\n<g id=\"graph0\" class=\"graph\" transform=\"scale(1 1) rotate(0) translate(4 369)\">\n<title>Tree</title>\n<polygon fill=\"#ffffff\" stroke=\"transparent\" points=\"-4,4 -4,-369 888,-369 888,4 -4,4\"/>\n<!-- 0 -->\n<g id=\"node1\" class=\"node\">\n<title>0</title>\n<path fill=\"#f9e0ce\" stroke=\"#000000\" d=\"M660.5,-365C660.5,-365 415.5,-365 415.5,-365 409.5,-365 403.5,-359 403.5,-353 403.5,-353 403.5,-309 403.5,-309 403.5,-303 409.5,-297 415.5,-297 415.5,-297 660.5,-297 660.5,-297 666.5,-297 672.5,-303 672.5,-309 672.5,-309 672.5,-353 672.5,-353 672.5,-359 666.5,-365 660.5,-365\"/>\n<text text-anchor=\"middle\" x=\"538\" y=\"-349.8\" font-family=\"Helvetica,sans-Serif\" font-size=\"14.00\" fill=\"#000000\">Population_Driver_licence(%) &lt;= 0.667</text>\n<text text-anchor=\"middle\" x=\"538\" y=\"-334.8\" font-family=\"Helvetica,sans-Serif\" font-size=\"14.00\" fill=\"#000000\">mse = 12450.075</text>\n<text text-anchor=\"middle\" x=\"538\" y=\"-319.8\" font-family=\"Helvetica,sans-Serif\" font-size=\"14.00\" fill=\"#000000\">samples = 38</text>\n<text text-anchor=\"middle\" x=\"538\" y=\"-304.8\" font-family=\"Helvetica,sans-Serif\" font-size=\"14.00\" fill=\"#000000\">value = 587.368</text>\n</g>\n<!-- 1 -->\n<g id=\"node2\" class=\"node\">\n<title>1</title>\n<path fill=\"#fae6d8\" stroke=\"#000000\" d=\"M499,-261C499,-261 327,-261 327,-261 321,-261 315,-255 315,-249 315,-249 315,-205 315,-205 315,-199 321,-193 327,-193 327,-193 499,-193 499,-193 505,-193 511,-199 511,-205 511,-205 511,-249 511,-249 511,-255 505,-261 499,-261\"/>\n<text text-anchor=\"middle\" x=\"413\" y=\"-245.8\" font-family=\"Helvetica,sans-Serif\" font-size=\"14.00\" fill=\"#000000\">Average_income &lt;= 4395.0</text>\n<text text-anchor=\"middle\" x=\"413\" y=\"-230.8\" font-family=\"Helvetica,sans-Serif\" font-size=\"14.00\" fill=\"#000000\">mse = 5481.606</text>\n<text text-anchor=\"middle\" x=\"413\" y=\"-215.8\" font-family=\"Helvetica,sans-Serif\" font-size=\"14.00\" fill=\"#000000\">samples = 34</text>\n<text text-anchor=\"middle\" x=\"413\" y=\"-200.8\" font-family=\"Helvetica,sans-Serif\" font-size=\"14.00\" fill=\"#000000\">value = 560.735</text>\n</g>\n<!-- 0&#45;&gt;1 -->\n<g id=\"edge1\" class=\"edge\">\n<title>0&#45;&gt;1</title>\n<path fill=\"none\" stroke=\"#000000\" d=\"M497.0703,-296.9465C485.8472,-287.6088 473.5663,-277.3911 461.9427,-267.7203\"/>\n<polygon fill=\"#000000\" stroke=\"#000000\" points=\"463.9474,-264.8353 454.0216,-261.13 459.4704,-270.2164 463.9474,-264.8353\"/>\n<text text-anchor=\"middle\" x=\"456.3046\" y=\"-282.3255\" font-family=\"Helvetica,sans-Serif\" font-size=\"14.00\" fill=\"#000000\">True</text>\n</g>\n<!-- 8 -->\n<g id=\"node9\" class=\"node\">\n<title>8</title>\n<path fill=\"#eda775\" stroke=\"#000000\" d=\"M752,-261C752,-261 576,-261 576,-261 570,-261 564,-255 564,-249 564,-249 564,-205 564,-205 564,-199 570,-193 576,-193 576,-193 752,-193 752,-193 758,-193 764,-199 764,-205 764,-205 764,-249 764,-249 764,-255 758,-261 752,-261\"/>\n<text text-anchor=\"middle\" x=\"664\" y=\"-245.8\" font-family=\"Helvetica,sans-Serif\" font-size=\"14.00\" fill=\"#000000\">Paved_Highways &lt;= 5962.5</text>\n<text text-anchor=\"middle\" x=\"664\" y=\"-230.8\" font-family=\"Helvetica,sans-Serif\" font-size=\"14.00\" fill=\"#000000\">mse = 14404.188</text>\n<text text-anchor=\"middle\" x=\"664\" y=\"-215.8\" font-family=\"Helvetica,sans-Serif\" font-size=\"14.00\" fill=\"#000000\">samples = 4</text>\n<text text-anchor=\"middle\" x=\"664\" y=\"-200.8\" font-family=\"Helvetica,sans-Serif\" font-size=\"14.00\" fill=\"#000000\">value = 813.75</text>\n</g>\n<!-- 0&#45;&gt;8 -->\n<g id=\"edge8\" class=\"edge\">\n<title>0&#45;&gt;8</title>\n<path fill=\"none\" stroke=\"#000000\" d=\"M579.2571,-296.9465C590.5701,-287.6088 602.9492,-277.3911 614.6658,-267.7203\"/>\n<polygon fill=\"#000000\" stroke=\"#000000\" points=\"617.1659,-270.195 622.6502,-261.13 612.71,-264.7964 617.1659,-270.195\"/>\n<text text-anchor=\"middle\" x=\"620.2698\" y=\"-282.3164\" font-family=\"Helvetica,sans-Serif\" font-size=\"14.00\" fill=\"#000000\">False</text>\n</g>\n<!-- 2 -->\n<g id=\"node3\" class=\"node\">\n<title>2</title>\n<path fill=\"#f8decb\" stroke=\"#000000\" d=\"M248,-157C248,-157 138,-157 138,-157 132,-157 126,-151 126,-145 126,-145 126,-101 126,-101 126,-95 132,-89 138,-89 138,-89 248,-89 248,-89 254,-89 260,-95 260,-101 260,-101 260,-145 260,-145 260,-151 254,-157 248,-157\"/>\n<text text-anchor=\"middle\" x=\"193\" y=\"-141.8\" font-family=\"Helvetica,sans-Serif\" font-size=\"14.00\" fill=\"#000000\">Petrol_tax &lt;= 7.75</text>\n<text text-anchor=\"middle\" x=\"193\" y=\"-126.8\" font-family=\"Helvetica,sans-Serif\" font-size=\"14.00\" fill=\"#000000\">mse = 3445.556</text>\n<text text-anchor=\"middle\" x=\"193\" y=\"-111.8\" font-family=\"Helvetica,sans-Serif\" font-size=\"14.00\" fill=\"#000000\">samples = 24</text>\n<text text-anchor=\"middle\" x=\"193\" y=\"-96.8\" font-family=\"Helvetica,sans-Serif\" font-size=\"14.00\" fill=\"#000000\">value = 593.833</text>\n</g>\n<!-- 1&#45;&gt;2 -->\n<g id=\"edge2\" class=\"edge\">\n<title>1&#45;&gt;2</title>\n<path fill=\"none\" stroke=\"#000000\" d=\"M340.9638,-192.9465C318.0634,-182.1209 292.661,-170.1125 269.4598,-159.1446\"/>\n<polygon fill=\"#000000\" stroke=\"#000000\" points=\"270.8844,-155.9467 260.3478,-154.8371 267.8927,-162.2752 270.8844,-155.9467\"/>\n</g>\n<!-- 5 -->\n<g id=\"node6\" class=\"node\">\n<title>5</title>\n<path fill=\"#fefaf7\" stroke=\"#000000\" d=\"M535.5,-157C535.5,-157 290.5,-157 290.5,-157 284.5,-157 278.5,-151 278.5,-145 278.5,-145 278.5,-101 278.5,-101 278.5,-95 284.5,-89 290.5,-89 290.5,-89 535.5,-89 535.5,-89 541.5,-89 547.5,-95 547.5,-101 547.5,-101 547.5,-145 547.5,-145 547.5,-151 541.5,-157 535.5,-157\"/>\n<text text-anchor=\"middle\" x=\"413\" y=\"-141.8\" font-family=\"Helvetica,sans-Serif\" font-size=\"14.00\" fill=\"#000000\">Population_Driver_licence(%) &lt;= 0.572</text>\n<text text-anchor=\"middle\" x=\"413\" y=\"-126.8\" font-family=\"Helvetica,sans-Serif\" font-size=\"14.00\" fill=\"#000000\">mse = 1429.01</text>\n<text text-anchor=\"middle\" x=\"413\" y=\"-111.8\" font-family=\"Helvetica,sans-Serif\" font-size=\"14.00\" fill=\"#000000\">samples = 10</text>\n<text text-anchor=\"middle\" x=\"413\" y=\"-96.8\" font-family=\"Helvetica,sans-Serif\" font-size=\"14.00\" fill=\"#000000\">value = 481.3</text>\n</g>\n<!-- 1&#45;&gt;5 -->\n<g id=\"edge5\" class=\"edge\">\n<title>1&#45;&gt;5</title>\n<path fill=\"none\" stroke=\"#000000\" d=\"M413,-192.9465C413,-184.776 413,-175.9318 413,-167.3697\"/>\n<polygon fill=\"#000000\" stroke=\"#000000\" points=\"416.5001,-167.13 413,-157.13 409.5001,-167.13 416.5001,-167.13\"/>\n</g>\n<!-- 3 -->\n<g id=\"node4\" class=\"node\">\n<title>3</title>\n<path fill=\"#f7d7c0\" stroke=\"#000000\" d=\"M110,-53C110,-53 12,-53 12,-53 6,-53 0,-47 0,-41 0,-41 0,-12 0,-12 0,-6 6,0 12,0 12,0 110,0 110,0 116,0 122,-6 122,-12 122,-12 122,-41 122,-41 122,-47 116,-53 110,-53\"/>\n<text text-anchor=\"middle\" x=\"61\" y=\"-37.8\" font-family=\"Helvetica,sans-Serif\" font-size=\"14.00\" fill=\"#000000\">mse = 3380.639</text>\n<text text-anchor=\"middle\" x=\"61\" y=\"-22.8\" font-family=\"Helvetica,sans-Serif\" font-size=\"14.00\" fill=\"#000000\">samples = 13</text>\n<text text-anchor=\"middle\" x=\"61\" y=\"-7.8\" font-family=\"Helvetica,sans-Serif\" font-size=\"14.00\" fill=\"#000000\">value = 621.769</text>\n</g>\n<!-- 2&#45;&gt;3 -->\n<g id=\"edge3\" class=\"edge\">\n<title>2&#45;&gt;3</title>\n<path fill=\"none\" stroke=\"#000000\" d=\"M146.4617,-88.9777C133.3099,-79.3629 119.0257,-68.9203 105.968,-59.3743\"/>\n<polygon fill=\"#000000\" stroke=\"#000000\" points=\"107.727,-56.3247 97.5886,-53.2485 103.5958,-61.9757 107.727,-56.3247\"/>\n</g>\n<!-- 4 -->\n<g id=\"node5\" class=\"node\">\n<title>4</title>\n<path fill=\"#fae6d8\" stroke=\"#000000\" d=\"M250,-53C250,-53 152,-53 152,-53 146,-53 140,-47 140,-41 140,-41 140,-12 140,-12 140,-6 146,0 152,0 152,0 250,0 250,0 256,0 262,-6 262,-12 262,-12 262,-41 262,-41 262,-47 256,-53 250,-53\"/>\n<text text-anchor=\"middle\" x=\"201\" y=\"-37.8\" font-family=\"Helvetica,sans-Serif\" font-size=\"14.00\" fill=\"#000000\">mse = 1509.967</text>\n<text text-anchor=\"middle\" x=\"201\" y=\"-22.8\" font-family=\"Helvetica,sans-Serif\" font-size=\"14.00\" fill=\"#000000\">samples = 11</text>\n<text text-anchor=\"middle\" x=\"201\" y=\"-7.8\" font-family=\"Helvetica,sans-Serif\" font-size=\"14.00\" fill=\"#000000\">value = 560.818</text>\n</g>\n<!-- 2&#45;&gt;4 -->\n<g id=\"edge4\" class=\"edge\">\n<title>2&#45;&gt;4</title>\n<path fill=\"none\" stroke=\"#000000\" d=\"M195.8205,-88.9777C196.5113,-80.6449 197.2537,-71.6903 197.9545,-63.2364\"/>\n<polygon fill=\"#000000\" stroke=\"#000000\" points=\"201.4443,-63.5035 198.7825,-53.2485 194.4682,-62.9251 201.4443,-63.5035\"/>\n</g>\n<!-- 6 -->\n<g id=\"node7\" class=\"node\">\n<title>6</title>\n<path fill=\"#ffffff\" stroke=\"#000000\" d=\"M419.5,-53C419.5,-53 322.5,-53 322.5,-53 316.5,-53 310.5,-47 310.5,-41 310.5,-41 310.5,-12 310.5,-12 310.5,-6 316.5,0 322.5,0 322.5,0 419.5,0 419.5,0 425.5,0 431.5,-6 431.5,-12 431.5,-12 431.5,-41 431.5,-41 431.5,-47 425.5,-53 419.5,-53\"/>\n<text text-anchor=\"middle\" x=\"371\" y=\"-37.8\" font-family=\"Helvetica,sans-Serif\" font-size=\"14.00\" fill=\"#000000\">mse = 586.245</text>\n<text text-anchor=\"middle\" x=\"371\" y=\"-22.8\" font-family=\"Helvetica,sans-Serif\" font-size=\"14.00\" fill=\"#000000\">samples = 7</text>\n<text text-anchor=\"middle\" x=\"371\" y=\"-7.8\" font-family=\"Helvetica,sans-Serif\" font-size=\"14.00\" fill=\"#000000\">value = 460.571</text>\n</g>\n<!-- 5&#45;&gt;6 -->\n<g id=\"edge6\" class=\"edge\">\n<title>5&#45;&gt;6</title>\n<path fill=\"none\" stroke=\"#000000\" d=\"M398.1924,-88.9777C394.4859,-80.4617 390.4969,-71.2963 386.7466,-62.6798\"/>\n<polygon fill=\"#000000\" stroke=\"#000000\" points=\"389.8418,-61.0209 382.6418,-53.2485 383.4234,-63.8145 389.8418,-61.0209\"/>\n</g>\n<!-- 7 -->\n<g id=\"node8\" class=\"node\">\n<title>7</title>\n<path fill=\"#fbeee4\" stroke=\"#000000\" d=\"M558.5,-53C558.5,-53 461.5,-53 461.5,-53 455.5,-53 449.5,-47 449.5,-41 449.5,-41 449.5,-12 449.5,-12 449.5,-6 455.5,0 461.5,0 461.5,0 558.5,0 558.5,0 564.5,0 570.5,-6 570.5,-12 570.5,-12 570.5,-41 570.5,-41 570.5,-47 564.5,-53 558.5,-53\"/>\n<text text-anchor=\"middle\" x=\"510\" y=\"-37.8\" font-family=\"Helvetica,sans-Serif\" font-size=\"14.00\" fill=\"#000000\">mse = 53.556</text>\n<text text-anchor=\"middle\" x=\"510\" y=\"-22.8\" font-family=\"Helvetica,sans-Serif\" font-size=\"14.00\" fill=\"#000000\">samples = 3</text>\n<text text-anchor=\"middle\" x=\"510\" y=\"-7.8\" font-family=\"Helvetica,sans-Serif\" font-size=\"14.00\" fill=\"#000000\">value = 529.667</text>\n</g>\n<!-- 5&#45;&gt;7 -->\n<g id=\"edge7\" class=\"edge\">\n<title>5&#45;&gt;7</title>\n<path fill=\"none\" stroke=\"#000000\" d=\"M447.1986,-88.9777C456.495,-79.7292 466.5614,-69.7147 475.8549,-60.4691\"/>\n<polygon fill=\"#000000\" stroke=\"#000000\" points=\"478.4921,-62.7825 483.1129,-53.2485 473.5551,-57.82 478.4921,-62.7825\"/>\n</g>\n<!-- 9 -->\n<g id=\"node10\" class=\"node\">\n<title>9</title>\n<path fill=\"#ea995f\" stroke=\"#000000\" d=\"M750,-157C750,-157 578,-157 578,-157 572,-157 566,-151 566,-145 566,-145 566,-101 566,-101 566,-95 572,-89 578,-89 578,-89 750,-89 750,-89 756,-89 762,-95 762,-101 762,-101 762,-145 762,-145 762,-151 756,-157 750,-157\"/>\n<text text-anchor=\"middle\" x=\"664\" y=\"-141.8\" font-family=\"Helvetica,sans-Serif\" font-size=\"14.00\" fill=\"#000000\">Average_income &lt;= 4530.5</text>\n<text text-anchor=\"middle\" x=\"664\" y=\"-126.8\" font-family=\"Helvetica,sans-Serif\" font-size=\"14.00\" fill=\"#000000\">mse = 5788.222</text>\n<text text-anchor=\"middle\" x=\"664\" y=\"-111.8\" font-family=\"Helvetica,sans-Serif\" font-size=\"14.00\" fill=\"#000000\">samples = 3</text>\n<text text-anchor=\"middle\" x=\"664\" y=\"-96.8\" font-family=\"Helvetica,sans-Serif\" font-size=\"14.00\" fill=\"#000000\">value = 871.667</text>\n</g>\n<!-- 8&#45;&gt;9 -->\n<g id=\"edge9\" class=\"edge\">\n<title>8&#45;&gt;9</title>\n<path fill=\"none\" stroke=\"#000000\" d=\"M664,-192.9465C664,-184.776 664,-175.9318 664,-167.3697\"/>\n<polygon fill=\"#000000\" stroke=\"#000000\" points=\"667.5001,-167.13 664,-157.13 660.5001,-167.13 667.5001,-167.13\"/>\n</g>\n<!-- 12 -->\n<g id=\"node13\" class=\"node\">\n<title>12</title>\n<path fill=\"#f6d2b9\" stroke=\"#000000\" d=\"M872,-149.5C872,-149.5 792,-149.5 792,-149.5 786,-149.5 780,-143.5 780,-137.5 780,-137.5 780,-108.5 780,-108.5 780,-102.5 786,-96.5 792,-96.5 792,-96.5 872,-96.5 872,-96.5 878,-96.5 884,-102.5 884,-108.5 884,-108.5 884,-137.5 884,-137.5 884,-143.5 878,-149.5 872,-149.5\"/>\n<text text-anchor=\"middle\" x=\"832\" y=\"-134.3\" font-family=\"Helvetica,sans-Serif\" font-size=\"14.00\" fill=\"#000000\">mse = 0.0</text>\n<text text-anchor=\"middle\" x=\"832\" y=\"-119.3\" font-family=\"Helvetica,sans-Serif\" font-size=\"14.00\" fill=\"#000000\">samples = 1</text>\n<text text-anchor=\"middle\" x=\"832\" y=\"-104.3\" font-family=\"Helvetica,sans-Serif\" font-size=\"14.00\" fill=\"#000000\">value = 640.0</text>\n</g>\n<!-- 8&#45;&gt;12 -->\n<g id=\"edge12\" class=\"edge\">\n<title>8&#45;&gt;12</title>\n<path fill=\"none\" stroke=\"#000000\" d=\"M719.0095,-192.9465C738.7601,-180.72 760.9478,-166.9847 780.3986,-154.9437\"/>\n<polygon fill=\"#000000\" stroke=\"#000000\" points=\"782.4638,-157.7817 789.1242,-149.5422 778.7793,-151.8298 782.4638,-157.7817\"/>\n</g>\n<!-- 10 -->\n<g id=\"node11\" class=\"node\">\n<title>10</title>\n<path fill=\"#e58139\" stroke=\"#000000\" d=\"M696,-53C696,-53 616,-53 616,-53 610,-53 604,-47 604,-41 604,-41 604,-12 604,-12 604,-6 610,0 616,0 616,0 696,0 696,0 702,0 708,-6 708,-12 708,-12 708,-41 708,-41 708,-47 702,-53 696,-53\"/>\n<text text-anchor=\"middle\" x=\"656\" y=\"-37.8\" font-family=\"Helvetica,sans-Serif\" font-size=\"14.00\" fill=\"#000000\">mse = 0.0</text>\n<text text-anchor=\"middle\" x=\"656\" y=\"-22.8\" font-family=\"Helvetica,sans-Serif\" font-size=\"14.00\" fill=\"#000000\">samples = 1</text>\n<text text-anchor=\"middle\" x=\"656\" y=\"-7.8\" font-family=\"Helvetica,sans-Serif\" font-size=\"14.00\" fill=\"#000000\">value = 968.0</text>\n</g>\n<!-- 9&#45;&gt;10 -->\n<g id=\"edge10\" class=\"edge\">\n<title>9&#45;&gt;10</title>\n<path fill=\"none\" stroke=\"#000000\" d=\"M661.1795,-88.9777C660.4887,-80.6449 659.7463,-71.6903 659.0455,-63.2364\"/>\n<polygon fill=\"#000000\" stroke=\"#000000\" points=\"662.5318,-62.9251 658.2175,-53.2485 655.5557,-63.5035 662.5318,-62.9251\"/>\n</g>\n<!-- 11 -->\n<g id=\"node12\" class=\"node\">\n<title>11</title>\n<path fill=\"#eca571\" stroke=\"#000000\" d=\"M827.5,-53C827.5,-53 738.5,-53 738.5,-53 732.5,-53 726.5,-47 726.5,-41 726.5,-41 726.5,-12 726.5,-12 726.5,-6 732.5,0 738.5,0 738.5,0 827.5,0 827.5,0 833.5,0 839.5,-6 839.5,-12 839.5,-12 839.5,-41 839.5,-41 839.5,-47 833.5,-53 827.5,-53\"/>\n<text text-anchor=\"middle\" x=\"783\" y=\"-37.8\" font-family=\"Helvetica,sans-Serif\" font-size=\"14.00\" fill=\"#000000\">mse = 1722.25</text>\n<text text-anchor=\"middle\" x=\"783\" y=\"-22.8\" font-family=\"Helvetica,sans-Serif\" font-size=\"14.00\" fill=\"#000000\">samples = 2</text>\n<text text-anchor=\"middle\" x=\"783\" y=\"-7.8\" font-family=\"Helvetica,sans-Serif\" font-size=\"14.00\" fill=\"#000000\">value = 823.5</text>\n</g>\n<!-- 9&#45;&gt;11 -->\n<g id=\"edge11\" class=\"edge\">\n<title>9&#45;&gt;11</title>\n<path fill=\"none\" stroke=\"#000000\" d=\"M705.9549,-88.9777C717.6986,-79.4545 730.4438,-69.1191 742.124,-59.6473\"/>\n<polygon fill=\"#000000\" stroke=\"#000000\" points=\"744.4522,-62.2656 750.0148,-53.2485 740.0432,-56.8286 744.4522,-62.2656\"/>\n</g>\n</g>\n</svg>\n"
          },
          "metadata": {
            "tags": []
          },
          "execution_count": 20
        }
      ]
    },
    {
      "cell_type": "markdown",
      "metadata": {
        "id": "KegZWV_UPbwV",
        "colab_type": "text"
      },
      "source": [
        "Explaination:As we had already seen earlier, Population_Driver_License has the highest impact on petrol consumption. Therefore, the Tree starts from this parameter. The list of 38 States(Train dataset has 80% of 48 states) in USA are divided based on Population_Driver_License. If this value is less than or equal to 0.667, the model further divides based on Average_income. If its less than or equal to 4395.0, the model again checks if Petrol_tax is less than or equal to 7.75. Since we have reached the maximum depth (3), the further division stops."
      ]
    },
    {
      "cell_type": "code",
      "metadata": {
        "id": "t6uA3hV1Pakt",
        "colab_type": "code",
        "colab": {
          "base_uri": "https://localhost:8080/",
          "height": 35
        },
        "outputId": "2e14f26c-01c3-4c87-d260-d7a407426eb5"
      },
      "source": [
        "import numpy as np\n",
        "\n",
        "np.unique(predictions)"
      ],
      "execution_count": 21,
      "outputs": [
        {
          "output_type": "execute_result",
          "data": {
            "text/plain": [
              "array([460.57142857, 529.66666667, 560.81818182, 621.76923077])"
            ]
          },
          "metadata": {
            "tags": []
          },
          "execution_count": 21
        }
      ]
    },
    {
      "cell_type": "markdown",
      "metadata": {
        "id": "1uKwDz3XPjVX",
        "colab_type": "text"
      },
      "source": [
        "In order to improve the prediction and model performance, lets apply Grid Search method.\n"
      ]
    },
    {
      "cell_type": "code",
      "metadata": {
        "id": "DQZz8eiDPiES",
        "colab_type": "code",
        "colab": {
          "base_uri": "https://localhost:8080/",
          "height": 301
        },
        "outputId": "d23adf25-c531-4949-9210-7e728f0febc2"
      },
      "source": [
        "#Import GridSearchCV and fit the model to the training data.\n",
        "from sklearn.model_selection import GridSearchCV\n",
        "param_grid = [{\"max_depth\":[2,3,4,None], \"max_features\":[1, 2,3,4]}]\n",
        "\n",
        "gs = GridSearchCV(estimator=DecisionTreeRegressor(random_state=10),\\\n",
        "                 param_grid = param_grid,\\\n",
        "                 cv=10)\n",
        "\n",
        "gs.fit(X_train, Y_train)"
      ],
      "execution_count": 22,
      "outputs": [
        {
          "output_type": "execute_result",
          "data": {
            "text/plain": [
              "GridSearchCV(cv=10, error_score=nan,\n",
              "             estimator=DecisionTreeRegressor(ccp_alpha=0.0, criterion='mse',\n",
              "                                             max_depth=None, max_features=None,\n",
              "                                             max_leaf_nodes=None,\n",
              "                                             min_impurity_decrease=0.0,\n",
              "                                             min_impurity_split=None,\n",
              "                                             min_samples_leaf=1,\n",
              "                                             min_samples_split=2,\n",
              "                                             min_weight_fraction_leaf=0.0,\n",
              "                                             presort='deprecated',\n",
              "                                             random_state=10, splitter='best'),\n",
              "             iid='deprecated', n_jobs=None,\n",
              "             param_grid=[{'max_depth': [2, 3, 4, None],\n",
              "                          'max_features': [1, 2, 3, 4]}],\n",
              "             pre_dispatch='2*n_jobs', refit=True, return_train_score=False,\n",
              "             scoring=None, verbose=0)"
            ]
          },
          "metadata": {
            "tags": []
          },
          "execution_count": 22
        }
      ]
    },
    {
      "cell_type": "code",
      "metadata": {
        "id": "_9kyoz00Po-O",
        "colab_type": "code",
        "colab": {
          "base_uri": "https://localhost:8080/",
          "height": 301
        },
        "outputId": "f5b2c8a6-78c3-427b-d774-3a33656b5835"
      },
      "source": [
        "gs.cv_results_['params']"
      ],
      "execution_count": 23,
      "outputs": [
        {
          "output_type": "execute_result",
          "data": {
            "text/plain": [
              "[{'max_depth': 2, 'max_features': 1},\n",
              " {'max_depth': 2, 'max_features': 2},\n",
              " {'max_depth': 2, 'max_features': 3},\n",
              " {'max_depth': 2, 'max_features': 4},\n",
              " {'max_depth': 3, 'max_features': 1},\n",
              " {'max_depth': 3, 'max_features': 2},\n",
              " {'max_depth': 3, 'max_features': 3},\n",
              " {'max_depth': 3, 'max_features': 4},\n",
              " {'max_depth': 4, 'max_features': 1},\n",
              " {'max_depth': 4, 'max_features': 2},\n",
              " {'max_depth': 4, 'max_features': 3},\n",
              " {'max_depth': 4, 'max_features': 4},\n",
              " {'max_depth': None, 'max_features': 1},\n",
              " {'max_depth': None, 'max_features': 2},\n",
              " {'max_depth': None, 'max_features': 3},\n",
              " {'max_depth': None, 'max_features': 4}]"
            ]
          },
          "metadata": {
            "tags": []
          },
          "execution_count": 23
        }
      ]
    },
    {
      "cell_type": "code",
      "metadata": {
        "id": "72y1djTpPqHs",
        "colab_type": "code",
        "colab": {
          "base_uri": "https://localhost:8080/",
          "height": 35
        },
        "outputId": "cafb7048-9d2c-43e5-c574-4136c674da68"
      },
      "source": [
        "gs.best_params_"
      ],
      "execution_count": 24,
      "outputs": [
        {
          "output_type": "execute_result",
          "data": {
            "text/plain": [
              "{'max_depth': None, 'max_features': 3}"
            ]
          },
          "metadata": {
            "tags": []
          },
          "execution_count": 24
        }
      ]
    },
    {
      "cell_type": "code",
      "metadata": {
        "id": "2M9EwJuzPrDB",
        "colab_type": "code",
        "colab": {
          "base_uri": "https://localhost:8080/",
          "height": 52
        },
        "outputId": "3ab65eda-dfd6-4fbb-c53d-fa84fbc801f1"
      },
      "source": [
        "gs.cv_results_['rank_test_score']"
      ],
      "execution_count": 25,
      "outputs": [
        {
          "output_type": "execute_result",
          "data": {
            "text/plain": [
              "array([14, 10,  9,  7,  8, 13, 12, 11, 16, 15,  2,  3,  4,  6,  1,  5],\n",
              "      dtype=int32)"
            ]
          },
          "metadata": {
            "tags": []
          },
          "execution_count": 25
        }
      ]
    },
    {
      "cell_type": "code",
      "metadata": {
        "id": "QzJFFP_yPr33",
        "colab_type": "code",
        "colab": {
          "base_uri": "https://localhost:8080/",
          "height": 124
        },
        "outputId": "2cb03e41-a32e-417d-b525-90fc3e338f86"
      },
      "source": [
        "gs.best_estimator_"
      ],
      "execution_count": 26,
      "outputs": [
        {
          "output_type": "execute_result",
          "data": {
            "text/plain": [
              "DecisionTreeRegressor(ccp_alpha=0.0, criterion='mse', max_depth=None,\n",
              "                      max_features=3, max_leaf_nodes=None,\n",
              "                      min_impurity_decrease=0.0, min_impurity_split=None,\n",
              "                      min_samples_leaf=1, min_samples_split=2,\n",
              "                      min_weight_fraction_leaf=0.0, presort='deprecated',\n",
              "                      random_state=10, splitter='best')"
            ]
          },
          "metadata": {
            "tags": []
          },
          "execution_count": 26
        }
      ]
    },
    {
      "cell_type": "code",
      "metadata": {
        "id": "9USVk7PlPs2R",
        "colab_type": "code",
        "colab": {}
      },
      "source": [
        "predictions_new = gs.predict(X_test)"
      ],
      "execution_count": 0,
      "outputs": []
    },
    {
      "cell_type": "code",
      "metadata": {
        "id": "2CjemHarPtvh",
        "colab_type": "code",
        "colab": {
          "base_uri": "https://localhost:8080/",
          "height": 35
        },
        "outputId": "4d1477b4-7c45-4799-aad2-76b5afc26da4"
      },
      "source": [
        "from sklearn.metrics import mean_absolute_error, r2_score\n",
        "\n",
        "mean_absolute_error(Y_test, predictions_new)\n",
        "\n",
        "r2_score(Y_test, predictions_new)"
      ],
      "execution_count": 28,
      "outputs": [
        {
          "output_type": "execute_result",
          "data": {
            "text/plain": [
              "0.5044234715679189"
            ]
          },
          "metadata": {
            "tags": []
          },
          "execution_count": 28
        }
      ]
    },
    {
      "cell_type": "markdown",
      "metadata": {
        "id": "3l_wAnCyPxaR",
        "colab_type": "text"
      },
      "source": [
        "Observation:\n",
        "\n",
        "When evaluated earlier, we had the Mean Absolute Error 49.2 and R2 Score 0.58. In order to improve the model, we had opted to use Grid Search method. However, looking at the new R2 Score, it can be said that the model isn't performing well with Grid Search (R2 Score and error scores have increased).\n",
        "\n",
        "Therefore, lets try using other methods like Random Forest to predict."
      ]
    },
    {
      "cell_type": "markdown",
      "metadata": {
        "id": "sSHzb6bdP10t",
        "colab_type": "text"
      },
      "source": [
        "# Applying Random Forest Regression to Predict Better"
      ]
    },
    {
      "cell_type": "code",
      "metadata": {
        "id": "q11grD_gPv3E",
        "colab_type": "code",
        "colab": {
          "base_uri": "https://localhost:8080/",
          "height": 141
        },
        "outputId": "352f4836-1623-4a52-9b5d-f65226f2b28f"
      },
      "source": [
        "from sklearn.ensemble import RandomForestRegressor\n",
        "\n",
        "rf_model = RandomForestRegressor(n_estimators=250, n_jobs=-1)\n",
        "\n",
        "rf_model.fit(X_train, Y_train)"
      ],
      "execution_count": 29,
      "outputs": [
        {
          "output_type": "execute_result",
          "data": {
            "text/plain": [
              "RandomForestRegressor(bootstrap=True, ccp_alpha=0.0, criterion='mse',\n",
              "                      max_depth=None, max_features='auto', max_leaf_nodes=None,\n",
              "                      max_samples=None, min_impurity_decrease=0.0,\n",
              "                      min_impurity_split=None, min_samples_leaf=1,\n",
              "                      min_samples_split=2, min_weight_fraction_leaf=0.0,\n",
              "                      n_estimators=250, n_jobs=-1, oob_score=False,\n",
              "                      random_state=None, verbose=0, warm_start=False)"
            ]
          },
          "metadata": {
            "tags": []
          },
          "execution_count": 29
        }
      ]
    },
    {
      "cell_type": "code",
      "metadata": {
        "id": "Ql27nwyaP4ZT",
        "colab_type": "code",
        "colab": {}
      },
      "source": [
        "predictions_rf = rf_model.predict(X_test)"
      ],
      "execution_count": 0,
      "outputs": []
    },
    {
      "cell_type": "code",
      "metadata": {
        "id": "_oHRZ0p6P5Vi",
        "colab_type": "code",
        "colab": {
          "base_uri": "https://localhost:8080/",
          "height": 35
        },
        "outputId": "acfeacf8-602d-442b-de52-766128a98379"
      },
      "source": [
        "mean_absolute_error(Y_test, predictions_rf)"
      ],
      "execution_count": 31,
      "outputs": [
        {
          "output_type": "execute_result",
          "data": {
            "text/plain": [
              "32.096799999999995"
            ]
          },
          "metadata": {
            "tags": []
          },
          "execution_count": 31
        }
      ]
    },
    {
      "cell_type": "code",
      "metadata": {
        "id": "kySFIX5tP7Ar",
        "colab_type": "code",
        "colab": {
          "base_uri": "https://localhost:8080/",
          "height": 35
        },
        "outputId": "86945283-c00c-4558-a0d0-0e83d28c1fb7"
      },
      "source": [
        "r2_score(Y_test, predictions_rf)"
      ],
      "execution_count": 32,
      "outputs": [
        {
          "output_type": "execute_result",
          "data": {
            "text/plain": [
              "0.7377431690098494"
            ]
          },
          "metadata": {
            "tags": []
          },
          "execution_count": 32
        }
      ]
    },
    {
      "cell_type": "markdown",
      "metadata": {
        "id": "8D78_RP2P85-",
        "colab_type": "text"
      },
      "source": [
        "Therefore, it can be observed that Random Forest performs better over Decision Tree, Grid Search with the given dataset by looking at the R2 Score and Error. (Error decreased and R2 score increased)"
      ]
    },
    {
      "cell_type": "markdown",
      "metadata": {
        "id": "xpbuKVnOP-kZ",
        "colab_type": "text"
      },
      "source": [
        "# Question 2: Decision Trees for Classification"
      ]
    },
    {
      "cell_type": "markdown",
      "metadata": {
        "id": "5VW74dzyQD-H",
        "colab_type": "text"
      },
      "source": [
        "Use this dataset to predict whether a bank note is authentic or fake depending upon the four different attributes of the image of the note. The attributes are Variance of wavelet transformed image, curtosis of the image, entropy, and skewness of the image. Use Decision Trees to build a classifier for the give data. Use Grid Search to find the optimal value for the hyperparameters, and evaluate your model on suitable metrics. Use graphviz to visualize your decision tree.\n"
      ]
    },
    {
      "cell_type": "code",
      "metadata": {
        "id": "m0aBL8_UP732",
        "colab_type": "code",
        "colab": {}
      },
      "source": [
        "import pandas as pd\n",
        "\n",
        "df2 = pd.read_csv(\"/content/drive/My Drive/UC Machine Learning/Datasets/bill_authentication.csv\")"
      ],
      "execution_count": 0,
      "outputs": []
    },
    {
      "cell_type": "code",
      "metadata": {
        "id": "E7ZM785hQLgr",
        "colab_type": "code",
        "colab": {
          "base_uri": "https://localhost:8080/",
          "height": 200
        },
        "outputId": "7e9bc8dc-6c69-46fe-81ae-68453cb4b299"
      },
      "source": [
        "df2.head()"
      ],
      "execution_count": 36,
      "outputs": [
        {
          "output_type": "execute_result",
          "data": {
            "text/html": [
              "<div>\n",
              "<style scoped>\n",
              "    .dataframe tbody tr th:only-of-type {\n",
              "        vertical-align: middle;\n",
              "    }\n",
              "\n",
              "    .dataframe tbody tr th {\n",
              "        vertical-align: top;\n",
              "    }\n",
              "\n",
              "    .dataframe thead th {\n",
              "        text-align: right;\n",
              "    }\n",
              "</style>\n",
              "<table border=\"1\" class=\"dataframe\">\n",
              "  <thead>\n",
              "    <tr style=\"text-align: right;\">\n",
              "      <th></th>\n",
              "      <th>Variance</th>\n",
              "      <th>Skewness</th>\n",
              "      <th>Curtosis</th>\n",
              "      <th>Entropy</th>\n",
              "      <th>Class</th>\n",
              "    </tr>\n",
              "  </thead>\n",
              "  <tbody>\n",
              "    <tr>\n",
              "      <th>0</th>\n",
              "      <td>3.62160</td>\n",
              "      <td>8.6661</td>\n",
              "      <td>-2.8073</td>\n",
              "      <td>-0.44699</td>\n",
              "      <td>0</td>\n",
              "    </tr>\n",
              "    <tr>\n",
              "      <th>1</th>\n",
              "      <td>4.54590</td>\n",
              "      <td>8.1674</td>\n",
              "      <td>-2.4586</td>\n",
              "      <td>-1.46210</td>\n",
              "      <td>0</td>\n",
              "    </tr>\n",
              "    <tr>\n",
              "      <th>2</th>\n",
              "      <td>3.86600</td>\n",
              "      <td>-2.6383</td>\n",
              "      <td>1.9242</td>\n",
              "      <td>0.10645</td>\n",
              "      <td>0</td>\n",
              "    </tr>\n",
              "    <tr>\n",
              "      <th>3</th>\n",
              "      <td>3.45660</td>\n",
              "      <td>9.5228</td>\n",
              "      <td>-4.0112</td>\n",
              "      <td>-3.59440</td>\n",
              "      <td>0</td>\n",
              "    </tr>\n",
              "    <tr>\n",
              "      <th>4</th>\n",
              "      <td>0.32924</td>\n",
              "      <td>-4.4552</td>\n",
              "      <td>4.5718</td>\n",
              "      <td>-0.98880</td>\n",
              "      <td>0</td>\n",
              "    </tr>\n",
              "  </tbody>\n",
              "</table>\n",
              "</div>"
            ],
            "text/plain": [
              "   Variance  Skewness  Curtosis  Entropy  Class\n",
              "0   3.62160    8.6661   -2.8073 -0.44699      0\n",
              "1   4.54590    8.1674   -2.4586 -1.46210      0\n",
              "2   3.86600   -2.6383    1.9242  0.10645      0\n",
              "3   3.45660    9.5228   -4.0112 -3.59440      0\n",
              "4   0.32924   -4.4552    4.5718 -0.98880      0"
            ]
          },
          "metadata": {
            "tags": []
          },
          "execution_count": 36
        }
      ]
    },
    {
      "cell_type": "code",
      "metadata": {
        "id": "PK2yoqkOQNId",
        "colab_type": "code",
        "colab": {
          "base_uri": "https://localhost:8080/",
          "height": 35
        },
        "outputId": "833039d9-ddf0-4981-ad42-e859d041add4"
      },
      "source": [
        "df2.shape"
      ],
      "execution_count": 37,
      "outputs": [
        {
          "output_type": "execute_result",
          "data": {
            "text/plain": [
              "(1372, 5)"
            ]
          },
          "metadata": {
            "tags": []
          },
          "execution_count": 37
        }
      ]
    },
    {
      "cell_type": "code",
      "metadata": {
        "id": "BbEdaM-yQPO_",
        "colab_type": "code",
        "colab": {}
      },
      "source": [
        "from sklearn.model_selection import train_test_split\n",
        "\n",
        "#The output variable is 'Class'. Hence, dropping it and splitting the given dataset.\n",
        "X_train, X_test, Y_train, Y_test = train_test_split(df2.drop(\"Class\", axis=1), df2['Class'], test_size = 0.2,\\\n",
        "random_state=4)"
      ],
      "execution_count": 0,
      "outputs": []
    },
    {
      "cell_type": "code",
      "metadata": {
        "id": "LGUy55QYQR3v",
        "colab_type": "code",
        "colab": {
          "base_uri": "https://localhost:8080/",
          "height": 124
        },
        "outputId": "9b2ca5f3-14cb-4acb-86c9-130749191792"
      },
      "source": [
        "from sklearn.tree import DecisionTreeClassifier\n",
        "\n",
        "tree = DecisionTreeClassifier(max_depth=3)\n",
        "\n",
        "tree.fit(X_train, Y_train)"
      ],
      "execution_count": 39,
      "outputs": [
        {
          "output_type": "execute_result",
          "data": {
            "text/plain": [
              "DecisionTreeClassifier(ccp_alpha=0.0, class_weight=None, criterion='gini',\n",
              "                       max_depth=3, max_features=None, max_leaf_nodes=None,\n",
              "                       min_impurity_decrease=0.0, min_impurity_split=None,\n",
              "                       min_samples_leaf=1, min_samples_split=2,\n",
              "                       min_weight_fraction_leaf=0.0, presort='deprecated',\n",
              "                       random_state=None, splitter='best')"
            ]
          },
          "metadata": {
            "tags": []
          },
          "execution_count": 39
        }
      ]
    },
    {
      "cell_type": "code",
      "metadata": {
        "id": "ivTAIzOiQT8a",
        "colab_type": "code",
        "colab": {}
      },
      "source": [
        "predictions = tree.predict(X_test)"
      ],
      "execution_count": 0,
      "outputs": []
    },
    {
      "cell_type": "code",
      "metadata": {
        "id": "mB5axyzBQVDN",
        "colab_type": "code",
        "colab": {
          "base_uri": "https://localhost:8080/",
          "height": 35
        },
        "outputId": "8722b32f-2fac-4b0c-d29a-364521621f2e"
      },
      "source": [
        "predictions[:5]"
      ],
      "execution_count": 41,
      "outputs": [
        {
          "output_type": "execute_result",
          "data": {
            "text/plain": [
              "array([0, 0, 1, 0, 0])"
            ]
          },
          "metadata": {
            "tags": []
          },
          "execution_count": 41
        }
      ]
    },
    {
      "cell_type": "markdown",
      "metadata": {
        "id": "TBKv2gCyQXIr",
        "colab_type": "text"
      },
      "source": [
        "Please note: 0 represents Good notes, 1 Represents Faulty notes"
      ]
    },
    {
      "cell_type": "code",
      "metadata": {
        "id": "2c-V-2uTQV_6",
        "colab_type": "code",
        "colab": {
          "base_uri": "https://localhost:8080/",
          "height": 124
        },
        "outputId": "d3583fd8-942f-4464-fd43-cac53f779fa3"
      },
      "source": [
        "Y_test[:5]"
      ],
      "execution_count": 42,
      "outputs": [
        {
          "output_type": "execute_result",
          "data": {
            "text/plain": [
              "409     0\n",
              "75      0\n",
              "1183    1\n",
              "70      0\n",
              "372     0\n",
              "Name: Class, dtype: int64"
            ]
          },
          "metadata": {
            "tags": []
          },
          "execution_count": 42
        }
      ]
    },
    {
      "cell_type": "markdown",
      "metadata": {
        "id": "4LBbHze2QaNa",
        "colab_type": "text"
      },
      "source": [
        "I'd like to use Accuracy Scores and Confusion Matrix to guage the performance of the model."
      ]
    },
    {
      "cell_type": "code",
      "metadata": {
        "id": "oe-r9WKZQZBF",
        "colab_type": "code",
        "colab": {
          "base_uri": "https://localhost:8080/",
          "height": 35
        },
        "outputId": "93b78838-f4ac-4f03-b7be-6d6da0720a54"
      },
      "source": [
        "from sklearn.metrics import accuracy_score, confusion_matrix\n",
        "\n",
        "accuracy_score(Y_test, predictions)"
      ],
      "execution_count": 46,
      "outputs": [
        {
          "output_type": "execute_result",
          "data": {
            "text/plain": [
              "0.9345454545454546"
            ]
          },
          "metadata": {
            "tags": []
          },
          "execution_count": 46
        }
      ]
    },
    {
      "cell_type": "code",
      "metadata": {
        "id": "2-LjWdHjQdUL",
        "colab_type": "code",
        "colab": {
          "base_uri": "https://localhost:8080/",
          "height": 35
        },
        "outputId": "1ac0c110-1360-4117-e5ef-142041d32989"
      },
      "source": [
        "accuracy_score(Y_test, predictions, normalize=False)"
      ],
      "execution_count": 44,
      "outputs": [
        {
          "output_type": "execute_result",
          "data": {
            "text/plain": [
              "257"
            ]
          },
          "metadata": {
            "tags": []
          },
          "execution_count": 44
        }
      ]
    },
    {
      "cell_type": "code",
      "metadata": {
        "id": "B7aG_u0cQ0v0",
        "colab_type": "code",
        "colab": {}
      },
      "source": [
        "confusion_mat = confusion_matrix(Y_test, predictions)"
      ],
      "execution_count": 0,
      "outputs": []
    },
    {
      "cell_type": "code",
      "metadata": {
        "id": "xzXxUhrvQeKX",
        "colab_type": "code",
        "colab": {}
      },
      "source": [
        "import pandas as pd\n",
        "import matplotlib.pyplot as plt\n",
        "import seaborn as sns\n",
        "%matplotlib inline\n",
        "\n",
        "confusion_df = pd.DataFrame(confusion_mat, index=['Predicted Real Notes','Predicted Fake Notes'],\\\n",
        "                            columns=['Actual Real Notes','Actual Real Fake'])"
      ],
      "execution_count": 0,
      "outputs": []
    },
    {
      "cell_type": "code",
      "metadata": {
        "id": "ZPhe0Tm6Qg4y",
        "colab_type": "code",
        "colab": {
          "base_uri": "https://localhost:8080/",
          "height": 109
        },
        "outputId": "85bcad34-aa6e-4cbb-f408-413b16bfcfa9"
      },
      "source": [
        "confusion_df"
      ],
      "execution_count": 53,
      "outputs": [
        {
          "output_type": "execute_result",
          "data": {
            "text/html": [
              "<div>\n",
              "<style scoped>\n",
              "    .dataframe tbody tr th:only-of-type {\n",
              "        vertical-align: middle;\n",
              "    }\n",
              "\n",
              "    .dataframe tbody tr th {\n",
              "        vertical-align: top;\n",
              "    }\n",
              "\n",
              "    .dataframe thead th {\n",
              "        text-align: right;\n",
              "    }\n",
              "</style>\n",
              "<table border=\"1\" class=\"dataframe\">\n",
              "  <thead>\n",
              "    <tr style=\"text-align: right;\">\n",
              "      <th></th>\n",
              "      <th>Actual Real Notes</th>\n",
              "      <th>Actual Real Fake</th>\n",
              "    </tr>\n",
              "  </thead>\n",
              "  <tbody>\n",
              "    <tr>\n",
              "      <th>Predicted Real Notes</th>\n",
              "      <td>148</td>\n",
              "      <td>10</td>\n",
              "    </tr>\n",
              "    <tr>\n",
              "      <th>Predicted Fake Notes</th>\n",
              "      <td>8</td>\n",
              "      <td>109</td>\n",
              "    </tr>\n",
              "  </tbody>\n",
              "</table>\n",
              "</div>"
            ],
            "text/plain": [
              "                      Actual Real Notes  Actual Real Fake\n",
              "Predicted Real Notes                148                10\n",
              "Predicted Fake Notes                  8               109"
            ]
          },
          "metadata": {
            "tags": []
          },
          "execution_count": 53
        }
      ]
    },
    {
      "cell_type": "markdown",
      "metadata": {
        "id": "d54M0s0OQ92l",
        "colab_type": "text"
      },
      "source": [
        "\n",
        "\n",
        "\n",
        "\n",
        "The Accuracy Score seems to be good. Following analysis can be drawn from the confustion matrix.\n",
        "\n",
        "Out of the 275(total instances in Test dataset -> 20% original dataset), the model could accurately predict 257 (148 + 109) times correctly.\n",
        "\n",
        "-> 148 Times, the notes were actual notes and the model has predicted it to be Actual notes. (Good)\n",
        "\n",
        "-> 10 Times, the notes were actually faulty, but the model has predicted it to be real notes. (Bad)\n",
        "\n",
        "-> 8 Times, the notes are actually real notes that model predicted to be fake. (Bad)\n",
        "\n",
        "-> 109 Times, the notes were actually faulty and the model has predicted them fake. (Good)\n"
      ]
    },
    {
      "cell_type": "code",
      "metadata": {
        "id": "I3CjLhnUQxFD",
        "colab_type": "code",
        "colab": {
          "base_uri": "https://localhost:8080/",
          "height": 294
        },
        "outputId": "2aa404ee-90e2-492c-ebc7-4264020a06e4"
      },
      "source": [
        "_=sns.heatmap(confusion_df, cmap='coolwarm', annot=True)"
      ],
      "execution_count": 54,
      "outputs": [
        {
          "output_type": "display_data",
          "data": {
            "image/png": "[encoded data removed]",
            "text/plain": [
              "<Figure size 432x288 with 2 Axes>"
            ]
          },
          "metadata": {
            "tags": [],
            "needs_background": "light"
          }
        }
      ]
    },
    {
      "cell_type": "code",
      "metadata": {
        "id": "hgIGXCImQ_WD",
        "colab_type": "code",
        "colab": {
          "base_uri": "https://localhost:8080/",
          "height": 538
        },
        "outputId": "eddc0775-4955-4cb0-8ce8-ceb86b1dc434"
      },
      "source": [
        "#Visualizing the Tree\n",
        "from sklearn.tree import export_graphviz\n",
        "import graphviz\n",
        "\n",
        "dot_data = export_graphviz(tree, filled=True, rounded=True, feature_names=X_train.columns, out_file=None)\n",
        "\n",
        "graphviz.Source(dot_data)"
      ],
      "execution_count": 55,
      "outputs": [
        {
          "output_type": "execute_result",
          "data": {
            "text/plain": [
              "<graphviz.files.Source at 0x7fd3c64f6fd0>"
            ],
            "image/svg+xml": "<?xml version=\"1.0\" encoding=\"UTF-8\" standalone=\"no\"?>\n<!DOCTYPE svg PUBLIC \"-//W3C//DTD SVG 1.1//EN\"\n \"http://www.w3.org/Graphics/SVG/1.1/DTD/svg11.dtd\">\n<!-- Generated by graphviz version 2.40.1 (20161225.0304)\n -->\n<!-- Title: Tree Pages: 1 -->\n<svg width=\"1026pt\" height=\"373pt\"\n viewBox=\"0.00 0.00 1026.00 373.00\" xmlns=\"http://www.w3.org/2000/svg\" xmlns:xlink=\"http://www.w3.org/1999/xlink\">\n<g id=\"graph0\" class=\"graph\" transform=\"scale(1 1) rotate(0) translate(4 369)\">\n<title>Tree</title>\n<polygon fill=\"#ffffff\" stroke=\"transparent\" points=\"-4,4 -4,-369 1022,-369 1022,4 -4,4\"/>\n<!-- 0 -->\n<g id=\"node1\" class=\"node\">\n<title>0</title>\n<path fill=\"#fae8db\" stroke=\"#000000\" d=\"M545,-365C545,-365 437,-365 437,-365 431,-365 425,-359 425,-353 425,-353 425,-309 425,-309 425,-303 431,-297 437,-297 437,-297 545,-297 545,-297 551,-297 557,-303 557,-309 557,-309 557,-353 557,-353 557,-359 551,-365 545,-365\"/>\n<text text-anchor=\"middle\" x=\"491\" y=\"-349.8\" font-family=\"Helvetica,sans-Serif\" font-size=\"14.00\" fill=\"#000000\">Variance &lt;= 0.32</text>\n<text text-anchor=\"middle\" x=\"491\" y=\"-334.8\" font-family=\"Helvetica,sans-Serif\" font-size=\"14.00\" fill=\"#000000\">gini = 0.495</text>\n<text text-anchor=\"middle\" x=\"491\" y=\"-319.8\" font-family=\"Helvetica,sans-Serif\" font-size=\"14.00\" fill=\"#000000\">samples = 1097</text>\n<text text-anchor=\"middle\" x=\"491\" y=\"-304.8\" font-family=\"Helvetica,sans-Serif\" font-size=\"14.00\" fill=\"#000000\">value = [604, 493]</text>\n</g>\n<!-- 1 -->\n<g id=\"node2\" class=\"node\">\n<title>1</title>\n<path fill=\"#65b3eb\" stroke=\"#000000\" d=\"M444.5,-261C444.5,-261 323.5,-261 323.5,-261 317.5,-261 311.5,-255 311.5,-249 311.5,-249 311.5,-205 311.5,-205 311.5,-199 317.5,-193 323.5,-193 323.5,-193 444.5,-193 444.5,-193 450.5,-193 456.5,-199 456.5,-205 456.5,-205 456.5,-249 456.5,-249 456.5,-255 450.5,-261 444.5,-261\"/>\n<text text-anchor=\"middle\" x=\"384\" y=\"-245.8\" font-family=\"Helvetica,sans-Serif\" font-size=\"14.00\" fill=\"#000000\">Skewness &lt;= 7.565</text>\n<text text-anchor=\"middle\" x=\"384\" y=\"-230.8\" font-family=\"Helvetica,sans-Serif\" font-size=\"14.00\" fill=\"#000000\">gini = 0.296</text>\n<text text-anchor=\"middle\" x=\"384\" y=\"-215.8\" font-family=\"Helvetica,sans-Serif\" font-size=\"14.00\" fill=\"#000000\">samples = 521</text>\n<text text-anchor=\"middle\" x=\"384\" y=\"-200.8\" font-family=\"Helvetica,sans-Serif\" font-size=\"14.00\" fill=\"#000000\">value = [94, 427]</text>\n</g>\n<!-- 0&#45;&gt;1 -->\n<g id=\"edge1\" class=\"edge\">\n<title>0&#45;&gt;1</title>\n<path fill=\"none\" stroke=\"#000000\" d=\"M455.9642,-296.9465C446.5419,-287.7884 436.2487,-277.7838 426.4696,-268.2788\"/>\n<polygon fill=\"#000000\" stroke=\"#000000\" points=\"428.7249,-265.59 419.1145,-261.13 423.846,-270.6097 428.7249,-265.59\"/>\n<text text-anchor=\"middle\" x=\"419.4699\" y=\"-282.4275\" font-family=\"Helvetica,sans-Serif\" font-size=\"14.00\" fill=\"#000000\">True</text>\n</g>\n<!-- 8 -->\n<g id=\"node9\" class=\"node\">\n<title>8</title>\n<path fill=\"#e89153\" stroke=\"#000000\" d=\"M675.5,-261C675.5,-261 564.5,-261 564.5,-261 558.5,-261 552.5,-255 552.5,-249 552.5,-249 552.5,-205 552.5,-205 552.5,-199 558.5,-193 564.5,-193 564.5,-193 675.5,-193 675.5,-193 681.5,-193 687.5,-199 687.5,-205 687.5,-205 687.5,-249 687.5,-249 687.5,-255 681.5,-261 675.5,-261\"/>\n<text text-anchor=\"middle\" x=\"620\" y=\"-245.8\" font-family=\"Helvetica,sans-Serif\" font-size=\"14.00\" fill=\"#000000\">Curtosis &lt;= &#45;4.443</text>\n<text text-anchor=\"middle\" x=\"620\" y=\"-230.8\" font-family=\"Helvetica,sans-Serif\" font-size=\"14.00\" fill=\"#000000\">gini = 0.203</text>\n<text text-anchor=\"middle\" x=\"620\" y=\"-215.8\" font-family=\"Helvetica,sans-Serif\" font-size=\"14.00\" fill=\"#000000\">samples = 576</text>\n<text text-anchor=\"middle\" x=\"620\" y=\"-200.8\" font-family=\"Helvetica,sans-Serif\" font-size=\"14.00\" fill=\"#000000\">value = [510, 66]</text>\n</g>\n<!-- 0&#45;&gt;8 -->\n<g id=\"edge8\" class=\"edge\">\n<title>0&#45;&gt;8</title>\n<path fill=\"none\" stroke=\"#000000\" d=\"M533.2394,-296.9465C544.9331,-287.519 557.7394,-277.1946 569.837,-267.4415\"/>\n<polygon fill=\"#000000\" stroke=\"#000000\" points=\"572.0773,-270.1312 577.6657,-261.13 567.6838,-264.6816 572.0773,-270.1312\"/>\n<text text-anchor=\"middle\" x=\"574.9986\" y=\"-282.2873\" font-family=\"Helvetica,sans-Serif\" font-size=\"14.00\" fill=\"#000000\">False</text>\n</g>\n<!-- 2 -->\n<g id=\"node3\" class=\"node\">\n<title>2</title>\n<path fill=\"#47a4e7\" stroke=\"#000000\" d=\"M256.5,-157C256.5,-157 135.5,-157 135.5,-157 129.5,-157 123.5,-151 123.5,-145 123.5,-145 123.5,-101 123.5,-101 123.5,-95 129.5,-89 135.5,-89 135.5,-89 256.5,-89 256.5,-89 262.5,-89 268.5,-95 268.5,-101 268.5,-101 268.5,-145 268.5,-145 268.5,-151 262.5,-157 256.5,-157\"/>\n<text text-anchor=\"middle\" x=\"196\" y=\"-141.8\" font-family=\"Helvetica,sans-Serif\" font-size=\"14.00\" fill=\"#000000\">Skewness &lt;= 5.559</text>\n<text text-anchor=\"middle\" x=\"196\" y=\"-126.8\" font-family=\"Helvetica,sans-Serif\" font-size=\"14.00\" fill=\"#000000\">gini = 0.124</text>\n<text text-anchor=\"middle\" x=\"196\" y=\"-111.8\" font-family=\"Helvetica,sans-Serif\" font-size=\"14.00\" fill=\"#000000\">samples = 437</text>\n<text text-anchor=\"middle\" x=\"196\" y=\"-96.8\" font-family=\"Helvetica,sans-Serif\" font-size=\"14.00\" fill=\"#000000\">value = [29, 408]</text>\n</g>\n<!-- 1&#45;&gt;2 -->\n<g id=\"edge2\" class=\"edge\">\n<title>1&#45;&gt;2</title>\n<path fill=\"none\" stroke=\"#000000\" d=\"M322.4418,-192.9465C304.5883,-183.0701 284.9552,-172.2093 266.5944,-162.0522\"/>\n<polygon fill=\"#000000\" stroke=\"#000000\" points=\"268.1411,-158.908 257.6965,-157.13 264.7527,-165.0333 268.1411,-158.908\"/>\n</g>\n<!-- 5 -->\n<g id=\"node6\" class=\"node\">\n<title>5</title>\n<path fill=\"#eda673\" stroke=\"#000000\" d=\"M441.5,-157C441.5,-157 326.5,-157 326.5,-157 320.5,-157 314.5,-151 314.5,-145 314.5,-145 314.5,-101 314.5,-101 314.5,-95 320.5,-89 326.5,-89 326.5,-89 441.5,-89 441.5,-89 447.5,-89 453.5,-95 453.5,-101 453.5,-101 453.5,-145 453.5,-145 453.5,-151 447.5,-157 441.5,-157\"/>\n<text text-anchor=\"middle\" x=\"384\" y=\"-141.8\" font-family=\"Helvetica,sans-Serif\" font-size=\"14.00\" fill=\"#000000\">Variance &lt;= &#45;4.726</text>\n<text text-anchor=\"middle\" x=\"384\" y=\"-126.8\" font-family=\"Helvetica,sans-Serif\" font-size=\"14.00\" fill=\"#000000\">gini = 0.35</text>\n<text text-anchor=\"middle\" x=\"384\" y=\"-111.8\" font-family=\"Helvetica,sans-Serif\" font-size=\"14.00\" fill=\"#000000\">samples = 84</text>\n<text text-anchor=\"middle\" x=\"384\" y=\"-96.8\" font-family=\"Helvetica,sans-Serif\" font-size=\"14.00\" fill=\"#000000\">value = [65, 19]</text>\n</g>\n<!-- 1&#45;&gt;5 -->\n<g id=\"edge5\" class=\"edge\">\n<title>1&#45;&gt;5</title>\n<path fill=\"none\" stroke=\"#000000\" d=\"M384,-192.9465C384,-184.776 384,-175.9318 384,-167.3697\"/>\n<polygon fill=\"#000000\" stroke=\"#000000\" points=\"387.5001,-167.13 384,-157.13 380.5001,-167.13 387.5001,-167.13\"/>\n</g>\n<!-- 3 -->\n<g id=\"node4\" class=\"node\">\n<title>3</title>\n<path fill=\"#43a2e6\" stroke=\"#000000\" d=\"M112,-53C112,-53 12,-53 12,-53 6,-53 0,-47 0,-41 0,-41 0,-12 0,-12 0,-6 6,0 12,0 12,0 112,0 112,0 118,0 124,-6 124,-12 124,-12 124,-41 124,-41 124,-47 118,-53 112,-53\"/>\n<text text-anchor=\"middle\" x=\"62\" y=\"-37.8\" font-family=\"Helvetica,sans-Serif\" font-size=\"14.00\" fill=\"#000000\">gini = 0.093</text>\n<text text-anchor=\"middle\" x=\"62\" y=\"-22.8\" font-family=\"Helvetica,sans-Serif\" font-size=\"14.00\" fill=\"#000000\">samples = 411</text>\n<text text-anchor=\"middle\" x=\"62\" y=\"-7.8\" font-family=\"Helvetica,sans-Serif\" font-size=\"14.00\" fill=\"#000000\">value = [20, 391]</text>\n</g>\n<!-- 2&#45;&gt;3 -->\n<g id=\"edge3\" class=\"edge\">\n<title>2&#45;&gt;3</title>\n<path fill=\"none\" stroke=\"#000000\" d=\"M148.7566,-88.9777C135.2783,-79.2713 120.6285,-68.7213 107.2709,-59.1018\"/>\n<polygon fill=\"#000000\" stroke=\"#000000\" points=\"109.3031,-56.2522 99.143,-53.2485 105.2124,-61.9325 109.3031,-56.2522\"/>\n</g>\n<!-- 4 -->\n<g id=\"node5\" class=\"node\">\n<title>4</title>\n<path fill=\"#a2d1f3\" stroke=\"#000000\" d=\"M237.5,-53C237.5,-53 154.5,-53 154.5,-53 148.5,-53 142.5,-47 142.5,-41 142.5,-41 142.5,-12 142.5,-12 142.5,-6 148.5,0 154.5,0 154.5,0 237.5,0 237.5,0 243.5,0 249.5,-6 249.5,-12 249.5,-12 249.5,-41 249.5,-41 249.5,-47 243.5,-53 237.5,-53\"/>\n<text text-anchor=\"middle\" x=\"196\" y=\"-37.8\" font-family=\"Helvetica,sans-Serif\" font-size=\"14.00\" fill=\"#000000\">gini = 0.453</text>\n<text text-anchor=\"middle\" x=\"196\" y=\"-22.8\" font-family=\"Helvetica,sans-Serif\" font-size=\"14.00\" fill=\"#000000\">samples = 26</text>\n<text text-anchor=\"middle\" x=\"196\" y=\"-7.8\" font-family=\"Helvetica,sans-Serif\" font-size=\"14.00\" fill=\"#000000\">value = [9, 17]</text>\n</g>\n<!-- 2&#45;&gt;4 -->\n<g id=\"edge4\" class=\"edge\">\n<title>2&#45;&gt;4</title>\n<path fill=\"none\" stroke=\"#000000\" d=\"M196,-88.9777C196,-80.7364 196,-71.887 196,-63.5153\"/>\n<polygon fill=\"#000000\" stroke=\"#000000\" points=\"199.5001,-63.2484 196,-53.2485 192.5001,-63.2485 199.5001,-63.2484\"/>\n</g>\n<!-- 6 -->\n<g id=\"node7\" class=\"node\">\n<title>6</title>\n<path fill=\"#399de5\" stroke=\"#000000\" d=\"M362.5,-53C362.5,-53 279.5,-53 279.5,-53 273.5,-53 267.5,-47 267.5,-41 267.5,-41 267.5,-12 267.5,-12 267.5,-6 273.5,0 279.5,0 279.5,0 362.5,0 362.5,0 368.5,0 374.5,-6 374.5,-12 374.5,-12 374.5,-41 374.5,-41 374.5,-47 368.5,-53 362.5,-53\"/>\n<text text-anchor=\"middle\" x=\"321\" y=\"-37.8\" font-family=\"Helvetica,sans-Serif\" font-size=\"14.00\" fill=\"#000000\">gini = 0.0</text>\n<text text-anchor=\"middle\" x=\"321\" y=\"-22.8\" font-family=\"Helvetica,sans-Serif\" font-size=\"14.00\" fill=\"#000000\">samples = 19</text>\n<text text-anchor=\"middle\" x=\"321\" y=\"-7.8\" font-family=\"Helvetica,sans-Serif\" font-size=\"14.00\" fill=\"#000000\">value = [0, 19]</text>\n</g>\n<!-- 5&#45;&gt;6 -->\n<g id=\"edge6\" class=\"edge\">\n<title>5&#45;&gt;6</title>\n<path fill=\"none\" stroke=\"#000000\" d=\"M361.7886,-88.9777C356.0496,-80.187 349.8588,-70.7044 344.0767,-61.8477\"/>\n<polygon fill=\"#000000\" stroke=\"#000000\" points=\"346.8602,-59.7087 338.4627,-53.2485 340.9987,-63.5354 346.8602,-59.7087\"/>\n</g>\n<!-- 7 -->\n<g id=\"node8\" class=\"node\">\n<title>7</title>\n<path fill=\"#e58139\" stroke=\"#000000\" d=\"M487.5,-53C487.5,-53 404.5,-53 404.5,-53 398.5,-53 392.5,-47 392.5,-41 392.5,-41 392.5,-12 392.5,-12 392.5,-6 398.5,0 404.5,0 404.5,0 487.5,0 487.5,0 493.5,0 499.5,-6 499.5,-12 499.5,-12 499.5,-41 499.5,-41 499.5,-47 493.5,-53 487.5,-53\"/>\n<text text-anchor=\"middle\" x=\"446\" y=\"-37.8\" font-family=\"Helvetica,sans-Serif\" font-size=\"14.00\" fill=\"#000000\">gini = 0.0</text>\n<text text-anchor=\"middle\" x=\"446\" y=\"-22.8\" font-family=\"Helvetica,sans-Serif\" font-size=\"14.00\" fill=\"#000000\">samples = 65</text>\n<text text-anchor=\"middle\" x=\"446\" y=\"-7.8\" font-family=\"Helvetica,sans-Serif\" font-size=\"14.00\" fill=\"#000000\">value = [65, 0]</text>\n</g>\n<!-- 5&#45;&gt;7 -->\n<g id=\"edge7\" class=\"edge\">\n<title>5&#45;&gt;7</title>\n<path fill=\"none\" stroke=\"#000000\" d=\"M405.8589,-88.9777C411.5068,-80.187 417.5993,-70.7044 423.2896,-61.8477\"/>\n<polygon fill=\"#000000\" stroke=\"#000000\" points=\"426.3537,-63.5536 428.8144,-53.2485 420.4644,-59.7698 426.3537,-63.5536\"/>\n</g>\n<!-- 9 -->\n<g id=\"node10\" class=\"node\">\n<title>9</title>\n<path fill=\"#65b3eb\" stroke=\"#000000\" d=\"M675,-157C675,-157 565,-157 565,-157 559,-157 553,-151 553,-145 553,-145 553,-101 553,-101 553,-95 559,-89 565,-89 565,-89 675,-89 675,-89 681,-89 687,-95 687,-101 687,-101 687,-145 687,-145 687,-151 681,-157 675,-157\"/>\n<text text-anchor=\"middle\" x=\"620\" y=\"-141.8\" font-family=\"Helvetica,sans-Serif\" font-size=\"14.00\" fill=\"#000000\">Variance &lt;= 3.304</text>\n<text text-anchor=\"middle\" x=\"620\" y=\"-126.8\" font-family=\"Helvetica,sans-Serif\" font-size=\"14.00\" fill=\"#000000\">gini = 0.298</text>\n<text text-anchor=\"middle\" x=\"620\" y=\"-111.8\" font-family=\"Helvetica,sans-Serif\" font-size=\"14.00\" fill=\"#000000\">samples = 33</text>\n<text text-anchor=\"middle\" x=\"620\" y=\"-96.8\" font-family=\"Helvetica,sans-Serif\" font-size=\"14.00\" fill=\"#000000\">value = [6, 27]</text>\n</g>\n<!-- 8&#45;&gt;9 -->\n<g id=\"edge9\" class=\"edge\">\n<title>8&#45;&gt;9</title>\n<path fill=\"none\" stroke=\"#000000\" d=\"M620,-192.9465C620,-184.776 620,-175.9318 620,-167.3697\"/>\n<polygon fill=\"#000000\" stroke=\"#000000\" points=\"623.5001,-167.13 620,-157.13 616.5001,-167.13 623.5001,-167.13\"/>\n</g>\n<!-- 12 -->\n<g id=\"node13\" class=\"node\">\n<title>12</title>\n<path fill=\"#e78b48\" stroke=\"#000000\" d=\"M877,-157C877,-157 767,-157 767,-157 761,-157 755,-151 755,-145 755,-145 755,-101 755,-101 755,-95 761,-89 767,-89 767,-89 877,-89 877,-89 883,-89 889,-95 889,-101 889,-101 889,-145 889,-145 889,-151 883,-157 877,-157\"/>\n<text text-anchor=\"middle\" x=\"822\" y=\"-141.8\" font-family=\"Helvetica,sans-Serif\" font-size=\"14.00\" fill=\"#000000\">Variance &lt;= 1.592</text>\n<text text-anchor=\"middle\" x=\"822\" y=\"-126.8\" font-family=\"Helvetica,sans-Serif\" font-size=\"14.00\" fill=\"#000000\">gini = 0.133</text>\n<text text-anchor=\"middle\" x=\"822\" y=\"-111.8\" font-family=\"Helvetica,sans-Serif\" font-size=\"14.00\" fill=\"#000000\">samples = 543</text>\n<text text-anchor=\"middle\" x=\"822\" y=\"-96.8\" font-family=\"Helvetica,sans-Serif\" font-size=\"14.00\" fill=\"#000000\">value = [504, 39]</text>\n</g>\n<!-- 8&#45;&gt;12 -->\n<g id=\"edge12\" class=\"edge\">\n<title>8&#45;&gt;12</title>\n<path fill=\"none\" stroke=\"#000000\" d=\"M686.1424,-192.9465C705.4997,-182.9803 726.8042,-172.0117 746.6862,-161.7754\"/>\n<polygon fill=\"#000000\" stroke=\"#000000\" points=\"748.4203,-164.8193 755.709,-157.13 745.2161,-158.5957 748.4203,-164.8193\"/>\n</g>\n<!-- 10 -->\n<g id=\"node11\" class=\"node\">\n<title>10</title>\n<path fill=\"#399de5\" stroke=\"#000000\" d=\"M612.5,-53C612.5,-53 529.5,-53 529.5,-53 523.5,-53 517.5,-47 517.5,-41 517.5,-41 517.5,-12 517.5,-12 517.5,-6 523.5,0 529.5,0 529.5,0 612.5,0 612.5,0 618.5,0 624.5,-6 624.5,-12 624.5,-12 624.5,-41 624.5,-41 624.5,-47 618.5,-53 612.5,-53\"/>\n<text text-anchor=\"middle\" x=\"571\" y=\"-37.8\" font-family=\"Helvetica,sans-Serif\" font-size=\"14.00\" fill=\"#000000\">gini = 0.0</text>\n<text text-anchor=\"middle\" x=\"571\" y=\"-22.8\" font-family=\"Helvetica,sans-Serif\" font-size=\"14.00\" fill=\"#000000\">samples = 27</text>\n<text text-anchor=\"middle\" x=\"571\" y=\"-7.8\" font-family=\"Helvetica,sans-Serif\" font-size=\"14.00\" fill=\"#000000\">value = [0, 27]</text>\n</g>\n<!-- 9&#45;&gt;10 -->\n<g id=\"edge10\" class=\"edge\">\n<title>9&#45;&gt;10</title>\n<path fill=\"none\" stroke=\"#000000\" d=\"M602.7244,-88.9777C598.3538,-80.3702 593.6462,-71.0992 589.23,-62.402\"/>\n<polygon fill=\"#000000\" stroke=\"#000000\" points=\"592.2304,-60.5802 584.5821,-53.2485 585.9889,-63.7495 592.2304,-60.5802\"/>\n</g>\n<!-- 11 -->\n<g id=\"node12\" class=\"node\">\n<title>11</title>\n<path fill=\"#e58139\" stroke=\"#000000\" d=\"M729.5,-53C729.5,-53 654.5,-53 654.5,-53 648.5,-53 642.5,-47 642.5,-41 642.5,-41 642.5,-12 642.5,-12 642.5,-6 648.5,0 654.5,0 654.5,0 729.5,0 729.5,0 735.5,0 741.5,-6 741.5,-12 741.5,-12 741.5,-41 741.5,-41 741.5,-47 735.5,-53 729.5,-53\"/>\n<text text-anchor=\"middle\" x=\"692\" y=\"-37.8\" font-family=\"Helvetica,sans-Serif\" font-size=\"14.00\" fill=\"#000000\">gini = 0.0</text>\n<text text-anchor=\"middle\" x=\"692\" y=\"-22.8\" font-family=\"Helvetica,sans-Serif\" font-size=\"14.00\" fill=\"#000000\">samples = 6</text>\n<text text-anchor=\"middle\" x=\"692\" y=\"-7.8\" font-family=\"Helvetica,sans-Serif\" font-size=\"14.00\" fill=\"#000000\">value = [6, 0]</text>\n</g>\n<!-- 9&#45;&gt;11 -->\n<g id=\"edge11\" class=\"edge\">\n<title>9&#45;&gt;11</title>\n<path fill=\"none\" stroke=\"#000000\" d=\"M645.3845,-88.9777C652.08,-80.0039 659.3135,-70.3089 666.039,-61.295\"/>\n<polygon fill=\"#000000\" stroke=\"#000000\" points=\"668.8677,-63.3565 672.0426,-53.2485 663.2573,-59.1704 668.8677,-63.3565\"/>\n</g>\n<!-- 13 -->\n<g id=\"node14\" class=\"node\">\n<title>13</title>\n<path fill=\"#eda978\" stroke=\"#000000\" d=\"M872,-53C872,-53 772,-53 772,-53 766,-53 760,-47 760,-41 760,-41 760,-12 760,-12 760,-6 766,0 772,0 772,0 872,0 872,0 878,0 884,-6 884,-12 884,-12 884,-41 884,-41 884,-47 878,-53 872,-53\"/>\n<text text-anchor=\"middle\" x=\"822\" y=\"-37.8\" font-family=\"Helvetica,sans-Serif\" font-size=\"14.00\" fill=\"#000000\">gini = 0.365</text>\n<text text-anchor=\"middle\" x=\"822\" y=\"-22.8\" font-family=\"Helvetica,sans-Serif\" font-size=\"14.00\" fill=\"#000000\">samples = 150</text>\n<text text-anchor=\"middle\" x=\"822\" y=\"-7.8\" font-family=\"Helvetica,sans-Serif\" font-size=\"14.00\" fill=\"#000000\">value = [114, 36]</text>\n</g>\n<!-- 12&#45;&gt;13 -->\n<g id=\"edge13\" class=\"edge\">\n<title>12&#45;&gt;13</title>\n<path fill=\"none\" stroke=\"#000000\" d=\"M822,-88.9777C822,-80.7364 822,-71.887 822,-63.5153\"/>\n<polygon fill=\"#000000\" stroke=\"#000000\" points=\"825.5001,-63.2484 822,-53.2485 818.5001,-63.2485 825.5001,-63.2484\"/>\n</g>\n<!-- 14 -->\n<g id=\"node15\" class=\"node\">\n<title>14</title>\n<path fill=\"#e5823b\" stroke=\"#000000\" d=\"M1006,-53C1006,-53 914,-53 914,-53 908,-53 902,-47 902,-41 902,-41 902,-12 902,-12 902,-6 908,0 914,0 914,0 1006,0 1006,0 1012,0 1018,-6 1018,-12 1018,-12 1018,-41 1018,-41 1018,-47 1012,-53 1006,-53\"/>\n<text text-anchor=\"middle\" x=\"960\" y=\"-37.8\" font-family=\"Helvetica,sans-Serif\" font-size=\"14.00\" fill=\"#000000\">gini = 0.015</text>\n<text text-anchor=\"middle\" x=\"960\" y=\"-22.8\" font-family=\"Helvetica,sans-Serif\" font-size=\"14.00\" fill=\"#000000\">samples = 393</text>\n<text text-anchor=\"middle\" x=\"960\" y=\"-7.8\" font-family=\"Helvetica,sans-Serif\" font-size=\"14.00\" fill=\"#000000\">value = [390, 3]</text>\n</g>\n<!-- 12&#45;&gt;14 -->\n<g id=\"edge14\" class=\"edge\">\n<title>12&#45;&gt;14</title>\n<path fill=\"none\" stroke=\"#000000\" d=\"M870.6536,-88.9777C884.5343,-79.2713 899.6214,-68.7213 913.3777,-59.1018\"/>\n<polygon fill=\"#000000\" stroke=\"#000000\" points=\"915.5589,-61.8475 921.7483,-53.2485 911.5474,-56.1109 915.5589,-61.8475\"/>\n</g>\n</g>\n</svg>\n"
          },
          "metadata": {
            "tags": []
          },
          "execution_count": 55
        }
      ]
    },
    {
      "cell_type": "code",
      "metadata": {
        "id": "KsVJQdi4RCO0",
        "colab_type": "code",
        "colab": {
          "base_uri": "https://localhost:8080/",
          "height": 319
        },
        "outputId": "2a6368a1-60a8-4eff-c9c2-e31b4279dea7"
      },
      "source": [
        "#Further Trying to improve the model's performance with Grid Search\n",
        "from sklearn.model_selection import GridSearchCV\n",
        "\n",
        "param_grid = [{\"max_depth\":[2,3,4,None], \"max_features\":[1,2,3,4]}]\n",
        "\n",
        "gs = GridSearchCV(estimator=DecisionTreeClassifier(random_state=4),\\\n",
        "                 param_grid = param_grid,\\\n",
        "                 cv=10)\n",
        "\n",
        "gs.fit(X_train, Y_train)"
      ],
      "execution_count": 56,
      "outputs": [
        {
          "output_type": "execute_result",
          "data": {
            "text/plain": [
              "GridSearchCV(cv=10, error_score=nan,\n",
              "             estimator=DecisionTreeClassifier(ccp_alpha=0.0, class_weight=None,\n",
              "                                              criterion='gini', max_depth=None,\n",
              "                                              max_features=None,\n",
              "                                              max_leaf_nodes=None,\n",
              "                                              min_impurity_decrease=0.0,\n",
              "                                              min_impurity_split=None,\n",
              "                                              min_samples_leaf=1,\n",
              "                                              min_samples_split=2,\n",
              "                                              min_weight_fraction_leaf=0.0,\n",
              "                                              presort='deprecated',\n",
              "                                              random_state=4, splitter='best'),\n",
              "             iid='deprecated', n_jobs=None,\n",
              "             param_grid=[{'max_depth': [2, 3, 4, None],\n",
              "                          'max_features': [1, 2, 3, 4]}],\n",
              "             pre_dispatch='2*n_jobs', refit=True, return_train_score=False,\n",
              "             scoring=None, verbose=0)"
            ]
          },
          "metadata": {
            "tags": []
          },
          "execution_count": 56
        }
      ]
    },
    {
      "cell_type": "code",
      "metadata": {
        "id": "NwYAozBZRFvU",
        "colab_type": "code",
        "colab": {
          "base_uri": "https://localhost:8080/",
          "height": 301
        },
        "outputId": "9f490f66-716c-4e37-c0d5-ab27b949fe3f"
      },
      "source": [
        "gs.cv_results_['params']"
      ],
      "execution_count": 57,
      "outputs": [
        {
          "output_type": "execute_result",
          "data": {
            "text/plain": [
              "[{'max_depth': 2, 'max_features': 1},\n",
              " {'max_depth': 2, 'max_features': 2},\n",
              " {'max_depth': 2, 'max_features': 3},\n",
              " {'max_depth': 2, 'max_features': 4},\n",
              " {'max_depth': 3, 'max_features': 1},\n",
              " {'max_depth': 3, 'max_features': 2},\n",
              " {'max_depth': 3, 'max_features': 3},\n",
              " {'max_depth': 3, 'max_features': 4},\n",
              " {'max_depth': 4, 'max_features': 1},\n",
              " {'max_depth': 4, 'max_features': 2},\n",
              " {'max_depth': 4, 'max_features': 3},\n",
              " {'max_depth': 4, 'max_features': 4},\n",
              " {'max_depth': None, 'max_features': 1},\n",
              " {'max_depth': None, 'max_features': 2},\n",
              " {'max_depth': None, 'max_features': 3},\n",
              " {'max_depth': None, 'max_features': 4}]"
            ]
          },
          "metadata": {
            "tags": []
          },
          "execution_count": 57
        }
      ]
    },
    {
      "cell_type": "code",
      "metadata": {
        "id": "CUZwiI81RGoK",
        "colab_type": "code",
        "colab": {
          "base_uri": "https://localhost:8080/",
          "height": 35
        },
        "outputId": "bb96fddd-16c8-44f8-a273-3335e7ff64a6"
      },
      "source": [
        "gs.best_params_"
      ],
      "execution_count": 58,
      "outputs": [
        {
          "output_type": "execute_result",
          "data": {
            "text/plain": [
              "{'max_depth': None, 'max_features': 4}"
            ]
          },
          "metadata": {
            "tags": []
          },
          "execution_count": 58
        }
      ]
    },
    {
      "cell_type": "code",
      "metadata": {
        "id": "JxayK64vRHtM",
        "colab_type": "code",
        "colab": {
          "base_uri": "https://localhost:8080/",
          "height": 52
        },
        "outputId": "78f6b83b-66d3-4a0d-ec48-ddfe546ee10a"
      },
      "source": [
        "gs.cv_results_['rank_test_score']"
      ],
      "execution_count": 59,
      "outputs": [
        {
          "output_type": "execute_result",
          "data": {
            "text/plain": [
              "array([15, 16, 10, 10, 14, 12,  8,  8, 13,  5,  7,  6,  4,  2,  3,  1],\n",
              "      dtype=int32)"
            ]
          },
          "metadata": {
            "tags": []
          },
          "execution_count": 59
        }
      ]
    },
    {
      "cell_type": "code",
      "metadata": {
        "id": "sYgowySjRIg9",
        "colab_type": "code",
        "colab": {
          "base_uri": "https://localhost:8080/",
          "height": 124
        },
        "outputId": "5f59a2e5-1e80-4cf7-967c-72b797f83a54"
      },
      "source": [
        "gs.best_estimator_"
      ],
      "execution_count": 60,
      "outputs": [
        {
          "output_type": "execute_result",
          "data": {
            "text/plain": [
              "DecisionTreeClassifier(ccp_alpha=0.0, class_weight=None, criterion='gini',\n",
              "                       max_depth=None, max_features=4, max_leaf_nodes=None,\n",
              "                       min_impurity_decrease=0.0, min_impurity_split=None,\n",
              "                       min_samples_leaf=1, min_samples_split=2,\n",
              "                       min_weight_fraction_leaf=0.0, presort='deprecated',\n",
              "                       random_state=4, splitter='best')"
            ]
          },
          "metadata": {
            "tags": []
          },
          "execution_count": 60
        }
      ]
    },
    {
      "cell_type": "code",
      "metadata": {
        "id": "x8Tlqtc9RJYL",
        "colab_type": "code",
        "colab": {}
      },
      "source": [
        "predictions_new = gs.predict(X_test)"
      ],
      "execution_count": 0,
      "outputs": []
    },
    {
      "cell_type": "code",
      "metadata": {
        "id": "MlqIx9eJRKMP",
        "colab_type": "code",
        "colab": {}
      },
      "source": [
        "confusion_mat = confusion_matrix(Y_test, predictions_new)\n",
        "confusion_df = pd.DataFrame(confusion_mat, index=['Predicted Real Notes','Predicted Fake Notes'],\\\n",
        "                            columns=['Actual Real Notes','Actual Fake Notes'])"
      ],
      "execution_count": 0,
      "outputs": []
    },
    {
      "cell_type": "code",
      "metadata": {
        "id": "p4AWUUnwRLLO",
        "colab_type": "code",
        "colab": {
          "base_uri": "https://localhost:8080/",
          "height": 109
        },
        "outputId": "f23df3ee-c8cd-4360-93f5-29a1780b95b5"
      },
      "source": [
        "confusion_df"
      ],
      "execution_count": 63,
      "outputs": [
        {
          "output_type": "execute_result",
          "data": {
            "text/html": [
              "<div>\n",
              "<style scoped>\n",
              "    .dataframe tbody tr th:only-of-type {\n",
              "        vertical-align: middle;\n",
              "    }\n",
              "\n",
              "    .dataframe tbody tr th {\n",
              "        vertical-align: top;\n",
              "    }\n",
              "\n",
              "    .dataframe thead th {\n",
              "        text-align: right;\n",
              "    }\n",
              "</style>\n",
              "<table border=\"1\" class=\"dataframe\">\n",
              "  <thead>\n",
              "    <tr style=\"text-align: right;\">\n",
              "      <th></th>\n",
              "      <th>Actual Real Notes</th>\n",
              "      <th>Actual Fake Notes</th>\n",
              "    </tr>\n",
              "  </thead>\n",
              "  <tbody>\n",
              "    <tr>\n",
              "      <th>Predicted Real Notes</th>\n",
              "      <td>157</td>\n",
              "      <td>1</td>\n",
              "    </tr>\n",
              "    <tr>\n",
              "      <th>Predicted Fake Notes</th>\n",
              "      <td>0</td>\n",
              "      <td>117</td>\n",
              "    </tr>\n",
              "  </tbody>\n",
              "</table>\n",
              "</div>"
            ],
            "text/plain": [
              "                      Actual Real Notes  Actual Fake Notes\n",
              "Predicted Real Notes                157                  1\n",
              "Predicted Fake Notes                  0                117"
            ]
          },
          "metadata": {
            "tags": []
          },
          "execution_count": 63
        }
      ]
    },
    {
      "cell_type": "code",
      "metadata": {
        "id": "mnGVlx80RMBG",
        "colab_type": "code",
        "colab": {
          "base_uri": "https://localhost:8080/",
          "height": 294
        },
        "outputId": "b2ebd515-9bf4-43ea-c68a-47f02c971186"
      },
      "source": [
        "_=sns.heatmap(confusion_df, cmap='coolwarm', annot=True)"
      ],
      "execution_count": 64,
      "outputs": [
        {
          "output_type": "display_data",
          "data": {
            "image/png": "[encoded data removed]",
            "text/plain": [
              "<Figure size 432x288 with 2 Axes>"
            ]
          },
          "metadata": {
            "tags": [],
            "needs_background": "light"
          }
        }
      ]
    },
    {
      "cell_type": "code",
      "metadata": {
        "id": "dZ0r5VOvRNR-",
        "colab_type": "code",
        "colab": {
          "base_uri": "https://localhost:8080/",
          "height": 35
        },
        "outputId": "cb5db52a-6de8-4325-f7cf-3915b5a009a6"
      },
      "source": [
        "accuracy_score(Y_test, predictions_new)"
      ],
      "execution_count": 65,
      "outputs": [
        {
          "output_type": "execute_result",
          "data": {
            "text/plain": [
              "0.9963636363636363"
            ]
          },
          "metadata": {
            "tags": []
          },
          "execution_count": 65
        }
      ]
    },
    {
      "cell_type": "code",
      "metadata": {
        "id": "jHDF6cA8RPQ9",
        "colab_type": "code",
        "colab": {
          "base_uri": "https://localhost:8080/",
          "height": 35
        },
        "outputId": "99cdc617-be68-4ac9-8ad2-26fae311ffd6"
      },
      "source": [
        "accuracy_score(Y_test, predictions_new, normalize=False)"
      ],
      "execution_count": 66,
      "outputs": [
        {
          "output_type": "execute_result",
          "data": {
            "text/plain": [
              "274"
            ]
          },
          "metadata": {
            "tags": []
          },
          "execution_count": 66
        }
      ]
    },
    {
      "cell_type": "markdown",
      "metadata": {
        "id": "yfwe8z70RRjz",
        "colab_type": "text"
      },
      "source": [
        "Observation:\n",
        "- 1.It can be clearly seen based on the Accuracy Score, the model is performing with 99.63% efficiency with Grid Search method. With the improvements, the model can predict 274 times correctly out of 275 instances. From the confustion matrix, it can be observed that the model fails only once in finding the Fake notes as Real Notes. \n",
        "- 2.In the Question1, Grid Search failed to improve the Decision Tree regression model. However, in the Question2, Grid Search helped increasing prediction success rate of the Decision Tree Classification model. "
      ]
    }
  ]
}
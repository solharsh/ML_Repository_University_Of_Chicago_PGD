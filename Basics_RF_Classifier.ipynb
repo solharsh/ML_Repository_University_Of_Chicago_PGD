{
  "nbformat": 4,
  "nbformat_minor": 0,
  "metadata": {
    "colab": {
      "name": "Basics_RF_Classifier.ipynb",
      "provenance": [],
      "authorship_tag": "ABX9TyPZ6/KDl9nRvF6t620pYyxl",
      "include_colab_link": true
    },
    "kernelspec": {
      "name": "python3",
      "display_name": "Python 3"
    }
  },
  "cells": [
    {
      "cell_type": "markdown",
      "metadata": {
        "id": "view-in-github",
        "colab_type": "text"
      },
      "source": [
        "<a href=\"https://colab.research.google.com/github/solharsh/ML_Repository_University_Of_Chicago_PGD/blob/master/Basics_RF_Classifier.ipynb\" target=\"_parent\"><img src=\"https://colab.research.google.com/assets/colab-badge.svg\" alt=\"Open In Colab\"/></a>"
      ]
    },
    {
      "cell_type": "markdown",
      "metadata": {
        "id": "566-8lkEGpkg",
        "colab_type": "text"
      },
      "source": [
        "# Random Forest Classifier Ensemble"
      ]
    },
    {
      "cell_type": "code",
      "metadata": {
        "id": "FpuaGnlZGqPS",
        "colab_type": "code",
        "colab": {}
      },
      "source": [
        "#Load the breast cancer wisconsin dataset from scikit-learn datasets.\n",
        "\n",
        "from sklearn.datasets import load_breast_cancer\n",
        "bcancer_data = load_breast_cancer()"
      ],
      "execution_count": 0,
      "outputs": []
    },
    {
      "cell_type": "code",
      "metadata": {
        "id": "wbqmUyD7GuIF",
        "colab_type": "code",
        "colab": {}
      },
      "source": [
        "#Split the data into train and test sets.\n",
        "\n",
        "from sklearn.model_selection import train_test_split\n",
        "X_train, X_test, Y_train, Y_test = train_test_split(bcancer_data.data, bcancer_data.target, test_size=0.2, random_state=123)"
      ],
      "execution_count": 0,
      "outputs": []
    },
    {
      "cell_type": "code",
      "metadata": {
        "id": "ayYXSJ1gGxFh",
        "colab_type": "code",
        "colab": {}
      },
      "source": [
        "#Create a Random Forest Classifier ensemble with 500 Decision Tree classifiers.\n",
        "\n",
        "from sklearn.ensemble import RandomForestClassifier\n",
        "rf_model = RandomForestClassifier(n_estimators=500, n_jobs=-1)"
      ],
      "execution_count": 0,
      "outputs": []
    },
    {
      "cell_type": "code",
      "metadata": {
        "id": "sXIvWZA9G0d0",
        "colab_type": "code",
        "colab": {
          "base_uri": "https://localhost:8080/",
          "height": 159
        },
        "outputId": "20a69cb7-2d9d-43cf-8bf8-087514783298"
      },
      "source": [
        "#Train the model on training data.\n",
        "\n",
        "rf_model.fit(X_train, Y_train)"
      ],
      "execution_count": 4,
      "outputs": [
        {
          "output_type": "execute_result",
          "data": {
            "text/plain": [
              "RandomForestClassifier(bootstrap=True, ccp_alpha=0.0, class_weight=None,\n",
              "                       criterion='gini', max_depth=None, max_features='auto',\n",
              "                       max_leaf_nodes=None, max_samples=None,\n",
              "                       min_impurity_decrease=0.0, min_impurity_split=None,\n",
              "                       min_samples_leaf=1, min_samples_split=2,\n",
              "                       min_weight_fraction_leaf=0.0, n_estimators=500,\n",
              "                       n_jobs=-1, oob_score=False, random_state=None, verbose=0,\n",
              "                       warm_start=False)"
            ]
          },
          "metadata": {
            "tags": []
          },
          "execution_count": 4
        }
      ]
    },
    {
      "cell_type": "code",
      "metadata": {
        "id": "UOU0YanXG1ym",
        "colab_type": "code",
        "colab": {
          "base_uri": "https://localhost:8080/",
          "height": 35
        },
        "outputId": "cad1ebf2-454d-4448-ba81-833569f48d9f"
      },
      "source": [
        "#Make predictions on the test set.\n",
        "\n",
        "predictions = rf_model.predict(X_test)\n",
        "#Measure the accuracy of the model on test data.\n",
        "\n",
        "from sklearn.metrics import accuracy_score\n",
        "accuracy_score(Y_test, predictions)"
      ],
      "execution_count": 5,
      "outputs": [
        {
          "output_type": "execute_result",
          "data": {
            "text/plain": [
              "0.9912280701754386"
            ]
          },
          "metadata": {
            "tags": []
          },
          "execution_count": 5
        }
      ]
    },
    {
      "cell_type": "code",
      "metadata": {
        "id": "QievqQtRG6pT",
        "colab_type": "code",
        "colab": {}
      },
      "source": [
        "#Print features in decreasing order of importance, along with relative importance value.\n",
        "feature_list = []\n",
        "for name, score in zip(bcancer_data.feature_names, rf_model.feature_importances_):\n",
        "    feature_list.append((score, name))"
      ],
      "execution_count": 0,
      "outputs": []
    },
    {
      "cell_type": "code",
      "metadata": {
        "id": "NzMSFQ7jHAfn",
        "colab_type": "code",
        "colab": {
          "base_uri": "https://localhost:8080/",
          "height": 550
        },
        "outputId": "defe4b89-dc85-49a0-9956-7bc9258bd79d"
      },
      "source": [
        "sorted(feature_list, reverse=True)"
      ],
      "execution_count": 7,
      "outputs": [
        {
          "output_type": "execute_result",
          "data": {
            "text/plain": [
              "[(0.13091491990381626, 'worst concave points'),\n",
              " (0.11968886133809468, 'worst perimeter'),\n",
              " (0.11006647929141482, 'worst radius'),\n",
              " (0.10806750934706001, 'mean concave points'),\n",
              " (0.10393501552508165, 'worst area'),\n",
              " (0.07266914024692056, 'mean area'),\n",
              " (0.047893442104339885, 'mean concavity'),\n",
              " (0.04140813768091687, 'mean perimeter'),\n",
              " (0.035102443008733754, 'worst concavity'),\n",
              " (0.03375300895213315, 'mean radius'),\n",
              " (0.02795881344854873, 'area error'),\n",
              " (0.019382329295693588, 'worst texture'),\n",
              " (0.017617453122280476, 'worst compactness'),\n",
              " (0.017452273857656297, 'mean texture'),\n",
              " (0.014666363902528153, 'worst smoothness'),\n",
              " (0.010338249302729516, 'mean compactness'),\n",
              " (0.010215320608877318, 'radius error'),\n",
              " (0.009256222858542624, 'worst symmetry'),\n",
              " (0.009192605742906356, 'perimeter error'),\n",
              " (0.007941078804411155, 'concavity error'),\n",
              " (0.0068793719125012035, 'worst fractal dimension'),\n",
              " (0.0067180553837610625, 'mean smoothness'),\n",
              " (0.006272041602442003, 'concave points error'),\n",
              " (0.005328903047233439, 'smoothness error'),\n",
              " (0.005104562919471459, 'mean fractal dimension'),\n",
              " (0.0050622819853231105, 'fractal dimension error'),\n",
              " (0.004796123347069923, 'symmetry error'),\n",
              " (0.004694764557382354, 'texture error'),\n",
              " (0.004514701095734894, 'compactness error'),\n",
              " (0.003109525806394692, 'mean symmetry')]"
            ]
          },
          "metadata": {
            "tags": []
          },
          "execution_count": 7
        }
      ]
    }
  ]
}
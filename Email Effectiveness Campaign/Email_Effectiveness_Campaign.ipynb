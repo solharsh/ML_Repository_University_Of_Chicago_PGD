{
 "cells": [
  {
   "cell_type": "markdown",
   "metadata": {},
   "source": [
    "## Final Project- Email Marketing Campaign\n"
   ]
  },
  {
   "cell_type": "markdown",
   "metadata": {},
   "source": [
    "During a period of two weeks following the email campaign, results were tracked. Historical customer attributes at your disposal include:\n",
    "\n",
    "    Recency: Months since last purchase.\n",
    "    History_Segment: Categorization of dollars spent in the past year.\n",
    "    History: Actual dollar value spent in the past year.\n",
    "    Mens: 1/0 indicator, 1 = customer purchased Mens merchandise in the past year.\n",
    "    Womens: 1/0 indicator, 1 = customer purchased Womens merchandise in the past year.\n",
    "    Zip_Code: Classifies zip code as Urban, Suburban, or Rural.\n",
    "    Newbie: 1/0 indicator, 1 = New customer in the past twelve months.\n",
    "    Channel: Describes the channels the customer purchased from in the past year.\n",
    "    Segment: describes the email campaign the customer received: Mens Email, Womens Email, No Email.\n",
    "    Visit: 1/0 indicator, 1 = Customer visited website in the following two weeks after the email campaign.\n",
    "\n"
   ]
  },
  {
   "cell_type": "markdown",
   "metadata": {},
   "source": [
    "** Importing the necessary libraries for running different models, finding accuracy scores and plotting different graphs for better visualization**"
   ]
  },
  {
   "cell_type": "code",
   "execution_count": 1,
   "metadata": {},
   "outputs": [],
   "source": [
    "import numpy as np \n",
    "import pandas as pd\n",
    "from sklearn.model_selection import train_test_split\n",
    "from sklearn.linear_model import LogisticRegression\n",
    "from sklearn.ensemble import RandomForestClassifier\n",
    "from sklearn.metrics import f1_score,recall_score,precision_score,roc_curve,accuracy_score,log_loss\n",
    "from sklearn.utils import resample\n",
    "from sklearn.metrics import f1_score,recall_score,precision_score,roc_curve,accuracy_score,log_loss\n",
    "from sklearn.model_selection import train_test_split\n",
    "from sklearn.metrics import log_loss\n",
    "from sklearn.metrics import confusion_matrix\n",
    "from sklearn.metrics import roc_auc_score\n",
    "from sklearn import svm\n",
    "from sklearn.linear_model import LogisticRegression\n",
    "from sklearn.tree import DecisionTreeClassifier\n",
    "from sklearn.ensemble import VotingClassifier\n",
    "from sklearn.ensemble import AdaBoostClassifier\n",
    "import statsmodels.api as sm \n",
    "\n",
    "\n",
    "\n",
    "# Visualisation\n",
    "import matplotlib as mpl\n",
    "import matplotlib.pyplot as plt\n",
    "import matplotlib.pylab as pylab\n",
    "import seaborn as sns\n"
   ]
  },
  {
   "cell_type": "markdown",
   "metadata": {},
   "source": [
    "##### Importing the dataset "
   ]
  },
  {
   "cell_type": "code",
   "execution_count": 2,
   "metadata": {},
   "outputs": [],
   "source": [
    "campaign = pd.read_csv(\"C:\\\\Users\\\\mercu\\\\OneDrive\\\\ML\\\\UC\\\\ML\\\\Project\\\\training.csv\")"
   ]
  },
  {
   "cell_type": "code",
   "execution_count": 3,
   "metadata": {
    "scrolled": false
   },
   "outputs": [
    {
     "data": {
      "text/html": [
       "<div>\n",
       "<style scoped>\n",
       "    .dataframe tbody tr th:only-of-type {\n",
       "        vertical-align: middle;\n",
       "    }\n",
       "\n",
       "    .dataframe tbody tr th {\n",
       "        vertical-align: top;\n",
       "    }\n",
       "\n",
       "    .dataframe thead th {\n",
       "        text-align: right;\n",
       "    }\n",
       "</style>\n",
       "<table border=\"1\" class=\"dataframe\">\n",
       "  <thead>\n",
       "    <tr style=\"text-align: right;\">\n",
       "      <th></th>\n",
       "      <th>ID</th>\n",
       "      <th>recency</th>\n",
       "      <th>history_segment</th>\n",
       "      <th>history</th>\n",
       "      <th>mens</th>\n",
       "      <th>womens</th>\n",
       "      <th>zip_code</th>\n",
       "      <th>newbie</th>\n",
       "      <th>channel</th>\n",
       "      <th>segment</th>\n",
       "      <th>visit</th>\n",
       "    </tr>\n",
       "  </thead>\n",
       "  <tbody>\n",
       "    <tr>\n",
       "      <td>0</td>\n",
       "      <td>17910</td>\n",
       "      <td>1</td>\n",
       "      <td>6) $750 - $1,000</td>\n",
       "      <td>882.35</td>\n",
       "      <td>1</td>\n",
       "      <td>0</td>\n",
       "      <td>Surburban</td>\n",
       "      <td>1</td>\n",
       "      <td>Multichannel</td>\n",
       "      <td>Mens E-Mail</td>\n",
       "      <td>1</td>\n",
       "    </tr>\n",
       "    <tr>\n",
       "      <td>1</td>\n",
       "      <td>20951</td>\n",
       "      <td>1</td>\n",
       "      <td>1) $0 - $100</td>\n",
       "      <td>41.57</td>\n",
       "      <td>0</td>\n",
       "      <td>1</td>\n",
       "      <td>Urban</td>\n",
       "      <td>1</td>\n",
       "      <td>Phone</td>\n",
       "      <td>Womens E-Mail</td>\n",
       "      <td>1</td>\n",
       "    </tr>\n",
       "    <tr>\n",
       "      <td>2</td>\n",
       "      <td>3829</td>\n",
       "      <td>1</td>\n",
       "      <td>2) $100 - $200</td>\n",
       "      <td>120.59</td>\n",
       "      <td>0</td>\n",
       "      <td>1</td>\n",
       "      <td>Urban</td>\n",
       "      <td>1</td>\n",
       "      <td>Phone</td>\n",
       "      <td>No E-Mail</td>\n",
       "      <td>0</td>\n",
       "    </tr>\n",
       "    <tr>\n",
       "      <td>3</td>\n",
       "      <td>14103</td>\n",
       "      <td>1</td>\n",
       "      <td>3) $200 - $350</td>\n",
       "      <td>336.72</td>\n",
       "      <td>0</td>\n",
       "      <td>1</td>\n",
       "      <td>Urban</td>\n",
       "      <td>0</td>\n",
       "      <td>Phone</td>\n",
       "      <td>Womens E-Mail</td>\n",
       "      <td>0</td>\n",
       "    </tr>\n",
       "    <tr>\n",
       "      <td>4</td>\n",
       "      <td>25748</td>\n",
       "      <td>9</td>\n",
       "      <td>1) $0 - $100</td>\n",
       "      <td>29.99</td>\n",
       "      <td>0</td>\n",
       "      <td>1</td>\n",
       "      <td>Surburban</td>\n",
       "      <td>1</td>\n",
       "      <td>Phone</td>\n",
       "      <td>No E-Mail</td>\n",
       "      <td>0</td>\n",
       "    </tr>\n",
       "    <tr>\n",
       "      <td>5</td>\n",
       "      <td>54367</td>\n",
       "      <td>6</td>\n",
       "      <td>4) $350 - $500</td>\n",
       "      <td>396.79</td>\n",
       "      <td>1</td>\n",
       "      <td>1</td>\n",
       "      <td>Rural</td>\n",
       "      <td>0</td>\n",
       "      <td>Multichannel</td>\n",
       "      <td>No E-Mail</td>\n",
       "      <td>0</td>\n",
       "    </tr>\n",
       "    <tr>\n",
       "      <td>6</td>\n",
       "      <td>19798</td>\n",
       "      <td>10</td>\n",
       "      <td>4) $350 - $500</td>\n",
       "      <td>378.47</td>\n",
       "      <td>1</td>\n",
       "      <td>0</td>\n",
       "      <td>Urban</td>\n",
       "      <td>0</td>\n",
       "      <td>Phone</td>\n",
       "      <td>No E-Mail</td>\n",
       "      <td>0</td>\n",
       "    </tr>\n",
       "    <tr>\n",
       "      <td>7</td>\n",
       "      <td>44854</td>\n",
       "      <td>1</td>\n",
       "      <td>1) $0 - $100</td>\n",
       "      <td>99.01</td>\n",
       "      <td>1</td>\n",
       "      <td>0</td>\n",
       "      <td>Urban</td>\n",
       "      <td>1</td>\n",
       "      <td>Phone</td>\n",
       "      <td>No E-Mail</td>\n",
       "      <td>1</td>\n",
       "    </tr>\n",
       "    <tr>\n",
       "      <td>8</td>\n",
       "      <td>4206</td>\n",
       "      <td>7</td>\n",
       "      <td>1) $0 - $100</td>\n",
       "      <td>29.99</td>\n",
       "      <td>1</td>\n",
       "      <td>0</td>\n",
       "      <td>Urban</td>\n",
       "      <td>0</td>\n",
       "      <td>Phone</td>\n",
       "      <td>No E-Mail</td>\n",
       "      <td>1</td>\n",
       "    </tr>\n",
       "    <tr>\n",
       "      <td>9</td>\n",
       "      <td>2370</td>\n",
       "      <td>10</td>\n",
       "      <td>1) $0 - $100</td>\n",
       "      <td>86.18</td>\n",
       "      <td>0</td>\n",
       "      <td>1</td>\n",
       "      <td>Urban</td>\n",
       "      <td>1</td>\n",
       "      <td>Web</td>\n",
       "      <td>Mens E-Mail</td>\n",
       "      <td>0</td>\n",
       "    </tr>\n",
       "  </tbody>\n",
       "</table>\n",
       "</div>"
      ],
      "text/plain": [
       "      ID  recency   history_segment  history  mens  womens   zip_code  newbie  \\\n",
       "0  17910        1  6) $750 - $1,000   882.35     1       0  Surburban       1   \n",
       "1  20951        1      1) $0 - $100    41.57     0       1      Urban       1   \n",
       "2   3829        1    2) $100 - $200   120.59     0       1      Urban       1   \n",
       "3  14103        1    3) $200 - $350   336.72     0       1      Urban       0   \n",
       "4  25748        9      1) $0 - $100    29.99     0       1  Surburban       1   \n",
       "5  54367        6    4) $350 - $500   396.79     1       1      Rural       0   \n",
       "6  19798       10    4) $350 - $500   378.47     1       0      Urban       0   \n",
       "7  44854        1      1) $0 - $100    99.01     1       0      Urban       1   \n",
       "8   4206        7      1) $0 - $100    29.99     1       0      Urban       0   \n",
       "9   2370       10      1) $0 - $100    86.18     0       1      Urban       1   \n",
       "\n",
       "        channel        segment  visit  \n",
       "0  Multichannel    Mens E-Mail      1  \n",
       "1         Phone  Womens E-Mail      1  \n",
       "2         Phone      No E-Mail      0  \n",
       "3         Phone  Womens E-Mail      0  \n",
       "4         Phone      No E-Mail      0  \n",
       "5  Multichannel      No E-Mail      0  \n",
       "6         Phone      No E-Mail      0  \n",
       "7         Phone      No E-Mail      1  \n",
       "8         Phone      No E-Mail      1  \n",
       "9           Web    Mens E-Mail      0  "
      ]
     },
     "execution_count": 3,
     "metadata": {},
     "output_type": "execute_result"
    }
   ],
   "source": [
    "campaign.head(10)"
   ]
  },
  {
   "cell_type": "markdown",
   "metadata": {},
   "source": [
    "##### Getting an understanding of the dataset"
   ]
  },
  {
   "cell_type": "code",
   "execution_count": 190,
   "metadata": {
    "scrolled": false
   },
   "outputs": [
    {
     "name": "stdout",
     "output_type": "stream",
     "text": [
      "                 ID       recency       history          mens        womens  \\\n",
      "count  44800.000000  44800.000000  44800.000000  44800.000000  44800.000000   \n",
      "mean   32055.449598      5.768415    242.244079      0.551429      0.550179   \n",
      "std    18467.723823      3.508881    255.761534      0.497354      0.497481   \n",
      "min        3.000000      1.000000     29.990000      0.000000      0.000000   \n",
      "25%    16035.000000      2.000000     65.087500      0.000000      0.000000   \n",
      "50%    32034.500000      6.000000    158.770000      1.000000      1.000000   \n",
      "75%    48079.250000      9.000000    325.635000      1.000000      1.000000   \n",
      "max    63998.000000     12.000000   3345.930000      1.000000      1.000000   \n",
      "\n",
      "             newbie         visit  \n",
      "count  44800.000000  44800.000000  \n",
      "mean       0.501272      0.146339  \n",
      "std        0.500004      0.353450  \n",
      "min        0.000000      0.000000  \n",
      "25%        0.000000      0.000000  \n",
      "50%        1.000000      0.000000  \n",
      "75%        1.000000      0.000000  \n",
      "max        1.000000      1.000000  \n"
     ]
    }
   ],
   "source": [
    "print(campaign.describe())"
   ]
  },
  {
   "cell_type": "code",
   "execution_count": 191,
   "metadata": {
    "scrolled": false
   },
   "outputs": [
    {
     "name": "stdout",
     "output_type": "stream",
     "text": [
      "ID                 0\n",
      "recency            0\n",
      "history_segment    0\n",
      "history            0\n",
      "mens               0\n",
      "womens             0\n",
      "zip_code           0\n",
      "newbie             0\n",
      "channel            0\n",
      "segment            0\n",
      "visit              0\n",
      "dtype: int64\n"
     ]
    }
   ],
   "source": [
    "# Finding out if we have any null values in our dataset\n",
    "print(campaign.isnull().sum())"
   ]
  },
  {
   "cell_type": "code",
   "execution_count": 192,
   "metadata": {},
   "outputs": [
    {
     "data": {
      "text/plain": [
       "ID                   int64\n",
       "recency              int64\n",
       "history_segment     object\n",
       "history            float64\n",
       "mens                 int64\n",
       "womens               int64\n",
       "zip_code            object\n",
       "newbie               int64\n",
       "channel             object\n",
       "segment             object\n",
       "visit                int64\n",
       "dtype: object"
      ]
     },
     "execution_count": 192,
     "metadata": {},
     "output_type": "execute_result"
    }
   ],
   "source": [
    "campaign.dtypes "
   ]
  },
  {
   "cell_type": "code",
   "execution_count": 4,
   "metadata": {
    "scrolled": true
   },
   "outputs": [
    {
     "data": {
      "text/plain": [
       "<matplotlib.axes._subplots.AxesSubplot at 0x1f4d9671cc8>"
      ]
     },
     "execution_count": 4,
     "metadata": {},
     "output_type": "execute_result"
    },
    {
     "data": {
      "image/png": "[encoded data removed]",
      "text/plain": [
       "<Figure size 720x576 with 2 Axes>"
      ]
     },
     "metadata": {
      "needs_background": "light"
     },
     "output_type": "display_data"
    }
   ],
   "source": [
    "f, ax = plt.subplots(figsize=(10, 8))\n",
    "corr = campaign.corr()\n",
    "sns.heatmap(corr,\n",
    "            xticklabels=corr.columns.values,\n",
    "            yticklabels=corr.columns.values)"
   ]
  },
  {
   "cell_type": "code",
   "execution_count": 5,
   "metadata": {},
   "outputs": [
    {
     "data": {
      "text/plain": [
       "<matplotlib.axes._subplots.AxesSubplot at 0x1f4dfa31f08>"
      ]
     },
     "execution_count": 5,
     "metadata": {},
     "output_type": "execute_result"
    },
    {
     "data": {
      "image/png": "[encoded data removed]",
      "text/plain": [
       "<Figure size 432x288 with 1 Axes>"
      ]
     },
     "metadata": {
      "needs_background": "light"
     },
     "output_type": "display_data"
    }
   ],
   "source": [
    "campaign['zip_code'].value_counts().plot.bar(title='Freq dist of Zip Code')"
   ]
  },
  {
   "cell_type": "code",
   "execution_count": 6,
   "metadata": {},
   "outputs": [
    {
     "data": {
      "text/plain": [
       "<matplotlib.axes._subplots.AxesSubplot at 0x1f4df8acb48>"
      ]
     },
     "execution_count": 6,
     "metadata": {},
     "output_type": "execute_result"
    },
    {
     "data": {
      "image/png": "[encoded data removed]",
      "text/plain": [
       "<Figure size 432x288 with 1 Axes>"
      ]
     },
     "metadata": {
      "needs_background": "light"
     },
     "output_type": "display_data"
    }
   ],
   "source": [
    "campaign['channel'].value_counts().plot.bar(title='Freq dist of Channel')"
   ]
  },
  {
   "cell_type": "code",
   "execution_count": 7,
   "metadata": {},
   "outputs": [
    {
     "data": {
      "text/plain": [
       "<matplotlib.axes._subplots.AxesSubplot at 0x1f4df916308>"
      ]
     },
     "execution_count": 7,
     "metadata": {},
     "output_type": "execute_result"
    },
    {
     "data": {
      "image/png": "[encoded data removed]",
      "text/plain": [
       "<Figure size 432x288 with 1 Axes>"
      ]
     },
     "metadata": {
      "needs_background": "light"
     },
     "output_type": "display_data"
    }
   ],
   "source": [
    "campaign['segment'].value_counts().plot.bar(title='Freq dist of Segment?')"
   ]
  },
  {
   "cell_type": "markdown",
   "metadata": {},
   "source": [
    "**Objects/ categorical data types should be converted to numerical types before applying any ML algorithms. Therefore, one hot encoding them**"
   ]
  },
  {
   "cell_type": "code",
   "execution_count": 193,
   "metadata": {},
   "outputs": [],
   "source": [
    "campaign_testing = pd.get_dummies(campaign, ['zip_code', 'channel', 'segment','history_segment'])"
   ]
  },
  {
   "cell_type": "code",
   "execution_count": 194,
   "metadata": {},
   "outputs": [
    {
     "data": {
      "text/html": [
       "<div>\n",
       "<style scoped>\n",
       "    .dataframe tbody tr th:only-of-type {\n",
       "        vertical-align: middle;\n",
       "    }\n",
       "\n",
       "    .dataframe tbody tr th {\n",
       "        vertical-align: top;\n",
       "    }\n",
       "\n",
       "    .dataframe thead th {\n",
       "        text-align: right;\n",
       "    }\n",
       "</style>\n",
       "<table border=\"1\" class=\"dataframe\">\n",
       "  <thead>\n",
       "    <tr style=\"text-align: right;\">\n",
       "      <th></th>\n",
       "      <th>ID</th>\n",
       "      <th>recency</th>\n",
       "      <th>history</th>\n",
       "      <th>mens</th>\n",
       "      <th>womens</th>\n",
       "      <th>newbie</th>\n",
       "      <th>visit</th>\n",
       "      <th>zip_code_1) $0 - $100</th>\n",
       "      <th>zip_code_2) $100 - $200</th>\n",
       "      <th>zip_code_3) $200 - $350</th>\n",
       "      <th>...</th>\n",
       "      <th>zip_code_7) $1,000 +</th>\n",
       "      <th>channel_Rural</th>\n",
       "      <th>channel_Surburban</th>\n",
       "      <th>channel_Urban</th>\n",
       "      <th>segment_Multichannel</th>\n",
       "      <th>segment_Phone</th>\n",
       "      <th>segment_Web</th>\n",
       "      <th>history_segment_Mens E-Mail</th>\n",
       "      <th>history_segment_No E-Mail</th>\n",
       "      <th>history_segment_Womens E-Mail</th>\n",
       "    </tr>\n",
       "  </thead>\n",
       "  <tbody>\n",
       "    <tr>\n",
       "      <td>0</td>\n",
       "      <td>17910</td>\n",
       "      <td>1</td>\n",
       "      <td>882.35</td>\n",
       "      <td>1</td>\n",
       "      <td>0</td>\n",
       "      <td>1</td>\n",
       "      <td>1</td>\n",
       "      <td>0</td>\n",
       "      <td>0</td>\n",
       "      <td>0</td>\n",
       "      <td>...</td>\n",
       "      <td>0</td>\n",
       "      <td>0</td>\n",
       "      <td>1</td>\n",
       "      <td>0</td>\n",
       "      <td>1</td>\n",
       "      <td>0</td>\n",
       "      <td>0</td>\n",
       "      <td>1</td>\n",
       "      <td>0</td>\n",
       "      <td>0</td>\n",
       "    </tr>\n",
       "    <tr>\n",
       "      <td>1</td>\n",
       "      <td>20951</td>\n",
       "      <td>1</td>\n",
       "      <td>41.57</td>\n",
       "      <td>0</td>\n",
       "      <td>1</td>\n",
       "      <td>1</td>\n",
       "      <td>1</td>\n",
       "      <td>1</td>\n",
       "      <td>0</td>\n",
       "      <td>0</td>\n",
       "      <td>...</td>\n",
       "      <td>0</td>\n",
       "      <td>0</td>\n",
       "      <td>0</td>\n",
       "      <td>1</td>\n",
       "      <td>0</td>\n",
       "      <td>1</td>\n",
       "      <td>0</td>\n",
       "      <td>0</td>\n",
       "      <td>0</td>\n",
       "      <td>1</td>\n",
       "    </tr>\n",
       "    <tr>\n",
       "      <td>2</td>\n",
       "      <td>3829</td>\n",
       "      <td>1</td>\n",
       "      <td>120.59</td>\n",
       "      <td>0</td>\n",
       "      <td>1</td>\n",
       "      <td>1</td>\n",
       "      <td>0</td>\n",
       "      <td>0</td>\n",
       "      <td>1</td>\n",
       "      <td>0</td>\n",
       "      <td>...</td>\n",
       "      <td>0</td>\n",
       "      <td>0</td>\n",
       "      <td>0</td>\n",
       "      <td>1</td>\n",
       "      <td>0</td>\n",
       "      <td>1</td>\n",
       "      <td>0</td>\n",
       "      <td>0</td>\n",
       "      <td>1</td>\n",
       "      <td>0</td>\n",
       "    </tr>\n",
       "    <tr>\n",
       "      <td>3</td>\n",
       "      <td>14103</td>\n",
       "      <td>1</td>\n",
       "      <td>336.72</td>\n",
       "      <td>0</td>\n",
       "      <td>1</td>\n",
       "      <td>0</td>\n",
       "      <td>0</td>\n",
       "      <td>0</td>\n",
       "      <td>0</td>\n",
       "      <td>1</td>\n",
       "      <td>...</td>\n",
       "      <td>0</td>\n",
       "      <td>0</td>\n",
       "      <td>0</td>\n",
       "      <td>1</td>\n",
       "      <td>0</td>\n",
       "      <td>1</td>\n",
       "      <td>0</td>\n",
       "      <td>0</td>\n",
       "      <td>0</td>\n",
       "      <td>1</td>\n",
       "    </tr>\n",
       "    <tr>\n",
       "      <td>4</td>\n",
       "      <td>25748</td>\n",
       "      <td>9</td>\n",
       "      <td>29.99</td>\n",
       "      <td>0</td>\n",
       "      <td>1</td>\n",
       "      <td>1</td>\n",
       "      <td>0</td>\n",
       "      <td>1</td>\n",
       "      <td>0</td>\n",
       "      <td>0</td>\n",
       "      <td>...</td>\n",
       "      <td>0</td>\n",
       "      <td>0</td>\n",
       "      <td>1</td>\n",
       "      <td>0</td>\n",
       "      <td>0</td>\n",
       "      <td>1</td>\n",
       "      <td>0</td>\n",
       "      <td>0</td>\n",
       "      <td>1</td>\n",
       "      <td>0</td>\n",
       "    </tr>\n",
       "  </tbody>\n",
       "</table>\n",
       "<p>5 rows × 23 columns</p>\n",
       "</div>"
      ],
      "text/plain": [
       "      ID  recency  history  mens  womens  newbie  visit  \\\n",
       "0  17910        1   882.35     1       0       1      1   \n",
       "1  20951        1    41.57     0       1       1      1   \n",
       "2   3829        1   120.59     0       1       1      0   \n",
       "3  14103        1   336.72     0       1       0      0   \n",
       "4  25748        9    29.99     0       1       1      0   \n",
       "\n",
       "   zip_code_1) $0 - $100  zip_code_2) $100 - $200  zip_code_3) $200 - $350  \\\n",
       "0                      0                        0                        0   \n",
       "1                      1                        0                        0   \n",
       "2                      0                        1                        0   \n",
       "3                      0                        0                        1   \n",
       "4                      1                        0                        0   \n",
       "\n",
       "   ...  zip_code_7) $1,000 +  channel_Rural  channel_Surburban  channel_Urban  \\\n",
       "0  ...                     0              0                  1              0   \n",
       "1  ...                     0              0                  0              1   \n",
       "2  ...                     0              0                  0              1   \n",
       "3  ...                     0              0                  0              1   \n",
       "4  ...                     0              0                  1              0   \n",
       "\n",
       "   segment_Multichannel  segment_Phone  segment_Web  \\\n",
       "0                     1              0            0   \n",
       "1                     0              1            0   \n",
       "2                     0              1            0   \n",
       "3                     0              1            0   \n",
       "4                     0              1            0   \n",
       "\n",
       "   history_segment_Mens E-Mail  history_segment_No E-Mail  \\\n",
       "0                            1                          0   \n",
       "1                            0                          0   \n",
       "2                            0                          1   \n",
       "3                            0                          0   \n",
       "4                            0                          1   \n",
       "\n",
       "   history_segment_Womens E-Mail  \n",
       "0                              0  \n",
       "1                              1  \n",
       "2                              0  \n",
       "3                              1  \n",
       "4                              0  \n",
       "\n",
       "[5 rows x 23 columns]"
      ]
     },
     "execution_count": 194,
     "metadata": {},
     "output_type": "execute_result"
    }
   ],
   "source": [
    "campaign_testing.head()"
   ]
  },
  {
   "cell_type": "code",
   "execution_count": 195,
   "metadata": {
    "scrolled": true
   },
   "outputs": [
    {
     "data": {
      "text/html": [
       "<div>\n",
       "<style scoped>\n",
       "    .dataframe tbody tr th:only-of-type {\n",
       "        vertical-align: middle;\n",
       "    }\n",
       "\n",
       "    .dataframe tbody tr th {\n",
       "        vertical-align: top;\n",
       "    }\n",
       "\n",
       "    .dataframe thead th {\n",
       "        text-align: right;\n",
       "    }\n",
       "</style>\n",
       "<table border=\"1\" class=\"dataframe\">\n",
       "  <thead>\n",
       "    <tr style=\"text-align: right;\">\n",
       "      <th></th>\n",
       "      <th>ID</th>\n",
       "      <th>recency</th>\n",
       "      <th>history</th>\n",
       "      <th>mens</th>\n",
       "      <th>womens</th>\n",
       "      <th>newbie</th>\n",
       "      <th>visit</th>\n",
       "      <th>zip_code_1) $0 - $100</th>\n",
       "      <th>zip_code_2) $100 - $200</th>\n",
       "      <th>zip_code_3) $200 - $350</th>\n",
       "      <th>...</th>\n",
       "      <th>zip_code_6) $750 - $1,000</th>\n",
       "      <th>channel_Rural</th>\n",
       "      <th>channel_Surburban</th>\n",
       "      <th>channel_Urban</th>\n",
       "      <th>segment_Multichannel</th>\n",
       "      <th>segment_Phone</th>\n",
       "      <th>segment_Web</th>\n",
       "      <th>history_segment_Mens E-Mail</th>\n",
       "      <th>history_segment_No E-Mail</th>\n",
       "      <th>history_segment_Womens E-Mail</th>\n",
       "    </tr>\n",
       "  </thead>\n",
       "  <tbody>\n",
       "    <tr>\n",
       "      <td>0</td>\n",
       "      <td>17910</td>\n",
       "      <td>1</td>\n",
       "      <td>882.35</td>\n",
       "      <td>1</td>\n",
       "      <td>0</td>\n",
       "      <td>1</td>\n",
       "      <td>1</td>\n",
       "      <td>0</td>\n",
       "      <td>0</td>\n",
       "      <td>0</td>\n",
       "      <td>...</td>\n",
       "      <td>1</td>\n",
       "      <td>0</td>\n",
       "      <td>1</td>\n",
       "      <td>0</td>\n",
       "      <td>1</td>\n",
       "      <td>0</td>\n",
       "      <td>0</td>\n",
       "      <td>1</td>\n",
       "      <td>0</td>\n",
       "      <td>0</td>\n",
       "    </tr>\n",
       "    <tr>\n",
       "      <td>1</td>\n",
       "      <td>20951</td>\n",
       "      <td>1</td>\n",
       "      <td>41.57</td>\n",
       "      <td>0</td>\n",
       "      <td>1</td>\n",
       "      <td>1</td>\n",
       "      <td>1</td>\n",
       "      <td>1</td>\n",
       "      <td>0</td>\n",
       "      <td>0</td>\n",
       "      <td>...</td>\n",
       "      <td>0</td>\n",
       "      <td>0</td>\n",
       "      <td>0</td>\n",
       "      <td>1</td>\n",
       "      <td>0</td>\n",
       "      <td>1</td>\n",
       "      <td>0</td>\n",
       "      <td>0</td>\n",
       "      <td>0</td>\n",
       "      <td>1</td>\n",
       "    </tr>\n",
       "    <tr>\n",
       "      <td>2</td>\n",
       "      <td>3829</td>\n",
       "      <td>1</td>\n",
       "      <td>120.59</td>\n",
       "      <td>0</td>\n",
       "      <td>1</td>\n",
       "      <td>1</td>\n",
       "      <td>0</td>\n",
       "      <td>0</td>\n",
       "      <td>1</td>\n",
       "      <td>0</td>\n",
       "      <td>...</td>\n",
       "      <td>0</td>\n",
       "      <td>0</td>\n",
       "      <td>0</td>\n",
       "      <td>1</td>\n",
       "      <td>0</td>\n",
       "      <td>1</td>\n",
       "      <td>0</td>\n",
       "      <td>0</td>\n",
       "      <td>1</td>\n",
       "      <td>0</td>\n",
       "    </tr>\n",
       "    <tr>\n",
       "      <td>3</td>\n",
       "      <td>14103</td>\n",
       "      <td>1</td>\n",
       "      <td>336.72</td>\n",
       "      <td>0</td>\n",
       "      <td>1</td>\n",
       "      <td>0</td>\n",
       "      <td>0</td>\n",
       "      <td>0</td>\n",
       "      <td>0</td>\n",
       "      <td>1</td>\n",
       "      <td>...</td>\n",
       "      <td>0</td>\n",
       "      <td>0</td>\n",
       "      <td>0</td>\n",
       "      <td>1</td>\n",
       "      <td>0</td>\n",
       "      <td>1</td>\n",
       "      <td>0</td>\n",
       "      <td>0</td>\n",
       "      <td>0</td>\n",
       "      <td>1</td>\n",
       "    </tr>\n",
       "    <tr>\n",
       "      <td>4</td>\n",
       "      <td>25748</td>\n",
       "      <td>9</td>\n",
       "      <td>29.99</td>\n",
       "      <td>0</td>\n",
       "      <td>1</td>\n",
       "      <td>1</td>\n",
       "      <td>0</td>\n",
       "      <td>1</td>\n",
       "      <td>0</td>\n",
       "      <td>0</td>\n",
       "      <td>...</td>\n",
       "      <td>0</td>\n",
       "      <td>0</td>\n",
       "      <td>1</td>\n",
       "      <td>0</td>\n",
       "      <td>0</td>\n",
       "      <td>1</td>\n",
       "      <td>0</td>\n",
       "      <td>0</td>\n",
       "      <td>1</td>\n",
       "      <td>0</td>\n",
       "    </tr>\n",
       "    <tr>\n",
       "      <td>...</td>\n",
       "      <td>...</td>\n",
       "      <td>...</td>\n",
       "      <td>...</td>\n",
       "      <td>...</td>\n",
       "      <td>...</td>\n",
       "      <td>...</td>\n",
       "      <td>...</td>\n",
       "      <td>...</td>\n",
       "      <td>...</td>\n",
       "      <td>...</td>\n",
       "      <td>...</td>\n",
       "      <td>...</td>\n",
       "      <td>...</td>\n",
       "      <td>...</td>\n",
       "      <td>...</td>\n",
       "      <td>...</td>\n",
       "      <td>...</td>\n",
       "      <td>...</td>\n",
       "      <td>...</td>\n",
       "      <td>...</td>\n",
       "      <td>...</td>\n",
       "    </tr>\n",
       "    <tr>\n",
       "      <td>44795</td>\n",
       "      <td>52468</td>\n",
       "      <td>12</td>\n",
       "      <td>86.79</td>\n",
       "      <td>0</td>\n",
       "      <td>1</td>\n",
       "      <td>1</td>\n",
       "      <td>1</td>\n",
       "      <td>1</td>\n",
       "      <td>0</td>\n",
       "      <td>0</td>\n",
       "      <td>...</td>\n",
       "      <td>0</td>\n",
       "      <td>0</td>\n",
       "      <td>1</td>\n",
       "      <td>0</td>\n",
       "      <td>0</td>\n",
       "      <td>1</td>\n",
       "      <td>0</td>\n",
       "      <td>1</td>\n",
       "      <td>0</td>\n",
       "      <td>0</td>\n",
       "    </tr>\n",
       "    <tr>\n",
       "      <td>44796</td>\n",
       "      <td>62754</td>\n",
       "      <td>5</td>\n",
       "      <td>29.99</td>\n",
       "      <td>0</td>\n",
       "      <td>1</td>\n",
       "      <td>0</td>\n",
       "      <td>1</td>\n",
       "      <td>1</td>\n",
       "      <td>0</td>\n",
       "      <td>0</td>\n",
       "      <td>...</td>\n",
       "      <td>0</td>\n",
       "      <td>1</td>\n",
       "      <td>0</td>\n",
       "      <td>0</td>\n",
       "      <td>0</td>\n",
       "      <td>1</td>\n",
       "      <td>0</td>\n",
       "      <td>0</td>\n",
       "      <td>1</td>\n",
       "      <td>0</td>\n",
       "    </tr>\n",
       "    <tr>\n",
       "      <td>44797</td>\n",
       "      <td>52388</td>\n",
       "      <td>2</td>\n",
       "      <td>245.27</td>\n",
       "      <td>1</td>\n",
       "      <td>0</td>\n",
       "      <td>1</td>\n",
       "      <td>0</td>\n",
       "      <td>0</td>\n",
       "      <td>0</td>\n",
       "      <td>1</td>\n",
       "      <td>...</td>\n",
       "      <td>0</td>\n",
       "      <td>1</td>\n",
       "      <td>0</td>\n",
       "      <td>0</td>\n",
       "      <td>0</td>\n",
       "      <td>1</td>\n",
       "      <td>0</td>\n",
       "      <td>0</td>\n",
       "      <td>0</td>\n",
       "      <td>1</td>\n",
       "    </tr>\n",
       "    <tr>\n",
       "      <td>44798</td>\n",
       "      <td>56645</td>\n",
       "      <td>10</td>\n",
       "      <td>29.99</td>\n",
       "      <td>1</td>\n",
       "      <td>0</td>\n",
       "      <td>1</td>\n",
       "      <td>0</td>\n",
       "      <td>1</td>\n",
       "      <td>0</td>\n",
       "      <td>0</td>\n",
       "      <td>...</td>\n",
       "      <td>0</td>\n",
       "      <td>0</td>\n",
       "      <td>1</td>\n",
       "      <td>0</td>\n",
       "      <td>0</td>\n",
       "      <td>1</td>\n",
       "      <td>0</td>\n",
       "      <td>1</td>\n",
       "      <td>0</td>\n",
       "      <td>0</td>\n",
       "    </tr>\n",
       "    <tr>\n",
       "      <td>44799</td>\n",
       "      <td>13155</td>\n",
       "      <td>9</td>\n",
       "      <td>121.02</td>\n",
       "      <td>1</td>\n",
       "      <td>0</td>\n",
       "      <td>0</td>\n",
       "      <td>0</td>\n",
       "      <td>0</td>\n",
       "      <td>1</td>\n",
       "      <td>0</td>\n",
       "      <td>...</td>\n",
       "      <td>0</td>\n",
       "      <td>1</td>\n",
       "      <td>0</td>\n",
       "      <td>0</td>\n",
       "      <td>0</td>\n",
       "      <td>1</td>\n",
       "      <td>0</td>\n",
       "      <td>1</td>\n",
       "      <td>0</td>\n",
       "      <td>0</td>\n",
       "    </tr>\n",
       "  </tbody>\n",
       "</table>\n",
       "<p>44800 rows × 22 columns</p>\n",
       "</div>"
      ],
      "text/plain": [
       "          ID  recency  history  mens  womens  newbie  visit  \\\n",
       "0      17910        1   882.35     1       0       1      1   \n",
       "1      20951        1    41.57     0       1       1      1   \n",
       "2       3829        1   120.59     0       1       1      0   \n",
       "3      14103        1   336.72     0       1       0      0   \n",
       "4      25748        9    29.99     0       1       1      0   \n",
       "...      ...      ...      ...   ...     ...     ...    ...   \n",
       "44795  52468       12    86.79     0       1       1      1   \n",
       "44796  62754        5    29.99     0       1       0      1   \n",
       "44797  52388        2   245.27     1       0       1      0   \n",
       "44798  56645       10    29.99     1       0       1      0   \n",
       "44799  13155        9   121.02     1       0       0      0   \n",
       "\n",
       "       zip_code_1) $0 - $100  zip_code_2) $100 - $200  \\\n",
       "0                          0                        0   \n",
       "1                          1                        0   \n",
       "2                          0                        1   \n",
       "3                          0                        0   \n",
       "4                          1                        0   \n",
       "...                      ...                      ...   \n",
       "44795                      1                        0   \n",
       "44796                      1                        0   \n",
       "44797                      0                        0   \n",
       "44798                      1                        0   \n",
       "44799                      0                        1   \n",
       "\n",
       "       zip_code_3) $200 - $350  ...  zip_code_6) $750 - $1,000  channel_Rural  \\\n",
       "0                            0  ...                          1              0   \n",
       "1                            0  ...                          0              0   \n",
       "2                            0  ...                          0              0   \n",
       "3                            1  ...                          0              0   \n",
       "4                            0  ...                          0              0   \n",
       "...                        ...  ...                        ...            ...   \n",
       "44795                        0  ...                          0              0   \n",
       "44796                        0  ...                          0              1   \n",
       "44797                        1  ...                          0              1   \n",
       "44798                        0  ...                          0              0   \n",
       "44799                        0  ...                          0              1   \n",
       "\n",
       "       channel_Surburban  channel_Urban  segment_Multichannel  segment_Phone  \\\n",
       "0                      1              0                     1              0   \n",
       "1                      0              1                     0              1   \n",
       "2                      0              1                     0              1   \n",
       "3                      0              1                     0              1   \n",
       "4                      1              0                     0              1   \n",
       "...                  ...            ...                   ...            ...   \n",
       "44795                  1              0                     0              1   \n",
       "44796                  0              0                     0              1   \n",
       "44797                  0              0                     0              1   \n",
       "44798                  1              0                     0              1   \n",
       "44799                  0              0                     0              1   \n",
       "\n",
       "       segment_Web  history_segment_Mens E-Mail  history_segment_No E-Mail  \\\n",
       "0                0                            1                          0   \n",
       "1                0                            0                          0   \n",
       "2                0                            0                          1   \n",
       "3                0                            0                          0   \n",
       "4                0                            0                          1   \n",
       "...            ...                          ...                        ...   \n",
       "44795            0                            1                          0   \n",
       "44796            0                            0                          1   \n",
       "44797            0                            0                          0   \n",
       "44798            0                            1                          0   \n",
       "44799            0                            1                          0   \n",
       "\n",
       "       history_segment_Womens E-Mail  \n",
       "0                                  0  \n",
       "1                                  1  \n",
       "2                                  0  \n",
       "3                                  1  \n",
       "4                                  0  \n",
       "...                              ...  \n",
       "44795                              0  \n",
       "44796                              0  \n",
       "44797                              1  \n",
       "44798                              0  \n",
       "44799                              0  \n",
       "\n",
       "[44800 rows x 22 columns]"
      ]
     },
     "execution_count": 195,
     "metadata": {},
     "output_type": "execute_result"
    }
   ],
   "source": [
    "campaign_testing.drop(['zip_code_7) $1,000 +'],axis = 1  )"
   ]
  },
  {
   "cell_type": "markdown",
   "metadata": {},
   "source": [
    "** Dropping one level of hot encoding to avoid the dummy trap**"
   ]
  },
  {
   "cell_type": "code",
   "execution_count": 196,
   "metadata": {},
   "outputs": [],
   "source": [
    "campaign_testing.drop(['zip_code_7) $1,000 +','channel_Surburban', 'segment_Web', 'history_segment_No E-Mail'],axis = 1, inplace = True )"
   ]
  },
  {
   "cell_type": "code",
   "execution_count": 197,
   "metadata": {
    "scrolled": true
   },
   "outputs": [
    {
     "data": {
      "text/html": [
       "<div>\n",
       "<style scoped>\n",
       "    .dataframe tbody tr th:only-of-type {\n",
       "        vertical-align: middle;\n",
       "    }\n",
       "\n",
       "    .dataframe tbody tr th {\n",
       "        vertical-align: top;\n",
       "    }\n",
       "\n",
       "    .dataframe thead th {\n",
       "        text-align: right;\n",
       "    }\n",
       "</style>\n",
       "<table border=\"1\" class=\"dataframe\">\n",
       "  <thead>\n",
       "    <tr style=\"text-align: right;\">\n",
       "      <th></th>\n",
       "      <th>ID</th>\n",
       "      <th>recency</th>\n",
       "      <th>history</th>\n",
       "      <th>mens</th>\n",
       "      <th>womens</th>\n",
       "      <th>newbie</th>\n",
       "      <th>visit</th>\n",
       "      <th>zip_code_1) $0 - $100</th>\n",
       "      <th>zip_code_2) $100 - $200</th>\n",
       "      <th>zip_code_3) $200 - $350</th>\n",
       "      <th>zip_code_4) $350 - $500</th>\n",
       "      <th>zip_code_5) $500 - $750</th>\n",
       "      <th>zip_code_6) $750 - $1,000</th>\n",
       "      <th>channel_Rural</th>\n",
       "      <th>channel_Urban</th>\n",
       "      <th>segment_Multichannel</th>\n",
       "      <th>segment_Phone</th>\n",
       "      <th>history_segment_Mens E-Mail</th>\n",
       "      <th>history_segment_Womens E-Mail</th>\n",
       "    </tr>\n",
       "  </thead>\n",
       "  <tbody>\n",
       "    <tr>\n",
       "      <td>0</td>\n",
       "      <td>17910</td>\n",
       "      <td>1</td>\n",
       "      <td>882.35</td>\n",
       "      <td>1</td>\n",
       "      <td>0</td>\n",
       "      <td>1</td>\n",
       "      <td>1</td>\n",
       "      <td>0</td>\n",
       "      <td>0</td>\n",
       "      <td>0</td>\n",
       "      <td>0</td>\n",
       "      <td>0</td>\n",
       "      <td>1</td>\n",
       "      <td>0</td>\n",
       "      <td>0</td>\n",
       "      <td>1</td>\n",
       "      <td>0</td>\n",
       "      <td>1</td>\n",
       "      <td>0</td>\n",
       "    </tr>\n",
       "    <tr>\n",
       "      <td>1</td>\n",
       "      <td>20951</td>\n",
       "      <td>1</td>\n",
       "      <td>41.57</td>\n",
       "      <td>0</td>\n",
       "      <td>1</td>\n",
       "      <td>1</td>\n",
       "      <td>1</td>\n",
       "      <td>1</td>\n",
       "      <td>0</td>\n",
       "      <td>0</td>\n",
       "      <td>0</td>\n",
       "      <td>0</td>\n",
       "      <td>0</td>\n",
       "      <td>0</td>\n",
       "      <td>1</td>\n",
       "      <td>0</td>\n",
       "      <td>1</td>\n",
       "      <td>0</td>\n",
       "      <td>1</td>\n",
       "    </tr>\n",
       "    <tr>\n",
       "      <td>2</td>\n",
       "      <td>3829</td>\n",
       "      <td>1</td>\n",
       "      <td>120.59</td>\n",
       "      <td>0</td>\n",
       "      <td>1</td>\n",
       "      <td>1</td>\n",
       "      <td>0</td>\n",
       "      <td>0</td>\n",
       "      <td>1</td>\n",
       "      <td>0</td>\n",
       "      <td>0</td>\n",
       "      <td>0</td>\n",
       "      <td>0</td>\n",
       "      <td>0</td>\n",
       "      <td>1</td>\n",
       "      <td>0</td>\n",
       "      <td>1</td>\n",
       "      <td>0</td>\n",
       "      <td>0</td>\n",
       "    </tr>\n",
       "    <tr>\n",
       "      <td>3</td>\n",
       "      <td>14103</td>\n",
       "      <td>1</td>\n",
       "      <td>336.72</td>\n",
       "      <td>0</td>\n",
       "      <td>1</td>\n",
       "      <td>0</td>\n",
       "      <td>0</td>\n",
       "      <td>0</td>\n",
       "      <td>0</td>\n",
       "      <td>1</td>\n",
       "      <td>0</td>\n",
       "      <td>0</td>\n",
       "      <td>0</td>\n",
       "      <td>0</td>\n",
       "      <td>1</td>\n",
       "      <td>0</td>\n",
       "      <td>1</td>\n",
       "      <td>0</td>\n",
       "      <td>1</td>\n",
       "    </tr>\n",
       "    <tr>\n",
       "      <td>4</td>\n",
       "      <td>25748</td>\n",
       "      <td>9</td>\n",
       "      <td>29.99</td>\n",
       "      <td>0</td>\n",
       "      <td>1</td>\n",
       "      <td>1</td>\n",
       "      <td>0</td>\n",
       "      <td>1</td>\n",
       "      <td>0</td>\n",
       "      <td>0</td>\n",
       "      <td>0</td>\n",
       "      <td>0</td>\n",
       "      <td>0</td>\n",
       "      <td>0</td>\n",
       "      <td>0</td>\n",
       "      <td>0</td>\n",
       "      <td>1</td>\n",
       "      <td>0</td>\n",
       "      <td>0</td>\n",
       "    </tr>\n",
       "  </tbody>\n",
       "</table>\n",
       "</div>"
      ],
      "text/plain": [
       "      ID  recency  history  mens  womens  newbie  visit  \\\n",
       "0  17910        1   882.35     1       0       1      1   \n",
       "1  20951        1    41.57     0       1       1      1   \n",
       "2   3829        1   120.59     0       1       1      0   \n",
       "3  14103        1   336.72     0       1       0      0   \n",
       "4  25748        9    29.99     0       1       1      0   \n",
       "\n",
       "   zip_code_1) $0 - $100  zip_code_2) $100 - $200  zip_code_3) $200 - $350  \\\n",
       "0                      0                        0                        0   \n",
       "1                      1                        0                        0   \n",
       "2                      0                        1                        0   \n",
       "3                      0                        0                        1   \n",
       "4                      1                        0                        0   \n",
       "\n",
       "   zip_code_4) $350 - $500  zip_code_5) $500 - $750  \\\n",
       "0                        0                        0   \n",
       "1                        0                        0   \n",
       "2                        0                        0   \n",
       "3                        0                        0   \n",
       "4                        0                        0   \n",
       "\n",
       "   zip_code_6) $750 - $1,000  channel_Rural  channel_Urban  \\\n",
       "0                          1              0              0   \n",
       "1                          0              0              1   \n",
       "2                          0              0              1   \n",
       "3                          0              0              1   \n",
       "4                          0              0              0   \n",
       "\n",
       "   segment_Multichannel  segment_Phone  history_segment_Mens E-Mail  \\\n",
       "0                     1              0                            1   \n",
       "1                     0              1                            0   \n",
       "2                     0              1                            0   \n",
       "3                     0              1                            0   \n",
       "4                     0              1                            0   \n",
       "\n",
       "   history_segment_Womens E-Mail  \n",
       "0                              0  \n",
       "1                              1  \n",
       "2                              0  \n",
       "3                              1  \n",
       "4                              0  "
      ]
     },
     "execution_count": 197,
     "metadata": {},
     "output_type": "execute_result"
    }
   ],
   "source": [
    "campaign_testing.head()"
   ]
  },
  {
   "cell_type": "code",
   "execution_count": 198,
   "metadata": {},
   "outputs": [],
   "source": [
    "campaign_testing.drop(['ID'], axis = 1, inplace = True) #ID is just a random number and has no influence in predictions"
   ]
  },
  {
   "cell_type": "code",
   "execution_count": 199,
   "metadata": {
    "scrolled": true
   },
   "outputs": [
    {
     "name": "stdout",
     "output_type": "stream",
     "text": [
      "visit\n",
      "0    38244\n",
      "1     6556\n",
      "dtype: int64\n"
     ]
    }
   ],
   "source": [
    "# class distribution\n",
    "print(campaign.groupby('visit').size())"
   ]
  },
  {
   "cell_type": "markdown",
   "metadata": {},
   "source": [
    "We will now see the chunk of people visiting the site after email campaign"
   ]
  },
  {
   "cell_type": "code",
   "execution_count": 200,
   "metadata": {
    "scrolled": true
   },
   "outputs": [
    {
     "data": {
      "image/png": "[encoded data removed]",
      "text/plain": [
       "<Figure size 1152x360 with 2 Axes>"
      ]
     },
     "metadata": {
      "needs_background": "light"
     },
     "output_type": "display_data"
    }
   ],
   "source": [
    "#How many Visited??\n",
    "\n",
    "f,ax=plt.subplots(1,2,figsize=(16,5))\n",
    "campaign['visit'].value_counts().plot.pie(explode=[0,0.1],autopct='%1.1f%%',ax=ax[0],shadow=True)\n",
    "ax[0].set_title('Visits')\n",
    "ax[0].set_ylabel('')\n",
    "sns.countplot('visit',data=campaign,ax=ax[1])\n",
    "ax[1].set_title('Visits')\n",
    "plt.show()"
   ]
  },
  {
   "cell_type": "markdown",
   "metadata": {},
   "source": [
    "#### Observation from above graph"
   ]
  },
  {
   "cell_type": "markdown",
   "metadata": {},
   "source": [
    "This is an interesting observation. In business terms, having a visit percentage of 14.6% (with respect to un-opened) is good. However, while applying the machine learning models, its advised to have balanced data of visits and non-visits. Therefore, its a good idea to have upsampling the data. \n",
    "\n",
    "But before doing that, lets apply a model to see the performance without upsampling. "
   ]
  },
  {
   "cell_type": "markdown",
   "metadata": {},
   "source": [
    "**We will now split the model into train and test data set and apply it into different models**"
   ]
  },
  {
   "cell_type": "code",
   "execution_count": 201,
   "metadata": {},
   "outputs": [],
   "source": [
    "X_train, X_test, Y_train, Y_test = train_test_split(campaign_testing.drop(\"visit\", axis=1), campaign_testing['visit'] , test_size = 0.2,\\\n",
    "random_state=180)"
   ]
  },
  {
   "cell_type": "markdown",
   "metadata": {},
   "source": [
    "**1. Random Forest**"
   ]
  },
  {
   "cell_type": "code",
   "execution_count": 202,
   "metadata": {},
   "outputs": [],
   "source": [
    "rfc = RandomForestClassifier(n_estimators=10).fit(X_train, Y_train)"
   ]
  },
  {
   "cell_type": "markdown",
   "metadata": {},
   "source": [
    "Prediction on the test dataset"
   ]
  },
  {
   "cell_type": "code",
   "execution_count": 203,
   "metadata": {},
   "outputs": [],
   "source": [
    "rfc_pred = rfc.predict(X_test)"
   ]
  },
  {
   "cell_type": "code",
   "execution_count": 204,
   "metadata": {},
   "outputs": [
    {
     "name": "stdout",
     "output_type": "stream",
     "text": [
      "accuracy =  0.8142857142857143 \n",
      "precision_score =  0.17647058823529413 \n",
      "f1 Score = 0.10633727175080561 \n",
      "recall_score =  0.07609531129900077\n"
     ]
    }
   ],
   "source": [
    "print(\"accuracy = \", accuracy_score(Y_test, rfc_pred), \"\\nprecision_score = \", precision_score(Y_test, rfc_pred),\"\\nf1 Score =\",f1_score(Y_test, rfc_pred), \"\\nrecall_score = \", recall_score(Y_test, rfc_pred))"
   ]
  },
  {
   "attachments": {
    "image.png": {
     "image/png": "[encoded data removed]"
    }
   },
   "cell_type": "markdown",
   "metadata": {},
   "source": [
    "This is an interesting observation. The accuracy seems to be good. However the Precision, f1 score and recall_score are very poor.\n",
    "\n",
    "Accuracy is how close a measurement is to the correct value for that measurement. The precision of a measurement system is refers to how close the agreement is between repeated measurements \n",
    "\n",
    "Consider a bullseye. High accuracy and low precision is like having all the hits closer to the center, but none are close to each other; this is an example of accuracy without precision.\n",
    "\n",
    "![image.png](attachment:image.png)"
   ]
  },
  {
   "cell_type": "markdown",
   "metadata": {},
   "source": [
    "Lets further evaluate by having one more method ( logistics regression)."
   ]
  },
  {
   "cell_type": "markdown",
   "metadata": {},
   "source": [
    "**2. Logistic Regression**"
   ]
  },
  {
   "cell_type": "code",
   "execution_count": 205,
   "metadata": {},
   "outputs": [],
   "source": [
    "logit = LogisticRegression()"
   ]
  },
  {
   "cell_type": "code",
   "execution_count": 206,
   "metadata": {},
   "outputs": [
    {
     "name": "stderr",
     "output_type": "stream",
     "text": [
      "C:\\Users\\mercu\\Anaconda3\\lib\\site-packages\\sklearn\\linear_model\\logistic.py:432: FutureWarning: Default solver will be changed to 'lbfgs' in 0.22. Specify a solver to silence this warning.\n",
      "  FutureWarning)\n"
     ]
    }
   ],
   "source": [
    "result = logit.fit(X_train, Y_train)"
   ]
  },
  {
   "cell_type": "code",
   "execution_count": 207,
   "metadata": {},
   "outputs": [],
   "source": [
    "probability_predictions=result.predict_proba(X_test)"
   ]
  },
  {
   "cell_type": "code",
   "execution_count": 208,
   "metadata": {},
   "outputs": [
    {
     "data": {
      "text/plain": [
       "array([[0.80626827, 0.19373173],\n",
       "       [0.77630419, 0.22369581],\n",
       "       [0.88633645, 0.11366355],\n",
       "       ...,\n",
       "       [0.91164795, 0.08835205],\n",
       "       [0.72423664, 0.27576336],\n",
       "       [0.90158004, 0.09841996]])"
      ]
     },
     "execution_count": 208,
     "metadata": {},
     "output_type": "execute_result"
    }
   ],
   "source": [
    "probability_predictions"
   ]
  },
  {
   "cell_type": "code",
   "execution_count": 209,
   "metadata": {},
   "outputs": [
    {
     "data": {
      "text/plain": [
       "array([0, 1], dtype=int64)"
      ]
     },
     "execution_count": 209,
     "metadata": {},
     "output_type": "execute_result"
    }
   ],
   "source": [
    "logit.classes_"
   ]
  },
  {
   "cell_type": "code",
   "execution_count": 210,
   "metadata": {},
   "outputs": [],
   "source": [
    "predictions_log = np.where(probability_predictions[:,1]> 0.5 ,1,0)"
   ]
  },
  {
   "cell_type": "code",
   "execution_count": 211,
   "metadata": {},
   "outputs": [
    {
     "name": "stdout",
     "output_type": "stream",
     "text": [
      "0.8547991071428571\n"
     ]
    }
   ],
   "source": [
    "accuracy=sum(predictions_log==Y_test)/len(Y_test)\n",
    "print(accuracy)"
   ]
  },
  {
   "cell_type": "code",
   "execution_count": 212,
   "metadata": {},
   "outputs": [
    {
     "data": {
      "text/plain": [
       "5.015061259975026"
      ]
     },
     "execution_count": 212,
     "metadata": {},
     "output_type": "execute_result"
    }
   ],
   "source": [
    "log_loss(Y_test,predictions_log)"
   ]
  },
  {
   "cell_type": "code",
   "execution_count": 213,
   "metadata": {},
   "outputs": [],
   "source": [
    "confusion_matrix= confusion_matrix(Y_test,predictions_log)"
   ]
  },
  {
   "cell_type": "code",
   "execution_count": 214,
   "metadata": {},
   "outputs": [],
   "source": [
    "confusion_df= pd.DataFrame(confusion_matrix,index=['Actual No-visits','Actual visits']\n",
    "                           ,columns=['Predicted No-visits','Predicted visits'])"
   ]
  },
  {
   "cell_type": "code",
   "execution_count": 215,
   "metadata": {},
   "outputs": [
    {
     "data": {
      "text/html": [
       "<div>\n",
       "<style scoped>\n",
       "    .dataframe tbody tr th:only-of-type {\n",
       "        vertical-align: middle;\n",
       "    }\n",
       "\n",
       "    .dataframe tbody tr th {\n",
       "        vertical-align: top;\n",
       "    }\n",
       "\n",
       "    .dataframe thead th {\n",
       "        text-align: right;\n",
       "    }\n",
       "</style>\n",
       "<table border=\"1\" class=\"dataframe\">\n",
       "  <thead>\n",
       "    <tr style=\"text-align: right;\">\n",
       "      <th></th>\n",
       "      <th>Predicted No-visits</th>\n",
       "      <th>Predicted visits</th>\n",
       "    </tr>\n",
       "  </thead>\n",
       "  <tbody>\n",
       "    <tr>\n",
       "      <td>Actual No-visits</td>\n",
       "      <td>7658</td>\n",
       "      <td>1</td>\n",
       "    </tr>\n",
       "    <tr>\n",
       "      <td>Actual visits</td>\n",
       "      <td>1300</td>\n",
       "      <td>1</td>\n",
       "    </tr>\n",
       "  </tbody>\n",
       "</table>\n",
       "</div>"
      ],
      "text/plain": [
       "                  Predicted No-visits  Predicted visits\n",
       "Actual No-visits                 7658                 1\n",
       "Actual visits                    1300                 1"
      ]
     },
     "execution_count": 215,
     "metadata": {},
     "output_type": "execute_result"
    }
   ],
   "source": [
    "confusion_df"
   ]
  },
  {
   "cell_type": "markdown",
   "metadata": {},
   "source": [
    "**Explaination on Confusion Matrix**\n",
    "\n",
    "Number of customers who were predicted to be not visiting and didnt visit the website are 7658\n",
    "Number of customers who were predicted to visit and actually didnt visited are 1\n",
    "Number of customers who were predicted not visiting and actually visited are 1300 \n",
    "Number of customers who were predicted to be visiting and actually visited are 1\n",
    "\n",
    "'1300' customers of 8760 have visited the website but our model couldn't predict it correctly. This is a very huge number that will deeply impact the business decisions. Think of them as customers who were potential to be re-purchasing and have visited the website (after the email campaign) and the company missed the chance to convert them by not identifying them.\n",
    "\n",
    "Though '7658' customers have been correctly identified as not visiting the website and have actually not visited is good, the value that the company has over '1300' is too less. That is, company is losing out a lot by not predicting the 1300 than correctly predicting 7658!"
   ]
  },
  {
   "cell_type": "code",
   "execution_count": 216,
   "metadata": {
    "scrolled": false
   },
   "outputs": [
    {
     "data": {
      "image/png": "[encoded data removed]",
      "text/plain": [
       "<Figure size 432x288 with 2 Axes>"
      ]
     },
     "metadata": {
      "needs_background": "light"
     },
     "output_type": "display_data"
    }
   ],
   "source": [
    "_=sns.heatmap(confusion_df,cmap='coolwarm',annot=True)"
   ]
  },
  {
   "cell_type": "markdown",
   "metadata": {},
   "source": [
    "Explaination : Running above logistic regression model and plotting the confusion matrix, we see that although accuracy of the model is 0.85, the f1 score and recall scores are very poor. This again shows accuracy without precision. With both the models ( Random Forest and Logistic Regression ) we see that the precion scores are very poor. We will now upsample our data, run our models again and see if our precion score improves"
   ]
  },
  {
   "cell_type": "code",
   "execution_count": 217,
   "metadata": {},
   "outputs": [
    {
     "name": "stdout",
     "output_type": "stream",
     "text": [
      "accuracy =  0.8547991071428571 \n",
      "precision_score =  0.5 \n",
      "f1 Score = 0.0015349194167306216 \n",
      "recall_score =  0.0007686395080707148\n"
     ]
    }
   ],
   "source": [
    "print(\"accuracy = \", accuracy_score(Y_test, predictions_log), \"\\nprecision_score = \", precision_score(Y_test, predictions_log),\"\\nf1 Score =\",f1_score(Y_test, predictions_log), \"\\nrecall_score = \", recall_score(Y_test, predictions_log))"
   ]
  },
  {
   "cell_type": "markdown",
   "metadata": {},
   "source": [
    "Finding the AUC score ( for predicting if the classifier is good or bad)"
   ]
  },
  {
   "cell_type": "code",
   "execution_count": 218,
   "metadata": {},
   "outputs": [
    {
     "name": "stdout",
     "output_type": "stream",
     "text": [
      "0.5003190370800571\n"
     ]
    }
   ],
   "source": [
    "auc = roc_auc_score(Y_test,predictions_log)\n",
    "print(auc)"
   ]
  },
  {
   "cell_type": "code",
   "execution_count": 219,
   "metadata": {},
   "outputs": [],
   "source": [
    "fpr,tpr,threshold = roc_curve(Y_test,probability_predictions[:,1])\n"
   ]
  },
  {
   "cell_type": "code",
   "execution_count": 220,
   "metadata": {},
   "outputs": [
    {
     "data": {
      "image/png": "[encoded data removed]",
      "text/plain": [
       "<Figure size 432x288 with 1 Axes>"
      ]
     },
     "metadata": {
      "needs_background": "light"
     },
     "output_type": "display_data"
    }
   ],
   "source": [
    "plt.title('ROC')\n",
    "plt.plot(fpr,tpr,'b',label='AUC = %0.2f' % auc)\n",
    "plt.legend(loc='lower right')\n",
    "plt.plot([0,1],[0,1],'r--')\n",
    "plt.xlim([0,1])\n",
    "plt.ylim([0,1])\n",
    "plt.show()"
   ]
  },
  {
   "cell_type": "markdown",
   "metadata": {},
   "source": [
    "Therefore, by looking at various performance metrics which shows poor results from Random Forest and Logisitcs regression, it can be said that we need to do sampling before having the modeling.\n",
    "\n",
    "Lets do upsampling by getting visit '1's numberically equal to the number of '0's"
   ]
  },
  {
   "cell_type": "markdown",
   "metadata": {},
   "source": [
    "##### Upsampling"
   ]
  },
  {
   "cell_type": "code",
   "execution_count": 221,
   "metadata": {},
   "outputs": [],
   "source": [
    "campaign_majority = campaign_testing[campaign_testing.visit==0]\n",
    "campaign_minority=campaign_testing[campaign_testing.visit==1]"
   ]
  },
  {
   "cell_type": "code",
   "execution_count": 222,
   "metadata": {},
   "outputs": [],
   "source": [
    "minority_upsampled = resample(campaign_minority,replace=True,n_samples=38244,random_state=45)"
   ]
  },
  {
   "cell_type": "code",
   "execution_count": 223,
   "metadata": {},
   "outputs": [
    {
     "data": {
      "text/plain": [
       "38244"
      ]
     },
     "execution_count": 223,
     "metadata": {},
     "output_type": "execute_result"
    }
   ],
   "source": [
    "minority_upsampled.shape[0]"
   ]
  },
  {
   "cell_type": "code",
   "execution_count": 224,
   "metadata": {},
   "outputs": [],
   "source": [
    "complete=pd.concat([campaign_majority,minority_upsampled])\n"
   ]
  },
  {
   "cell_type": "code",
   "execution_count": 225,
   "metadata": {},
   "outputs": [
    {
     "name": "stdout",
     "output_type": "stream",
     "text": [
      "1    38244\n",
      "0    38244\n",
      "Name: visit, dtype: int64\n"
     ]
    }
   ],
   "source": [
    "complete.visit.value_counts()\n",
    "campaign_testing=complete.copy()\n",
    "print(campaign_testing.visit.value_counts())"
   ]
  },
  {
   "cell_type": "code",
   "execution_count": 226,
   "metadata": {},
   "outputs": [
    {
     "data": {
      "text/html": [
       "<div>\n",
       "<style scoped>\n",
       "    .dataframe tbody tr th:only-of-type {\n",
       "        vertical-align: middle;\n",
       "    }\n",
       "\n",
       "    .dataframe tbody tr th {\n",
       "        vertical-align: top;\n",
       "    }\n",
       "\n",
       "    .dataframe thead th {\n",
       "        text-align: right;\n",
       "    }\n",
       "</style>\n",
       "<table border=\"1\" class=\"dataframe\">\n",
       "  <thead>\n",
       "    <tr style=\"text-align: right;\">\n",
       "      <th></th>\n",
       "      <th>recency</th>\n",
       "      <th>history</th>\n",
       "      <th>mens</th>\n",
       "      <th>womens</th>\n",
       "      <th>newbie</th>\n",
       "      <th>visit</th>\n",
       "      <th>zip_code_1) $0 - $100</th>\n",
       "      <th>zip_code_2) $100 - $200</th>\n",
       "      <th>zip_code_3) $200 - $350</th>\n",
       "      <th>zip_code_4) $350 - $500</th>\n",
       "      <th>zip_code_5) $500 - $750</th>\n",
       "      <th>zip_code_6) $750 - $1,000</th>\n",
       "      <th>channel_Rural</th>\n",
       "      <th>channel_Urban</th>\n",
       "      <th>segment_Multichannel</th>\n",
       "      <th>segment_Phone</th>\n",
       "      <th>history_segment_Mens E-Mail</th>\n",
       "      <th>history_segment_Womens E-Mail</th>\n",
       "    </tr>\n",
       "  </thead>\n",
       "  <tbody>\n",
       "    <tr>\n",
       "      <td>2</td>\n",
       "      <td>1</td>\n",
       "      <td>120.59</td>\n",
       "      <td>0</td>\n",
       "      <td>1</td>\n",
       "      <td>1</td>\n",
       "      <td>0</td>\n",
       "      <td>0</td>\n",
       "      <td>1</td>\n",
       "      <td>0</td>\n",
       "      <td>0</td>\n",
       "      <td>0</td>\n",
       "      <td>0</td>\n",
       "      <td>0</td>\n",
       "      <td>1</td>\n",
       "      <td>0</td>\n",
       "      <td>1</td>\n",
       "      <td>0</td>\n",
       "      <td>0</td>\n",
       "    </tr>\n",
       "    <tr>\n",
       "      <td>3</td>\n",
       "      <td>1</td>\n",
       "      <td>336.72</td>\n",
       "      <td>0</td>\n",
       "      <td>1</td>\n",
       "      <td>0</td>\n",
       "      <td>0</td>\n",
       "      <td>0</td>\n",
       "      <td>0</td>\n",
       "      <td>1</td>\n",
       "      <td>0</td>\n",
       "      <td>0</td>\n",
       "      <td>0</td>\n",
       "      <td>0</td>\n",
       "      <td>1</td>\n",
       "      <td>0</td>\n",
       "      <td>1</td>\n",
       "      <td>0</td>\n",
       "      <td>1</td>\n",
       "    </tr>\n",
       "    <tr>\n",
       "      <td>4</td>\n",
       "      <td>9</td>\n",
       "      <td>29.99</td>\n",
       "      <td>0</td>\n",
       "      <td>1</td>\n",
       "      <td>1</td>\n",
       "      <td>0</td>\n",
       "      <td>1</td>\n",
       "      <td>0</td>\n",
       "      <td>0</td>\n",
       "      <td>0</td>\n",
       "      <td>0</td>\n",
       "      <td>0</td>\n",
       "      <td>0</td>\n",
       "      <td>0</td>\n",
       "      <td>0</td>\n",
       "      <td>1</td>\n",
       "      <td>0</td>\n",
       "      <td>0</td>\n",
       "    </tr>\n",
       "    <tr>\n",
       "      <td>5</td>\n",
       "      <td>6</td>\n",
       "      <td>396.79</td>\n",
       "      <td>1</td>\n",
       "      <td>1</td>\n",
       "      <td>0</td>\n",
       "      <td>0</td>\n",
       "      <td>0</td>\n",
       "      <td>0</td>\n",
       "      <td>0</td>\n",
       "      <td>1</td>\n",
       "      <td>0</td>\n",
       "      <td>0</td>\n",
       "      <td>1</td>\n",
       "      <td>0</td>\n",
       "      <td>1</td>\n",
       "      <td>0</td>\n",
       "      <td>0</td>\n",
       "      <td>0</td>\n",
       "    </tr>\n",
       "    <tr>\n",
       "      <td>6</td>\n",
       "      <td>10</td>\n",
       "      <td>378.47</td>\n",
       "      <td>1</td>\n",
       "      <td>0</td>\n",
       "      <td>0</td>\n",
       "      <td>0</td>\n",
       "      <td>0</td>\n",
       "      <td>0</td>\n",
       "      <td>0</td>\n",
       "      <td>1</td>\n",
       "      <td>0</td>\n",
       "      <td>0</td>\n",
       "      <td>0</td>\n",
       "      <td>1</td>\n",
       "      <td>0</td>\n",
       "      <td>1</td>\n",
       "      <td>0</td>\n",
       "      <td>0</td>\n",
       "    </tr>\n",
       "    <tr>\n",
       "      <td>...</td>\n",
       "      <td>...</td>\n",
       "      <td>...</td>\n",
       "      <td>...</td>\n",
       "      <td>...</td>\n",
       "      <td>...</td>\n",
       "      <td>...</td>\n",
       "      <td>...</td>\n",
       "      <td>...</td>\n",
       "      <td>...</td>\n",
       "      <td>...</td>\n",
       "      <td>...</td>\n",
       "      <td>...</td>\n",
       "      <td>...</td>\n",
       "      <td>...</td>\n",
       "      <td>...</td>\n",
       "      <td>...</td>\n",
       "      <td>...</td>\n",
       "      <td>...</td>\n",
       "    </tr>\n",
       "    <tr>\n",
       "      <td>26262</td>\n",
       "      <td>6</td>\n",
       "      <td>788.76</td>\n",
       "      <td>1</td>\n",
       "      <td>0</td>\n",
       "      <td>1</td>\n",
       "      <td>1</td>\n",
       "      <td>0</td>\n",
       "      <td>0</td>\n",
       "      <td>0</td>\n",
       "      <td>0</td>\n",
       "      <td>0</td>\n",
       "      <td>1</td>\n",
       "      <td>0</td>\n",
       "      <td>1</td>\n",
       "      <td>1</td>\n",
       "      <td>0</td>\n",
       "      <td>1</td>\n",
       "      <td>0</td>\n",
       "    </tr>\n",
       "    <tr>\n",
       "      <td>19099</td>\n",
       "      <td>7</td>\n",
       "      <td>717.99</td>\n",
       "      <td>1</td>\n",
       "      <td>1</td>\n",
       "      <td>1</td>\n",
       "      <td>1</td>\n",
       "      <td>0</td>\n",
       "      <td>0</td>\n",
       "      <td>0</td>\n",
       "      <td>0</td>\n",
       "      <td>1</td>\n",
       "      <td>0</td>\n",
       "      <td>0</td>\n",
       "      <td>1</td>\n",
       "      <td>0</td>\n",
       "      <td>0</td>\n",
       "      <td>1</td>\n",
       "      <td>0</td>\n",
       "    </tr>\n",
       "    <tr>\n",
       "      <td>38543</td>\n",
       "      <td>3</td>\n",
       "      <td>319.11</td>\n",
       "      <td>0</td>\n",
       "      <td>1</td>\n",
       "      <td>1</td>\n",
       "      <td>1</td>\n",
       "      <td>0</td>\n",
       "      <td>0</td>\n",
       "      <td>1</td>\n",
       "      <td>0</td>\n",
       "      <td>0</td>\n",
       "      <td>0</td>\n",
       "      <td>0</td>\n",
       "      <td>1</td>\n",
       "      <td>0</td>\n",
       "      <td>0</td>\n",
       "      <td>0</td>\n",
       "      <td>1</td>\n",
       "    </tr>\n",
       "    <tr>\n",
       "      <td>2465</td>\n",
       "      <td>7</td>\n",
       "      <td>167.13</td>\n",
       "      <td>0</td>\n",
       "      <td>1</td>\n",
       "      <td>0</td>\n",
       "      <td>1</td>\n",
       "      <td>0</td>\n",
       "      <td>1</td>\n",
       "      <td>0</td>\n",
       "      <td>0</td>\n",
       "      <td>0</td>\n",
       "      <td>0</td>\n",
       "      <td>0</td>\n",
       "      <td>0</td>\n",
       "      <td>0</td>\n",
       "      <td>0</td>\n",
       "      <td>0</td>\n",
       "      <td>0</td>\n",
       "    </tr>\n",
       "    <tr>\n",
       "      <td>3782</td>\n",
       "      <td>5</td>\n",
       "      <td>327.44</td>\n",
       "      <td>1</td>\n",
       "      <td>1</td>\n",
       "      <td>0</td>\n",
       "      <td>1</td>\n",
       "      <td>0</td>\n",
       "      <td>0</td>\n",
       "      <td>1</td>\n",
       "      <td>0</td>\n",
       "      <td>0</td>\n",
       "      <td>0</td>\n",
       "      <td>0</td>\n",
       "      <td>0</td>\n",
       "      <td>0</td>\n",
       "      <td>0</td>\n",
       "      <td>0</td>\n",
       "      <td>1</td>\n",
       "    </tr>\n",
       "  </tbody>\n",
       "</table>\n",
       "<p>76488 rows × 18 columns</p>\n",
       "</div>"
      ],
      "text/plain": [
       "       recency  history  mens  womens  newbie  visit  zip_code_1) $0 - $100  \\\n",
       "2            1   120.59     0       1       1      0                      0   \n",
       "3            1   336.72     0       1       0      0                      0   \n",
       "4            9    29.99     0       1       1      0                      1   \n",
       "5            6   396.79     1       1       0      0                      0   \n",
       "6           10   378.47     1       0       0      0                      0   \n",
       "...        ...      ...   ...     ...     ...    ...                    ...   \n",
       "26262        6   788.76     1       0       1      1                      0   \n",
       "19099        7   717.99     1       1       1      1                      0   \n",
       "38543        3   319.11     0       1       1      1                      0   \n",
       "2465         7   167.13     0       1       0      1                      0   \n",
       "3782         5   327.44     1       1       0      1                      0   \n",
       "\n",
       "       zip_code_2) $100 - $200  zip_code_3) $200 - $350  \\\n",
       "2                            1                        0   \n",
       "3                            0                        1   \n",
       "4                            0                        0   \n",
       "5                            0                        0   \n",
       "6                            0                        0   \n",
       "...                        ...                      ...   \n",
       "26262                        0                        0   \n",
       "19099                        0                        0   \n",
       "38543                        0                        1   \n",
       "2465                         1                        0   \n",
       "3782                         0                        1   \n",
       "\n",
       "       zip_code_4) $350 - $500  zip_code_5) $500 - $750  \\\n",
       "2                            0                        0   \n",
       "3                            0                        0   \n",
       "4                            0                        0   \n",
       "5                            1                        0   \n",
       "6                            1                        0   \n",
       "...                        ...                      ...   \n",
       "26262                        0                        0   \n",
       "19099                        0                        1   \n",
       "38543                        0                        0   \n",
       "2465                         0                        0   \n",
       "3782                         0                        0   \n",
       "\n",
       "       zip_code_6) $750 - $1,000  channel_Rural  channel_Urban  \\\n",
       "2                              0              0              1   \n",
       "3                              0              0              1   \n",
       "4                              0              0              0   \n",
       "5                              0              1              0   \n",
       "6                              0              0              1   \n",
       "...                          ...            ...            ...   \n",
       "26262                          1              0              1   \n",
       "19099                          0              0              1   \n",
       "38543                          0              0              1   \n",
       "2465                           0              0              0   \n",
       "3782                           0              0              0   \n",
       "\n",
       "       segment_Multichannel  segment_Phone  history_segment_Mens E-Mail  \\\n",
       "2                         0              1                            0   \n",
       "3                         0              1                            0   \n",
       "4                         0              1                            0   \n",
       "5                         1              0                            0   \n",
       "6                         0              1                            0   \n",
       "...                     ...            ...                          ...   \n",
       "26262                     1              0                            1   \n",
       "19099                     0              0                            1   \n",
       "38543                     0              0                            0   \n",
       "2465                      0              0                            0   \n",
       "3782                      0              0                            0   \n",
       "\n",
       "       history_segment_Womens E-Mail  \n",
       "2                                  0  \n",
       "3                                  1  \n",
       "4                                  0  \n",
       "5                                  0  \n",
       "6                                  0  \n",
       "...                              ...  \n",
       "26262                              0  \n",
       "19099                              0  \n",
       "38543                              1  \n",
       "2465                               0  \n",
       "3782                               1  \n",
       "\n",
       "[76488 rows x 18 columns]"
      ]
     },
     "execution_count": 226,
     "metadata": {},
     "output_type": "execute_result"
    }
   ],
   "source": [
    "campaign_testing"
   ]
  },
  {
   "cell_type": "markdown",
   "metadata": {},
   "source": [
    "\n",
    "#### Lets apply the re-sampled data to Random Forest Classifier and Logistics Regression "
   ]
  },
  {
   "cell_type": "code",
   "execution_count": 227,
   "metadata": {},
   "outputs": [],
   "source": [
    "X_train, X_test, Y_train, Y_test = train_test_split(campaign_testing.drop(\"visit\", axis=1), campaign_testing['visit'] , test_size = 0.2,\\\n",
    "random_state=180)"
   ]
  },
  {
   "cell_type": "markdown",
   "metadata": {},
   "source": [
    "##### Random forest after  upsampling"
   ]
  },
  {
   "cell_type": "code",
   "execution_count": 228,
   "metadata": {},
   "outputs": [],
   "source": [
    "rfc = RandomForestClassifier(n_estimators=10).fit(X_train, Y_train)"
   ]
  },
  {
   "cell_type": "code",
   "execution_count": 229,
   "metadata": {},
   "outputs": [],
   "source": [
    "rfc_pred = rfc.predict(X_test)"
   ]
  },
  {
   "cell_type": "code",
   "execution_count": 230,
   "metadata": {},
   "outputs": [
    {
     "name": "stdout",
     "output_type": "stream",
     "text": [
      "accuracy =  0.8961955811217153 \n",
      "precision_score =  0.8510982658959537 \n",
      "f1 Score = 0.9026483570377636 \n",
      "recall_score =  0.9608457321848082\n"
     ]
    }
   ],
   "source": [
    "print(\"accuracy = \", accuracy_score(Y_test, rfc_pred), \"\\nprecision_score = \", precision_score(Y_test, rfc_pred),\"\\nf1 Score =\",f1_score(Y_test, rfc_pred), \"\\nrecall_score = \", recall_score(Y_test, rfc_pred))"
   ]
  },
  {
   "cell_type": "markdown",
   "metadata": {},
   "source": [
    "It can be clearly seen that the performance evaluation metrics have improved to many folds by having up-sampling the data. "
   ]
  },
  {
   "cell_type": "code",
   "execution_count": 234,
   "metadata": {},
   "outputs": [],
   "source": [
    "confusion_matrix_rf= confusion_matrix(Y_test,rfc_pred)"
   ]
  },
  {
   "cell_type": "code",
   "execution_count": 235,
   "metadata": {},
   "outputs": [],
   "source": [
    "confusion_df_rf= pd.DataFrame(confusion_matrix_rf,index=['Actual No-visits','Actual visits']\n",
    "                           ,columns=['Predicted No-visits','Predicted visits'])"
   ]
  },
  {
   "cell_type": "code",
   "execution_count": 236,
   "metadata": {
    "scrolled": true
   },
   "outputs": [
    {
     "data": {
      "text/html": [
       "<div>\n",
       "<style scoped>\n",
       "    .dataframe tbody tr th:only-of-type {\n",
       "        vertical-align: middle;\n",
       "    }\n",
       "\n",
       "    .dataframe tbody tr th {\n",
       "        vertical-align: top;\n",
       "    }\n",
       "\n",
       "    .dataframe thead th {\n",
       "        text-align: right;\n",
       "    }\n",
       "</style>\n",
       "<table border=\"1\" class=\"dataframe\">\n",
       "  <thead>\n",
       "    <tr style=\"text-align: right;\">\n",
       "      <th></th>\n",
       "      <th>Predicted No-visits</th>\n",
       "      <th>Predicted visits</th>\n",
       "    </tr>\n",
       "  </thead>\n",
       "  <tbody>\n",
       "    <tr>\n",
       "      <td>Actual No-visits</td>\n",
       "      <td>6348</td>\n",
       "      <td>1288</td>\n",
       "    </tr>\n",
       "    <tr>\n",
       "      <td>Actual visits</td>\n",
       "      <td>300</td>\n",
       "      <td>7362</td>\n",
       "    </tr>\n",
       "  </tbody>\n",
       "</table>\n",
       "</div>"
      ],
      "text/plain": [
       "                  Predicted No-visits  Predicted visits\n",
       "Actual No-visits                 6348              1288\n",
       "Actual visits                     300              7362"
      ]
     },
     "execution_count": 236,
     "metadata": {},
     "output_type": "execute_result"
    }
   ],
   "source": [
    "confusion_df_rf"
   ]
  },
  {
   "cell_type": "markdown",
   "metadata": {},
   "source": [
    "Explaination on Confusion Matrix from Random Forest:\n",
    "\n",
    "As we can see that these metrics are lot better than the one from Logistics Regression. \n",
    "\n",
    "This model can accurately predict '6341' who haven't visited and '7364' who have actually visited the website. '298' customers have actually visited but the model predicts them they haven't.(which is a lot less than earlier). "
   ]
  },
  {
   "cell_type": "code",
   "execution_count": 237,
   "metadata": {},
   "outputs": [],
   "source": [
    "logit_new = LogisticRegression()"
   ]
  },
  {
   "cell_type": "code",
   "execution_count": 238,
   "metadata": {},
   "outputs": [
    {
     "name": "stderr",
     "output_type": "stream",
     "text": [
      "C:\\Users\\mercu\\Anaconda3\\lib\\site-packages\\sklearn\\linear_model\\logistic.py:432: FutureWarning: Default solver will be changed to 'lbfgs' in 0.22. Specify a solver to silence this warning.\n",
      "  FutureWarning)\n"
     ]
    }
   ],
   "source": [
    "result = logit_new.fit(X_train, Y_train)"
   ]
  },
  {
   "cell_type": "code",
   "execution_count": 239,
   "metadata": {},
   "outputs": [],
   "source": [
    "probability_predictions_new=result.predict_proba(X_test)"
   ]
  },
  {
   "cell_type": "code",
   "execution_count": 240,
   "metadata": {},
   "outputs": [
    {
     "data": {
      "text/plain": [
       "array([[0.53784477, 0.46215523],\n",
       "       [0.62697687, 0.37302313],\n",
       "       [0.47177176, 0.52822824],\n",
       "       ...,\n",
       "       [0.51077485, 0.48922515],\n",
       "       [0.55942451, 0.44057549],\n",
       "       [0.45661339, 0.54338661]])"
      ]
     },
     "execution_count": 240,
     "metadata": {},
     "output_type": "execute_result"
    }
   ],
   "source": [
    "probability_predictions_new"
   ]
  },
  {
   "cell_type": "code",
   "execution_count": 241,
   "metadata": {},
   "outputs": [
    {
     "data": {
      "text/plain": [
       "array([0, 1], dtype=int64)"
      ]
     },
     "execution_count": 241,
     "metadata": {},
     "output_type": "execute_result"
    }
   ],
   "source": [
    "logit.classes_"
   ]
  },
  {
   "cell_type": "code",
   "execution_count": 242,
   "metadata": {},
   "outputs": [],
   "source": [
    "predictions_log_new = np.where(probability_predictions_new[:,1]> 0.5 ,1,0)"
   ]
  },
  {
   "cell_type": "code",
   "execution_count": 243,
   "metadata": {},
   "outputs": [
    {
     "name": "stdout",
     "output_type": "stream",
     "text": [
      "0.6055693554713034\n"
     ]
    }
   ],
   "source": [
    "accuracy=sum(predictions_log_new==Y_test)/len(Y_test)\n",
    "print(accuracy)"
   ]
  },
  {
   "cell_type": "code",
   "execution_count": 244,
   "metadata": {},
   "outputs": [
    {
     "data": {
      "text/plain": [
       "13.623311984142841"
      ]
     },
     "execution_count": 244,
     "metadata": {},
     "output_type": "execute_result"
    }
   ],
   "source": [
    "log_loss(Y_test,predictions_log_new)"
   ]
  },
  {
   "cell_type": "code",
   "execution_count": 245,
   "metadata": {},
   "outputs": [],
   "source": [
    "confusion_matrix= confusion_matrix(Y_test,predictions_log_new)"
   ]
  },
  {
   "cell_type": "code",
   "execution_count": 246,
   "metadata": {},
   "outputs": [],
   "source": [
    "confusion_df= pd.DataFrame(confusion_matrix,index=['Actual No-visits','Actual visits']\n",
    "                           ,columns=['Predicted No-visits','Predicted visits'])"
   ]
  },
  {
   "cell_type": "code",
   "execution_count": 247,
   "metadata": {},
   "outputs": [
    {
     "data": {
      "text/html": [
       "<div>\n",
       "<style scoped>\n",
       "    .dataframe tbody tr th:only-of-type {\n",
       "        vertical-align: middle;\n",
       "    }\n",
       "\n",
       "    .dataframe tbody tr th {\n",
       "        vertical-align: top;\n",
       "    }\n",
       "\n",
       "    .dataframe thead th {\n",
       "        text-align: right;\n",
       "    }\n",
       "</style>\n",
       "<table border=\"1\" class=\"dataframe\">\n",
       "  <thead>\n",
       "    <tr style=\"text-align: right;\">\n",
       "      <th></th>\n",
       "      <th>Predicted No-visits</th>\n",
       "      <th>Predicted visits</th>\n",
       "    </tr>\n",
       "  </thead>\n",
       "  <tbody>\n",
       "    <tr>\n",
       "      <td>Actual No-visits</td>\n",
       "      <td>4572</td>\n",
       "      <td>3064</td>\n",
       "    </tr>\n",
       "    <tr>\n",
       "      <td>Actual visits</td>\n",
       "      <td>2970</td>\n",
       "      <td>4692</td>\n",
       "    </tr>\n",
       "  </tbody>\n",
       "</table>\n",
       "</div>"
      ],
      "text/plain": [
       "                  Predicted No-visits  Predicted visits\n",
       "Actual No-visits                 4572              3064\n",
       "Actual visits                    2970              4692"
      ]
     },
     "execution_count": 247,
     "metadata": {},
     "output_type": "execute_result"
    }
   ],
   "source": [
    "confusion_df"
   ]
  },
  {
   "cell_type": "code",
   "execution_count": 248,
   "metadata": {
    "scrolled": false
   },
   "outputs": [
    {
     "data": {
      "image/png": "[encoded data removed]",
      "text/plain": [
       "<Figure size 432x288 with 2 Axes>"
      ]
     },
     "metadata": {
      "needs_background": "light"
     },
     "output_type": "display_data"
    }
   ],
   "source": [
    "_=sns.heatmap(confusion_df,cmap='coolwarm',annot=True)"
   ]
  },
  {
   "cell_type": "code",
   "execution_count": 249,
   "metadata": {},
   "outputs": [
    {
     "name": "stdout",
     "output_type": "stream",
     "text": [
      "accuracy =  0.6055693554713034 \n",
      "precision_score =  0.6049510056730273 \n",
      "f1 Score = 0.6086392528213777 \n",
      "recall_score =  0.6123727486296007\n"
     ]
    }
   ],
   "source": [
    "print(\"accuracy = \", accuracy_score(Y_test, predictions_log_new), \"\\nprecision_score = \", precision_score(Y_test, predictions_log_new),\"\\nf1 Score =\",f1_score(Y_test, predictions_log_new), \"\\nrecall_score = \", recall_score(Y_test, predictions_log_new))"
   ]
  },
  {
   "cell_type": "code",
   "execution_count": 250,
   "metadata": {},
   "outputs": [
    {
     "name": "stdout",
     "output_type": "stream",
     "text": [
      "0.6055577729528308\n"
     ]
    }
   ],
   "source": [
    "auc = roc_auc_score(Y_test,predictions_log_new)\n",
    "print(auc)"
   ]
  },
  {
   "cell_type": "code",
   "execution_count": 251,
   "metadata": {},
   "outputs": [],
   "source": [
    "fpr,tpr,threshold = roc_curve(Y_test,probability_predictions_new[:,1])\n"
   ]
  },
  {
   "cell_type": "code",
   "execution_count": 252,
   "metadata": {
    "scrolled": true
   },
   "outputs": [
    {
     "data": {
      "image/png": "[encoded data removed]",
      "text/plain": [
       "<Figure size 432x288 with 1 Axes>"
      ]
     },
     "metadata": {
      "needs_background": "light"
     },
     "output_type": "display_data"
    }
   ],
   "source": [
    "plt.title('ROC')\n",
    "plt.plot(fpr,tpr,'b',label='AUC = %0.2f' % auc)\n",
    "plt.legend(loc='lower right')\n",
    "plt.plot([0,1],[0,1],'r--')\n",
    "plt.xlim([0,1])\n",
    "plt.ylim([0,1])\n",
    "plt.show()"
   ]
  },
  {
   "cell_type": "code",
   "execution_count": 253,
   "metadata": {},
   "outputs": [],
   "source": [
    "optimal_idx=np.argmax(tpr-fpr)\n",
    "optimal_threshlold = threshold[optimal_idx]"
   ]
  },
  {
   "cell_type": "code",
   "execution_count": 254,
   "metadata": {},
   "outputs": [
    {
     "data": {
      "text/plain": [
       "0.4703767606603408"
      ]
     },
     "execution_count": 254,
     "metadata": {},
     "output_type": "execute_result"
    }
   ],
   "source": [
    "optimal_threshlold"
   ]
  },
  {
   "cell_type": "code",
   "execution_count": 255,
   "metadata": {},
   "outputs": [],
   "source": [
    "probability_predictions_new_updated = np.where(probability_predictions_new[:,1]>optimal_threshlold, 1, 0)"
   ]
  },
  {
   "cell_type": "code",
   "execution_count": 259,
   "metadata": {},
   "outputs": [],
   "source": [
    "new_confusion_mat = confusion_matrix(Y_test, probability_predictions_new_updated)"
   ]
  },
  {
   "cell_type": "code",
   "execution_count": 260,
   "metadata": {},
   "outputs": [],
   "source": [
    "confusion_df= pd.DataFrame(new_confusion_mat,index=['Actual No-visits','Actual visits']\n",
    "                           ,columns=['Predicted No-visits','Predicted visits'])"
   ]
  },
  {
   "cell_type": "code",
   "execution_count": 261,
   "metadata": {},
   "outputs": [
    {
     "data": {
      "text/html": [
       "<div>\n",
       "<style scoped>\n",
       "    .dataframe tbody tr th:only-of-type {\n",
       "        vertical-align: middle;\n",
       "    }\n",
       "\n",
       "    .dataframe tbody tr th {\n",
       "        vertical-align: top;\n",
       "    }\n",
       "\n",
       "    .dataframe thead th {\n",
       "        text-align: right;\n",
       "    }\n",
       "</style>\n",
       "<table border=\"1\" class=\"dataframe\">\n",
       "  <thead>\n",
       "    <tr style=\"text-align: right;\">\n",
       "      <th></th>\n",
       "      <th>Predicted No-visits</th>\n",
       "      <th>Predicted visits</th>\n",
       "    </tr>\n",
       "  </thead>\n",
       "  <tbody>\n",
       "    <tr>\n",
       "      <td>Actual No-visits</td>\n",
       "      <td>4015</td>\n",
       "      <td>3621</td>\n",
       "    </tr>\n",
       "    <tr>\n",
       "      <td>Actual visits</td>\n",
       "      <td>2314</td>\n",
       "      <td>5348</td>\n",
       "    </tr>\n",
       "  </tbody>\n",
       "</table>\n",
       "</div>"
      ],
      "text/plain": [
       "                  Predicted No-visits  Predicted visits\n",
       "Actual No-visits                 4015              3621\n",
       "Actual visits                    2314              5348"
      ]
     },
     "execution_count": 261,
     "metadata": {},
     "output_type": "execute_result"
    }
   ],
   "source": [
    "confusion_df"
   ]
  },
  {
   "cell_type": "code",
   "execution_count": 262,
   "metadata": {},
   "outputs": [
    {
     "name": "stdout",
     "output_type": "stream",
     "text": [
      "0.611894464241495\n"
     ]
    }
   ],
   "source": [
    "auc = roc_auc_score(Y_test,probability_predictions_new_updated)\n",
    "print(auc)"
   ]
  },
  {
   "cell_type": "markdown",
   "metadata": {},
   "source": [
    "**3. Support vector classifier (SVC)**"
   ]
  },
  {
   "cell_type": "code",
   "execution_count": 263,
   "metadata": {},
   "outputs": [],
   "source": [
    "#Please note that the below code runs too long. Hence I've commented the first line. However, I've tried this to be working. "
   ]
  },
  {
   "cell_type": "code",
   "execution_count": 264,
   "metadata": {},
   "outputs": [],
   "source": [
    "#clf = svm.SVC(kernel='linear')"
   ]
  },
  {
   "cell_type": "code",
   "execution_count": null,
   "metadata": {},
   "outputs": [],
   "source": [
    "clf.fit(X_train, Y_train)"
   ]
  },
  {
   "cell_type": "code",
   "execution_count": null,
   "metadata": {},
   "outputs": [],
   "source": [
    "clf.predict(X_test)"
   ]
  },
  {
   "cell_type": "code",
   "execution_count": null,
   "metadata": {},
   "outputs": [],
   "source": [
    "predicted_classes_svc = probabilities.map(lambda x: 'pos' if x > 0.5 else 'neg')"
   ]
  },
  {
   "cell_type": "code",
   "execution_count": null,
   "metadata": {},
   "outputs": [],
   "source": [
    "predicted_classes_svcn = predicted_classes_svc.map(lambda x: 1 if x == 'pos' else 0)"
   ]
  },
  {
   "cell_type": "code",
   "execution_count": null,
   "metadata": {},
   "outputs": [],
   "source": [
    "accuracy = sum(predicted_classes_svcn == Y_test) / len(Y_test)"
   ]
  },
  {
   "cell_type": "code",
   "execution_count": null,
   "metadata": {},
   "outputs": [],
   "source": [
    "accuracy"
   ]
  },
  {
   "cell_type": "code",
   "execution_count": null,
   "metadata": {},
   "outputs": [],
   "source": [
    "confusion_mat = confusion_matrix(Y_test, predicted_classes)"
   ]
  },
  {
   "cell_type": "code",
   "execution_count": null,
   "metadata": {},
   "outputs": [],
   "source": [
    "confusion_df_svc = pd.DataFrame(confusion_mat, index=['Actual neg','Actual pos'], columns=['Predicted neg','Predicted pos'])"
   ]
  },
  {
   "cell_type": "code",
   "execution_count": null,
   "metadata": {},
   "outputs": [],
   "source": [
    "confusion_df_svc"
   ]
  },
  {
   "cell_type": "code",
   "execution_count": null,
   "metadata": {},
   "outputs": [],
   "source": [
    "precision_score(Y_test, predicted_classes)"
   ]
  },
  {
   "cell_type": "code",
   "execution_count": null,
   "metadata": {},
   "outputs": [],
   "source": [
    "recall_score(Y_test, predicted_classes)"
   ]
  },
  {
   "cell_type": "markdown",
   "metadata": {},
   "source": [
    "**4.Kneighbours**"
   ]
  },
  {
   "cell_type": "code",
   "execution_count": 265,
   "metadata": {},
   "outputs": [],
   "source": [
    "from sklearn.neighbors import KNeighborsClassifier"
   ]
  },
  {
   "cell_type": "code",
   "execution_count": 266,
   "metadata": {},
   "outputs": [],
   "source": [
    "knn = KNeighborsClassifier(n_neighbors=3)"
   ]
  },
  {
   "cell_type": "code",
   "execution_count": 267,
   "metadata": {},
   "outputs": [],
   "source": [
    "result_knn= knn.fit(X_train, Y_train)"
   ]
  },
  {
   "cell_type": "code",
   "execution_count": 268,
   "metadata": {},
   "outputs": [],
   "source": [
    "Y_pred = knn.predict(X_test)"
   ]
  },
  {
   "cell_type": "code",
   "execution_count": 269,
   "metadata": {},
   "outputs": [],
   "source": [
    "probability_predictions_new=result_knn.predict_proba(X_test)"
   ]
  },
  {
   "cell_type": "code",
   "execution_count": 270,
   "metadata": {},
   "outputs": [],
   "source": [
    "predictions_kneig = np.where(probability_predictions_new[:,1]> 0.5 ,1,0)"
   ]
  },
  {
   "cell_type": "code",
   "execution_count": 271,
   "metadata": {},
   "outputs": [
    {
     "name": "stdout",
     "output_type": "stream",
     "text": [
      "Accuracy: 0.8174271146555105\n"
     ]
    }
   ],
   "source": [
    "#Import scikit-learn metrics module for accuracy calculation\n",
    "from sklearn import metrics\n",
    "# Model Accuracy, how often is the classifier correct?\n",
    "print(\"Accuracy:\",metrics.accuracy_score(Y_test, predictions_kneig))"
   ]
  },
  {
   "cell_type": "code",
   "execution_count": 272,
   "metadata": {},
   "outputs": [
    {
     "name": "stdout",
     "output_type": "stream",
     "text": [
      "accuracy =  0.8174271146555105 \n",
      "precision_score =  0.7548947754161868 \n",
      "f1 Score = 0.8377389182594551 \n",
      "recall_score =  0.9410075698251109\n"
     ]
    }
   ],
   "source": [
    "print(\"accuracy = \", accuracy_score(Y_test, predictions_kneig), \"\\nprecision_score = \", precision_score(Y_test, predictions_kneig),\"\\nf1 Score =\",f1_score(Y_test, predictions_kneig), \"\\nrecall_score = \", recall_score(Y_test, predictions_kneig))"
   ]
  },
  {
   "cell_type": "markdown",
   "metadata": {},
   "source": [
    "** Kneighbours model gives an accuracy of 0.81 with f1score as 0.83 and recall score as 0.94"
   ]
  },
  {
   "cell_type": "markdown",
   "metadata": {},
   "source": [
    "**5. Gaussian Naive Bayes model**"
   ]
  },
  {
   "cell_type": "code",
   "execution_count": 273,
   "metadata": {},
   "outputs": [],
   "source": [
    "#Import Gaussian Naive Bayes model\n",
    "from sklearn.naive_bayes import GaussianNB"
   ]
  },
  {
   "cell_type": "code",
   "execution_count": 274,
   "metadata": {},
   "outputs": [],
   "source": [
    "gnb = GaussianNB()"
   ]
  },
  {
   "cell_type": "code",
   "execution_count": 275,
   "metadata": {},
   "outputs": [],
   "source": [
    "result_gnb = gnb.fit(X_train, Y_train)"
   ]
  },
  {
   "cell_type": "code",
   "execution_count": 276,
   "metadata": {},
   "outputs": [],
   "source": [
    "Y_pred_gnb = gnb.predict(X_test)"
   ]
  },
  {
   "cell_type": "code",
   "execution_count": 277,
   "metadata": {},
   "outputs": [],
   "source": [
    "probability_predictions_new=result_gnb.predict_proba(X_test)"
   ]
  },
  {
   "cell_type": "code",
   "execution_count": 278,
   "metadata": {},
   "outputs": [],
   "source": [
    "predictions_gnb = np.where(probability_predictions_new[:,1]> 0.5 ,1,0)"
   ]
  },
  {
   "cell_type": "code",
   "execution_count": 279,
   "metadata": {
    "scrolled": true
   },
   "outputs": [
    {
     "name": "stdout",
     "output_type": "stream",
     "text": [
      "accuracy =  0.5698784154791476 \n",
      "precision_score =  0.5885723641126391 \n",
      "f1 Score = 0.5221496005809731 \n",
      "recall_score =  0.4691986426520491\n"
     ]
    }
   ],
   "source": [
    "print(\"accuracy = \", accuracy_score(Y_test, predictions_gnb), \"\\nprecision_score = \", precision_score(Y_test, predictions_gnb),\"\\nf1 Score =\",f1_score(Y_test, predictions_gnb), \"\\nrecall_score = \", recall_score(Y_test, predictions_gnb))"
   ]
  },
  {
   "cell_type": "markdown",
   "metadata": {},
   "source": [
    "**6. ADaBoost Classifier**"
   ]
  },
  {
   "cell_type": "code",
   "execution_count": 280,
   "metadata": {},
   "outputs": [],
   "source": [
    "ada_model = AdaBoostClassifier(DecisionTreeClassifier(max_depth=8), n_estimators=200, learning_rate=0.01, random_state=123)"
   ]
  },
  {
   "cell_type": "code",
   "execution_count": 281,
   "metadata": {},
   "outputs": [
    {
     "data": {
      "text/plain": [
       "AdaBoostClassifier(algorithm='SAMME.R',\n",
       "                   base_estimator=DecisionTreeClassifier(class_weight=None,\n",
       "                                                         criterion='gini',\n",
       "                                                         max_depth=8,\n",
       "                                                         max_features=None,\n",
       "                                                         max_leaf_nodes=None,\n",
       "                                                         min_impurity_decrease=0.0,\n",
       "                                                         min_impurity_split=None,\n",
       "                                                         min_samples_leaf=1,\n",
       "                                                         min_samples_split=2,\n",
       "                                                         min_weight_fraction_leaf=0.0,\n",
       "                                                         presort=False,\n",
       "                                                         random_state=None,\n",
       "                                                         splitter='best'),\n",
       "                   learning_rate=0.01, n_estimators=200, random_state=123)"
      ]
     },
     "execution_count": 281,
     "metadata": {},
     "output_type": "execute_result"
    }
   ],
   "source": [
    "ada_model.fit(X_train, Y_train)"
   ]
  },
  {
   "cell_type": "code",
   "execution_count": 282,
   "metadata": {},
   "outputs": [],
   "source": [
    "predictions = ada_model.predict(X_test)"
   ]
  },
  {
   "cell_type": "code",
   "execution_count": 283,
   "metadata": {},
   "outputs": [
    {
     "name": "stdout",
     "output_type": "stream",
     "text": [
      "accuracy =  0.7570924303830566 \n",
      "precision_score =  0.7417299681450625 \n",
      "f1 Score = 0.7651668351870575 \n",
      "recall_score =  0.7901331245105716\n"
     ]
    }
   ],
   "source": [
    "print(\"accuracy = \", accuracy_score(Y_test, predictions), \"\\nprecision_score = \", precision_score(Y_test, predictions),\"\\nf1 Score =\",f1_score(Y_test, predictions), \"\\nrecall_score = \", recall_score(Y_test, predictions))"
   ]
  },
  {
   "cell_type": "code",
   "execution_count": 284,
   "metadata": {},
   "outputs": [
    {
     "data": {
      "text/plain": [
       "array([0.19479642, 0.61428363, 0.01323081, 0.01255309, 0.01996887,\n",
       "       0.00611618, 0.00418757, 0.00475862, 0.00382294, 0.00406579,\n",
       "       0.00294078, 0.01716042, 0.02496005, 0.01418121, 0.02028714,\n",
       "       0.02027568, 0.02241082])"
      ]
     },
     "execution_count": 284,
     "metadata": {},
     "output_type": "execute_result"
    }
   ],
   "source": [
    "rfc.feature_importances_"
   ]
  },
  {
   "cell_type": "markdown",
   "metadata": {},
   "source": [
    "**Calculating the feature importance of each feature in the dataset towards the visit **"
   ]
  },
  {
   "cell_type": "markdown",
   "metadata": {},
   "source": [
    "**We have selected Random Forest as it has the best overall performance metrics**"
   ]
  },
  {
   "cell_type": "code",
   "execution_count": 286,
   "metadata": {},
   "outputs": [
    {
     "data": {
      "text/plain": [
       "history                          0.614284\n",
       "recency                          0.194796\n",
       "channel_Urban                    0.024960\n",
       "history_segment_Womens E-Mail    0.022411\n",
       "segment_Phone                    0.020287\n",
       "history_segment_Mens E-Mail      0.020276\n",
       "newbie                           0.019969\n",
       "channel_Rural                    0.017160\n",
       "segment_Multichannel             0.014181\n",
       "mens                             0.013231\n",
       "womens                           0.012553\n",
       "zip_code_1) $0 - $100            0.006116\n",
       "zip_code_3) $200 - $350          0.004759\n",
       "zip_code_2) $100 - $200          0.004188\n",
       "zip_code_5) $500 - $750          0.004066\n",
       "zip_code_4) $350 - $500          0.003823\n",
       "zip_code_6) $750 - $1,000        0.002941\n",
       "dtype: float64"
      ]
     },
     "execution_count": 286,
     "metadata": {},
     "output_type": "execute_result"
    }
   ],
   "source": [
    "pd.Series(rfc.feature_importances_, index=X_train.columns).sort_values(ascending = False)"
   ]
  },
  {
   "cell_type": "markdown",
   "metadata": {},
   "source": [
    "Explaination to how these feature importances will impact the business are on the PPT shared alongside"
   ]
  },
  {
   "cell_type": "code",
   "execution_count": null,
   "metadata": {},
   "outputs": [],
   "source": []
  }
 ],
 "metadata": {
  "kernelspec": {
   "display_name": "Python 3",
   "language": "python",
   "name": "python3"
  },
  "language_info": {
   "codemirror_mode": {
    "name": "ipython",
    "version": 3
   },
   "file_extension": ".py",
   "mimetype": "text/x-python",
   "name": "python",
   "nbconvert_exporter": "python",
   "pygments_lexer": "ipython3",
   "version": "3.7.4"
  }
 },
 "nbformat": 4,
 "nbformat_minor": 2
}

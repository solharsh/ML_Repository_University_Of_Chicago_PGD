{
  "nbformat": 4,
  "nbformat_minor": 0,
  "metadata": {
    "colab": {
      "name": "Assignment1.ipynb",
      "provenance": [],
      "toc_visible": true,
      "mount_file_id": "1tG_69WJXOqlZPHONm-gtK8kXp0S1jHym",
      "authorship_tag": "ABX9TyNbrW4omrW1MZdGTc7yF+DT",
      "include_colab_link": true
    },
    "kernelspec": {
      "name": "python3",
      "display_name": "Python 3"
    }
  },
  "cells": [
    {
      "cell_type": "markdown",
      "metadata": {
        "id": "view-in-github",
        "colab_type": "text"
      },
      "source": [
        "<a href=\"https://colab.research.google.com/github/solharsh/ML_Repository_University_Of_Chicago_PGD/blob/master/Assignment1_Hypothesis_Testing.ipynb\" target=\"_parent\"><img src=\"https://colab.research.google.com/assets/colab-badge.svg\" alt=\"Open In Colab\"/></a>"
      ]
    },
    {
      "cell_type": "markdown",
      "metadata": {
        "id": "32XBNgGhTX3p",
        "colab_type": "text"
      },
      "source": [
        "# ASSIGNMENT 1"
      ]
    },
    {
      "cell_type": "markdown",
      "metadata": {
        "id": "J5FQPrsYTIef",
        "colab_type": "text"
      },
      "source": [
        "In this assignment, you will get your feet wet with doing basic feature engineering and hypothesis testing in Python. While most students in this class don't have much experience with Python (and some don't have any), it's a pretty intuitive language to learn, and the Workshops in each module offer examples of most things that you are be asked to do in this and future assignments.\n",
        "\n",
        "If you get lost, or the Workshops don't demonstrate something that you need to do, there's a wealth of help available. If you know the function you are trying to use, and can't get it to work, consult the documentation! Otherwise, try Googling your problem, or checking Stack Overflow. One of the skills that you should get out of this course is learning to leverage the knowledge and solutions that are already out there to achieve your own goals.\n",
        "\n",
        "Finally, your instructor, TA, and fellow students are also resources--post questions to the Discussion area for help.\n",
        "\n",
        "## Part 1: Feature Engineering\n",
        "The file \"nyc-rolling-sales_clean.csvPreview the document\" contains New York City property sales data taken from Kaggle (Links to an external site.). The data has already been cleaned and a few columns have been dropped.\n",
        "\n",
        "Write your own code in Python that performs the following operations on this dataset:\n",
        "\n",
        "Create a new column \"year of sale\" by extracting year information from \"SALE DATE\" column.\n",
        "Drop the \"SALE DATE\" column.\n",
        "Get dummy encoded columns for 'TAX CLASS AT PRESENT' predictor.\n",
        " \n",
        "\n",
        "## Part 2: Hypothesis Testing\n",
        "The file \"gestational_study.csvPreview the document\" contains data from a small study involving 17 infants on the relationship between gestational age at birth (measured in weeks) and birth weight (measured in grams).\n",
        "\n",
        "Write your own code in Python that performs the following operations on this dataset:\n",
        "\n",
        "Calculate the correlation between Gestational Age and Birth Weight (use the corr() function in Pandas to calculate the correlation).\n",
        "Generate a scatter plot to visualize the relationships between these two variables. Does the scatter plot confirm the correlation value you calculated? Does there seem to be a strong correlation between the two predictors?\n",
        "Perform a hypothesis test and state the confidence level at which you can confirm a correlation between the two variables (use the scipy.stats.pearsonr() function--consult the SciPy documentation for details (Links to an external site.) about its inputs and outputs).\n",
        "For both parts, document your work and explain your reasoning by commenting on your code.\n",
        "\n",
        "Upload your homework here as a Jupyter Notebook, a .ipynb file. You can also submit a second file converted to HTML (by going to file-->download as-->HTML).\n",
        "\n",
        "Tip: to provide commentary or document your work in Jupyter Notebook, select the cell you want to turn into a comment and select \"Markdown\" from the dropdown: (a short cut for this is to hit the \"Esc\" key and pressing the \"m\" key)"
      ]
    },
    {
      "cell_type": "markdown",
      "metadata": {
        "id": "jogt5ioFTeem",
        "colab_type": "text"
      },
      "source": [
        "# Part 1 : Feature Engineering"
      ]
    },
    {
      "cell_type": "code",
      "metadata": {
        "id": "1auFcHlVTWu6",
        "colab_type": "code",
        "colab": {}
      },
      "source": [
        "import pandas as pd #importing Pandas Library\n",
        "\n",
        "df1 = pd.read_csv(\"/content/drive/My Drive/UC Machine Learning/Datasets/nyc-rolling-sales_clean.csv\") #reading a csv file from local drive"
      ],
      "execution_count": 0,
      "outputs": []
    },
    {
      "cell_type": "code",
      "metadata": {
        "id": "mYnrWknWTaWW",
        "colab_type": "code",
        "colab": {
          "base_uri": "https://localhost:8080/",
          "height": 510
        },
        "outputId": "53cbd36c-6083-4ca3-82e5-aa3431277c4e"
      },
      "source": [
        "df1.head() #reading the top 5 records from the dataframe"
      ],
      "execution_count": 3,
      "outputs": [
        {
          "output_type": "execute_result",
          "data": {
            "text/html": [
              "<div>\n",
              "<style scoped>\n",
              "    .dataframe tbody tr th:only-of-type {\n",
              "        vertical-align: middle;\n",
              "    }\n",
              "\n",
              "    .dataframe tbody tr th {\n",
              "        vertical-align: top;\n",
              "    }\n",
              "\n",
              "    .dataframe thead th {\n",
              "        text-align: right;\n",
              "    }\n",
              "</style>\n",
              "<table border=\"1\" class=\"dataframe\">\n",
              "  <thead>\n",
              "    <tr style=\"text-align: right;\">\n",
              "      <th></th>\n",
              "      <th>NEIGHBORHOOD</th>\n",
              "      <th>BUILDING CLASS CATEGORY</th>\n",
              "      <th>TAX CLASS AT PRESENT</th>\n",
              "      <th>BLOCK</th>\n",
              "      <th>LOT</th>\n",
              "      <th>BUILDING CLASS AT PRESENT</th>\n",
              "      <th>ADDRESS</th>\n",
              "      <th>ZIP CODE</th>\n",
              "      <th>RESIDENTIAL UNITS</th>\n",
              "      <th>COMMERCIAL UNITS</th>\n",
              "      <th>TOTAL UNITS</th>\n",
              "      <th>LAND SQUARE FEET</th>\n",
              "      <th>GROSS SQUARE FEET</th>\n",
              "      <th>YEAR BUILT</th>\n",
              "      <th>SALE PRICE</th>\n",
              "      <th>SALE DATE</th>\n",
              "    </tr>\n",
              "  </thead>\n",
              "  <tbody>\n",
              "    <tr>\n",
              "      <th>0</th>\n",
              "      <td>ALPHABET CITY</td>\n",
              "      <td>08 RENTALS - ELEVATOR APARTMENTS</td>\n",
              "      <td>2</td>\n",
              "      <td>387</td>\n",
              "      <td>153</td>\n",
              "      <td>D9</td>\n",
              "      <td>629 EAST 5TH STREET</td>\n",
              "      <td>10009</td>\n",
              "      <td>24</td>\n",
              "      <td>0</td>\n",
              "      <td>24</td>\n",
              "      <td>4489</td>\n",
              "      <td>18523</td>\n",
              "      <td>1920</td>\n",
              "      <td>16232000</td>\n",
              "      <td>2016-11-07 00:00:00</td>\n",
              "    </tr>\n",
              "    <tr>\n",
              "      <th>1</th>\n",
              "      <td>ALPHABET CITY</td>\n",
              "      <td>09 COOPS - WALKUP APARTMENTS</td>\n",
              "      <td>2</td>\n",
              "      <td>376</td>\n",
              "      <td>14</td>\n",
              "      <td>C6</td>\n",
              "      <td>244 EAST 7TH STREET</td>\n",
              "      <td>10009</td>\n",
              "      <td>24</td>\n",
              "      <td>0</td>\n",
              "      <td>24</td>\n",
              "      <td>4131</td>\n",
              "      <td>16776</td>\n",
              "      <td>1928</td>\n",
              "      <td>11900000</td>\n",
              "      <td>2017-06-21 00:00:00</td>\n",
              "    </tr>\n",
              "    <tr>\n",
              "      <th>2</th>\n",
              "      <td>ALPHABET CITY</td>\n",
              "      <td>22 STORE BUILDINGS</td>\n",
              "      <td>4</td>\n",
              "      <td>390</td>\n",
              "      <td>34</td>\n",
              "      <td>K4</td>\n",
              "      <td>115 AVENUE C</td>\n",
              "      <td>10009</td>\n",
              "      <td>0</td>\n",
              "      <td>1</td>\n",
              "      <td>1</td>\n",
              "      <td>1218</td>\n",
              "      <td>3586</td>\n",
              "      <td>1899</td>\n",
              "      <td>3700000</td>\n",
              "      <td>2016-09-28 00:00:00</td>\n",
              "    </tr>\n",
              "    <tr>\n",
              "      <th>3</th>\n",
              "      <td>CHELSEA</td>\n",
              "      <td>01 ONE FAMILY DWELLINGS</td>\n",
              "      <td>1</td>\n",
              "      <td>771</td>\n",
              "      <td>52</td>\n",
              "      <td>A9</td>\n",
              "      <td>224 WEST 22ND   STREET</td>\n",
              "      <td>10011</td>\n",
              "      <td>1</td>\n",
              "      <td>0</td>\n",
              "      <td>1</td>\n",
              "      <td>1975</td>\n",
              "      <td>3855</td>\n",
              "      <td>1901</td>\n",
              "      <td>7425000</td>\n",
              "      <td>2016-12-30 00:00:00</td>\n",
              "    </tr>\n",
              "    <tr>\n",
              "      <th>4</th>\n",
              "      <td>CHELSEA</td>\n",
              "      <td>01 ONE FAMILY DWELLINGS</td>\n",
              "      <td>1</td>\n",
              "      <td>772</td>\n",
              "      <td>29</td>\n",
              "      <td>A4</td>\n",
              "      <td>231 WEST 22ND   STREET</td>\n",
              "      <td>10011</td>\n",
              "      <td>1</td>\n",
              "      <td>0</td>\n",
              "      <td>1</td>\n",
              "      <td>1588</td>\n",
              "      <td>5653</td>\n",
              "      <td>1900</td>\n",
              "      <td>10</td>\n",
              "      <td>2017-01-30 00:00:00</td>\n",
              "    </tr>\n",
              "  </tbody>\n",
              "</table>\n",
              "</div>"
            ],
            "text/plain": [
              "    NEIGHBORHOOD  ...            SALE DATE\n",
              "0  ALPHABET CITY  ...  2016-11-07 00:00:00\n",
              "1  ALPHABET CITY  ...  2017-06-21 00:00:00\n",
              "2  ALPHABET CITY  ...  2016-09-28 00:00:00\n",
              "3        CHELSEA  ...  2016-12-30 00:00:00\n",
              "4        CHELSEA  ...  2017-01-30 00:00:00\n",
              "\n",
              "[5 rows x 16 columns]"
            ]
          },
          "metadata": {
            "tags": []
          },
          "execution_count": 3
        }
      ]
    },
    {
      "cell_type": "markdown",
      "metadata": {
        "id": "KOVjuv5MT2qY",
        "colab_type": "text"
      },
      "source": [
        "a. Create a new column \"year of sale\" by extracting year information from \"SALE DATE\" column."
      ]
    },
    {
      "cell_type": "code",
      "metadata": {
        "id": "c9T9hY44TzdV",
        "colab_type": "code",
        "colab": {
          "base_uri": "https://localhost:8080/",
          "height": 510
        },
        "outputId": "0a1dc54f-07d7-49b1-ca08-1afb0e12fb9e"
      },
      "source": [
        "df1['SALE DATE'] = pd.to_datetime(df1['SALE DATE']) #converting \"SALE DATE\" type to Python Date time object\n",
        "\n",
        "df1.head()"
      ],
      "execution_count": 4,
      "outputs": [
        {
          "output_type": "execute_result",
          "data": {
            "text/html": [
              "<div>\n",
              "<style scoped>\n",
              "    .dataframe tbody tr th:only-of-type {\n",
              "        vertical-align: middle;\n",
              "    }\n",
              "\n",
              "    .dataframe tbody tr th {\n",
              "        vertical-align: top;\n",
              "    }\n",
              "\n",
              "    .dataframe thead th {\n",
              "        text-align: right;\n",
              "    }\n",
              "</style>\n",
              "<table border=\"1\" class=\"dataframe\">\n",
              "  <thead>\n",
              "    <tr style=\"text-align: right;\">\n",
              "      <th></th>\n",
              "      <th>NEIGHBORHOOD</th>\n",
              "      <th>BUILDING CLASS CATEGORY</th>\n",
              "      <th>TAX CLASS AT PRESENT</th>\n",
              "      <th>BLOCK</th>\n",
              "      <th>LOT</th>\n",
              "      <th>BUILDING CLASS AT PRESENT</th>\n",
              "      <th>ADDRESS</th>\n",
              "      <th>ZIP CODE</th>\n",
              "      <th>RESIDENTIAL UNITS</th>\n",
              "      <th>COMMERCIAL UNITS</th>\n",
              "      <th>TOTAL UNITS</th>\n",
              "      <th>LAND SQUARE FEET</th>\n",
              "      <th>GROSS SQUARE FEET</th>\n",
              "      <th>YEAR BUILT</th>\n",
              "      <th>SALE PRICE</th>\n",
              "      <th>SALE DATE</th>\n",
              "    </tr>\n",
              "  </thead>\n",
              "  <tbody>\n",
              "    <tr>\n",
              "      <th>0</th>\n",
              "      <td>ALPHABET CITY</td>\n",
              "      <td>08 RENTALS - ELEVATOR APARTMENTS</td>\n",
              "      <td>2</td>\n",
              "      <td>387</td>\n",
              "      <td>153</td>\n",
              "      <td>D9</td>\n",
              "      <td>629 EAST 5TH STREET</td>\n",
              "      <td>10009</td>\n",
              "      <td>24</td>\n",
              "      <td>0</td>\n",
              "      <td>24</td>\n",
              "      <td>4489</td>\n",
              "      <td>18523</td>\n",
              "      <td>1920</td>\n",
              "      <td>16232000</td>\n",
              "      <td>2016-11-07</td>\n",
              "    </tr>\n",
              "    <tr>\n",
              "      <th>1</th>\n",
              "      <td>ALPHABET CITY</td>\n",
              "      <td>09 COOPS - WALKUP APARTMENTS</td>\n",
              "      <td>2</td>\n",
              "      <td>376</td>\n",
              "      <td>14</td>\n",
              "      <td>C6</td>\n",
              "      <td>244 EAST 7TH STREET</td>\n",
              "      <td>10009</td>\n",
              "      <td>24</td>\n",
              "      <td>0</td>\n",
              "      <td>24</td>\n",
              "      <td>4131</td>\n",
              "      <td>16776</td>\n",
              "      <td>1928</td>\n",
              "      <td>11900000</td>\n",
              "      <td>2017-06-21</td>\n",
              "    </tr>\n",
              "    <tr>\n",
              "      <th>2</th>\n",
              "      <td>ALPHABET CITY</td>\n",
              "      <td>22 STORE BUILDINGS</td>\n",
              "      <td>4</td>\n",
              "      <td>390</td>\n",
              "      <td>34</td>\n",
              "      <td>K4</td>\n",
              "      <td>115 AVENUE C</td>\n",
              "      <td>10009</td>\n",
              "      <td>0</td>\n",
              "      <td>1</td>\n",
              "      <td>1</td>\n",
              "      <td>1218</td>\n",
              "      <td>3586</td>\n",
              "      <td>1899</td>\n",
              "      <td>3700000</td>\n",
              "      <td>2016-09-28</td>\n",
              "    </tr>\n",
              "    <tr>\n",
              "      <th>3</th>\n",
              "      <td>CHELSEA</td>\n",
              "      <td>01 ONE FAMILY DWELLINGS</td>\n",
              "      <td>1</td>\n",
              "      <td>771</td>\n",
              "      <td>52</td>\n",
              "      <td>A9</td>\n",
              "      <td>224 WEST 22ND   STREET</td>\n",
              "      <td>10011</td>\n",
              "      <td>1</td>\n",
              "      <td>0</td>\n",
              "      <td>1</td>\n",
              "      <td>1975</td>\n",
              "      <td>3855</td>\n",
              "      <td>1901</td>\n",
              "      <td>7425000</td>\n",
              "      <td>2016-12-30</td>\n",
              "    </tr>\n",
              "    <tr>\n",
              "      <th>4</th>\n",
              "      <td>CHELSEA</td>\n",
              "      <td>01 ONE FAMILY DWELLINGS</td>\n",
              "      <td>1</td>\n",
              "      <td>772</td>\n",
              "      <td>29</td>\n",
              "      <td>A4</td>\n",
              "      <td>231 WEST 22ND   STREET</td>\n",
              "      <td>10011</td>\n",
              "      <td>1</td>\n",
              "      <td>0</td>\n",
              "      <td>1</td>\n",
              "      <td>1588</td>\n",
              "      <td>5653</td>\n",
              "      <td>1900</td>\n",
              "      <td>10</td>\n",
              "      <td>2017-01-30</td>\n",
              "    </tr>\n",
              "  </tbody>\n",
              "</table>\n",
              "</div>"
            ],
            "text/plain": [
              "    NEIGHBORHOOD  ...  SALE DATE\n",
              "0  ALPHABET CITY  ... 2016-11-07\n",
              "1  ALPHABET CITY  ... 2017-06-21\n",
              "2  ALPHABET CITY  ... 2016-09-28\n",
              "3        CHELSEA  ... 2016-12-30\n",
              "4        CHELSEA  ... 2017-01-30\n",
              "\n",
              "[5 rows x 16 columns]"
            ]
          },
          "metadata": {
            "tags": []
          },
          "execution_count": 4
        }
      ]
    },
    {
      "cell_type": "code",
      "metadata": {
        "id": "0IsrWoBlT5X5",
        "colab_type": "code",
        "colab": {
          "base_uri": "https://localhost:8080/",
          "height": 510
        },
        "outputId": "1529aecc-7fcb-4c77-bb39-a26504dd665c"
      },
      "source": [
        "df1['year of sale'] = df1['SALE DATE'].dt.year #creating \"year of sale\" column with only year (from \"SALE DATE\")\n",
        "\n",
        "df1.head()"
      ],
      "execution_count": 5,
      "outputs": [
        {
          "output_type": "execute_result",
          "data": {
            "text/html": [
              "<div>\n",
              "<style scoped>\n",
              "    .dataframe tbody tr th:only-of-type {\n",
              "        vertical-align: middle;\n",
              "    }\n",
              "\n",
              "    .dataframe tbody tr th {\n",
              "        vertical-align: top;\n",
              "    }\n",
              "\n",
              "    .dataframe thead th {\n",
              "        text-align: right;\n",
              "    }\n",
              "</style>\n",
              "<table border=\"1\" class=\"dataframe\">\n",
              "  <thead>\n",
              "    <tr style=\"text-align: right;\">\n",
              "      <th></th>\n",
              "      <th>NEIGHBORHOOD</th>\n",
              "      <th>BUILDING CLASS CATEGORY</th>\n",
              "      <th>TAX CLASS AT PRESENT</th>\n",
              "      <th>BLOCK</th>\n",
              "      <th>LOT</th>\n",
              "      <th>BUILDING CLASS AT PRESENT</th>\n",
              "      <th>ADDRESS</th>\n",
              "      <th>ZIP CODE</th>\n",
              "      <th>RESIDENTIAL UNITS</th>\n",
              "      <th>COMMERCIAL UNITS</th>\n",
              "      <th>TOTAL UNITS</th>\n",
              "      <th>LAND SQUARE FEET</th>\n",
              "      <th>GROSS SQUARE FEET</th>\n",
              "      <th>YEAR BUILT</th>\n",
              "      <th>SALE PRICE</th>\n",
              "      <th>SALE DATE</th>\n",
              "      <th>year of sale</th>\n",
              "    </tr>\n",
              "  </thead>\n",
              "  <tbody>\n",
              "    <tr>\n",
              "      <th>0</th>\n",
              "      <td>ALPHABET CITY</td>\n",
              "      <td>08 RENTALS - ELEVATOR APARTMENTS</td>\n",
              "      <td>2</td>\n",
              "      <td>387</td>\n",
              "      <td>153</td>\n",
              "      <td>D9</td>\n",
              "      <td>629 EAST 5TH STREET</td>\n",
              "      <td>10009</td>\n",
              "      <td>24</td>\n",
              "      <td>0</td>\n",
              "      <td>24</td>\n",
              "      <td>4489</td>\n",
              "      <td>18523</td>\n",
              "      <td>1920</td>\n",
              "      <td>16232000</td>\n",
              "      <td>2016-11-07</td>\n",
              "      <td>2016</td>\n",
              "    </tr>\n",
              "    <tr>\n",
              "      <th>1</th>\n",
              "      <td>ALPHABET CITY</td>\n",
              "      <td>09 COOPS - WALKUP APARTMENTS</td>\n",
              "      <td>2</td>\n",
              "      <td>376</td>\n",
              "      <td>14</td>\n",
              "      <td>C6</td>\n",
              "      <td>244 EAST 7TH STREET</td>\n",
              "      <td>10009</td>\n",
              "      <td>24</td>\n",
              "      <td>0</td>\n",
              "      <td>24</td>\n",
              "      <td>4131</td>\n",
              "      <td>16776</td>\n",
              "      <td>1928</td>\n",
              "      <td>11900000</td>\n",
              "      <td>2017-06-21</td>\n",
              "      <td>2017</td>\n",
              "    </tr>\n",
              "    <tr>\n",
              "      <th>2</th>\n",
              "      <td>ALPHABET CITY</td>\n",
              "      <td>22 STORE BUILDINGS</td>\n",
              "      <td>4</td>\n",
              "      <td>390</td>\n",
              "      <td>34</td>\n",
              "      <td>K4</td>\n",
              "      <td>115 AVENUE C</td>\n",
              "      <td>10009</td>\n",
              "      <td>0</td>\n",
              "      <td>1</td>\n",
              "      <td>1</td>\n",
              "      <td>1218</td>\n",
              "      <td>3586</td>\n",
              "      <td>1899</td>\n",
              "      <td>3700000</td>\n",
              "      <td>2016-09-28</td>\n",
              "      <td>2016</td>\n",
              "    </tr>\n",
              "    <tr>\n",
              "      <th>3</th>\n",
              "      <td>CHELSEA</td>\n",
              "      <td>01 ONE FAMILY DWELLINGS</td>\n",
              "      <td>1</td>\n",
              "      <td>771</td>\n",
              "      <td>52</td>\n",
              "      <td>A9</td>\n",
              "      <td>224 WEST 22ND   STREET</td>\n",
              "      <td>10011</td>\n",
              "      <td>1</td>\n",
              "      <td>0</td>\n",
              "      <td>1</td>\n",
              "      <td>1975</td>\n",
              "      <td>3855</td>\n",
              "      <td>1901</td>\n",
              "      <td>7425000</td>\n",
              "      <td>2016-12-30</td>\n",
              "      <td>2016</td>\n",
              "    </tr>\n",
              "    <tr>\n",
              "      <th>4</th>\n",
              "      <td>CHELSEA</td>\n",
              "      <td>01 ONE FAMILY DWELLINGS</td>\n",
              "      <td>1</td>\n",
              "      <td>772</td>\n",
              "      <td>29</td>\n",
              "      <td>A4</td>\n",
              "      <td>231 WEST 22ND   STREET</td>\n",
              "      <td>10011</td>\n",
              "      <td>1</td>\n",
              "      <td>0</td>\n",
              "      <td>1</td>\n",
              "      <td>1588</td>\n",
              "      <td>5653</td>\n",
              "      <td>1900</td>\n",
              "      <td>10</td>\n",
              "      <td>2017-01-30</td>\n",
              "      <td>2017</td>\n",
              "    </tr>\n",
              "  </tbody>\n",
              "</table>\n",
              "</div>"
            ],
            "text/plain": [
              "    NEIGHBORHOOD  ... year of sale\n",
              "0  ALPHABET CITY  ...         2016\n",
              "1  ALPHABET CITY  ...         2017\n",
              "2  ALPHABET CITY  ...         2016\n",
              "3        CHELSEA  ...         2016\n",
              "4        CHELSEA  ...         2017\n",
              "\n",
              "[5 rows x 17 columns]"
            ]
          },
          "metadata": {
            "tags": []
          },
          "execution_count": 5
        }
      ]
    },
    {
      "cell_type": "markdown",
      "metadata": {
        "id": "gjt32qyxUE1F",
        "colab_type": "text"
      },
      "source": [
        "b. Drop the \"SALE DATE\" column."
      ]
    },
    {
      "cell_type": "code",
      "metadata": {
        "id": "OvkSKtc5T8Tt",
        "colab_type": "code",
        "colab": {
          "base_uri": "https://localhost:8080/",
          "height": 510
        },
        "outputId": "b0d3c396-92b9-498d-ddd5-d63a0251e02f"
      },
      "source": [
        "df1.drop(['SALE DATE'], axis=1, inplace = True) #dropping \"SALE DATE\" column\n",
        "\n",
        "df1.head()"
      ],
      "execution_count": 6,
      "outputs": [
        {
          "output_type": "execute_result",
          "data": {
            "text/html": [
              "<div>\n",
              "<style scoped>\n",
              "    .dataframe tbody tr th:only-of-type {\n",
              "        vertical-align: middle;\n",
              "    }\n",
              "\n",
              "    .dataframe tbody tr th {\n",
              "        vertical-align: top;\n",
              "    }\n",
              "\n",
              "    .dataframe thead th {\n",
              "        text-align: right;\n",
              "    }\n",
              "</style>\n",
              "<table border=\"1\" class=\"dataframe\">\n",
              "  <thead>\n",
              "    <tr style=\"text-align: right;\">\n",
              "      <th></th>\n",
              "      <th>NEIGHBORHOOD</th>\n",
              "      <th>BUILDING CLASS CATEGORY</th>\n",
              "      <th>TAX CLASS AT PRESENT</th>\n",
              "      <th>BLOCK</th>\n",
              "      <th>LOT</th>\n",
              "      <th>BUILDING CLASS AT PRESENT</th>\n",
              "      <th>ADDRESS</th>\n",
              "      <th>ZIP CODE</th>\n",
              "      <th>RESIDENTIAL UNITS</th>\n",
              "      <th>COMMERCIAL UNITS</th>\n",
              "      <th>TOTAL UNITS</th>\n",
              "      <th>LAND SQUARE FEET</th>\n",
              "      <th>GROSS SQUARE FEET</th>\n",
              "      <th>YEAR BUILT</th>\n",
              "      <th>SALE PRICE</th>\n",
              "      <th>year of sale</th>\n",
              "    </tr>\n",
              "  </thead>\n",
              "  <tbody>\n",
              "    <tr>\n",
              "      <th>0</th>\n",
              "      <td>ALPHABET CITY</td>\n",
              "      <td>08 RENTALS - ELEVATOR APARTMENTS</td>\n",
              "      <td>2</td>\n",
              "      <td>387</td>\n",
              "      <td>153</td>\n",
              "      <td>D9</td>\n",
              "      <td>629 EAST 5TH STREET</td>\n",
              "      <td>10009</td>\n",
              "      <td>24</td>\n",
              "      <td>0</td>\n",
              "      <td>24</td>\n",
              "      <td>4489</td>\n",
              "      <td>18523</td>\n",
              "      <td>1920</td>\n",
              "      <td>16232000</td>\n",
              "      <td>2016</td>\n",
              "    </tr>\n",
              "    <tr>\n",
              "      <th>1</th>\n",
              "      <td>ALPHABET CITY</td>\n",
              "      <td>09 COOPS - WALKUP APARTMENTS</td>\n",
              "      <td>2</td>\n",
              "      <td>376</td>\n",
              "      <td>14</td>\n",
              "      <td>C6</td>\n",
              "      <td>244 EAST 7TH STREET</td>\n",
              "      <td>10009</td>\n",
              "      <td>24</td>\n",
              "      <td>0</td>\n",
              "      <td>24</td>\n",
              "      <td>4131</td>\n",
              "      <td>16776</td>\n",
              "      <td>1928</td>\n",
              "      <td>11900000</td>\n",
              "      <td>2017</td>\n",
              "    </tr>\n",
              "    <tr>\n",
              "      <th>2</th>\n",
              "      <td>ALPHABET CITY</td>\n",
              "      <td>22 STORE BUILDINGS</td>\n",
              "      <td>4</td>\n",
              "      <td>390</td>\n",
              "      <td>34</td>\n",
              "      <td>K4</td>\n",
              "      <td>115 AVENUE C</td>\n",
              "      <td>10009</td>\n",
              "      <td>0</td>\n",
              "      <td>1</td>\n",
              "      <td>1</td>\n",
              "      <td>1218</td>\n",
              "      <td>3586</td>\n",
              "      <td>1899</td>\n",
              "      <td>3700000</td>\n",
              "      <td>2016</td>\n",
              "    </tr>\n",
              "    <tr>\n",
              "      <th>3</th>\n",
              "      <td>CHELSEA</td>\n",
              "      <td>01 ONE FAMILY DWELLINGS</td>\n",
              "      <td>1</td>\n",
              "      <td>771</td>\n",
              "      <td>52</td>\n",
              "      <td>A9</td>\n",
              "      <td>224 WEST 22ND   STREET</td>\n",
              "      <td>10011</td>\n",
              "      <td>1</td>\n",
              "      <td>0</td>\n",
              "      <td>1</td>\n",
              "      <td>1975</td>\n",
              "      <td>3855</td>\n",
              "      <td>1901</td>\n",
              "      <td>7425000</td>\n",
              "      <td>2016</td>\n",
              "    </tr>\n",
              "    <tr>\n",
              "      <th>4</th>\n",
              "      <td>CHELSEA</td>\n",
              "      <td>01 ONE FAMILY DWELLINGS</td>\n",
              "      <td>1</td>\n",
              "      <td>772</td>\n",
              "      <td>29</td>\n",
              "      <td>A4</td>\n",
              "      <td>231 WEST 22ND   STREET</td>\n",
              "      <td>10011</td>\n",
              "      <td>1</td>\n",
              "      <td>0</td>\n",
              "      <td>1</td>\n",
              "      <td>1588</td>\n",
              "      <td>5653</td>\n",
              "      <td>1900</td>\n",
              "      <td>10</td>\n",
              "      <td>2017</td>\n",
              "    </tr>\n",
              "  </tbody>\n",
              "</table>\n",
              "</div>"
            ],
            "text/plain": [
              "    NEIGHBORHOOD  ... year of sale\n",
              "0  ALPHABET CITY  ...         2016\n",
              "1  ALPHABET CITY  ...         2017\n",
              "2  ALPHABET CITY  ...         2016\n",
              "3        CHELSEA  ...         2016\n",
              "4        CHELSEA  ...         2017\n",
              "\n",
              "[5 rows x 16 columns]"
            ]
          },
          "metadata": {
            "tags": []
          },
          "execution_count": 6
        }
      ]
    },
    {
      "cell_type": "markdown",
      "metadata": {
        "id": "WYQ2whD0UGYR",
        "colab_type": "text"
      },
      "source": [
        "c. Get dummy encoded columns for 'TAX CLASS AT PRESENT' predictor."
      ]
    },
    {
      "cell_type": "code",
      "metadata": {
        "id": "_KMddAV3T_u4",
        "colab_type": "code",
        "colab": {
          "base_uri": "https://localhost:8080/",
          "height": 492
        },
        "outputId": "5895539b-0da9-4114-e005-1a5b255ca7ad"
      },
      "source": [
        "pd.get_dummies(df1, columns=['TAX CLASS AT PRESENT']).head()"
      ],
      "execution_count": 7,
      "outputs": [
        {
          "output_type": "execute_result",
          "data": {
            "text/html": [
              "<div>\n",
              "<style scoped>\n",
              "    .dataframe tbody tr th:only-of-type {\n",
              "        vertical-align: middle;\n",
              "    }\n",
              "\n",
              "    .dataframe tbody tr th {\n",
              "        vertical-align: top;\n",
              "    }\n",
              "\n",
              "    .dataframe thead th {\n",
              "        text-align: right;\n",
              "    }\n",
              "</style>\n",
              "<table border=\"1\" class=\"dataframe\">\n",
              "  <thead>\n",
              "    <tr style=\"text-align: right;\">\n",
              "      <th></th>\n",
              "      <th>NEIGHBORHOOD</th>\n",
              "      <th>BUILDING CLASS CATEGORY</th>\n",
              "      <th>BLOCK</th>\n",
              "      <th>LOT</th>\n",
              "      <th>BUILDING CLASS AT PRESENT</th>\n",
              "      <th>ADDRESS</th>\n",
              "      <th>ZIP CODE</th>\n",
              "      <th>RESIDENTIAL UNITS</th>\n",
              "      <th>COMMERCIAL UNITS</th>\n",
              "      <th>TOTAL UNITS</th>\n",
              "      <th>LAND SQUARE FEET</th>\n",
              "      <th>GROSS SQUARE FEET</th>\n",
              "      <th>YEAR BUILT</th>\n",
              "      <th>SALE PRICE</th>\n",
              "      <th>year of sale</th>\n",
              "      <th>TAX CLASS AT PRESENT_1</th>\n",
              "      <th>TAX CLASS AT PRESENT_2</th>\n",
              "      <th>TAX CLASS AT PRESENT_3</th>\n",
              "      <th>TAX CLASS AT PRESENT_4</th>\n",
              "    </tr>\n",
              "  </thead>\n",
              "  <tbody>\n",
              "    <tr>\n",
              "      <th>0</th>\n",
              "      <td>ALPHABET CITY</td>\n",
              "      <td>08 RENTALS - ELEVATOR APARTMENTS</td>\n",
              "      <td>387</td>\n",
              "      <td>153</td>\n",
              "      <td>D9</td>\n",
              "      <td>629 EAST 5TH STREET</td>\n",
              "      <td>10009</td>\n",
              "      <td>24</td>\n",
              "      <td>0</td>\n",
              "      <td>24</td>\n",
              "      <td>4489</td>\n",
              "      <td>18523</td>\n",
              "      <td>1920</td>\n",
              "      <td>16232000</td>\n",
              "      <td>2016</td>\n",
              "      <td>0</td>\n",
              "      <td>1</td>\n",
              "      <td>0</td>\n",
              "      <td>0</td>\n",
              "    </tr>\n",
              "    <tr>\n",
              "      <th>1</th>\n",
              "      <td>ALPHABET CITY</td>\n",
              "      <td>09 COOPS - WALKUP APARTMENTS</td>\n",
              "      <td>376</td>\n",
              "      <td>14</td>\n",
              "      <td>C6</td>\n",
              "      <td>244 EAST 7TH STREET</td>\n",
              "      <td>10009</td>\n",
              "      <td>24</td>\n",
              "      <td>0</td>\n",
              "      <td>24</td>\n",
              "      <td>4131</td>\n",
              "      <td>16776</td>\n",
              "      <td>1928</td>\n",
              "      <td>11900000</td>\n",
              "      <td>2017</td>\n",
              "      <td>0</td>\n",
              "      <td>1</td>\n",
              "      <td>0</td>\n",
              "      <td>0</td>\n",
              "    </tr>\n",
              "    <tr>\n",
              "      <th>2</th>\n",
              "      <td>ALPHABET CITY</td>\n",
              "      <td>22 STORE BUILDINGS</td>\n",
              "      <td>390</td>\n",
              "      <td>34</td>\n",
              "      <td>K4</td>\n",
              "      <td>115 AVENUE C</td>\n",
              "      <td>10009</td>\n",
              "      <td>0</td>\n",
              "      <td>1</td>\n",
              "      <td>1</td>\n",
              "      <td>1218</td>\n",
              "      <td>3586</td>\n",
              "      <td>1899</td>\n",
              "      <td>3700000</td>\n",
              "      <td>2016</td>\n",
              "      <td>0</td>\n",
              "      <td>0</td>\n",
              "      <td>0</td>\n",
              "      <td>1</td>\n",
              "    </tr>\n",
              "    <tr>\n",
              "      <th>3</th>\n",
              "      <td>CHELSEA</td>\n",
              "      <td>01 ONE FAMILY DWELLINGS</td>\n",
              "      <td>771</td>\n",
              "      <td>52</td>\n",
              "      <td>A9</td>\n",
              "      <td>224 WEST 22ND   STREET</td>\n",
              "      <td>10011</td>\n",
              "      <td>1</td>\n",
              "      <td>0</td>\n",
              "      <td>1</td>\n",
              "      <td>1975</td>\n",
              "      <td>3855</td>\n",
              "      <td>1901</td>\n",
              "      <td>7425000</td>\n",
              "      <td>2016</td>\n",
              "      <td>1</td>\n",
              "      <td>0</td>\n",
              "      <td>0</td>\n",
              "      <td>0</td>\n",
              "    </tr>\n",
              "    <tr>\n",
              "      <th>4</th>\n",
              "      <td>CHELSEA</td>\n",
              "      <td>01 ONE FAMILY DWELLINGS</td>\n",
              "      <td>772</td>\n",
              "      <td>29</td>\n",
              "      <td>A4</td>\n",
              "      <td>231 WEST 22ND   STREET</td>\n",
              "      <td>10011</td>\n",
              "      <td>1</td>\n",
              "      <td>0</td>\n",
              "      <td>1</td>\n",
              "      <td>1588</td>\n",
              "      <td>5653</td>\n",
              "      <td>1900</td>\n",
              "      <td>10</td>\n",
              "      <td>2017</td>\n",
              "      <td>1</td>\n",
              "      <td>0</td>\n",
              "      <td>0</td>\n",
              "      <td>0</td>\n",
              "    </tr>\n",
              "  </tbody>\n",
              "</table>\n",
              "</div>"
            ],
            "text/plain": [
              "    NEIGHBORHOOD  ... TAX CLASS AT PRESENT_4\n",
              "0  ALPHABET CITY  ...                      0\n",
              "1  ALPHABET CITY  ...                      0\n",
              "2  ALPHABET CITY  ...                      1\n",
              "3        CHELSEA  ...                      0\n",
              "4        CHELSEA  ...                      0\n",
              "\n",
              "[5 rows x 19 columns]"
            ]
          },
          "metadata": {
            "tags": []
          },
          "execution_count": 7
        }
      ]
    },
    {
      "cell_type": "markdown",
      "metadata": {
        "id": "tXQROGAWUMmN",
        "colab_type": "text"
      },
      "source": [
        "# Part 2: Hypothesis Testing"
      ]
    },
    {
      "cell_type": "code",
      "metadata": {
        "id": "KIQJ1TYFUKGV",
        "colab_type": "code",
        "colab": {}
      },
      "source": [
        "df2 = pd.read_csv(\"/content/drive/My Drive/UC Machine Learning/Datasets/gestational_study.csv\", index_col = 0) #reading a csv file from local drive"
      ],
      "execution_count": 0,
      "outputs": []
    },
    {
      "cell_type": "code",
      "metadata": {
        "id": "qDjD9oDYURIG",
        "colab_type": "code",
        "colab": {
          "base_uri": "https://localhost:8080/",
          "height": 230
        },
        "outputId": "e529ace6-264c-446c-8515-bd327cd34860"
      },
      "source": [
        "df2.head() #reading Top 5 records "
      ],
      "execution_count": 9,
      "outputs": [
        {
          "output_type": "execute_result",
          "data": {
            "text/html": [
              "<div>\n",
              "<style scoped>\n",
              "    .dataframe tbody tr th:only-of-type {\n",
              "        vertical-align: middle;\n",
              "    }\n",
              "\n",
              "    .dataframe tbody tr th {\n",
              "        vertical-align: top;\n",
              "    }\n",
              "\n",
              "    .dataframe thead th {\n",
              "        text-align: right;\n",
              "    }\n",
              "</style>\n",
              "<table border=\"1\" class=\"dataframe\">\n",
              "  <thead>\n",
              "    <tr style=\"text-align: right;\">\n",
              "      <th></th>\n",
              "      <th>Gestational_Age</th>\n",
              "      <th>Birth_Weight</th>\n",
              "    </tr>\n",
              "    <tr>\n",
              "      <th>Infant_id</th>\n",
              "      <th></th>\n",
              "      <th></th>\n",
              "    </tr>\n",
              "  </thead>\n",
              "  <tbody>\n",
              "    <tr>\n",
              "      <th>1</th>\n",
              "      <td>35.0</td>\n",
              "      <td>1895</td>\n",
              "    </tr>\n",
              "    <tr>\n",
              "      <th>2</th>\n",
              "      <td>36.0</td>\n",
              "      <td>2030</td>\n",
              "    </tr>\n",
              "    <tr>\n",
              "      <th>3</th>\n",
              "      <td>29.0</td>\n",
              "      <td>1440</td>\n",
              "    </tr>\n",
              "    <tr>\n",
              "      <th>4</th>\n",
              "      <td>40.0</td>\n",
              "      <td>2835</td>\n",
              "    </tr>\n",
              "    <tr>\n",
              "      <th>5</th>\n",
              "      <td>36.0</td>\n",
              "      <td>3090</td>\n",
              "    </tr>\n",
              "  </tbody>\n",
              "</table>\n",
              "</div>"
            ],
            "text/plain": [
              "           Gestational_Age  Birth_Weight\n",
              "Infant_id                               \n",
              "1                     35.0          1895\n",
              "2                     36.0          2030\n",
              "3                     29.0          1440\n",
              "4                     40.0          2835\n",
              "5                     36.0          3090"
            ]
          },
          "metadata": {
            "tags": []
          },
          "execution_count": 9
        }
      ]
    },
    {
      "cell_type": "markdown",
      "metadata": {
        "id": "rwjCza-LUTFQ",
        "colab_type": "text"
      },
      "source": [
        "a. Calculate the correlation between Gestational Age and Birth Weight (use the corr() function in Pandas to calculate the correlation)."
      ]
    },
    {
      "cell_type": "code",
      "metadata": {
        "id": "H5UxYAVbUSBv",
        "colab_type": "code",
        "colab": {
          "base_uri": "https://localhost:8080/",
          "height": 109
        },
        "outputId": "cc69b103-c091-4c09-ca15-826819d2246d"
      },
      "source": [
        "df2.corr(method=\"pearson\") #using \"Pearson\" methond to find the correlation"
      ],
      "execution_count": 10,
      "outputs": [
        {
          "output_type": "execute_result",
          "data": {
            "text/html": [
              "<div>\n",
              "<style scoped>\n",
              "    .dataframe tbody tr th:only-of-type {\n",
              "        vertical-align: middle;\n",
              "    }\n",
              "\n",
              "    .dataframe tbody tr th {\n",
              "        vertical-align: top;\n",
              "    }\n",
              "\n",
              "    .dataframe thead th {\n",
              "        text-align: right;\n",
              "    }\n",
              "</style>\n",
              "<table border=\"1\" class=\"dataframe\">\n",
              "  <thead>\n",
              "    <tr style=\"text-align: right;\">\n",
              "      <th></th>\n",
              "      <th>Gestational_Age</th>\n",
              "      <th>Birth_Weight</th>\n",
              "    </tr>\n",
              "  </thead>\n",
              "  <tbody>\n",
              "    <tr>\n",
              "      <th>Gestational_Age</th>\n",
              "      <td>1.000000</td>\n",
              "      <td>0.819783</td>\n",
              "    </tr>\n",
              "    <tr>\n",
              "      <th>Birth_Weight</th>\n",
              "      <td>0.819783</td>\n",
              "      <td>1.000000</td>\n",
              "    </tr>\n",
              "  </tbody>\n",
              "</table>\n",
              "</div>"
            ],
            "text/plain": [
              "                 Gestational_Age  Birth_Weight\n",
              "Gestational_Age         1.000000      0.819783\n",
              "Birth_Weight            0.819783      1.000000"
            ]
          },
          "metadata": {
            "tags": []
          },
          "execution_count": 10
        }
      ]
    },
    {
      "cell_type": "markdown",
      "metadata": {
        "id": "yWqoAvMuUVqS",
        "colab_type": "text"
      },
      "source": [
        "b. Generate a scatter plot to visualize the relationships between these two variables. Does the scatter plot confirm the correlation value you calculated? Does there seem to be a strong correlation between the two predictors?"
      ]
    },
    {
      "cell_type": "code",
      "metadata": {
        "id": "wwbqZSF0UUi4",
        "colab_type": "code",
        "colab": {
          "base_uri": "https://localhost:8080/",
          "height": 286
        },
        "outputId": "1cb596dd-8eab-46d0-f869-4b43b992b176"
      },
      "source": [
        "import matplotlib.pyplot as plt #Importing to Plot\n",
        "import seaborn as sb #for statistical visualization\n",
        "\n",
        "df2.head()"
      ],
      "execution_count": 11,
      "outputs": [
        {
          "output_type": "stream",
          "text": [
            "/usr/local/lib/python3.6/dist-packages/statsmodels/tools/_testing.py:19: FutureWarning: pandas.util.testing is deprecated. Use the functions in the public API at pandas.testing instead.\n",
            "  import pandas.util.testing as tm\n"
          ],
          "name": "stderr"
        },
        {
          "output_type": "execute_result",
          "data": {
            "text/html": [
              "<div>\n",
              "<style scoped>\n",
              "    .dataframe tbody tr th:only-of-type {\n",
              "        vertical-align: middle;\n",
              "    }\n",
              "\n",
              "    .dataframe tbody tr th {\n",
              "        vertical-align: top;\n",
              "    }\n",
              "\n",
              "    .dataframe thead th {\n",
              "        text-align: right;\n",
              "    }\n",
              "</style>\n",
              "<table border=\"1\" class=\"dataframe\">\n",
              "  <thead>\n",
              "    <tr style=\"text-align: right;\">\n",
              "      <th></th>\n",
              "      <th>Gestational_Age</th>\n",
              "      <th>Birth_Weight</th>\n",
              "    </tr>\n",
              "    <tr>\n",
              "      <th>Infant_id</th>\n",
              "      <th></th>\n",
              "      <th></th>\n",
              "    </tr>\n",
              "  </thead>\n",
              "  <tbody>\n",
              "    <tr>\n",
              "      <th>1</th>\n",
              "      <td>35.0</td>\n",
              "      <td>1895</td>\n",
              "    </tr>\n",
              "    <tr>\n",
              "      <th>2</th>\n",
              "      <td>36.0</td>\n",
              "      <td>2030</td>\n",
              "    </tr>\n",
              "    <tr>\n",
              "      <th>3</th>\n",
              "      <td>29.0</td>\n",
              "      <td>1440</td>\n",
              "    </tr>\n",
              "    <tr>\n",
              "      <th>4</th>\n",
              "      <td>40.0</td>\n",
              "      <td>2835</td>\n",
              "    </tr>\n",
              "    <tr>\n",
              "      <th>5</th>\n",
              "      <td>36.0</td>\n",
              "      <td>3090</td>\n",
              "    </tr>\n",
              "  </tbody>\n",
              "</table>\n",
              "</div>"
            ],
            "text/plain": [
              "           Gestational_Age  Birth_Weight\n",
              "Infant_id                               \n",
              "1                     35.0          1895\n",
              "2                     36.0          2030\n",
              "3                     29.0          1440\n",
              "4                     40.0          2835\n",
              "5                     36.0          3090"
            ]
          },
          "metadata": {
            "tags": []
          },
          "execution_count": 11
        }
      ]
    },
    {
      "cell_type": "code",
      "metadata": {
        "id": "PTpQATvfUYBi",
        "colab_type": "code",
        "colab": {
          "base_uri": "https://localhost:8080/",
          "height": 280
        },
        "outputId": "486789d0-71e3-4300-86a6-31461e714c16"
      },
      "source": [
        "correlation = sb.scatterplot(x=\"Gestational_Age\", y=\"Birth_Weight\", data = df2)"
      ],
      "execution_count": 12,
      "outputs": [
        {
          "output_type": "display_data",
          "data": {
            "image/png": "[encoded data removed]",
            "text/plain": [
              "<Figure size 432x288 with 1 Axes>"
            ]
          },
          "metadata": {
            "tags": [],
            "needs_background": "light"
          }
        }
      ]
    },
    {
      "cell_type": "markdown",
      "metadata": {
        "id": "01sd-m1mUbFE",
        "colab_type": "text"
      },
      "source": [
        "Observation: The plot generated confirms a strong correlation between the two variables. The same can be verified by checking the R values generated through Pearson method, which are greater than 0.7 and closer to 1."
      ]
    },
    {
      "cell_type": "markdown",
      "metadata": {
        "id": "zXjj_CIcUcgS",
        "colab_type": "text"
      },
      "source": [
        "c. Perform a hypothesis test and state the confidence level at which you can confirm a correlation between the two variables (use the scipy.stats.pearsonr() function--consult the SciPy documentation for details (Links to an external site.) about its inputs and outputs)."
      ]
    },
    {
      "cell_type": "code",
      "metadata": {
        "id": "W60iDF6KUY6N",
        "colab_type": "code",
        "colab": {}
      },
      "source": [
        "from scipy import stats\n",
        "from scipy.stats import pearsonr\n",
        "import math"
      ],
      "execution_count": 0,
      "outputs": []
    },
    {
      "cell_type": "markdown",
      "metadata": {
        "id": "2FrYvE7RUgEo",
        "colab_type": "text"
      },
      "source": [
        "\n",
        "\n",
        "Please note, I'll be using \"Null Hypothesis\" and \"Alternate Hypothesis\" testing to check dependencies\n",
        "\n",
        "In case of Null Hypothesis, if correlation coefficient 'c' is 0, both the columns are independent. In case of Alternate Hypothesis, if correlation coefficient 'c' is not 0, the variables are dependent. (Infact, dependency increases when'c' becomes closer to +1 or -1\n",
        "\n",
        "\n",
        "\n",
        "\n",
        "\n",
        "\n",
        "Case1: For confidence level : 90%, alpha value = 0.1\n"
      ]
    },
    {
      "cell_type": "code",
      "metadata": {
        "id": "rn8ZoYi8Uer1",
        "colab_type": "code",
        "colab": {
          "base_uri": "https://localhost:8080/",
          "height": 70
        },
        "outputId": "c5639628-91d3-4892-9aec-bab38c982040"
      },
      "source": [
        "(c, p) = pearsonr(df2[\"Gestational_Age\"], df2[\"Birth_Weight\"])\n",
        "\n",
        "print (\"corr coff\", c)\n",
        "print (\"p-value\", p)\n",
        "\n",
        "if p < 0.1:\n",
        "    print(\"Null Hypothesis rejected & Alternate Hypothesis accepted\")\n",
        "else:\n",
        "    print(\"Null Hypothesis accepted & Alternate Hypothesis rejected\")"
      ],
      "execution_count": 14,
      "outputs": [
        {
          "output_type": "stream",
          "text": [
            "corr coff 0.8197828031536365\n",
            "p-value 5.621078528333726e-05\n",
            "Null Hypothesis rejected & Alternate Hypothesis accepted\n"
          ],
          "name": "stdout"
        }
      ]
    },
    {
      "cell_type": "markdown",
      "metadata": {
        "id": "csvmPavMUjIB",
        "colab_type": "text"
      },
      "source": [
        "Case2: For confidence level : 95%, alpha value = 0.05"
      ]
    },
    {
      "cell_type": "code",
      "metadata": {
        "id": "PiUgacuQUiCN",
        "colab_type": "code",
        "colab": {
          "base_uri": "https://localhost:8080/",
          "height": 70
        },
        "outputId": "dfe5b2dd-51e2-4369-801a-0d87d6c83dfe"
      },
      "source": [
        "(c, p) = pearsonr(df2[\"Gestational_Age\"], df2[\"Birth_Weight\"])\n",
        "\n",
        "print (\"corr coff\", c)\n",
        "print (\"p-value\", p)\n",
        "\n",
        "if p < 0.05:\n",
        "    print(\"Null Hypothesis rejected & Alternate Hypothesis accepted\")\n",
        "else:\n",
        "    print(\"Null Hypothesis accepted & Alternate Hypothesis rejected\")"
      ],
      "execution_count": 15,
      "outputs": [
        {
          "output_type": "stream",
          "text": [
            "corr coff 0.8197828031536365\n",
            "p-value 5.621078528333726e-05\n",
            "Null Hypothesis rejected & Alternate Hypothesis accepted\n"
          ],
          "name": "stdout"
        }
      ]
    },
    {
      "cell_type": "markdown",
      "metadata": {
        "id": "my5r9_eOUlxI",
        "colab_type": "text"
      },
      "source": [
        "Case3: For confidence level : 99%, alpha value = 0.01"
      ]
    },
    {
      "cell_type": "code",
      "metadata": {
        "id": "GHRfB4_cUkg-",
        "colab_type": "code",
        "colab": {
          "base_uri": "https://localhost:8080/",
          "height": 70
        },
        "outputId": "17bfe28a-6849-41e1-ccfe-9a9e452e4331"
      },
      "source": [
        "(c, p) = pearsonr(df2[\"Gestational_Age\"], df2[\"Birth_Weight\"])\n",
        "\n",
        "print (\"corr coff\", c)\n",
        "print (\"p-value\", p)\n",
        "\n",
        "if p < 0.01:\n",
        "    print(\"Null Hypothesis rejected & Alternate Hypothesis accepted\")\n",
        "else:\n",
        "    print(\"Null Hypothesis accepted & Alternate Hypothesis rejected\")"
      ],
      "execution_count": 16,
      "outputs": [
        {
          "output_type": "stream",
          "text": [
            "corr coff 0.8197828031536365\n",
            "p-value 5.621078528333726e-05\n",
            "Null Hypothesis rejected & Alternate Hypothesis accepted\n"
          ],
          "name": "stdout"
        }
      ]
    }
  ]
}